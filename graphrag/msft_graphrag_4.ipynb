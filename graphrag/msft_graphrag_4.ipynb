{
 "cells": [
  {
   "cell_type": "markdown",
   "id": "e8f4ca83-4f36-4fc1-947f-b23bfb672f90",
   "metadata": {},
   "source": [
    "# Supporting Microsoft’s GraphRAG: Part 4 - Hybrid Retrieval and Integration with LLM\n",
    "\n",
    "To run this Jupyter Notebook, you can download the original `.ipynb` file from [msft_graphrag_4.ipynb](https://github.com/tigergraph/tigergraphx/tree/main/docs/graphrag/msft_graphrag_4.ipynb).\n",
    "\n",
    "---\n",
    "\n",
    "## Get the Graph from TigerGraph\n",
    "Since the graph has already been created in TigerGraph, redefining its schema is unnecessary. Instead, you can provide the graph name to retrieve it. TigerGraphX will verify if the graph exists in TigerGraph and, if it does, will return the corresponding graph.\n",
    "\n",
    "### Define the TigerGraph Connection Configuration\n",
    "Before retrive the graph schema from TigerGraph, you shoulddefine the  TigerGraph Connection Configuration first.\n",
    "The recommended approach is to use environment variables, such as setting them with the `export` command in the shell. Here, to illustrate the demo, we configure them within Python using the `os.environ` method. You can find more methods for configuring connection settings in [Graph.\\_\\_init\\_\\_](../../reference/01_core/graph/#tigergraphx.core.graph.Graph.__init__)."
   ]
  },
  {
   "cell_type": "code",
   "execution_count": 1,
   "id": "6e123f27-c2aa-47a4-8293-34960ade8da9",
   "metadata": {},
   "outputs": [],
   "source": [
    ">>> import os\n",
    ">>> os.environ[\"TG_HOST\"] = \"http://127.0.0.1\"\n",
    ">>> os.environ[\"TG_USERNAME\"] = \"tigergraph\"\n",
    ">>> os.environ[\"TG_PASSWORD\"] = \"tigergraph\""
   ]
  },
  {
   "cell_type": "markdown",
   "id": "aa30ed07-e331-4796-bca0-26975dbc3010",
   "metadata": {},
   "source": [
    "### Retrieve the Graph\n",
    "Once a graph has been created in TigerGraph, you can retrieve it without manually defining the schema using the `Graph.from_db` method, which requires only the graph name:"
   ]
  },
  {
   "cell_type": "code",
   "execution_count": 2,
   "id": "ff16e1ca-52e2-478a-844f-d478b5cc7659",
   "metadata": {},
   "outputs": [],
   "source": [
    ">>> from tigergraphx import Graph\n",
    ">>> G = Graph.from_db(\"GraphRAG\")"
   ]
  },
  {
   "cell_type": "markdown",
   "id": "e0ce47bc-919d-41d4-b802-1f71632878b5",
   "metadata": {},
   "source": [
    "---\n",
    "\n",
    "## Hybrid Retrieval\n",
    "TigerGraph offers two flexible ways to perform hybrid retrieval, allowing you to extract relevant graph and vector data efficiently for GraphRAG workflows.\n",
    "### Using TigerGraphX\n",
    "TigerGraphX offers an intuitive, Python-native interface for hybrid retrieval, ideal for developers seeking simplicity and ease of use. \n",
    "\n",
    "**Key Advantage**: Minimal learning curve with high-level Python APIs, seamlessly integrated with existing workflows.\n",
    "\n",
    "Below are some illustrative examples.\n",
    "\n",
    "#### Retrieve Nodes with Specific Attributes\n",
    "You can use the following code to fetch up to two nodes of type \"Entity\" and display their \"id,\" \"entity_type,\" and \"description\" attributes."
   ]
  },
  {
   "cell_type": "code",
   "execution_count": 3,
   "id": "f92fac82-28c9-438f-a418-4949ae5db203",
   "metadata": {
    "scrolled": true
   },
   "outputs": [
    {
     "name": "stdout",
     "output_type": "stream",
     "text": [
      "                                 id           name entity_type  \\\n",
      "0  c0803923646246c5a203810faa4e4464  VALLEY STREAM         GEO   \n",
      "1  6069e8895f924b659534f74d6736e69d          CHINA         GEO   \n",
      "\n",
      "                                         description  \n",
      "0  Valley Stream is a location in New York where ...  \n",
      "1  China is a country in East Asia where Walmart ...  \n"
     ]
    }
   ],
   "source": [
    ">>> print(G.get_nodes(\n",
    "...     node_type=\"Entity\",\n",
    "...     return_attributes=[\"id\", \"name\", \"entity_type\", \"description\"],\n",
    "...     limit=2,\n",
    "... ))"
   ]
  },
  {
   "cell_type": "markdown",
   "id": "9b3873dc-944b-481b-90db-fb81d8661dfd",
   "metadata": {},
   "source": [
    "#### Retrieve Neighbors with Specific Attributes\n",
    "\n",
    "The following code demonstrates how to fetch neighbors of specific nodes. In this example, the query retrieves neighbors connected to the given `start_nodes` of type `\"Entity\"` through the edge type `\"community_contains_entity\"`. The attributes `\"id\"`, `\"title\"`, and `\"full_content\"` of the neighbors are returned."
   ]
  },
  {
   "cell_type": "code",
   "execution_count": 4,
   "id": "9be22cc3-693e-463b-a61e-9d58019d9b8d",
   "metadata": {},
   "outputs": [
    {
     "name": "stdout",
     "output_type": "stream",
     "text": [
      "   id         title                                       full_content\n",
      "0   4   Community 4  # Bull Run Battles Community\\n\\nThe Bull Run B...\n",
      "1  64  Community 64  # Walmart and Global Retail Expansion\\n\\nThe c...\n",
      "2  31  Community 31  # Bull Run and the American Civil War\\n\\nThe c...\n",
      "3  80  Community 80  # Bull Run and Its Historical Significance\\n\\n...\n",
      "4  20  Community 20  # Walmart and Its Global Impact\\n\\nThe communi...\n"
     ]
    }
   ],
   "source": [
    ">>> start_nodes = [\"2268d4506af346a3a308a2145cd19734\", \"38515ccf6ce14852a0c0fabee67b7c42\"]\n",
    ">>> print(G.get_neighbors(\n",
    "...     start_nodes=start_nodes,\n",
    "...     start_node_type=\"Entity\",\n",
    "...     edge_types=\"community_contains_entity\",\n",
    "...     return_attributes=[\"id\", \"title\", \"full_content\"],\n",
    "... ))"
   ]
  },
  {
   "cell_type": "markdown",
   "id": "c5303d1f-83c0-44f6-a297-b318899678af",
   "metadata": {},
   "source": [
    "#### Retrieve Top-K Using TigerVector's Vector Search Capability\n",
    "The following code generates a random query vector of 1536 float values and uses it to perform a vector search on a TigerGraph instance. The search finds the most similar \"Entity\" nodes based on the \"emb_description\" vector attribute and returns the top result."
   ]
  },
  {
   "cell_type": "code",
   "execution_count": 5,
   "id": "b0380b24-0f15-461c-8d2a-eadb969c2a14",
   "metadata": {},
   "outputs": [
    {
     "name": "stdout",
     "output_type": "stream",
     "text": [
      "[{'id': '98d96d2568b9413b8aafc4e982f676c0', 'distance': 0.9290141, 'human_readable_id': 511, 'name': 'WASHINGTON DULLES INTERNATIONAL AIRPORT', 'entity_type': 'GEO', 'description': 'Washington Dulles International Airport is a major airport serving the Washington, D.C. metropolitan area, facilitating both domestic and international travel.'}]\n"
     ]
    }
   ],
   "source": [
    ">>> import random\n",
    ">>> random_floats: list[float] = [random.random() for _ in range(1536)]\n",
    ">>> results = G.search(\n",
    "...     data=random_floats,\n",
    "...     vector_attribute_name=\"emb_description\",\n",
    "...     node_type=\"Entity\",\n",
    "...     limit=1,\n",
    "... )\n",
    ">>> print(results)"
   ]
  },
  {
   "cell_type": "markdown",
   "id": "9b6be670-8a01-44aa-ad47-5353cf024530",
   "metadata": {},
   "source": [
    "---\n",
    "\n",
    "### Using GSQL\n",
    "For developers seeking fine-grained control or complex retrieval logic, GSQL offers unmatched flexibility. As TigerGraph's built-in query language, GSQL empowers you to perform advanced graph data analysis. For more details, see the [official documentation](https://docs.tigergraph.com/gsql-ref/4.1/intro).\n",
    "\n",
    "**Key Advantage:** Supports complex logic, customization, and direct interaction with TigerGraph’s powerful query engine.\n",
    "\n",
    "1. Use an LLM to convert the query into an embedding.  \n",
    "2. Write a GSQL query to retrieve the top-K similar objects and their neighbors, combining structured and vector-based retrieval:\n",
    "\n",
    "```SQL\n",
    "CREATE OR REPLACE QUERY my_query (\n",
    "    LIST<float> query_vector,\n",
    "    int k\n",
    ") SYNTAX v3 {\n",
    "  Nodes = vectorSearch({Entity.emb_description}, query_vector, k);\n",
    "  PRINT Nodes;\n",
    "\n",
    "  Neighbors =\n",
    "    SELECT t\n",
    "    FROM (s:Nodes)-[e:community_contains_entity]->(t:Community);\n",
    "\n",
    "  print Neighbors[Neighbors.id, Neighbors.title, Neighbors.full_content];\n",
    "}\n",
    "```"
   ]
  },
  {
   "cell_type": "markdown",
   "id": "9f6465ab-8b34-40b4-a87e-f85a9f0b2c17",
   "metadata": {},
   "source": [
    "---\n",
    "## Context Building: Writing Custom Context Builders\n",
    "\n",
    "Context builders play a vital role in graph-powered RAG workflows. They transform retrieved graph data into structured, meaningful contexts for tasks such as interactions with LLMs)\\.\n",
    "\n",
    "TigerGraphX simplifies this process by offering the flexible `BaseContextBuilder` class, which allows developers to define custom logic for context building.\n",
    "\n",
    "### Key Features of `BaseContextBuilder`\n",
    "\n",
    "The `BaseContextBuilder` class in TigerGraphX provides a strong foundation for creating custom context builders, offering:\n",
    "\n",
    "- **Core Abstraction**: A reusable framework for building context logic.\n",
    "- **Customizable Design**: Extensibility for implementing both global and query-specific context generation.\n",
    "\n",
    "---\n",
    "\n",
    "### Key Components\n",
    "\n",
    "1. **Abstract Method - `build_context`**:  \n",
    "   Subclasses must implement this method to define the logic for constructing context.\n",
    "\n",
    "   ```python\n",
    "   @abstractmethod\n",
    "   async def build_context(self, *args, **kwargs) -> str | List[str]:\n",
    "       \"\"\"Abstract method to build context.\"\"\"\n",
    "       pass\n",
    "   ```\n",
    "\n",
    "2. **Batching and Retrieval Methods**:\n",
    "   - **`batch_and_convert_to_text`**: Formats graph data into token-aware text.\n",
    "   - **`retrieve_top_k_objects`**: Efficiently retrieves top-K objects for query-based context.\n",
    "\n",
    "---\n",
    "\n",
    "### Example: Global Context Builder"
   ]
  },
  {
   "cell_type": "code",
   "execution_count": 6,
   "id": "113c01f3-1245-4ee8-b575-0c2977a0c64c",
   "metadata": {},
   "outputs": [
    {
     "name": "stdout",
     "output_type": "stream",
     "text": [
      "2025-02-28 22:22:44,129 - datasets - INFO - PyTorch version 2.6.0 available.\n"
     ]
    }
   ],
   "source": [
    "import tiktoken\n",
    "from typing import Optional, List\n",
    "from tigergraphx.graphrag import BaseContextBuilder\n",
    "from tigergraphx.core import Graph\n",
    "class GlobalContextBuilder(BaseContextBuilder):\n",
    "    def __init__(\n",
    "        self,\n",
    "        graph: Graph,\n",
    "        token_encoder: Optional[tiktoken.Encoding] = None,\n",
    "    ):\n",
    "        \"\"\"Initialize LocalContextBuilder with graph config and token encoder.\"\"\"\n",
    "        super().__init__(\n",
    "            graph=graph,\n",
    "            single_batch=False,\n",
    "            token_encoder=token_encoder,\n",
    "        )\n",
    "    async def build_context(self) -> str | List[str]:\n",
    "        \"\"\"Build local context.\"\"\"\n",
    "        context: List[str] = []\n",
    "        config = {\n",
    "            \"max_tokens\": 12000,\n",
    "            \"section_name\": \"Communities\",\n",
    "            \"return_attributes\": [\"id\", \"rank\", \"title\", \"full_content\"],\n",
    "            \"limit\": 1000,\n",
    "        }\n",
    "        df = self.graph.get_nodes(\n",
    "            node_type=\"Community\",\n",
    "            return_attributes=config[\"return_attributes\"],\n",
    "            limit=config[\"limit\"],\n",
    "        )\n",
    "        if df is not None:\n",
    "            text_context = self.batch_and_convert_to_text(\n",
    "                graph_data=df,\n",
    "                max_tokens=config[\"max_tokens\"],\n",
    "                single_batch=self.single_batch,\n",
    "                section_name=config[\"section_name\"],\n",
    "            )\n",
    "            context.extend(\n",
    "                text_context if isinstance(text_context, list) else [text_context]\n",
    "            )\n",
    "        return context"
   ]
  },
  {
   "cell_type": "markdown",
   "id": "fcb0f346-6909-4865-aa52-9942e2d30dc2",
   "metadata": {},
   "source": [
    "Here’s how you can utilize the custom global context builder:"
   ]
  },
  {
   "cell_type": "code",
   "execution_count": 7,
   "id": "23e975ef-4ff0-446a-937a-4c40acf87395",
   "metadata": {},
   "outputs": [
    {
     "name": "stdout",
     "output_type": "stream",
     "text": [
      "-----Communities-----\n",
      "id|rank|title|full_content\n",
      "77|7.5|Community 77|# PlayStation Network and Its Ecosystem\\n\\nThe community centers around the PlayStation Network, a vital online service for PlayStation consoles, and its associated entities, including various gaming consoles and key figures in Sony. The relationships among these entities highlight the interconnectedness of gaming hardware, online services, and leadership within Sony, which collectively shape the gaming experience for users.\\n\\n## PlayStation Network as a central hub\\n\\nThe PlayStation Network serves as the core online service for various PlayStation consoles, including the PS3, PS4, and PS5. This network enables online gaming, digital media access, and social interactions among users, making it a crucial component of the PlayStation ecosystem. Its establishment marked a significant shift in how users engage with gaming, allowing for multiplayer experiences and a wide array of digital content. The network's importance\n"
     ]
    }
   ],
   "source": [
    ">>> global_context_builder = GlobalContextBuilder(G)\n",
    ">>> context_list = await global_context_builder.build_context()\n",
    ">>> # Print the first 1000 characters for easier visualization of long text\n",
    ">>> print(context_list[0][:1000])"
   ]
  },
  {
   "cell_type": "markdown",
   "id": "c6da9c4a-7946-45c3-9858-076304d8d9d4",
   "metadata": {},
   "source": [
    "---\n",
    "\n",
    "### Example: Local Context Builder\n",
    "\n",
    "To understand the functionality of the `LocalContextBuilder` class, let's review the key code from its `build_context` method.\n",
    "\n",
    "![](https://github.com/tigergraph/tigergraphx/blob/main/docs/images/graphrag/local_context_builder.png?raw=true)\n",
    "\n",
    "```\n",
    "# Retrieve top-k objects\n",
    "top_k_objects: List[str] = await self.retrieve_top_k_objects(query, k=k)\n",
    "...\n",
    "# Iterate over different neighbor types\n",
    "for neighbor in neighbor_types:\n",
    "    df = self.graph.get_neighbors(...)\n",
    "    if df is not None:\n",
    "        text_context = self.batch_and_convert_to_text(...)\n",
    "        context.extend(\n",
    "            text_context if isinstance(text_context, list) else [text_context]\n",
    "        )\n",
    "return \"\\n\\n\".join(context)\n",
    "```\n",
    "\n",
    "For full implementations of different context builders, refer to the following links:\n",
    "\n",
    "- [LocalContextBuilder Code](https://github.com/tigergraph/tigergraphx/blob/main/applications/msft_graphrag/query/context_builder/local_context_builder.py)\n",
    "\n",
    "\n",
    "Here’s how you can utilize the custom local context builder:\n",
    "\n",
    "```python\n",
    "local_builder = LocalContextBuilder(graph=graph, search_engine=search_engine)\n",
    "local_context = await local_builder.build_context(query=\"What are the main topics discussed in the article?\")\n",
    "```"
   ]
  },
  {
   "cell_type": "markdown",
   "id": "6ba08b94-6a11-4a2f-b949-3f6a8154c329",
   "metadata": {},
   "source": [
    "---\n",
    "\n",
    "## Integrate with LLM\n",
    "\n",
    "After successfully building context from TigerGraph, the final step is integrating it with LLMs, including chat models and embedding models.\n",
    "\n",
    "We have provided an example implementation, which you can find here: [Example Code](https://github.com/tigergraph/tigergraphx/blob/main/applications/msft_graphrag/query/graphrag.py).\n",
    "\n",
    "### Workflow Overview\n",
    "\n",
    "The integration process follows the workflow illustrated below:\n",
    "\n",
    "![](https://github.com/tigergraph/tigergraphx/blob/main/docs/images/graphrag/querying.png?raw=true)"
   ]
  },
  {
   "cell_type": "markdown",
   "id": "a922d3d6-6dcd-40f8-87b5-eb8a2c65eef3",
   "metadata": {},
   "source": [
    "---\n",
    "\n",
    "## What’s Next?\n",
    "\n",
    "- [Supporting Microsoft’s GraphRAG: Part 5](../msft_graphrag_5): Query Microsoft’s GraphRAG and assess its performance.\n",
    "\n",
    "---\n",
    "\n",
    "Start transforming your GraphRAG workflows with the power of **TigerGraphX** today!"
   ]
  }
 ],
 "metadata": {
  "kernelspec": {
   "display_name": "Python 3 (ipykernel)",
   "language": "python",
   "name": "python3"
  },
  "language_info": {
   "codemirror_mode": {
    "name": "ipython",
    "version": 3
   },
   "file_extension": ".py",
   "mimetype": "text/x-python",
   "name": "python",
   "nbconvert_exporter": "python",
   "pygments_lexer": "ipython3",
   "version": "3.12.6"
  }
 },
 "nbformat": 4,
 "nbformat_minor": 5
}
