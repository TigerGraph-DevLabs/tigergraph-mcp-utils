{
 "cells": [
  {
   "cell_type": "markdown",
   "id": "aed168a0-f60a-4fad-af11-e13ccc6ec3b1",
   "metadata": {},
   "source": [
    "# Graph\n",
    "\n",
    "---\n",
    "\n",
    "## Create the Graph Schema\n",
    "### Setting Up the Environment Variables\n",
    "You can either use the following code or set them directly using the `export` command in your shell."
   ]
  },
  {
   "cell_type": "code",
   "execution_count": 1,
   "id": "87fcbcf1-d81d-4ec3-8847-27a386015446",
   "metadata": {},
   "outputs": [],
   "source": [
    "import os\n",
    "os.environ[\"TG_HOST\"] = \"http://127.0.0.1\"\n",
    "os.environ[\"TG_USERNAME\"] = \"tigergraph\"\n",
    "os.environ[\"TG_PASSWORD\"] = \"tigergraph\""
   ]
  },
  {
   "cell_type": "markdown",
   "id": "7cc0890c-090c-4a00-9d56-119345d496de",
   "metadata": {},
   "source": [
    "### Create Schema"
   ]
  },
  {
   "cell_type": "code",
   "execution_count": 2,
   "id": "e76faced-d95b-4c32-a533-77192d17463e",
   "metadata": {},
   "outputs": [],
   "source": [
    "graph_schema = {\n",
    "    \"graph_name\": \"Social\",\n",
    "    \"nodes\": {\n",
    "        \"Person\": {\n",
    "            \"primary_key\": \"name\",\n",
    "            \"attributes\": {\n",
    "                \"name\": \"STRING\",\n",
    "                \"age\": \"UINT\",\n",
    "                \"gender\": \"STRING\",\n",
    "            },\n",
    "        },\n",
    "    },\n",
    "    \"edges\": {\n",
    "        \"Friendship\": {\n",
    "            \"is_directed_edge\": False,\n",
    "            \"from_node_type\": \"Person\",\n",
    "            \"to_node_type\": \"Person\",\n",
    "            \"attributes\": {\n",
    "                \"closeness\": \"DOUBLE\",\n",
    "            },\n",
    "        },\n",
    "    },\n",
    "}"
   ]
  },
  {
   "cell_type": "code",
   "execution_count": 3,
   "id": "85472cf7-5274-4433-a567-6236ed4e3670",
   "metadata": {},
   "outputs": [
    {
     "name": "stdout",
     "output_type": "stream",
     "text": [
      "2025-05-08 11:30:29,480 - tigergraphx.core.managers.schema_manager - INFO - Creating schema for graph: Social...\n",
      "2025-05-08 11:30:34,000 - tigergraphx.core.managers.schema_manager - INFO - Graph schema created successfully.\n"
     ]
    }
   ],
   "source": [
    "from tigergraphx import Graph\n",
    "G = Graph(graph_schema)"
   ]
  },
  {
   "cell_type": "markdown",
   "id": "91f0a5f0-d73d-4591-afac-ba8d3cc5348f",
   "metadata": {},
   "source": [
    "---\n",
    "\n",
    "## Query Operations"
   ]
  },
  {
   "cell_type": "code",
   "execution_count": 4,
   "id": "0341f545-1805-4686-8f7a-549b654198a5",
   "metadata": {},
   "outputs": [
    {
     "data": {
      "text/plain": [
       "3"
      ]
     },
     "execution_count": 4,
     "metadata": {},
     "output_type": "execute_result"
    }
   ],
   "source": [
    ">>> G = Graph(graph_schema)\n",
    ">>> nodes = [\n",
    "...     (\"Alice\", {\"age\": 30, \"gender\": \"Female\"}),\n",
    "...     (\"Bob\", {\"age\": 32, \"gender\": \"Male\"}),\n",
    "...     (\"Carol\", {\"age\": 29, \"gender\": \"Female\"}),\n",
    "... ]\n",
    ">>> G.add_nodes_from(nodes, \"Person\")"
   ]
  },
  {
   "cell_type": "code",
   "execution_count": 5,
   "id": "2dc44c42-8f28-419e-a3ad-996b289e39e0",
   "metadata": {},
   "outputs": [
    {
     "data": {
      "text/plain": [
       "2"
      ]
     },
     "execution_count": 5,
     "metadata": {},
     "output_type": "execute_result"
    }
   ],
   "source": [
    ">>> edges = [\n",
    "...     (\"Alice\", \"Bob\", {\"closeness\": 2.0}),\n",
    "...     (\"Bob\", \"Carol\", {\"closeness\": 3.0}),\n",
    "... ]\n",
    ">>> G.add_edges_from(edges)"
   ]
  },
  {
   "cell_type": "code",
   "execution_count": 6,
   "id": "aef2e85e-d617-48e0-9412-3cf271d92567",
   "metadata": {},
   "outputs": [
    {
     "data": {
      "text/plain": [
       "True"
      ]
     },
     "execution_count": 6,
     "metadata": {},
     "output_type": "execute_result"
    }
   ],
   "source": [
    ">>> gsql_query = f'''\n",
    "... CREATE QUERY getFriends(VERTEX<Person> person) FOR GRAPH Social {{\n",
    "...     Start = {{person}};\n",
    "...     Friends = SELECT tgt FROM Start:s -(Friendship:e)->:tgt;\n",
    "...     PRINT Friends;\n",
    "... }}\n",
    "... '''\n",
    ">>> G.create_query(gsql_query)"
   ]
  },
  {
   "cell_type": "code",
   "execution_count": 7,
   "id": "122b2fed-5919-45b0-ae47-94834bcb71bf",
   "metadata": {},
   "outputs": [
    {
     "name": "stdout",
     "output_type": "stream",
     "text": [
      "2025-05-08 11:31:28,441 - tigergraphx.core.managers.query_manager - INFO - Installing query 'getFriends' for graph 'Social'...\n",
      "2025-05-08 11:32:17,250 - tigergraphx.core.managers.query_manager - INFO - Query 'getFriends' installed successfully.\n"
     ]
    },
    {
     "data": {
      "text/plain": [
       "True"
      ]
     },
     "execution_count": 7,
     "metadata": {},
     "output_type": "execute_result"
    }
   ],
   "source": [
    ">>> G.install_query(\"getFriends\")"
   ]
  },
  {
   "cell_type": "code",
   "execution_count": 8,
   "id": "eb3aa34c-18a9-4465-a2ee-701e24307412",
   "metadata": {},
   "outputs": [
    {
     "name": "stdout",
     "output_type": "stream",
     "text": [
      "[{'Friends': [{'v_id': 'Bob', 'v_type': 'Person', 'attributes': {'name': 'Bob', 'age': 32, 'gender': 'Male'}}]}]\n"
     ]
    }
   ],
   "source": [
    ">>> result = G.run_query(\"getFriends\", {\"person\": \"Alice\"})\n",
    ">>> print(result)"
   ]
  },
  {
   "cell_type": "code",
   "execution_count": 10,
   "id": "d972e8a1-aa67-4374-9cbb-60c741842f93",
   "metadata": {},
   "outputs": [
    {
     "data": {
      "text/plain": [
       "True"
      ]
     },
     "execution_count": 10,
     "metadata": {},
     "output_type": "execute_result"
    }
   ],
   "source": [
    ">>> G.drop_query(\"getFriends\")"
   ]
  },
  {
   "cell_type": "code",
   "execution_count": 11,
   "id": "08121291-1812-419d-962a-1f794b4a4494",
   "metadata": {},
   "outputs": [
    {
     "data": {
      "text/plain": [
       "True"
      ]
     },
     "execution_count": 11,
     "metadata": {},
     "output_type": "execute_result"
    }
   ],
   "source": [
    ">>> G.clear()"
   ]
  },
  {
   "cell_type": "code",
   "execution_count": 12,
   "id": "248471f2-b519-4581-8051-b4b8e416565a",
   "metadata": {},
   "outputs": [
    {
     "name": "stdout",
     "output_type": "stream",
     "text": [
      "2025-05-08 11:34:59,700 - tigergraphx.core.managers.schema_manager - INFO - Dropping graph: Social...\n",
      "2025-05-08 11:35:04,129 - tigergraphx.core.managers.schema_manager - INFO - Graph dropped successfully.\n"
     ]
    }
   ],
   "source": [
    ">>> G.drop_graph()"
   ]
  },
  {
   "cell_type": "markdown",
   "id": "870c6a53-b2cd-4606-81e1-b6aca69cd8aa",
   "metadata": {},
   "source": [
    "---\n"
   ]
  }
 ],
 "metadata": {
  "kernelspec": {
   "display_name": "Python 3 (ipykernel)",
   "language": "python",
   "name": "python3"
  },
  "language_info": {
   "codemirror_mode": {
    "name": "ipython",
    "version": 3
   },
   "file_extension": ".py",
   "mimetype": "text/x-python",
   "name": "python",
   "nbconvert_exporter": "python",
   "pygments_lexer": "ipython3",
   "version": "3.12.6"
  }
 },
 "nbformat": 4,
 "nbformat_minor": 5
}
