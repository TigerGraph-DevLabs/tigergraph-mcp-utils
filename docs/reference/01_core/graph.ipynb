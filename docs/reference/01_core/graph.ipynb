{
 "cells": [
  {
   "cell_type": "markdown",
   "id": "aed168a0-f60a-4fad-af11-e13ccc6ec3b1",
   "metadata": {},
   "source": [
    "# Graph\n",
    "\n",
    "---\n",
    "\n",
    "## Create the Graph Schema\n",
    "### Setting Up the Environment Variables\n",
    "You can either use the following code or set them directly using the `export` command in your shell."
   ]
  },
  {
   "cell_type": "code",
   "execution_count": 1,
   "id": "87fcbcf1-d81d-4ec3-8847-27a386015446",
   "metadata": {},
   "outputs": [],
   "source": [
    "import os\n",
    "os.environ[\"TG_HOST\"] = \"http://127.0.0.1\"\n",
    "os.environ[\"TG_USERNAME\"] = \"tigergraph\"\n",
    "os.environ[\"TG_PASSWORD\"] = \"tigergraph\""
   ]
  },
  {
   "cell_type": "markdown",
   "id": "7cc0890c-090c-4a00-9d56-119345d496de",
   "metadata": {},
   "source": [
    "### Create Schema"
   ]
  },
  {
   "cell_type": "code",
   "execution_count": 2,
   "id": "e76faced-d95b-4c32-a533-77192d17463e",
   "metadata": {},
   "outputs": [],
   "source": [
    "graph_schema = {\n",
    "    \"graph_name\": \"Social\",\n",
    "    \"nodes\": {\n",
    "        \"Person\": {\n",
    "            \"primary_key\": \"name\",\n",
    "            \"attributes\": {\n",
    "                \"name\": \"STRING\",\n",
    "                \"age\": \"UINT\",\n",
    "                \"gender\": \"STRING\",\n",
    "            },\n",
    "        },\n",
    "    },\n",
    "    \"edges\": {\n",
    "        \"Friendship\": {\n",
    "            \"is_directed_edge\": False,\n",
    "            \"from_node_type\": \"Person\",\n",
    "            \"to_node_type\": \"Person\",\n",
    "            \"attributes\": {\n",
    "                \"closeness\": \"DOUBLE\",\n",
    "            },\n",
    "        },\n",
    "    },\n",
    "}"
   ]
  },
  {
   "cell_type": "code",
   "execution_count": 3,
   "id": "85472cf7-5274-4433-a567-6236ed4e3670",
   "metadata": {},
   "outputs": [
    {
     "name": "stdout",
     "output_type": "stream",
     "text": [
      "2025-02-21 18:56:12,561 - datasets - INFO - PyTorch version 2.6.0 available.\n",
      "2025-02-21 18:56:12,870 - tigergraphx.core.managers.schema_manager - INFO - Graph existence check for Social: does not exist\n",
      "2025-02-21 18:56:12,871 - tigergraphx.core.managers.schema_manager - INFO - Creating schema for graph: Social...\n",
      "2025-02-21 18:56:16,799 - tigergraphx.core.managers.schema_manager - INFO - Graph schema created successfully.\n"
     ]
    }
   ],
   "source": [
    "from tigergraphx import Graph\n",
    "G = Graph(graph_schema)"
   ]
  },
  {
   "cell_type": "markdown",
   "id": "1a904780-99a9-416c-bc7c-6516cdcbc8b0",
   "metadata": {},
   "source": [
    "### Retrieve a Graph from the Database"
   ]
  },
  {
   "cell_type": "code",
   "execution_count": 4,
   "id": "dc61e2a9-d468-45cb-ba13-1ee0c8c6d39b",
   "metadata": {},
   "outputs": [],
   "source": [
    "from tigergraphx import Graph\n",
    "G = Graph.from_db(\"Social\")"
   ]
  },
  {
   "cell_type": "markdown",
   "id": "4292f867-b0a8-4f43-8bc6-a5488190727d",
   "metadata": {},
   "source": [
    "## NodeView\n",
    "If your graph contains only one node type, you don’t need to specify the type when accessing nodes:"
   ]
  },
  {
   "cell_type": "code",
   "execution_count": 5,
   "id": "8c409b15-9392-4df7-a5ba-c38a13d40429",
   "metadata": {},
   "outputs": [
    {
     "data": {
      "text/plain": [
       "2"
      ]
     },
     "execution_count": 5,
     "metadata": {},
     "output_type": "execute_result"
    }
   ],
   "source": [
    ">>> G = Graph.from_db(\"Social\")\n",
    ">>> G.add_nodes_from([\"Alice\", \"Mike\"])\n",
    ">>> len(G.nodes)"
   ]
  },
  {
   "cell_type": "code",
   "execution_count": 6,
   "id": "7f2b0b26-3ed8-4964-b72e-3e24722fa8cf",
   "metadata": {},
   "outputs": [
    {
     "data": {
      "text/plain": [
       "True"
      ]
     },
     "execution_count": 6,
     "metadata": {},
     "output_type": "execute_result"
    }
   ],
   "source": [
    ">>> G.nodes[\"Alice\"]\n",
    "{'name': 'Alice', 'age': 0, 'gender': ''}\n",
    ">>> \"Alice\" in G.nodes"
   ]
  },
  {
   "cell_type": "code",
   "execution_count": 7,
   "id": "b7834dfb-45d3-4c65-84d8-ac66eca5d3d9",
   "metadata": {},
   "outputs": [
    {
     "data": {
      "text/plain": [
       "True"
      ]
     },
     "execution_count": 7,
     "metadata": {},
     "output_type": "execute_result"
    }
   ],
   "source": [
    ">>> G.clear()"
   ]
  },
  {
   "cell_type": "markdown",
   "id": "37875cb9-ec42-4912-8e75-c16d42d0d734",
   "metadata": {},
   "source": [
    "For graphs with multiple node types, you must include the node type when accessing nodes:"
   ]
  },
  {
   "cell_type": "code",
   "execution_count": 8,
   "id": "56235c00-729c-4d5a-9e38-7717492d7680",
   "metadata": {},
   "outputs": [
    {
     "data": {
      "text/plain": [
       "2"
      ]
     },
     "execution_count": 8,
     "metadata": {},
     "output_type": "execute_result"
    }
   ],
   "source": [
    ">>> G = Graph.from_db(\"Social\")\n",
    ">>> G.add_nodes_from([\"Alice\", \"Mike\"], \"Person\")\n",
    ">>> len(G.nodes)"
   ]
  },
  {
   "cell_type": "code",
   "execution_count": 9,
   "id": "a22c205f-542f-4c6d-a64a-830db0db414d",
   "metadata": {},
   "outputs": [
    {
     "data": {
      "text/plain": [
       "True"
      ]
     },
     "execution_count": 9,
     "metadata": {},
     "output_type": "execute_result"
    }
   ],
   "source": [
    ">>> G.nodes[(\"Person\", \"Alice\")]\n",
    "{'name': 'Alice', 'age': 0, 'gender': ''}\n",
    ">>> (\"Person\", \"Alice\") in G.nodes"
   ]
  },
  {
   "cell_type": "code",
   "execution_count": 10,
   "id": "26fd3004-9efd-485f-ac48-4245f7b8cfb5",
   "metadata": {},
   "outputs": [
    {
     "data": {
      "text/plain": [
       "True"
      ]
     },
     "execution_count": 10,
     "metadata": {},
     "output_type": "execute_result"
    }
   ],
   "source": [
    ">>> G.clear()"
   ]
  },
  {
   "cell_type": "markdown",
   "id": "1cdd99f1-ea02-45eb-8e82-90f512ff86bc",
   "metadata": {},
   "source": [
    "---\n",
    "\n",
    "## Schema Operations\n",
    "### get_schema"
   ]
  },
  {
   "cell_type": "code",
   "execution_count": 11,
   "id": "61ac9385-db5a-4d9f-a03a-a7538ed21b14",
   "metadata": {},
   "outputs": [
    {
     "data": {
      "text/plain": [
       "{'graph_name': 'Social',\n",
       " 'nodes': {'Person': {'primary_key': 'name',\n",
       "   'attributes': {'name': {'data_type': <DataType.STRING: 'STRING'>,\n",
       "     'default_value': None},\n",
       "    'age': {'data_type': <DataType.UINT: 'UINT'>, 'default_value': None},\n",
       "    'gender': {'data_type': <DataType.STRING: 'STRING'>,\n",
       "     'default_value': None}},\n",
       "   'vector_attributes': {}}},\n",
       " 'edges': {'Friendship': {'is_directed_edge': False,\n",
       "   'from_node_type': 'Person',\n",
       "   'to_node_type': 'Person',\n",
       "   'discriminator': set(),\n",
       "   'attributes': {'closeness': {'data_type': <DataType.DOUBLE: 'DOUBLE'>,\n",
       "     'default_value': None}}}}}"
      ]
     },
     "execution_count": 11,
     "metadata": {},
     "output_type": "execute_result"
    }
   ],
   "source": [
    ">>> G = Graph.from_db(\"Social\")\n",
    ">>> G.get_schema()"
   ]
  },
  {
   "cell_type": "markdown",
   "id": "1716f808-d129-4800-ac16-6323da8497fb",
   "metadata": {},
   "source": [
    "To retrieve the schema in JSON format, you can use:"
   ]
  },
  {
   "cell_type": "code",
   "execution_count": 12,
   "id": "5d8d38f9-0a40-4df1-9683-dba27f41ffdf",
   "metadata": {},
   "outputs": [
    {
     "data": {
      "text/plain": [
       "'{\"graph_name\":\"Social\",\"nodes\":{\"Person\":{\"primary_key\":\"name\",\"attributes\":{\"name\":{\"data_type\":\"STRING\",\"default_value\":null},\"age\":{\"data_type\":\"UINT\",\"default_value\":null},\"gender\":{\"data_type\":\"STRING\",\"default_value\":null}},\"vector_attributes\":{}}},\"edges\":{\"Friendship\":{\"is_directed_edge\":false,\"from_node_type\":\"Person\",\"to_node_type\":\"Person\",\"discriminator\":[],\"attributes\":{\"closeness\":{\"data_type\":\"DOUBLE\",\"default_value\":null}}}}}'"
      ]
     },
     "execution_count": 12,
     "metadata": {},
     "output_type": "execute_result"
    }
   ],
   "source": [
    ">>> G = Graph.from_db(\"Social\")\n",
    ">>> G.get_schema(\"json\")"
   ]
  },
  {
   "cell_type": "markdown",
   "id": "79110f57-119e-4b04-9bf0-a6db02c2aa5f",
   "metadata": {},
   "source": [
    "### create_schema\n",
    "If you do not need to drop the existing graph before creating the schema, you can use:"
   ]
  },
  {
   "cell_type": "code",
   "execution_count": 13,
   "id": "0fee9f72-441e-4639-a305-45f39496f4c5",
   "metadata": {},
   "outputs": [
    {
     "name": "stdout",
     "output_type": "stream",
     "text": [
      "2025-02-21 18:56:33,988 - tigergraphx.core.managers.schema_manager - INFO - Graph existence check for Social: exists\n",
      "2025-02-21 18:56:33,989 - tigergraphx.core.managers.schema_manager - INFO - Graph 'Social' already exists. Skipping graph creation.\n"
     ]
    },
    {
     "data": {
      "text/plain": [
       "False"
      ]
     },
     "execution_count": 13,
     "metadata": {},
     "output_type": "execute_result"
    }
   ],
   "source": [
    ">>> G = Graph.from_db(\"Social\")\n",
    ">>> G.create_schema()"
   ]
  },
  {
   "cell_type": "markdown",
   "id": "76ad2072-2855-4cc2-96da-5e23853d0172",
   "metadata": {},
   "source": [
    "If you need to drop the existing graph, you can call:"
   ]
  },
  {
   "cell_type": "code",
   "execution_count": 14,
   "id": "14f9d28a-36db-41df-bb40-f42ebf369a4c",
   "metadata": {},
   "outputs": [
    {
     "name": "stdout",
     "output_type": "stream",
     "text": [
      "2025-02-21 18:56:35,677 - tigergraphx.core.managers.schema_manager - INFO - Graph existence check for Social: exists\n",
      "2025-02-21 18:56:35,678 - tigergraphx.core.managers.schema_manager - INFO - Dropping graph: Social...\n",
      "2025-02-21 18:56:38,492 - tigergraphx.core.managers.schema_manager - INFO - Graph dropped successfully.\n",
      "2025-02-21 18:56:38,493 - tigergraphx.core.managers.schema_manager - INFO - Creating schema for graph: Social...\n",
      "2025-02-21 18:56:41,448 - tigergraphx.core.managers.schema_manager - INFO - Graph schema created successfully.\n"
     ]
    },
    {
     "data": {
      "text/plain": [
       "True"
      ]
     },
     "execution_count": 14,
     "metadata": {},
     "output_type": "execute_result"
    }
   ],
   "source": [
    ">>> G = Graph.from_db(\"Social\")\n",
    ">>> G.create_schema(True)"
   ]
  },
  {
   "cell_type": "markdown",
   "id": "adf0a4c5-e6d2-4c33-bd22-3b1ad96bd7d6",
   "metadata": {},
   "source": [
    "### drop_graph"
   ]
  },
  {
   "cell_type": "code",
   "execution_count": 15,
   "id": "ac229e86-a23a-4a72-8aab-d075b136fdfb",
   "metadata": {},
   "outputs": [
    {
     "name": "stdout",
     "output_type": "stream",
     "text": [
      "2025-02-21 18:56:43,112 - tigergraphx.core.managers.schema_manager - INFO - Dropping graph: Social...\n",
      "2025-02-21 18:56:46,457 - tigergraphx.core.managers.schema_manager - INFO - Graph dropped successfully.\n"
     ]
    }
   ],
   "source": [
    ">>> G = Graph.from_db(\"Social\")\n",
    ">>> G.drop_graph()"
   ]
  },
  {
   "cell_type": "markdown",
   "id": "2bd877c6-97fa-4f9d-a47c-5abdeb51ab9b",
   "metadata": {},
   "source": [
    "---\n",
    "\n",
    "## Data Loading Operations\n",
    "### load_data"
   ]
  },
  {
   "cell_type": "code",
   "execution_count": 16,
   "id": "822d111a-c53a-40e7-8d3d-05ad38aafeec",
   "metadata": {},
   "outputs": [
    {
     "name": "stdout",
     "output_type": "stream",
     "text": [
      "2025-02-21 18:56:48,718 - tigergraphx.core.managers.schema_manager - INFO - Graph existence check for Social: does not exist\n",
      "2025-02-21 18:56:48,719 - tigergraphx.core.managers.schema_manager - INFO - Creating schema for graph: Social...\n",
      "2025-02-21 18:56:52,931 - tigergraphx.core.managers.schema_manager - INFO - Graph schema created successfully.\n"
     ]
    },
    {
     "data": {
      "text/plain": [
       "True"
      ]
     },
     "execution_count": 16,
     "metadata": {},
     "output_type": "execute_result"
    }
   ],
   "source": [
    ">>> G.create_schema(True)"
   ]
  },
  {
   "cell_type": "code",
   "execution_count": 17,
   "id": "ce1af765-39bd-4e21-8d66-52f4742ee4fa",
   "metadata": {},
   "outputs": [],
   "source": [
    "loading_job_config = {\n",
    "    \"loading_job_name\": \"loading_job_Social\",\n",
    "    \"files\": [\n",
    "        {\n",
    "            \"file_alias\": \"f_person\",\n",
    "            \"file_path\": \"/home/tigergraph/data/person_data.csv\",\n",
    "            \"csv_parsing_options\": {\n",
    "                \"separator\": \",\",\n",
    "                \"header\": True,\n",
    "                \"EOL\": \"\\\\n\",\n",
    "                \"quote\": \"DOUBLE\",\n",
    "            },\n",
    "            \"node_mappings\": [\n",
    "                {\n",
    "                    \"target_name\": \"Person\",\n",
    "                    \"attribute_column_mappings\": {\n",
    "                        \"name\": \"name\",\n",
    "                        \"age\": \"age\",\n",
    "                    },\n",
    "                }\n",
    "            ],\n",
    "        },\n",
    "        {\n",
    "            \"file_alias\": \"f_friendship\",\n",
    "            \"file_path\": \"/home/tigergraph/data/friendship_data.csv\",\n",
    "            \"edge_mappings\": [\n",
    "                {\n",
    "                    \"target_name\": \"Friendship\",\n",
    "                    \"source_node_column\": \"source\",\n",
    "                    \"target_node_column\": \"target\",\n",
    "                    \"attribute_column_mappings\": {\n",
    "                        \"closeness\": \"closeness\",\n",
    "                    },\n",
    "                }\n",
    "            ],\n",
    "        },\n",
    "    ],\n",
    "}"
   ]
  },
  {
   "cell_type": "code",
   "execution_count": 18,
   "id": "abdbb8ff-b188-4a62-a663-a0770f9dd270",
   "metadata": {},
   "outputs": [
    {
     "name": "stdout",
     "output_type": "stream",
     "text": [
      "2025-02-21 18:56:55,701 - tigergraphx.core.managers.data_manager - INFO - Initiating data load for job: loading_job_Social...\n",
      "2025-02-21 18:57:03,561 - tigergraphx.core.managers.data_manager - INFO - Data load completed successfully.\n"
     ]
    }
   ],
   "source": [
    ">>> G = Graph.from_db(\"Social\")\n",
    ">>> G.load_data(loading_job_config)"
   ]
  },
  {
   "cell_type": "code",
   "execution_count": 19,
   "id": "e9a7194a-0986-4658-969c-7efcf6706ec6",
   "metadata": {},
   "outputs": [
    {
     "name": "stdout",
     "output_type": "stream",
     "text": [
      "1\n"
     ]
    }
   ],
   "source": [
    ">>> print(G.number_of_nodes())"
   ]
  },
  {
   "cell_type": "code",
   "execution_count": 20,
   "id": "d501597c-cb56-4b8e-a1fd-d6d38d5560ea",
   "metadata": {},
   "outputs": [
    {
     "name": "stdout",
     "output_type": "stream",
     "text": [
      "1\n"
     ]
    }
   ],
   "source": [
    ">>> print(G.number_of_edges())"
   ]
  },
  {
   "cell_type": "code",
   "execution_count": 21,
   "id": "8268319a-e7ae-40e0-a086-3466ae0211ae",
   "metadata": {},
   "outputs": [
    {
     "data": {
      "text/plain": [
       "True"
      ]
     },
     "execution_count": 21,
     "metadata": {},
     "output_type": "execute_result"
    }
   ],
   "source": [
    ">>> G.clear()"
   ]
  },
  {
   "cell_type": "markdown",
   "id": "48f73e8a-1ded-4e3f-95ee-218d9eae392a",
   "metadata": {},
   "source": [
    "---\n",
    "\n",
    "## Node Operations\n",
    "### add_node\n",
    "Single Node Type Example:"
   ]
  },
  {
   "cell_type": "code",
   "execution_count": 22,
   "id": "fe1f2fa2-1b0d-428f-a303-63738d231ae0",
   "metadata": {},
   "outputs": [
    {
     "data": {
      "text/plain": [
       "2"
      ]
     },
     "execution_count": 22,
     "metadata": {},
     "output_type": "execute_result"
    }
   ],
   "source": [
    ">>> G = Graph.from_db(\"Social\")\n",
    ">>> G.add_node(\"Alice\", age=30, gender=\"Female\")\n",
    ">>> G.add_node(\"Mike\", age=29)\n",
    ">>> len(G.nodes)"
   ]
  },
  {
   "cell_type": "code",
   "execution_count": 23,
   "id": "81fbaf3d-0749-4022-9135-58eacb40f169",
   "metadata": {},
   "outputs": [
    {
     "data": {
      "text/plain": [
       "True"
      ]
     },
     "execution_count": 23,
     "metadata": {},
     "output_type": "execute_result"
    }
   ],
   "source": [
    ">>> G.clear()"
   ]
  },
  {
   "cell_type": "markdown",
   "id": "46cb013c-2cc1-483a-abfa-9414e00c1cb5",
   "metadata": {},
   "source": [
    "Multiple Node Types Example:"
   ]
  },
  {
   "cell_type": "code",
   "execution_count": 24,
   "id": "fabc8bc5-aa10-4e8b-814f-2f80d4b7ffa5",
   "metadata": {},
   "outputs": [
    {
     "data": {
      "text/plain": [
       "2"
      ]
     },
     "execution_count": 24,
     "metadata": {},
     "output_type": "execute_result"
    }
   ],
   "source": [
    ">>> G = Graph.from_db(\"Social\")\n",
    ">>> G.add_node(\"Alice\", \"Person\", age=30, gender=\"Female\")\n",
    ">>> G.add_node(\"Mike\", \"Person\", age=29)\n",
    ">>> len(G.nodes)"
   ]
  },
  {
   "cell_type": "code",
   "execution_count": 25,
   "id": "343ef58a-8531-47a9-97cc-f107ee135311",
   "metadata": {},
   "outputs": [
    {
     "data": {
      "text/plain": [
       "True"
      ]
     },
     "execution_count": 25,
     "metadata": {},
     "output_type": "execute_result"
    }
   ],
   "source": [
    ">>> G.clear()"
   ]
  },
  {
   "cell_type": "markdown",
   "id": "e454b46e-6b3d-4a95-a0cb-7d70eb11e45f",
   "metadata": {},
   "source": [
    "### add_nodes_from\n",
    "Single Node Type Example:"
   ]
  },
  {
   "cell_type": "code",
   "execution_count": 26,
   "id": "7fb3d030-161e-41cf-bf58-d25272a765fc",
   "metadata": {},
   "outputs": [
    {
     "data": {
      "text/plain": [
       "2"
      ]
     },
     "execution_count": 26,
     "metadata": {},
     "output_type": "execute_result"
    }
   ],
   "source": [
    ">>> G = Graph.from_db(\"Social\")\n",
    ">>> # Add nodes using a list of node IDs only, without additional attributes\n",
    ">>> G.add_nodes_from([\"Alice\", \"Mike\"])"
   ]
  },
  {
   "cell_type": "code",
   "execution_count": 27,
   "id": "97eb7a18-4301-46d1-aea1-06f4ca16cc16",
   "metadata": {},
   "outputs": [
    {
     "data": {
      "text/plain": [
       "2"
      ]
     },
     "execution_count": 27,
     "metadata": {},
     "output_type": "execute_result"
    }
   ],
   "source": [
    ">>> # Add nodes with individual attributes using a list of (ID, attribute_dict) tuples\n",
    ">>> nodes_for_adding = [\n",
    "...    (\"Alice\", {\"age\": 30, \"gender\": \"Female\"}),\n",
    "...    (\"Mike\", {\"age\": 29}),\n",
    "... ]\n",
    ">>> G.add_nodes_from(nodes_for_adding)"
   ]
  },
  {
   "cell_type": "code",
   "execution_count": 28,
   "id": "bac518ca-4b41-40e2-baeb-01524b2a0cc2",
   "metadata": {},
   "outputs": [
    {
     "data": {
      "text/plain": [
       "2"
      ]
     },
     "execution_count": 28,
     "metadata": {},
     "output_type": "execute_result"
    }
   ],
   "source": [
    ">>> # Add nodes with shared attributes applied to all listed node IDs\n",
    ">>> G.add_nodes_from([\"Alice\", \"Mike\"], age=30)"
   ]
  },
  {
   "cell_type": "code",
   "execution_count": 29,
   "id": "21dabd77-d486-4c62-84b3-91ec52a76032",
   "metadata": {},
   "outputs": [
    {
     "data": {
      "text/plain": [
       "True"
      ]
     },
     "execution_count": 29,
     "metadata": {},
     "output_type": "execute_result"
    }
   ],
   "source": [
    ">>> G.clear()"
   ]
  },
  {
   "cell_type": "markdown",
   "id": "2b22eed3-9f79-42ce-8131-37a5680edca3",
   "metadata": {},
   "source": [
    "Multiple Node Types Example:"
   ]
  },
  {
   "cell_type": "code",
   "execution_count": 30,
   "id": "4fcc81a6-139e-430a-a99d-59e4970a3061",
   "metadata": {},
   "outputs": [
    {
     "data": {
      "text/plain": [
       "2"
      ]
     },
     "execution_count": 30,
     "metadata": {},
     "output_type": "execute_result"
    }
   ],
   "source": [
    ">>> G = Graph.from_db(\"Social\")\n",
    ">>> nodes_for_adding = [\n",
    "...    (\"Alice\", {\"age\": 30, \"gender\": \"Female\"}),\n",
    "...    (\"Mike\", {\"age\": 29}),\n",
    "... ]\n",
    ">>> G.add_nodes_from(nodes_for_adding, \"Person\")"
   ]
  },
  {
   "cell_type": "code",
   "execution_count": 31,
   "id": "87e80d84-790a-4a6a-8580-6651a93ff7f1",
   "metadata": {},
   "outputs": [
    {
     "data": {
      "text/plain": [
       "True"
      ]
     },
     "execution_count": 31,
     "metadata": {},
     "output_type": "execute_result"
    }
   ],
   "source": [
    ">>> G.clear()"
   ]
  },
  {
   "cell_type": "markdown",
   "id": "e0c047ac-db9a-4b32-a79f-c7d6bd324cdc",
   "metadata": {},
   "source": [
    "### remove_node\n",
    "Single Node Type Example:"
   ]
  },
  {
   "cell_type": "code",
   "execution_count": 32,
   "id": "e800032f-4de6-468b-b739-847fd72c78b7",
   "metadata": {},
   "outputs": [
    {
     "data": {
      "text/plain": [
       "1"
      ]
     },
     "execution_count": 32,
     "metadata": {},
     "output_type": "execute_result"
    }
   ],
   "source": [
    ">>> G = Graph.from_db(\"Social\")\n",
    ">>> G.add_node(\"Alice\", age=30, gender=\"Female\")\n",
    ">>> len(G.nodes)"
   ]
  },
  {
   "cell_type": "code",
   "execution_count": 33,
   "id": "9542638b-705f-4228-83a1-4e2a191e98ac",
   "metadata": {},
   "outputs": [
    {
     "data": {
      "text/plain": [
       "True"
      ]
     },
     "execution_count": 33,
     "metadata": {},
     "output_type": "execute_result"
    }
   ],
   "source": [
    ">>> G.remove_node(\"Alice\")"
   ]
  },
  {
   "cell_type": "code",
   "execution_count": 34,
   "id": "b596d923-13e0-4d0e-8b49-3e63c03e596a",
   "metadata": {},
   "outputs": [
    {
     "data": {
      "text/plain": [
       "0"
      ]
     },
     "execution_count": 34,
     "metadata": {},
     "output_type": "execute_result"
    }
   ],
   "source": [
    ">>> len(G.nodes)"
   ]
  },
  {
   "cell_type": "markdown",
   "id": "03768ca1-aebf-47ce-9c1d-82f48816b419",
   "metadata": {},
   "source": [
    "Multiple Node Types Example:"
   ]
  },
  {
   "cell_type": "code",
   "execution_count": 35,
   "id": "3d85dc26-7089-4985-9ae7-77207a6dd826",
   "metadata": {},
   "outputs": [
    {
     "data": {
      "text/plain": [
       "1"
      ]
     },
     "execution_count": 35,
     "metadata": {},
     "output_type": "execute_result"
    }
   ],
   "source": [
    ">>> G = Graph.from_db(\"Social\")\n",
    ">>> G.add_node(\"Alice\", \"Person\", age=30, gender=\"Female\")\n",
    ">>> len(G.nodes)"
   ]
  },
  {
   "cell_type": "code",
   "execution_count": 36,
   "id": "ec4d4471-7fca-41b7-b597-c48690060a3a",
   "metadata": {},
   "outputs": [
    {
     "data": {
      "text/plain": [
       "True"
      ]
     },
     "execution_count": 36,
     "metadata": {},
     "output_type": "execute_result"
    }
   ],
   "source": [
    ">>> G.remove_node(\"Alice\", \"Person\")"
   ]
  },
  {
   "cell_type": "code",
   "execution_count": 37,
   "id": "3573e194-03c4-444c-8e20-ce342f13836b",
   "metadata": {},
   "outputs": [
    {
     "data": {
      "text/plain": [
       "0"
      ]
     },
     "execution_count": 37,
     "metadata": {},
     "output_type": "execute_result"
    }
   ],
   "source": [
    ">>> len(G.nodes)"
   ]
  },
  {
   "cell_type": "markdown",
   "id": "f4587ac5-afaa-4135-9387-004cfee180bf",
   "metadata": {},
   "source": [
    "### has_node\n",
    "Single Node Type Example:"
   ]
  },
  {
   "cell_type": "code",
   "execution_count": 38,
   "id": "15ae061b-66c8-41c4-a0f1-dbc2b2a74249",
   "metadata": {},
   "outputs": [
    {
     "data": {
      "text/plain": [
       "True"
      ]
     },
     "execution_count": 38,
     "metadata": {},
     "output_type": "execute_result"
    }
   ],
   "source": [
    ">>> G = Graph.from_db(\"Social\")\n",
    ">>> G.add_node(\"Alice\", age=30, gender=\"Female\")\n",
    ">>> G.has_node(\"Alice\")"
   ]
  },
  {
   "cell_type": "code",
   "execution_count": 39,
   "id": "cbb2985c-4f87-45cb-9dcd-2bdc31ef8cdf",
   "metadata": {},
   "outputs": [
    {
     "data": {
      "text/plain": [
       "True"
      ]
     },
     "execution_count": 39,
     "metadata": {},
     "output_type": "execute_result"
    }
   ],
   "source": [
    ">>> G.clear()"
   ]
  },
  {
   "cell_type": "markdown",
   "id": "2658e5e0-30f4-4dc5-a73f-2933d6ca4328",
   "metadata": {},
   "source": [
    "Multiple Node Types Example:"
   ]
  },
  {
   "cell_type": "code",
   "execution_count": 40,
   "id": "95120661-e224-4756-b299-8b6a010a8722",
   "metadata": {},
   "outputs": [
    {
     "data": {
      "text/plain": [
       "True"
      ]
     },
     "execution_count": 40,
     "metadata": {},
     "output_type": "execute_result"
    }
   ],
   "source": [
    ">>> G = Graph.from_db(\"Social\")\n",
    ">>> G.add_node(\"Alice\", \"Person\", age=30, gender=\"Female\")\n",
    ">>> G.has_node(\"Alice\", \"Person\")"
   ]
  },
  {
   "cell_type": "code",
   "execution_count": 41,
   "id": "faadacc9-88b0-40b2-a50e-2def0ce94665",
   "metadata": {},
   "outputs": [
    {
     "data": {
      "text/plain": [
       "True"
      ]
     },
     "execution_count": 41,
     "metadata": {},
     "output_type": "execute_result"
    }
   ],
   "source": [
    ">>> G.clear()"
   ]
  },
  {
   "cell_type": "markdown",
   "id": "2ef9f04f-b32e-4ca6-bbfe-9f8130c752b9",
   "metadata": {},
   "source": [
    "### get_node_data"
   ]
  },
  {
   "cell_type": "code",
   "execution_count": 42,
   "id": "d7487abb-7fe5-4235-a87b-1dcf7c4e1409",
   "metadata": {},
   "outputs": [
    {
     "data": {
      "text/plain": [
       "{'name': 'Alice', 'age': 30, 'gender': 'Female'}"
      ]
     },
     "execution_count": 42,
     "metadata": {},
     "output_type": "execute_result"
    }
   ],
   "source": [
    ">>> G = Graph.from_db(\"Social\")\n",
    ">>> G.add_node(\"Alice\", age=30, gender=\"Female\")\n",
    ">>> G.get_node_data(\"Alice\")"
   ]
  },
  {
   "cell_type": "code",
   "execution_count": 43,
   "id": "902a1b3c-a994-4b4a-b7b2-837b9dffa02b",
   "metadata": {},
   "outputs": [
    {
     "data": {
      "text/plain": [
       "True"
      ]
     },
     "execution_count": 43,
     "metadata": {},
     "output_type": "execute_result"
    }
   ],
   "source": [
    ">>> G.clear()"
   ]
  },
  {
   "cell_type": "markdown",
   "id": "7ac14b21-61a1-4da2-9b5e-fa6ee9613adc",
   "metadata": {},
   "source": [
    "Multiple Node Types Example:"
   ]
  },
  {
   "cell_type": "code",
   "execution_count": 44,
   "id": "3fdc52c9-819e-4a39-bf63-827c3e505576",
   "metadata": {},
   "outputs": [
    {
     "data": {
      "text/plain": [
       "{'name': 'Alice', 'age': 30, 'gender': 'Female'}"
      ]
     },
     "execution_count": 44,
     "metadata": {},
     "output_type": "execute_result"
    }
   ],
   "source": [
    ">>> G = Graph.from_db(\"Social\")\n",
    ">>> G.add_node(\"Alice\", \"Person\", age=30, gender=\"Female\")\n",
    ">>> G.get_node_data(\"Alice\", \"Person\")"
   ]
  },
  {
   "cell_type": "code",
   "execution_count": 45,
   "id": "d62bc76d-deda-4030-9231-69ddff9abeb8",
   "metadata": {},
   "outputs": [
    {
     "data": {
      "text/plain": [
       "True"
      ]
     },
     "execution_count": 45,
     "metadata": {},
     "output_type": "execute_result"
    }
   ],
   "source": [
    ">>> G.clear()"
   ]
  },
  {
   "cell_type": "markdown",
   "id": "cbfe358d-4bac-4502-b027-700391643e37",
   "metadata": {},
   "source": [
    "### get_node_edges\n",
    "Single Node Type Example:"
   ]
  },
  {
   "cell_type": "code",
   "execution_count": 46,
   "id": "155dc65c-5d87-46f8-9d6b-4abd48d16ad6",
   "metadata": {},
   "outputs": [
    {
     "data": {
      "text/plain": [
       "2"
      ]
     },
     "execution_count": 46,
     "metadata": {},
     "output_type": "execute_result"
    }
   ],
   "source": [
    ">>> G = Graph.from_db(\"Social\")\n",
    ">>> nodes_for_adding = [\n",
    "...    (\"Alice\", {\"age\": 30, \"gender\": \"Female\"}),\n",
    "...    (\"Mike\", {\"age\": 29}),\n",
    "... ]\n",
    ">>> G.add_nodes_from(nodes_for_adding)"
   ]
  },
  {
   "cell_type": "code",
   "execution_count": 47,
   "id": "ee1d152b-4b89-438e-a92b-8abf60753308",
   "metadata": {},
   "outputs": [
    {
     "data": {
      "text/plain": [
       "1"
      ]
     },
     "execution_count": 47,
     "metadata": {},
     "output_type": "execute_result"
    }
   ],
   "source": [
    ">>> G.add_edges_from([(\"Alice\", \"Mike\")])"
   ]
  },
  {
   "cell_type": "code",
   "execution_count": 48,
   "id": "a9879c93-e449-4a6c-bcf5-e1344442ca0c",
   "metadata": {},
   "outputs": [
    {
     "data": {
      "text/plain": [
       "[('Alice', 'Mike')]"
      ]
     },
     "execution_count": 48,
     "metadata": {},
     "output_type": "execute_result"
    }
   ],
   "source": [
    ">>> G.get_node_edges(\"Alice\")"
   ]
  },
  {
   "cell_type": "code",
   "execution_count": 49,
   "id": "59bbca5e-05c9-4288-a88c-64dddfbf8a2f",
   "metadata": {},
   "outputs": [
    {
     "data": {
      "text/plain": [
       "True"
      ]
     },
     "execution_count": 49,
     "metadata": {},
     "output_type": "execute_result"
    }
   ],
   "source": [
    ">>> G.clear()"
   ]
  },
  {
   "cell_type": "markdown",
   "id": "bc0dd760-6e82-4c04-bfc1-87be4953e663",
   "metadata": {},
   "source": [
    "Multiple Node Types Example:"
   ]
  },
  {
   "cell_type": "code",
   "execution_count": 50,
   "id": "24ff3fbf-57ce-43c3-892b-7c03bad24bd3",
   "metadata": {},
   "outputs": [
    {
     "data": {
      "text/plain": [
       "2"
      ]
     },
     "execution_count": 50,
     "metadata": {},
     "output_type": "execute_result"
    }
   ],
   "source": [
    ">>> G = Graph.from_db(\"Social\")\n",
    ">>> nodes_for_adding = [\n",
    "...    (\"Alice\", {\"age\": 30, \"gender\": \"Female\"}),\n",
    "...    (\"Mike\", {\"age\": 29}),\n",
    "... ]\n",
    ">>> G.add_nodes_from(nodes_for_adding, \"Person\")"
   ]
  },
  {
   "cell_type": "code",
   "execution_count": 51,
   "id": "1ba3bf8b-5c02-4ab7-8f96-62aa029eb837",
   "metadata": {},
   "outputs": [
    {
     "data": {
      "text/plain": [
       "1"
      ]
     },
     "execution_count": 51,
     "metadata": {},
     "output_type": "execute_result"
    }
   ],
   "source": [
    ">>> G.add_edges_from([(\"Alice\", \"Mike\")], \"Person\", \"Friendship\", \"Person\")"
   ]
  },
  {
   "cell_type": "code",
   "execution_count": 52,
   "id": "be6b1369-23cc-4c72-849e-25140d4b81d3",
   "metadata": {},
   "outputs": [
    {
     "data": {
      "text/plain": [
       "[('Alice', 'Mike')]"
      ]
     },
     "execution_count": 52,
     "metadata": {},
     "output_type": "execute_result"
    }
   ],
   "source": [
    ">>> # Retrieve all edges connected to Alice, regardless of type\n",
    ">>> G.get_node_edges(\"Alice\", \"Person\")"
   ]
  },
  {
   "cell_type": "code",
   "execution_count": 53,
   "id": "2c404506-88d0-428a-b661-e796e1bf094e",
   "metadata": {},
   "outputs": [
    {
     "data": {
      "text/plain": [
       "[('Alice', 'Mike')]"
      ]
     },
     "execution_count": 53,
     "metadata": {},
     "output_type": "execute_result"
    }
   ],
   "source": [
    ">>> # Retrieve only edges of type \"Friendship\"\n",
    ">>> G.get_node_edges(\"Alice\", \"Person\", \"Friendship\")"
   ]
  },
  {
   "cell_type": "code",
   "execution_count": 54,
   "id": "c9177a57-2943-48d4-8d85-520de1bfb7e6",
   "metadata": {},
   "outputs": [
    {
     "data": {
      "text/plain": [
       "[('Alice', 'Mike')]"
      ]
     },
     "execution_count": 54,
     "metadata": {},
     "output_type": "execute_result"
    }
   ],
   "source": [
    ">>> # Retrieve edges of multiple specified types.\n",
    ">>> G.get_node_edges(\"Alice\", \"Person\", [\"Friendship\", \"Friendship\"]) "
   ]
  },
  {
   "cell_type": "code",
   "execution_count": 55,
   "id": "3a0bedae-3523-4a41-ad12-e896a327e13e",
   "metadata": {},
   "outputs": [
    {
     "data": {
      "text/plain": [
       "True"
      ]
     },
     "execution_count": 55,
     "metadata": {},
     "output_type": "execute_result"
    }
   ],
   "source": [
    ">>> G.clear()"
   ]
  },
  {
   "cell_type": "markdown",
   "id": "d79c1725-e209-4fac-9dc0-29003cf5ab7a",
   "metadata": {},
   "source": [
    "### clear"
   ]
  },
  {
   "cell_type": "code",
   "execution_count": 56,
   "id": "d3960987-ac53-4cf0-8bed-956101cc5ca3",
   "metadata": {},
   "outputs": [
    {
     "data": {
      "text/plain": [
       "2"
      ]
     },
     "execution_count": 56,
     "metadata": {},
     "output_type": "execute_result"
    }
   ],
   "source": [
    ">>> G = Graph.from_db(\"Social\")\n",
    ">>> nodes_for_adding = [\n",
    "...    (\"Alice\", {\"age\": 30, \"gender\": \"Female\"}),\n",
    "...    (\"Mike\", {\"age\": 29}),\n",
    "... ]\n",
    ">>> G.add_nodes_from(nodes_for_adding, \"Person\")"
   ]
  },
  {
   "cell_type": "code",
   "execution_count": 57,
   "id": "a6890260-fc5e-407a-b43e-88bec62d2966",
   "metadata": {},
   "outputs": [
    {
     "data": {
      "text/plain": [
       "2"
      ]
     },
     "execution_count": 57,
     "metadata": {},
     "output_type": "execute_result"
    }
   ],
   "source": [
    ">>> len(G.nodes)"
   ]
  },
  {
   "cell_type": "code",
   "execution_count": 58,
   "id": "424c9080-1c93-4466-aa6f-46c33c284363",
   "metadata": {},
   "outputs": [
    {
     "data": {
      "text/plain": [
       "True"
      ]
     },
     "execution_count": 58,
     "metadata": {},
     "output_type": "execute_result"
    }
   ],
   "source": [
    ">>> G.clear()"
   ]
  },
  {
   "cell_type": "code",
   "execution_count": 59,
   "id": "1b9b4b97-23a1-481d-9d4d-dd1f9834c87f",
   "metadata": {},
   "outputs": [
    {
     "data": {
      "text/plain": [
       "0"
      ]
     },
     "execution_count": 59,
     "metadata": {},
     "output_type": "execute_result"
    }
   ],
   "source": [
    ">>> len(G.nodes)"
   ]
  },
  {
   "cell_type": "markdown",
   "id": "fdadf71b-db5b-48f0-b7f2-07c220341e0d",
   "metadata": {},
   "source": [
    "---\n",
    "\n",
    "## Edge Operations\n",
    "### add_edge\n",
    "Single Node Type Example:"
   ]
  },
  {
   "cell_type": "code",
   "execution_count": 60,
   "id": "a01026bd-499a-4560-b610-ba75de00293a",
   "metadata": {},
   "outputs": [
    {
     "data": {
      "text/plain": [
       "2"
      ]
     },
     "execution_count": 60,
     "metadata": {},
     "output_type": "execute_result"
    }
   ],
   "source": [
    ">>> G = Graph.from_db(\"Social\")\n",
    ">>> nodes_for_adding = [\n",
    "...    (\"Alice\", {\"age\": 30, \"gender\": \"Female\"}),\n",
    "...    (\"Mike\", {\"age\": 29}),\n",
    "... ]\n",
    ">>> G.add_nodes_from(nodes_for_adding)"
   ]
  },
  {
   "cell_type": "code",
   "execution_count": 61,
   "id": "cb402a71-071e-4186-ac17-f59590771f84",
   "metadata": {},
   "outputs": [
    {
     "data": {
      "text/plain": [
       "True"
      ]
     },
     "execution_count": 61,
     "metadata": {},
     "output_type": "execute_result"
    }
   ],
   "source": [
    ">>> G.add_edge(\"Alice\", \"Mike\", closeness=2.5)\n",
    ">>> G.has_edge(\"Alice\", \"Mike\")"
   ]
  },
  {
   "cell_type": "code",
   "execution_count": 62,
   "id": "0564b939-6d37-4f17-a27c-4bee8b989d41",
   "metadata": {},
   "outputs": [
    {
     "data": {
      "text/plain": [
       "True"
      ]
     },
     "execution_count": 62,
     "metadata": {},
     "output_type": "execute_result"
    }
   ],
   "source": [
    ">>> G.clear()"
   ]
  },
  {
   "cell_type": "markdown",
   "id": "24c94d8d-e803-414b-8327-f8104caf51ec",
   "metadata": {},
   "source": [
    "Multiple Node Types Example:"
   ]
  },
  {
   "cell_type": "code",
   "execution_count": 63,
   "id": "a66c1b4f-6841-4fdf-a5c4-cb9224cd159b",
   "metadata": {},
   "outputs": [
    {
     "data": {
      "text/plain": [
       "2"
      ]
     },
     "execution_count": 63,
     "metadata": {},
     "output_type": "execute_result"
    }
   ],
   "source": [
    ">>> G = Graph.from_db(\"Social\")\n",
    ">>> nodes_for_adding = [\n",
    "...    (\"Alice\", {\"age\": 30, \"gender\": \"Female\"}),\n",
    "...    (\"Mike\", {\"age\": 29}),\n",
    "... ]\n",
    ">>> G.add_nodes_from(nodes_for_adding, \"Person\")"
   ]
  },
  {
   "cell_type": "code",
   "execution_count": 64,
   "id": "c86e93b3-578b-42bf-b02e-8efad82435ba",
   "metadata": {},
   "outputs": [
    {
     "data": {
      "text/plain": [
       "True"
      ]
     },
     "execution_count": 64,
     "metadata": {},
     "output_type": "execute_result"
    }
   ],
   "source": [
    ">>> G.add_edge(\"Alice\", \"Mike\", \"Person\", \"Friendship\", \"Person\", closeness=2.5)\n",
    ">>> G.has_edge(\"Alice\", \"Mike\", \"Person\", \"Friendship\", \"Person\")"
   ]
  },
  {
   "cell_type": "code",
   "execution_count": 65,
   "id": "d9b07b08-01e0-41dd-8764-e81becc93d94",
   "metadata": {},
   "outputs": [
    {
     "data": {
      "text/plain": [
       "True"
      ]
     },
     "execution_count": 65,
     "metadata": {},
     "output_type": "execute_result"
    }
   ],
   "source": [
    ">>> G.clear()"
   ]
  },
  {
   "cell_type": "markdown",
   "id": "d9335181-6a7c-4b52-b0f4-20620f1d637b",
   "metadata": {},
   "source": [
    "### add_edges_from\n",
    "Single Node Type Example:"
   ]
  },
  {
   "cell_type": "code",
   "execution_count": 66,
   "id": "342141b8-76dc-4ab8-9ba0-d5ea70a44287",
   "metadata": {},
   "outputs": [
    {
     "data": {
      "text/plain": [
       "2"
      ]
     },
     "execution_count": 66,
     "metadata": {},
     "output_type": "execute_result"
    }
   ],
   "source": [
    ">>> G = Graph.from_db(\"Social\")\n",
    ">>> nodes_for_adding = [\n",
    "...    (\"Alice\", {\"age\": 30, \"gender\": \"Female\"}),\n",
    "...    (\"Mike\", {\"age\": 29}),\n",
    "... ]\n",
    ">>> G.add_nodes_from(nodes_for_adding)"
   ]
  },
  {
   "cell_type": "code",
   "execution_count": 67,
   "id": "d6ec8bd7-5791-4e69-b570-e630dface5ae",
   "metadata": {},
   "outputs": [
    {
     "data": {
      "text/plain": [
       "2"
      ]
     },
     "execution_count": 67,
     "metadata": {},
     "output_type": "execute_result"
    }
   ],
   "source": [
    ">>> # Add edges using a list of (source ID, target ID) tuples, without attributes\n",
    ">>> G.add_edges_from([(\"Alice\", \"Mike\"), (\"Alice\", \"John\")])"
   ]
  },
  {
   "cell_type": "code",
   "execution_count": 68,
   "id": "c790e291-5485-43c9-9dff-dd5e75140736",
   "metadata": {},
   "outputs": [
    {
     "data": {
      "text/plain": [
       "2"
      ]
     },
     "execution_count": 68,
     "metadata": {},
     "output_type": "execute_result"
    }
   ],
   "source": [
    ">>> # Add edges with individual attributes using (source ID, target ID, attribute_dict) tuples\n",
    ">>> ebunch_to_add = [\n",
    "...    (\"Alice\", \"Mike\"),\n",
    "...    (\"Alice\", \"John\", {\"closeness\": 2.5}),\n",
    "... ]\n",
    ">>> G.add_edges_from(ebunch_to_add)"
   ]
  },
  {
   "cell_type": "code",
   "execution_count": 69,
   "id": "d2bcbc6f-b118-4be3-a557-80e0eb25389d",
   "metadata": {},
   "outputs": [
    {
     "data": {
      "text/plain": [
       "2"
      ]
     },
     "execution_count": 69,
     "metadata": {},
     "output_type": "execute_result"
    }
   ],
   "source": [
    ">>> # Add edges with shared attributes applied to all listed edges\n",
    ">>> G.add_edges_from([(\"Alice\", \"Mike\"), (\"Alice\", \"John\")], closeness=2.5)"
   ]
  },
  {
   "cell_type": "code",
   "execution_count": 70,
   "id": "e1ee028c-28fe-4af2-b43e-0939d0fd438e",
   "metadata": {},
   "outputs": [
    {
     "data": {
      "text/plain": [
       "True"
      ]
     },
     "execution_count": 70,
     "metadata": {},
     "output_type": "execute_result"
    }
   ],
   "source": [
    ">>> G.clear()"
   ]
  },
  {
   "cell_type": "markdown",
   "id": "92e21e37-e1b7-4e26-816a-c47960a3a4db",
   "metadata": {},
   "source": [
    "Multiple Node Types Example:"
   ]
  },
  {
   "cell_type": "code",
   "execution_count": 71,
   "id": "a4b7d42c-41fe-4571-a427-21d825ae9f38",
   "metadata": {},
   "outputs": [
    {
     "data": {
      "text/plain": [
       "2"
      ]
     },
     "execution_count": 71,
     "metadata": {},
     "output_type": "execute_result"
    }
   ],
   "source": [
    ">>> G = Graph.from_db(\"Social\")\n",
    ">>> nodes_for_adding = [\n",
    "...    (\"Alice\", {\"age\": 30, \"gender\": \"Female\"}),\n",
    "...    (\"Mike\", {\"age\": 29}),\n",
    "... ]\n",
    ">>> G.add_nodes_from(nodes_for_adding, \"Person\")"
   ]
  },
  {
   "cell_type": "code",
   "execution_count": 72,
   "id": "0be3eb73-18c0-47f4-a67d-27571946a3e9",
   "metadata": {},
   "outputs": [
    {
     "data": {
      "text/plain": [
       "1"
      ]
     },
     "execution_count": 72,
     "metadata": {},
     "output_type": "execute_result"
    }
   ],
   "source": [
    ">>> G.add_edges_from([(\"Alice\", \"Mike\")], \"Person\", \"Friendship\", \"Person\")"
   ]
  },
  {
   "cell_type": "code",
   "execution_count": 73,
   "id": "c73730bb-1894-48b0-9fde-fbc0d8f9f105",
   "metadata": {},
   "outputs": [
    {
     "data": {
      "text/plain": [
       "True"
      ]
     },
     "execution_count": 73,
     "metadata": {},
     "output_type": "execute_result"
    }
   ],
   "source": [
    ">>> G.clear()"
   ]
  },
  {
   "cell_type": "markdown",
   "id": "43a30e83-11e4-4bd8-8922-1a931f1803a3",
   "metadata": {},
   "source": [
    "### has_edge\n",
    "Single Node Type Example:"
   ]
  },
  {
   "cell_type": "code",
   "execution_count": 74,
   "id": "87895b61-743e-46ed-a0d0-9d85dc3d3f97",
   "metadata": {},
   "outputs": [
    {
     "data": {
      "text/plain": [
       "2"
      ]
     },
     "execution_count": 74,
     "metadata": {},
     "output_type": "execute_result"
    }
   ],
   "source": [
    ">>> G = Graph.from_db(\"Social\")\n",
    ">>> nodes_for_adding = [\n",
    "...    (\"Alice\", {\"age\": 30, \"gender\": \"Female\"}),\n",
    "...    (\"Mike\", {\"age\": 29}),\n",
    "... ]\n",
    ">>> G.add_nodes_from(nodes_for_adding)"
   ]
  },
  {
   "cell_type": "code",
   "execution_count": 75,
   "id": "100e409f-5ae4-4dba-8cb3-59470af9f2bc",
   "metadata": {},
   "outputs": [
    {
     "data": {
      "text/plain": [
       "True"
      ]
     },
     "execution_count": 75,
     "metadata": {},
     "output_type": "execute_result"
    }
   ],
   "source": [
    ">>> G.add_edge(\"Alice\", \"Mike\")\n",
    ">>> G.has_edge(\"Alice\", \"Mike\")"
   ]
  },
  {
   "cell_type": "code",
   "execution_count": 76,
   "id": "6904a374-a7a6-4444-b4a9-70ded5df1cc0",
   "metadata": {},
   "outputs": [
    {
     "data": {
      "text/plain": [
       "True"
      ]
     },
     "execution_count": 76,
     "metadata": {},
     "output_type": "execute_result"
    }
   ],
   "source": [
    ">>> G.clear()"
   ]
  },
  {
   "cell_type": "markdown",
   "id": "b4c9548a-174c-4f4d-9d6a-1d05bd704dc2",
   "metadata": {},
   "source": [
    "Multiple Node Types Example:"
   ]
  },
  {
   "cell_type": "code",
   "execution_count": 77,
   "id": "1e4ef85a-b51d-46f5-a79e-087c31d4be1c",
   "metadata": {},
   "outputs": [
    {
     "data": {
      "text/plain": [
       "2"
      ]
     },
     "execution_count": 77,
     "metadata": {},
     "output_type": "execute_result"
    }
   ],
   "source": [
    ">>> G = Graph.from_db(\"Social\")\n",
    ">>> nodes_for_adding = [\n",
    "...    (\"Alice\", {\"age\": 30, \"gender\": \"Female\"}),\n",
    "...    (\"Mike\", {\"age\": 29}),\n",
    "... ]\n",
    ">>> G.add_nodes_from(nodes_for_adding, \"Person\")"
   ]
  },
  {
   "cell_type": "code",
   "execution_count": 78,
   "id": "b52427f9-6f44-44ee-8e22-098724ce808c",
   "metadata": {},
   "outputs": [
    {
     "data": {
      "text/plain": [
       "True"
      ]
     },
     "execution_count": 78,
     "metadata": {},
     "output_type": "execute_result"
    }
   ],
   "source": [
    ">>> G.add_edge(\"Alice\", \"Mike\", \"Person\", \"Friendship\", \"Person\")\n",
    ">>> G.has_edge(\"Alice\", \"Mike\", \"Person\", \"Friendship\", \"Person\")"
   ]
  },
  {
   "cell_type": "code",
   "execution_count": 79,
   "id": "3e663b0f-8c2c-4ebf-85b4-e65ea09f8ae4",
   "metadata": {},
   "outputs": [
    {
     "data": {
      "text/plain": [
       "True"
      ]
     },
     "execution_count": 79,
     "metadata": {},
     "output_type": "execute_result"
    }
   ],
   "source": [
    ">>> G.clear()"
   ]
  },
  {
   "cell_type": "markdown",
   "id": "7b88c715-876c-42cc-9488-2d01f5f3ca42",
   "metadata": {},
   "source": [
    "### get_edge_data\n",
    "Single Node Type Example:"
   ]
  },
  {
   "cell_type": "code",
   "execution_count": 80,
   "id": "6cc7a190-26c8-425a-ad25-a55c33356107",
   "metadata": {},
   "outputs": [
    {
     "data": {
      "text/plain": [
       "2"
      ]
     },
     "execution_count": 80,
     "metadata": {},
     "output_type": "execute_result"
    }
   ],
   "source": [
    ">>> G = Graph.from_db(\"Social\")\n",
    ">>> nodes_for_adding = [\n",
    "...    (\"Alice\", {\"age\": 30, \"gender\": \"Female\"}),\n",
    "...    (\"Mike\", {\"age\": 29}),\n",
    "... ]\n",
    ">>> G.add_nodes_from(nodes_for_adding)"
   ]
  },
  {
   "cell_type": "code",
   "execution_count": 81,
   "id": "5a41a1c5-2a5d-4e1c-804a-c8259b4708c3",
   "metadata": {},
   "outputs": [
    {
     "data": {
      "text/plain": [
       "{'closeness': 2.5}"
      ]
     },
     "execution_count": 81,
     "metadata": {},
     "output_type": "execute_result"
    }
   ],
   "source": [
    ">>> G.add_edge(\"Alice\", \"Mike\", closeness=2.5)\n",
    ">>> G.get_edge_data(\"Alice\", \"Mike\")"
   ]
  },
  {
   "cell_type": "code",
   "execution_count": 82,
   "id": "20d0e17b-9025-4df5-8a7a-2c07dcd01bb9",
   "metadata": {},
   "outputs": [
    {
     "data": {
      "text/plain": [
       "True"
      ]
     },
     "execution_count": 82,
     "metadata": {},
     "output_type": "execute_result"
    }
   ],
   "source": [
    ">>> G.clear()"
   ]
  },
  {
   "cell_type": "markdown",
   "id": "afec1631-2bc8-4165-a378-df59fbb7e6d0",
   "metadata": {},
   "source": [
    "Multiple Node Types Example:"
   ]
  },
  {
   "cell_type": "code",
   "execution_count": 83,
   "id": "c9d525c2-a84a-437a-b9c9-a9b5c96536ab",
   "metadata": {},
   "outputs": [
    {
     "data": {
      "text/plain": [
       "2"
      ]
     },
     "execution_count": 83,
     "metadata": {},
     "output_type": "execute_result"
    }
   ],
   "source": [
    ">>> G = Graph.from_db(\"Social\")\n",
    ">>> nodes_for_adding = [\n",
    "...    (\"Alice\", {\"age\": 30, \"gender\": \"Female\"}),\n",
    "...    (\"Mike\", {\"age\": 29}),\n",
    "... ]\n",
    ">>> G.add_nodes_from(nodes_for_adding, \"Person\")"
   ]
  },
  {
   "cell_type": "code",
   "execution_count": 84,
   "id": "67564939-ff37-46f8-a147-5b537c7febea",
   "metadata": {},
   "outputs": [
    {
     "data": {
      "text/plain": [
       "{'closeness': 2.5}"
      ]
     },
     "execution_count": 84,
     "metadata": {},
     "output_type": "execute_result"
    }
   ],
   "source": [
    ">>> G.add_edge(\"Alice\", \"Mike\", \"Person\", \"Friendship\", \"Person\", closeness=2.5)\n",
    ">>> G.get_edge_data(\"Alice\", \"Mike\", \"Person\", \"Friendship\", \"Person\")"
   ]
  },
  {
   "cell_type": "code",
   "execution_count": 85,
   "id": "b27cd5c1-cd3d-455b-a7c4-586a7f32a8ee",
   "metadata": {},
   "outputs": [
    {
     "data": {
      "text/plain": [
       "True"
      ]
     },
     "execution_count": 85,
     "metadata": {},
     "output_type": "execute_result"
    }
   ],
   "source": [
    ">>> G.clear()"
   ]
  },
  {
   "cell_type": "markdown",
   "id": "2d10bd53-34a2-42b8-9ca4-bc82c09a6c07",
   "metadata": {},
   "source": [
    "---\n",
    "\n",
    "## Statistics Operations\n",
    "### degree\n",
    "Single Node Type Example:"
   ]
  },
  {
   "cell_type": "code",
   "execution_count": 86,
   "id": "603f9e67-2237-457b-994d-4e2ec92d86ee",
   "metadata": {},
   "outputs": [
    {
     "data": {
      "text/plain": [
       "2"
      ]
     },
     "execution_count": 86,
     "metadata": {},
     "output_type": "execute_result"
    }
   ],
   "source": [
    ">>> G = Graph.from_db(\"Social\")\n",
    ">>> nodes_for_adding = [\n",
    "...    (\"Alice\", {\"age\": 30, \"gender\": \"Female\"}),\n",
    "...    (\"Mike\", {\"age\": 29}),\n",
    "... ]\n",
    ">>> G.add_nodes_from(nodes_for_adding)"
   ]
  },
  {
   "cell_type": "code",
   "execution_count": 87,
   "id": "ac5014d9-9803-4742-842c-3d9d1c6ded4d",
   "metadata": {},
   "outputs": [
    {
     "data": {
      "text/plain": [
       "1"
      ]
     },
     "execution_count": 87,
     "metadata": {},
     "output_type": "execute_result"
    }
   ],
   "source": [
    ">>> G.add_edges_from([(\"Alice\", \"Mike\")])"
   ]
  },
  {
   "cell_type": "code",
   "execution_count": 88,
   "id": "de4c187c-ca45-4f22-ba23-63650a93223a",
   "metadata": {},
   "outputs": [
    {
     "data": {
      "text/plain": [
       "1"
      ]
     },
     "execution_count": 88,
     "metadata": {},
     "output_type": "execute_result"
    }
   ],
   "source": [
    ">>> G.degree(\"Alice\")"
   ]
  },
  {
   "cell_type": "code",
   "execution_count": 89,
   "id": "1edd8cce-42f2-42cc-88d1-228c3c5b9251",
   "metadata": {},
   "outputs": [
    {
     "data": {
      "text/plain": [
       "True"
      ]
     },
     "execution_count": 89,
     "metadata": {},
     "output_type": "execute_result"
    }
   ],
   "source": [
    ">>> G.clear()"
   ]
  },
  {
   "cell_type": "markdown",
   "id": "a2a088f0-971c-4ec4-8603-d60619d56bc2",
   "metadata": {},
   "source": [
    "Multiple Node Types Example:"
   ]
  },
  {
   "cell_type": "code",
   "execution_count": 94,
   "id": "a8679569-2891-478c-887c-99eccd2fafcf",
   "metadata": {},
   "outputs": [
    {
     "data": {
      "text/plain": [
       "1"
      ]
     },
     "execution_count": 94,
     "metadata": {},
     "output_type": "execute_result"
    }
   ],
   "source": [
    ">>> G = Graph.from_db(\"Social\")\n",
    ">>> G.add_edges_from([(\"Alice\", \"Mike\")], \"Person\", \"Friendship\", \"Person\")"
   ]
  },
  {
   "cell_type": "code",
   "execution_count": 95,
   "id": "f9d2b45a-78b2-4c7d-831b-a6cbbbbc7521",
   "metadata": {},
   "outputs": [
    {
     "data": {
      "text/plain": [
       "1"
      ]
     },
     "execution_count": 95,
     "metadata": {},
     "output_type": "execute_result"
    }
   ],
   "source": [
    ">>> # Get the degree of node Alice for all edge types\n",
    ">>> G.degree(\"Alice\", \"Person\")"
   ]
  },
  {
   "cell_type": "code",
   "execution_count": 96,
   "id": "62ca93d8-4f80-4933-be3e-5e44c1d0e466",
   "metadata": {},
   "outputs": [
    {
     "data": {
      "text/plain": [
       "1"
      ]
     },
     "execution_count": 96,
     "metadata": {},
     "output_type": "execute_result"
    }
   ],
   "source": [
    ">>> # Get the degree of node Alice for a single edge type\n",
    ">>> G.degree(\"Alice\", \"Person\", \"Friendship\")"
   ]
  },
  {
   "cell_type": "code",
   "execution_count": 97,
   "id": "513a6b74-3a02-4217-b063-c7496ad51cb4",
   "metadata": {},
   "outputs": [
    {
     "data": {
      "text/plain": [
       "1"
      ]
     },
     "execution_count": 97,
     "metadata": {},
     "output_type": "execute_result"
    }
   ],
   "source": [
    ">>> # Get the degree of node Alice for multiple specified edge types.\n",
    ">>> G.degree(\"Alice\", \"Person\", [\"Friendship\", \"Friendship\"])"
   ]
  },
  {
   "cell_type": "code",
   "execution_count": 98,
   "id": "222157b1-3319-4903-a5e5-09d64f9acaf3",
   "metadata": {},
   "outputs": [
    {
     "data": {
      "text/plain": [
       "True"
      ]
     },
     "execution_count": 98,
     "metadata": {},
     "output_type": "execute_result"
    }
   ],
   "source": [
    ">>> G.clear()"
   ]
  },
  {
   "cell_type": "markdown",
   "id": "9a340e2c-e5ba-4419-8682-0844bbe74786",
   "metadata": {},
   "source": [
    "### number_of_nodes"
   ]
  },
  {
   "cell_type": "code",
   "execution_count": 99,
   "id": "0e1847d7-2905-4f27-b311-e17b6ba459ab",
   "metadata": {},
   "outputs": [
    {
     "data": {
      "text/plain": [
       "2"
      ]
     },
     "execution_count": 99,
     "metadata": {},
     "output_type": "execute_result"
    }
   ],
   "source": [
    ">>> G = Graph.from_db(\"Social\")\n",
    ">>> nodes_for_adding = [\n",
    "...    (\"Alice\", {\"age\": 30, \"gender\": \"Female\"}),\n",
    "...    (\"Mike\", {\"age\": 29}),\n",
    "... ]\n",
    ">>> G.add_nodes_from(nodes_for_adding, \"Person\")"
   ]
  },
  {
   "cell_type": "code",
   "execution_count": 100,
   "id": "cb566f52-f54d-46a6-8329-9bac012bf23d",
   "metadata": {},
   "outputs": [
    {
     "data": {
      "text/plain": [
       "2"
      ]
     },
     "execution_count": 100,
     "metadata": {},
     "output_type": "execute_result"
    }
   ],
   "source": [
    ">>> # Get the total number of edges in the graph\n",
    ">>> G.number_of_nodes()"
   ]
  },
  {
   "cell_type": "code",
   "execution_count": 101,
   "id": "e10cdd58-00ec-4786-b0bb-33b4457fd78b",
   "metadata": {},
   "outputs": [
    {
     "data": {
      "text/plain": [
       "2"
      ]
     },
     "execution_count": 101,
     "metadata": {},
     "output_type": "execute_result"
    }
   ],
   "source": [
    ">>> # Get the number of edges of type \"Friendship\"\n",
    ">>> G.number_of_nodes(\"Person\")"
   ]
  },
  {
   "cell_type": "code",
   "execution_count": 102,
   "id": "8a3b87d5-a8f2-4da7-9343-78e37196d2af",
   "metadata": {},
   "outputs": [
    {
     "data": {
      "text/plain": [
       "True"
      ]
     },
     "execution_count": 102,
     "metadata": {},
     "output_type": "execute_result"
    }
   ],
   "source": [
    ">>> G.clear()"
   ]
  },
  {
   "cell_type": "markdown",
   "id": "90ba8b1d-4b23-4b84-9892-136beb332bfd",
   "metadata": {},
   "source": [
    "### number_of_edges"
   ]
  },
  {
   "cell_type": "code",
   "execution_count": 103,
   "id": "abdf1f70-fc50-4251-b051-67476f49cf66",
   "metadata": {},
   "outputs": [
    {
     "data": {
      "text/plain": [
       "2"
      ]
     },
     "execution_count": 103,
     "metadata": {},
     "output_type": "execute_result"
    }
   ],
   "source": [
    ">>> G = Graph.from_db(\"Social\")\n",
    ">>> ebunch_to_add = [\n",
    "...    (\"Alice\", \"Mike\"),\n",
    "...    (\"Alice\", \"John\", {\"closeness\": 2.5}),\n",
    "... ]\n",
    ">>> G.add_edges_from(ebunch_to_add)"
   ]
  },
  {
   "cell_type": "code",
   "execution_count": 104,
   "id": "8620554f-db24-4b6c-b295-25b767360604",
   "metadata": {},
   "outputs": [
    {
     "data": {
      "text/plain": [
       "2"
      ]
     },
     "execution_count": 104,
     "metadata": {},
     "output_type": "execute_result"
    }
   ],
   "source": [
    ">>> # Get the total number of edges in the graph\n",
    ">>> G.number_of_edges()"
   ]
  },
  {
   "cell_type": "code",
   "execution_count": 105,
   "id": "169e16c4-a0db-41d8-94de-552234aa29a7",
   "metadata": {},
   "outputs": [
    {
     "data": {
      "text/plain": [
       "2"
      ]
     },
     "execution_count": 105,
     "metadata": {},
     "output_type": "execute_result"
    }
   ],
   "source": [
    ">>> # Get the number of edges of type \"Friendship\"\n",
    ">>> G.number_of_edges(\"Friendship\")"
   ]
  },
  {
   "cell_type": "code",
   "execution_count": 106,
   "id": "2d8ccd41-00f0-4443-8ef2-f2169e65939a",
   "metadata": {},
   "outputs": [
    {
     "data": {
      "text/plain": [
       "True"
      ]
     },
     "execution_count": 106,
     "metadata": {},
     "output_type": "execute_result"
    }
   ],
   "source": [
    ">>> G.clear()"
   ]
  },
  {
   "cell_type": "markdown",
   "id": "91f0a5f0-d73d-4591-afac-ba8d3cc5348f",
   "metadata": {},
   "source": [
    "---\n",
    "\n",
    "## Query Operations"
   ]
  },
  {
   "cell_type": "code",
   "execution_count": 107,
   "id": "eb3aa34c-18a9-4465-a2ee-701e24307412",
   "metadata": {},
   "outputs": [
    {
     "data": {
      "text/plain": [
       "3"
      ]
     },
     "execution_count": 107,
     "metadata": {},
     "output_type": "execute_result"
    }
   ],
   "source": [
    ">>> G = Graph.from_db(\"Social\")\n",
    ">>> nodes_for_adding = [\n",
    "...    (\"Alice\", {\"age\": 30, \"gender\": \"Female\"}),\n",
    "...    (\"Mike\", {\"age\": 29, \"gender\": \"Male\"}),\n",
    "...    (\"Emily\", {\"age\": 28, \"gender\": \"Female\"}),\n",
    "... ]\n",
    ">>> G.add_nodes_from(nodes_for_adding, \"Person\")"
   ]
  },
  {
   "cell_type": "code",
   "execution_count": 108,
   "id": "08121291-1812-419d-962a-1f794b4a4494",
   "metadata": {},
   "outputs": [
    {
     "name": "stdout",
     "output_type": "stream",
     "text": [
      "    v_id  v_type  gender   name  age\n",
      "0   Mike  Person    Male   Mike   29\n",
      "1  Alice  Person  Female  Alice   30\n",
      "2  Emily  Person  Female  Emily   28\n"
     ]
    }
   ],
   "source": [
    ">>> # Get all nodes of type \"Person\"\n",
    ">>> df = G.get_nodes(\"Person\")\n",
    ">>> print(df)"
   ]
  },
  {
   "cell_type": "code",
   "execution_count": 109,
   "id": "2eb7ad33-57c2-43e9-a106-6a565a45dbf6",
   "metadata": {},
   "outputs": [
    {
     "name": "stdout",
     "output_type": "stream",
     "text": [
      "    v_id  v_type  gender   name  age\n",
      "0  Emily  Person  Female  Emily   28\n",
      "1   Mike  Person    Male   Mike   29\n",
      "2  Alice  Person  Female  Alice   30\n"
     ]
    }
   ],
   "source": [
    ">>> # Get all nodes of all types\n",
    ">>> df = G.get_nodes(all_node_types=True)\n",
    ">>> print(df)"
   ]
  },
  {
   "cell_type": "code",
   "execution_count": 110,
   "id": "bd53cc75-ad19-452f-8bb3-eef39c8c3cbe",
   "metadata": {},
   "outputs": [
    {
     "name": "stdout",
     "output_type": "stream",
     "text": [
      "    v_id  v_type  gender   name  age\n",
      "0   Mike  Person    Male   Mike   29\n",
      "1  Alice  Person  Female  Alice   30\n"
     ]
    }
   ],
   "source": [
    ">>> # Retrieve nodes with a filter expression\n",
    ">>> df = G.get_nodes(\n",
    "...     node_type=\"Person\",\n",
    "...     node_alias=\"s\", # \"s\" is the default value, so you can remove this line\n",
    "...     filter_expression=\"s.age >= 29\",\n",
    "... )\n",
    ">>> print(df)"
   ]
  },
  {
   "cell_type": "code",
   "execution_count": 111,
   "id": "3a427afd-4620-49a0-96dc-f0ec99c37296",
   "metadata": {},
   "outputs": [
    {
     "name": "stdout",
     "output_type": "stream",
     "text": [
      "    v_id  v_type  gender   name  age\n",
      "0  Alice  Person  Female  Alice   30\n"
     ]
    }
   ],
   "source": [
    ">>> # Retrieve women aged 29 or older\n",
    ">>> df = G.get_nodes(node_type=\"Person\", filter_expression='s.age >= 29 and s.gender == \"Female\"')\n",
    ">>> print(df)"
   ]
  },
  {
   "cell_type": "code",
   "execution_count": 112,
   "id": "287e36d3-cad7-4cbd-94f1-aec495c6c48b",
   "metadata": {},
   "outputs": [
    {
     "name": "stdout",
     "output_type": "stream",
     "text": [
      "    name  gender\n",
      "0  Alice  Female\n",
      "1  Emily  Female\n",
      "2   Mike    Male\n"
     ]
    }
   ],
   "source": [
    ">>> # Retrieve only specific attributes\n",
    ">>> df = G.get_nodes(\n",
    "...     node_type=\"Person\",\n",
    "...     return_attributes=[\"name\", \"gender\"],\n",
    "... )\n",
    ">>> print(df)"
   ]
  },
  {
   "cell_type": "code",
   "execution_count": 113,
   "id": "05f18805-dc50-4b18-a52a-37b3c309d0b5",
   "metadata": {},
   "outputs": [
    {
     "name": "stdout",
     "output_type": "stream",
     "text": [
      "    v_id  v_type  gender   name  age\n",
      "0  Emily  Person  Female  Emily   28\n"
     ]
    }
   ],
   "source": [
    ">>> # Limit the number of nodes returned\n",
    ">>> df = G.get_nodes(\n",
    "...     node_type=\"Person\",\n",
    "...     limit=1,\n",
    "... )\n",
    ">>> print(df)"
   ]
  },
  {
   "cell_type": "code",
   "execution_count": 114,
   "id": "7e8a3711-3a8d-4061-bb0a-739296f143ba",
   "metadata": {},
   "outputs": [
    {
     "name": "stdout",
     "output_type": "stream",
     "text": [
      "   name  age\n",
      "0  Mike   29\n"
     ]
    }
   ],
   "source": [
    ">>> # Retrieve \"Person\" nodes with a specific filter expression,\n",
    ">>> # use a custom alias, request only selected attributes, and limit the results.\n",
    ">>> df = G.get_nodes(\n",
    "...     node_type=\"Person\",\n",
    "...     filter_expression=\"s.age >= 29\",\n",
    "...     return_attributes=[\"name\", \"age\"],\n",
    "...     limit=1\n",
    "... )\n",
    ">>> print(df)"
   ]
  },
  {
   "cell_type": "code",
   "execution_count": 115,
   "id": "e59d6fbb-b43b-4371-bd69-a251367b05a8",
   "metadata": {},
   "outputs": [
    {
     "data": {
      "text/plain": [
       "True"
      ]
     },
     "execution_count": 115,
     "metadata": {},
     "output_type": "execute_result"
    }
   ],
   "source": [
    ">>> G.clear()"
   ]
  },
  {
   "cell_type": "markdown",
   "id": "a81299b9-07d5-43e7-a7e3-230555656253",
   "metadata": {},
   "source": [
    "### get_neighbors"
   ]
  },
  {
   "cell_type": "code",
   "execution_count": 116,
   "id": "a8314c8b-a21a-4de0-83d9-933ec1b7167d",
   "metadata": {},
   "outputs": [
    {
     "data": {
      "text/plain": [
       "5"
      ]
     },
     "execution_count": 116,
     "metadata": {},
     "output_type": "execute_result"
    }
   ],
   "source": [
    ">>> G = Graph.from_db(\"Social\")\n",
    ">>> nodes_for_adding = [\n",
    "...    (\"Alice\", {\"age\": 30, \"gender\": \"Female\"}),\n",
    "...    (\"Mike\", {\"age\": 29, \"gender\": \"Male\"}),\n",
    "...    (\"Emily\", {\"age\": 28, \"gender\": \"Female\"}),\n",
    "...    (\"John\", {\"age\": 27, \"gender\": \"Male\"}),\n",
    "...    (\"Mary\", {\"age\": 28, \"gender\": \"Female\"}),\n",
    "... ]\n",
    ">>> G.add_nodes_from(nodes_for_adding, \"Person\")"
   ]
  },
  {
   "cell_type": "code",
   "execution_count": 117,
   "id": "4530a6f8-b2d5-442f-8a87-841e142c2287",
   "metadata": {},
   "outputs": [
    {
     "data": {
      "text/plain": [
       "4"
      ]
     },
     "execution_count": 117,
     "metadata": {},
     "output_type": "execute_result"
    }
   ],
   "source": [
    ">>> ebunch_to_add = [\n",
    "...    (\"Alice\", \"Mike\", {\"closeness\": 1.5}),\n",
    "...    (\"Alice\", \"John\", {\"closeness\": 2.5}),\n",
    "...    (\"John\", \"Emily\", {\"closeness\": 3.5}),\n",
    "...    (\"Emily\", \"Mary\", {\"closeness\": 3.5}),\n",
    "... ]\n",
    ">>> G.add_edges_from(ebunch_to_add)"
   ]
  },
  {
   "cell_type": "code",
   "execution_count": 118,
   "id": "0750230a-df2b-41ec-a732-795cef4bd2a8",
   "metadata": {},
   "outputs": [
    {
     "name": "stdout",
     "output_type": "stream",
     "text": [
      "  gender  name  age\n",
      "0   Male  John   27\n",
      "1   Male  Mike   29\n"
     ]
    }
   ],
   "source": [
    ">>> # Get neighbors of Alice\n",
    ">>> df = G.get_neighbors(start_nodes=\"Alice\", start_node_type=\"Person\")\n",
    ">>> print(df)"
   ]
  },
  {
   "cell_type": "code",
   "execution_count": 119,
   "id": "dfb301c9-a6cf-45a7-8069-8cbce543e4a2",
   "metadata": {},
   "outputs": [
    {
     "name": "stdout",
     "output_type": "stream",
     "text": [
      "  gender  name  age\n",
      "0   Male  John   27\n",
      "1   Male  Mike   29\n"
     ]
    }
   ],
   "source": [
    ">>> # Get neighbors of Alice with a specific edge type\n",
    ">>> df = G.get_neighbors(\n",
    "...     start_nodes=\"Alice\",\n",
    "...     start_node_type=\"Person\",\n",
    "...     edge_types=\"Friendship\",\n",
    "... )\n",
    ">>> print(df)"
   ]
  },
  {
   "cell_type": "code",
   "execution_count": 120,
   "id": "e11d5617-5e5e-4561-916b-3a3764ac2922",
   "metadata": {},
   "outputs": [
    {
     "name": "stdout",
     "output_type": "stream",
     "text": [
      "  gender  name  age\n",
      "0   Male  John   27\n"
     ]
    }
   ],
   "source": [
    ">>> # Get neighbors of Alice with a filter expression\n",
    ">>> df = G.get_neighbors(\n",
    "...     start_nodes=\"Alice\",\n",
    "...     start_node_type=\"Person\",\n",
    "...     start_node_alias=\"s\", # \"s\" is the default value, so you can remove this line\n",
    "...     edge_alias=\"e\", # \"e\" is the default value, so you can remove this line\n",
    "...     target_node_alias=\"t\", # \"t\" is the default value, so you can remove this line\n",
    "...     filter_expression=\"e.closeness > 1.5\",\n",
    "... )\n",
    ">>> print(df)"
   ]
  },
  {
   "cell_type": "code",
   "execution_count": 121,
   "id": "08d9f7ae-3775-4b98-9dc1-196770fab65a",
   "metadata": {},
   "outputs": [
    {
     "name": "stdout",
     "output_type": "stream",
     "text": [
      "   name gender\n",
      "0  Mike   Male\n",
      "1  John   Male\n"
     ]
    }
   ],
   "source": [
    ">>> # Retrieve only specific attributes for neighbors\n",
    ">>> df = G.get_neighbors(\n",
    "...     start_nodes=\"Alice\",\n",
    "...     start_node_type=\"Person\",\n",
    "...     return_attributes=[\"name\", \"gender\"],\n",
    "... )\n",
    ">>> print(df)"
   ]
  },
  {
   "cell_type": "code",
   "execution_count": 122,
   "id": "215cb8f0-e80f-481a-8e6c-e3e34fe0af0e",
   "metadata": {},
   "outputs": [
    {
     "name": "stdout",
     "output_type": "stream",
     "text": [
      "  gender  name  age\n",
      "0   Male  John   27\n"
     ]
    }
   ],
   "source": [
    ">>> # Limit the number of neighbors returned\n",
    ">>> df = G.get_neighbors(\n",
    "...     start_nodes=\"Alice\",\n",
    "...     start_node_type=\"Person\",\n",
    "...     limit=1,\n",
    "... )\n",
    ">>> print(df)"
   ]
  },
  {
   "cell_type": "code",
   "execution_count": 123,
   "id": "2e96b864-2b5a-44a8-84c4-b4b503069e77",
   "metadata": {},
   "outputs": [
    {
     "name": "stdout",
     "output_type": "stream",
     "text": [
      "   name gender\n",
      "0  John   Male\n"
     ]
    }
   ],
   "source": [
    ">>> # Retrieve the first target node of type \"Person\" that is a friend of Alice (a \"Person\"),\n",
    ">>> # filtering edges by \"closeness > 1\" and returning the target node's \"name\" and \"gender\".\n",
    ">>> df = G.get_neighbors(\n",
    "...     start_nodes=\"Alice\",\n",
    "...     start_node_type=\"Person\",\n",
    "...     edge_types=\"Friendship\",\n",
    "...     target_node_types=\"Person\",\n",
    "...     filter_expression=\"e.closeness > 1\",\n",
    "...     return_attributes=[\"name\", \"gender\"],\n",
    "...     limit=1,\n",
    "... )\n",
    ">>> print(df)"
   ]
  },
  {
   "cell_type": "code",
   "execution_count": 124,
   "id": "098dbe93-5f75-4b90-9f7a-9c06b5977c88",
   "metadata": {},
   "outputs": [
    {
     "data": {
      "text/plain": [
       "True"
      ]
     },
     "execution_count": 124,
     "metadata": {},
     "output_type": "execute_result"
    }
   ],
   "source": [
    ">>> G.clear()"
   ]
  },
  {
   "cell_type": "markdown",
   "id": "870c6a53-b2cd-4606-81e1-b6aca69cd8aa",
   "metadata": {},
   "source": [
    "---\n"
   ]
  }
 ],
 "metadata": {
  "kernelspec": {
   "display_name": "Python 3 (ipykernel)",
   "language": "python",
   "name": "python3"
  },
  "language_info": {
   "codemirror_mode": {
    "name": "ipython",
    "version": 3
   },
   "file_extension": ".py",
   "mimetype": "text/x-python",
   "name": "python",
   "nbconvert_exporter": "python",
   "pygments_lexer": "ipython3",
   "version": "3.12.6"
  }
 },
 "nbformat": 4,
 "nbformat_minor": 5
}
