{
 "cells": [
  {
   "cell_type": "markdown",
   "id": "aed168a0-f60a-4fad-af11-e13ccc6ec3b1",
   "metadata": {},
   "source": [
    "# Vector Operations in Graph class\n",
    "\n",
    "---\n",
    "\n",
    "## Create the Graph Schema\n",
    "### Setting Up the Environment Variables"
   ]
  },
  {
   "cell_type": "code",
   "execution_count": 1,
   "id": "87fcbcf1-d81d-4ec3-8847-27a386015446",
   "metadata": {},
   "outputs": [],
   "source": [
    "import os\n",
    "os.environ[\"TG_HOST\"] = \"http://127.0.0.1\"\n",
    "os.environ[\"TG_USERNAME\"] = \"tigergraph\"\n",
    "os.environ[\"TG_PASSWORD\"] = \"tigergraph\""
   ]
  },
  {
   "cell_type": "markdown",
   "id": "dd93a833-6b6f-4044-8654-174ef4d6b352",
   "metadata": {},
   "source": [
    "### Create Schema"
   ]
  },
  {
   "cell_type": "code",
   "execution_count": 2,
   "id": "49ec03d2-7aab-4c64-869a-57a8709dcc57",
   "metadata": {},
   "outputs": [
    {
     "name": "stdout",
     "output_type": "stream",
     "text": [
      "2025-02-21 19:57:48,444 - datasets - INFO - PyTorch version 2.6.0 available.\n",
      "2025-02-21 19:57:48,783 - tigergraphx.core.managers.schema_manager - INFO - Graph existence check for SocialWithVector: does not exist\n",
      "2025-02-21 19:57:48,784 - tigergraphx.core.managers.schema_manager - INFO - Creating schema for graph: SocialWithVector...\n",
      "2025-02-21 19:59:49,764 - tigergraphx.core.managers.schema_manager - INFO - Graph schema created successfully.\n",
      "2025-02-21 19:59:49,767 - tigergraphx.core.managers.schema_manager - INFO - Adding vector attribute(s) for graph: SocialWithVector...\n",
      "2025-02-21 20:01:03,454 - tigergraphx.core.managers.schema_manager - INFO - Vector attribute(s) added successfully.\n"
     ]
    }
   ],
   "source": [
    "from tigergraphx import Graph\n",
    "graph_schema = {\n",
    "    \"graph_name\": \"SocialWithVector\",\n",
    "    \"nodes\": {\n",
    "        \"Person\": {\n",
    "            \"primary_key\": \"name\",\n",
    "            \"attributes\": {\n",
    "                \"name\": \"STRING\",\n",
    "                \"age\": \"UINT\",\n",
    "                \"gender\": \"STRING\",\n",
    "            },\n",
    "            \"vector_attributes\": {\n",
    "                \"emb_1\": 3,\n",
    "                \"emb_2\": {\n",
    "                    \"dimension\": 3,\n",
    "                    \"index_type\": \"HNSW\",\n",
    "                    \"data_type\": \"FLOAT\",\n",
    "                    \"metric\": \"COSINE\",\n",
    "                },\n",
    "            },\n",
    "        },\n",
    "    },\n",
    "    \"edges\": {\n",
    "        \"Friendship\": {\n",
    "            \"is_directed_edge\": False,\n",
    "            \"from_node_type\": \"Person\",\n",
    "            \"to_node_type\": \"Person\",\n",
    "            \"attributes\": {\n",
    "                \"closeness\": \"DOUBLE\",\n",
    "            },\n",
    "        },\n",
    "    },\n",
    "}\n",
    "G = Graph(graph_schema)"
   ]
  },
  {
   "cell_type": "markdown",
   "id": "5eb6c18f-d30b-4f59-b533-1089c6236d6d",
   "metadata": {},
   "source": [
    "## Vector Operations\n",
    "### upsert\n",
    "Single Node Type Example:"
   ]
  },
  {
   "cell_type": "code",
   "execution_count": 3,
   "id": "43e8b55c-90db-4578-974f-72f48094cc9e",
   "metadata": {},
   "outputs": [
    {
     "data": {
      "text/plain": [
       "1"
      ]
     },
     "execution_count": 3,
     "metadata": {},
     "output_type": "execute_result"
    }
   ],
   "source": [
    ">>> G = Graph.from_db(\"SocialWithVector\")\n",
    ">>> # Upsert a single node with vector data\n",
    ">>> G.upsert(\n",
    "...     data={\"name\": \"Alice\", \"age\": 30, \"gender\": \"Female\", \"emb_1\": [0.1, 0.2, 0.3]},\n",
    "... )"
   ]
  },
  {
   "cell_type": "code",
   "execution_count": 4,
   "id": "1e54a424-2083-4e16-926d-171fb959e27f",
   "metadata": {},
   "outputs": [
    {
     "data": {
      "text/plain": [
       "2"
      ]
     },
     "execution_count": 4,
     "metadata": {},
     "output_type": "execute_result"
    }
   ],
   "source": [
    ">>> # Upsert multiple nodes with vector data\n",
    ">>> G.upsert(\n",
    "...     data=[\n",
    "...         {\"name\": \"Mike\", \"age\": 29, \"gender\": \"Male\", \"emb_1\": [0.4, 0.5, 0.6]},\n",
    "...         {\"name\": \"Emily\", \"age\": 28, \"gender\": \"Female\", \"emb_1\": [0.7, 0.8, 0.9]},\n",
    "...     ],\n",
    "... )"
   ]
  },
  {
   "cell_type": "code",
   "execution_count": 5,
   "id": "508b4eab-fef2-4a53-8baa-d8a6914fd545",
   "metadata": {},
   "outputs": [
    {
     "data": {
      "text/plain": [
       "3"
      ]
     },
     "execution_count": 5,
     "metadata": {},
     "output_type": "execute_result"
    }
   ],
   "source": [
    ">>> # Get the total number of nodes in the graph\n",
    ">>> G.number_of_nodes()"
   ]
  },
  {
   "cell_type": "code",
   "execution_count": 6,
   "id": "61ef1288-e014-462c-8766-741b835fecb5",
   "metadata": {},
   "outputs": [
    {
     "data": {
      "text/plain": [
       "True"
      ]
     },
     "execution_count": 6,
     "metadata": {},
     "output_type": "execute_result"
    }
   ],
   "source": [
    ">>> G.clear()"
   ]
  },
  {
   "cell_type": "markdown",
   "id": "1ee3e1ad-f987-40c9-8b6c-4af09c19e76f",
   "metadata": {},
   "source": [
    "Multiple Node Types Example:"
   ]
  },
  {
   "cell_type": "code",
   "execution_count": 7,
   "id": "afc0d117-73c1-4fc3-bfe7-a49390db6a9d",
   "metadata": {},
   "outputs": [
    {
     "data": {
      "text/plain": [
       "1"
      ]
     },
     "execution_count": 7,
     "metadata": {},
     "output_type": "execute_result"
    }
   ],
   "source": [
    ">>> G = Graph.from_db(\"SocialWithVector\")\n",
    ">>> # Upsert a single node with vector data\n",
    ">>> G.upsert(\n",
    "...     data={\"name\": \"Alice\", \"age\": 30, \"gender\": \"Female\", \"emb_1\": [0.1, 0.2, 0.3]},\n",
    "...     node_type=\"Person\",\n",
    "... )"
   ]
  },
  {
   "cell_type": "code",
   "execution_count": 8,
   "id": "62bcdfaf-bee5-4f9e-9b45-976c6511d90f",
   "metadata": {},
   "outputs": [
    {
     "data": {
      "text/plain": [
       "2"
      ]
     },
     "execution_count": 8,
     "metadata": {},
     "output_type": "execute_result"
    }
   ],
   "source": [
    ">>> # Upsert multiple nodes with vector data\n",
    ">>> G.upsert(\n",
    "...     data=[\n",
    "...         {\"name\": \"Mike\", \"age\": 29, \"gender\": \"Male\", \"emb_1\": [0.4, 0.5, 0.6]},\n",
    "...         {\"name\": \"Emily\", \"age\": 28, \"gender\": \"Female\", \"emb_1\": [0.7, 0.8, 0.9]},\n",
    "...     ],\n",
    "...     node_type=\"Person\",\n",
    "... )"
   ]
  },
  {
   "cell_type": "code",
   "execution_count": 9,
   "id": "680cd92a-bae5-4a77-9a6e-e43c2041a807",
   "metadata": {},
   "outputs": [
    {
     "data": {
      "text/plain": [
       "3"
      ]
     },
     "execution_count": 9,
     "metadata": {},
     "output_type": "execute_result"
    }
   ],
   "source": [
    ">>> # Get the total number of nodes in the graph\n",
    ">>> G.number_of_nodes()"
   ]
  },
  {
   "cell_type": "code",
   "execution_count": 10,
   "id": "d237e61f-3ae5-47b7-ad61-5a8b9f3fb64b",
   "metadata": {},
   "outputs": [
    {
     "data": {
      "text/plain": [
       "True"
      ]
     },
     "execution_count": 10,
     "metadata": {},
     "output_type": "execute_result"
    }
   ],
   "source": [
    "G.clear()"
   ]
  },
  {
   "cell_type": "markdown",
   "id": "7b14b453-0140-4b75-8627-d7820526c7fd",
   "metadata": {},
   "source": [
    "### fetch_node\n",
    "Single Node Type Example:"
   ]
  },
  {
   "cell_type": "code",
   "execution_count": 11,
   "id": "4383e0f7-7eb6-4238-b760-d2a2a29dc06c",
   "metadata": {},
   "outputs": [
    {
     "data": {
      "text/plain": [
       "1"
      ]
     },
     "execution_count": 11,
     "metadata": {},
     "output_type": "execute_result"
    }
   ],
   "source": [
    ">>> G = Graph.from_db(\"SocialWithVector\")\n",
    ">>> # Upsert a single node with vector data\n",
    ">>> G.upsert(\n",
    "...     data={\"name\": \"Alice\", \"age\": 30, \"gender\": \"Female\", \"emb_1\": [0.1, 0.2, 0.3]},\n",
    "... )"
   ]
  },
  {
   "cell_type": "code",
   "execution_count": 13,
   "id": "2f64086e-1acc-494f-a789-572da9775508",
   "metadata": {},
   "outputs": [
    {
     "name": "stdout",
     "output_type": "stream",
     "text": [
      "[0.1, 0.2, 0.3]\n"
     ]
    }
   ],
   "source": [
    ">>> # Fetch vector data for a single node\n",
    ">>> vector = G.fetch_node(\n",
    "...     node_id=\"Alice\",\n",
    "...     vector_attribute_name=\"emb_1\",\n",
    "... )\n",
    ">>> print(vector)"
   ]
  },
  {
   "cell_type": "code",
   "execution_count": 14,
   "id": "6aece1ad-0d48-4006-95c8-b2444a5f4678",
   "metadata": {},
   "outputs": [
    {
     "data": {
      "text/plain": [
       "True"
      ]
     },
     "execution_count": 14,
     "metadata": {},
     "output_type": "execute_result"
    }
   ],
   "source": [
    ">>> G.clear()"
   ]
  },
  {
   "cell_type": "markdown",
   "id": "aafa9797-03fb-4d1a-87d0-c44a61f6b351",
   "metadata": {},
   "source": [
    "Multiple Node Types Example:"
   ]
  },
  {
   "cell_type": "code",
   "execution_count": 15,
   "id": "8148a74f-09e4-439a-8e6e-61f41b5a1fd6",
   "metadata": {},
   "outputs": [
    {
     "data": {
      "text/plain": [
       "1"
      ]
     },
     "execution_count": 15,
     "metadata": {},
     "output_type": "execute_result"
    }
   ],
   "source": [
    ">>> G = Graph.from_db(\"SocialWithVector\")\n",
    ">>> # Upsert a single node with vector data, specifying node type\n",
    ">>> G.upsert(\n",
    "...     data={\"name\": \"Alice\", \"age\": 30, \"gender\": \"Female\", \"emb_1\": [0.1, 0.2, 0.3]},\n",
    "...     node_type=\"Person\",\n",
    "... )"
   ]
  },
  {
   "cell_type": "code",
   "execution_count": 16,
   "id": "b720a923-3757-44d5-9b83-70b87597554f",
   "metadata": {},
   "outputs": [
    {
     "name": "stdout",
     "output_type": "stream",
     "text": [
      "[]\n"
     ]
    }
   ],
   "source": [
    ">>> # Fetch vector data for a single node, specifying node type\n",
    ">>> vector = G.fetch_node(\n",
    "...     node_id=\"Alice\",\n",
    "...     vector_attribute_name=\"emb_1\",\n",
    "...     node_type=\"Person\",\n",
    "... )\n",
    ">>> print(vector)"
   ]
  },
  {
   "cell_type": "code",
   "execution_count": 17,
   "id": "20b1be8a-8db1-4d82-9554-937765bafb42",
   "metadata": {},
   "outputs": [
    {
     "data": {
      "text/plain": [
       "True"
      ]
     },
     "execution_count": 17,
     "metadata": {},
     "output_type": "execute_result"
    }
   ],
   "source": [
    ">>> G.clear()"
   ]
  },
  {
   "cell_type": "markdown",
   "id": "705788e5-fbf2-451b-8bc7-52895f42abf6",
   "metadata": {},
   "source": [
    "### fetch_nodes\n",
    "Single Node Type Example:"
   ]
  },
  {
   "cell_type": "code",
   "execution_count": 18,
   "id": "4409b548-2018-424f-8efd-0af317562cce",
   "metadata": {},
   "outputs": [
    {
     "data": {
      "text/plain": [
       "2"
      ]
     },
     "execution_count": 18,
     "metadata": {},
     "output_type": "execute_result"
    }
   ],
   "source": [
    ">>> G = Graph.from_db(\"SocialWithVector\")\n",
    ">>> # Upsert multiple nodes with vector data\n",
    ">>> G.upsert(\n",
    "...     data=[\n",
    "...         {\"name\": \"Alice\", \"age\": 30, \"gender\": \"Female\", \"emb_1\": [0.1, 0.2, 0.3]},\n",
    "...         {\"name\": \"Bob\", \"age\": 32, \"gender\": \"Male\", \"emb_1\": [0.4, 0.5, 0.6]},\n",
    "...     ]\n",
    "... )"
   ]
  },
  {
   "cell_type": "code",
   "execution_count": 24,
   "id": "963ee8f3-9b10-4bb7-ac2d-63593ec3b0ff",
   "metadata": {},
   "outputs": [
    {
     "name": "stdout",
     "output_type": "stream",
     "text": [
      "{'Alice': [0.1, 0.2, 0.3], 'Bob': [0.4, 0.5, 0.6000001]}\n"
     ]
    }
   ],
   "source": [
    ">>> # Fetch vector data for multiple nodes\n",
    ">>> vectors = G.fetch_nodes(\n",
    "...     node_ids=[\"Alice\", \"Bob\"],\n",
    "...     vector_attribute_name=\"emb_1\",\n",
    "... )\n",
    ">>> print(vectors)"
   ]
  },
  {
   "cell_type": "code",
   "execution_count": 25,
   "id": "e43d402f-394e-4799-9f24-db6e2aa86a5d",
   "metadata": {},
   "outputs": [
    {
     "data": {
      "text/plain": [
       "True"
      ]
     },
     "execution_count": 25,
     "metadata": {},
     "output_type": "execute_result"
    }
   ],
   "source": [
    ">>> G.clear()"
   ]
  },
  {
   "cell_type": "markdown",
   "id": "514f06b4-cbcc-46e9-afa2-bf048092aaa0",
   "metadata": {},
   "source": [
    "Multiple Node Types Example:"
   ]
  },
  {
   "cell_type": "code",
   "execution_count": 26,
   "id": "9ab1a9eb-275a-4245-b883-b58f6afab688",
   "metadata": {},
   "outputs": [
    {
     "data": {
      "text/plain": [
       "2"
      ]
     },
     "execution_count": 26,
     "metadata": {},
     "output_type": "execute_result"
    }
   ],
   "source": [
    ">>> G = Graph.from_db(\"SocialWithVector\")\n",
    ">>> # Upsert multiple nodes with vector data, specifying node type\n",
    ">>> G.upsert(\n",
    "...     data=[\n",
    "...         {\"name\": \"Alice\", \"age\": 30, \"gender\": \"Female\", \"emb_1\": [0.1, 0.2, 0.3]},\n",
    "...         {\"name\": \"Bob\", \"age\": 32, \"gender\": \"Male\", \"emb_1\": [0.4, 0.5, 0.6]},\n",
    "...     ],\n",
    "...     node_type=\"Person\",\n",
    "... )"
   ]
  },
  {
   "cell_type": "code",
   "execution_count": 31,
   "id": "b6e5693c-fe09-4425-ade1-4f440c93094f",
   "metadata": {},
   "outputs": [
    {
     "name": "stdout",
     "output_type": "stream",
     "text": [
      "{'Bob': [0.4, 0.5, 0.6000001], 'Alice': [0.1, 0.2, 0.3]}\n"
     ]
    }
   ],
   "source": [
    ">>> # Fetch vector data for multiple nodes, specifying node type\n",
    ">>> vectors = G.fetch_nodes(\n",
    "...     node_ids=[\"Alice\", \"Bob\"],\n",
    "...     vector_attribute_name=\"emb_1\",\n",
    "...     node_type=\"Person\",\n",
    "... )\n",
    ">>> print(vectors)"
   ]
  },
  {
   "cell_type": "code",
   "execution_count": 32,
   "id": "8e25b0d5-3327-4bfe-b73c-edbfdabdad09",
   "metadata": {},
   "outputs": [
    {
     "data": {
      "text/plain": [
       "True"
      ]
     },
     "execution_count": 32,
     "metadata": {},
     "output_type": "execute_result"
    }
   ],
   "source": [
    ">>> G.clear()"
   ]
  },
  {
   "cell_type": "markdown",
   "id": "6e4b0723-0f44-4d8e-912b-7f981c60289e",
   "metadata": {},
   "source": [
    "### search\n",
    "Single Node Type Example:"
   ]
  },
  {
   "cell_type": "code",
   "execution_count": 33,
   "id": "8f5f85af-3915-4c8e-b8c7-20c4725ed9a2",
   "metadata": {},
   "outputs": [
    {
     "data": {
      "text/plain": [
       "3"
      ]
     },
     "execution_count": 33,
     "metadata": {},
     "output_type": "execute_result"
    }
   ],
   "source": [
    ">>> G = Graph.from_db(\"SocialWithVector\")\n",
    ">>> # Upsert multiple nodes with vector data\n",
    ">>> G.upsert(\n",
    "...     data=[\n",
    "...         {\"name\": \"Alice\", \"age\": 30, \"gender\": \"Female\", \"emb_1\": [0.1, 0.2, 0.3]},\n",
    "...         {\"name\": \"Bob\", \"age\": 32, \"gender\": \"Male\", \"emb_1\": [0.4, 0.5, 0.6]},\n",
    "...         {\"name\": \"Eve\", \"age\": 29, \"gender\": \"Female\", \"emb_1\": [0.3, 0.2, 0.1]},\n",
    "...     ]\n",
    "... )"
   ]
  },
  {
   "cell_type": "code",
   "execution_count": 41,
   "id": "0ac7bfd2-2b0f-4615-8c2b-cf800646af70",
   "metadata": {},
   "outputs": [
    {
     "name": "stdout",
     "output_type": "stream",
     "text": [
      "{'id': 'Bob', 'distance': 0.01307237, 'name': 'Bob', 'gender': 'Male'}\n",
      "{'id': 'Eve', 'distance': 0.07417983, 'name': 'Eve', 'gender': 'Female'}\n"
     ]
    }
   ],
   "source": [
    ">>> # Search for nodes most similar to a query vector\n",
    ">>> results = G.search(\n",
    "...     data=[0.2, 0.2, 0.2],\n",
    "...     vector_attribute_name=\"emb_1\",\n",
    "...     limit=2,\n",
    "...     return_attributes=[\"name\", \"gender\"],\n",
    "... )\n",
    ">>> for result in results:\n",
    "...     print(result)"
   ]
  },
  {
   "cell_type": "code",
   "execution_count": 42,
   "id": "a2dafc03-2791-4174-81a6-f2c4a9865d96",
   "metadata": {},
   "outputs": [
    {
     "data": {
      "text/plain": [
       "True"
      ]
     },
     "execution_count": 42,
     "metadata": {},
     "output_type": "execute_result"
    }
   ],
   "source": [
    ">>> G.clear()"
   ]
  },
  {
   "cell_type": "markdown",
   "id": "3a636de4-d9c4-4ce5-bbf6-a81770b3e165",
   "metadata": {},
   "source": [
    "Multiple Node Types Example:"
   ]
  },
  {
   "cell_type": "code",
   "execution_count": 43,
   "id": "83e21c1b-6aa0-4458-8971-0e2df1b23fad",
   "metadata": {},
   "outputs": [
    {
     "data": {
      "text/plain": [
       "3"
      ]
     },
     "execution_count": 43,
     "metadata": {},
     "output_type": "execute_result"
    }
   ],
   "source": [
    ">>> G = Graph.from_db(\"SocialWithVector\")\n",
    ">>> # Upsert multiple nodes with vector data, specifying node type\n",
    ">>> G.upsert(\n",
    "...     data=[\n",
    "...         {\"name\": \"Alice\", \"age\": 30, \"gender\": \"Female\", \"emb_1\": [0.1, 0.2, 0.3]},\n",
    "...         {\"name\": \"Bob\", \"age\": 32, \"gender\": \"Male\", \"emb_1\": [0.4, 0.5, 0.6]},\n",
    "...         {\"name\": \"Eve\", \"age\": 29, \"gender\": \"Female\", \"emb_1\": [0.3, 0.2, 0.1]},\n",
    "...     ],\n",
    "...     node_type=\"Person\",\n",
    "... )"
   ]
  },
  {
   "cell_type": "code",
   "execution_count": 54,
   "id": "18fc2bc1-3b78-4c3e-97e8-4a208783b1ca",
   "metadata": {},
   "outputs": [
    {
     "name": "stdout",
     "output_type": "stream",
     "text": [
      "{'id': 'Bob', 'distance': 0.01307237, 'name': 'Bob', 'gender': 'Male'}\n",
      "{'id': 'Eve', 'distance': 0.07417983, 'name': 'Eve', 'gender': 'Female'}\n"
     ]
    }
   ],
   "source": [
    ">>> # Search for nodes most similar to a query vector, specifying node type\n",
    ">>> results = G.search(\n",
    "...     data=[0.2, 0.2, 0.2],\n",
    "...     vector_attribute_name=\"emb_1\",\n",
    "...     node_type=\"Person\",\n",
    "...     limit=2,\n",
    "...     return_attributes=[\"name\", \"gender\"],\n",
    "... )\n",
    ">>> for result in results:\n",
    "...     print(result)"
   ]
  },
  {
   "cell_type": "code",
   "execution_count": 55,
   "id": "94398cca-d7cd-449d-a731-8e46042e5f7f",
   "metadata": {},
   "outputs": [
    {
     "data": {
      "text/plain": [
       "True"
      ]
     },
     "execution_count": 55,
     "metadata": {},
     "output_type": "execute_result"
    }
   ],
   "source": [
    ">>> G.clear()"
   ]
  },
  {
   "cell_type": "markdown",
   "id": "93456c0a-31dd-4cf1-becb-ceee00cdd4b0",
   "metadata": {},
   "source": [
    "### search_multi_vector_attributes\n",
    "Single Node Type Example:"
   ]
  },
  {
   "cell_type": "code",
   "execution_count": 56,
   "id": "f90977cb-b2cf-4810-9fcf-8c46db325a6b",
   "metadata": {},
   "outputs": [
    {
     "data": {
      "text/plain": [
       "3"
      ]
     },
     "execution_count": 56,
     "metadata": {},
     "output_type": "execute_result"
    }
   ],
   "source": [
    ">>> G = Graph.from_db(\"SocialWithVector\")\n",
    ">>> # Upsert multiple nodes with different vector attributes\n",
    ">>> G.upsert(\n",
    "...     data=[\n",
    "...         {\"name\": \"Alice\", \"age\": 30, \"gender\": \"Female\", \"emb_1\": [0.1, 0.2, 0.3], \"emb_2\": [0.2, 0.4, 0.6]},\n",
    "...         {\"name\": \"Bob\", \"age\": 32, \"gender\": \"Male\", \"emb_1\": [0.4, 0.5, 0.6], \"emb_2\": [0.5, 0.6, 0.7]},\n",
    "...         {\"name\": \"Eve\", \"age\": 29, \"gender\": \"Female\", \"emb_1\": [0.3, 0.2, 0.1], \"emb_2\": [0.1, 0.2, 0.3]},\n",
    "...     ]\n",
    "... )"
   ]
  },
  {
   "cell_type": "code",
   "execution_count": 68,
   "id": "f555be1c-78fa-4274-b62e-2c3f2198f8c8",
   "metadata": {},
   "outputs": [
    {
     "name": "stdout",
     "output_type": "stream",
     "text": [
      "{'id': 'Alice', 'distance': 1.192093e-07, 'name': 'Alice', 'gender': 'Female'}\n",
      "{'id': 'Eve', 'distance': 1.192093e-07, 'name': 'Eve'}\n"
     ]
    }
   ],
   "source": [
    ">>> # Search for nodes most similar to a query vector using multiple vector attributes\n",
    ">>> results = G.search_multi_vector_attributes(\n",
    "...     data=[0.1, 0.2, 0.3],\n",
    "...     vector_attribute_names=[\"emb_1\", \"emb_2\"],\n",
    "...     limit=2,\n",
    "...     return_attributes_list=[[\"name\", \"gender\"], [\"name\"]],\n",
    "... )\n",
    ">>> for result in results:\n",
    "...     print(result)"
   ]
  },
  {
   "cell_type": "code",
   "execution_count": 69,
   "id": "e968f202-62a4-47b4-a02c-8d0a6efe3a20",
   "metadata": {},
   "outputs": [
    {
     "data": {
      "text/plain": [
       "True"
      ]
     },
     "execution_count": 69,
     "metadata": {},
     "output_type": "execute_result"
    }
   ],
   "source": [
    "G.clear()"
   ]
  },
  {
   "cell_type": "markdown",
   "id": "9ce09677-b488-4c9a-9e37-b00d93e3cde7",
   "metadata": {},
   "source": [
    "Multiple Node Types Example:"
   ]
  },
  {
   "cell_type": "code",
   "execution_count": 86,
   "id": "fce6062b-07e9-4f12-8649-84cb3975a862",
   "metadata": {},
   "outputs": [
    {
     "data": {
      "text/plain": [
       "3"
      ]
     },
     "execution_count": 86,
     "metadata": {},
     "output_type": "execute_result"
    }
   ],
   "source": [
    ">>> G = Graph.from_db(\"SocialWithVector\")\n",
    ">>> # Upsert multiple nodes with vector attributes\n",
    ">>> G.upsert(\n",
    "...     data=[\n",
    "...         {\"name\": \"Alice\", \"age\": 30, \"gender\": \"Female\", \"emb_1\": [0.1, 0.2, 0.3], \"emb_2\": [0.2, 0.4, 0.6]},\n",
    "...         {\"name\": \"Bob\", \"age\": 32, \"gender\": \"Male\", \"emb_1\": [0.4, 0.5, 0.6], \"emb_2\": [0.5, 0.6, 0.7]},\n",
    "...         {\"name\": \"Eve\", \"age\": 29, \"gender\": \"Female\", \"emb_1\": [0.3, 0.2, 0.1], \"emb_2\": [0.1, 0.2, 0.3]},\n",
    "...     ],\n",
    "...     node_type=\"Person\",\n",
    "... )"
   ]
  },
  {
   "cell_type": "code",
   "execution_count": 104,
   "id": "e4599502-965b-4fa4-ac55-a1cf57c10ce1",
   "metadata": {},
   "outputs": [
    {
     "name": "stdout",
     "output_type": "stream",
     "text": [
      "{'id': 'Alice', 'distance': 1.192093e-07, 'name': 'Alice', 'gender': 'Female'}\n",
      "{'id': 'Eve', 'distance': 1.192093e-07, 'name': 'Eve'}\n"
     ]
    }
   ],
   "source": [
    ">>> # Search for nodes most similar to a query vector using multiple vector attributes\n",
    ">>> results = G.search_multi_vector_attributes(\n",
    "...     data=[0.1, 0.2, 0.3],\n",
    "...     vector_attribute_names=[\"emb_1\", \"emb_2\"],\n",
    "...     node_types=[\"Person\", \"Person\"],\n",
    "...     limit=2,\n",
    "...     return_attributes_list=[[\"name\", \"gender\"], [\"name\"]],\n",
    "... )\n",
    ">>> for result in results:\n",
    "...     print(result)"
   ]
  },
  {
   "cell_type": "code",
   "execution_count": 105,
   "id": "bb469c73-9615-41b6-ad85-3b14d2170c5b",
   "metadata": {},
   "outputs": [
    {
     "data": {
      "text/plain": [
       "True"
      ]
     },
     "execution_count": 105,
     "metadata": {},
     "output_type": "execute_result"
    }
   ],
   "source": [
    ">>> G.clear()"
   ]
  },
  {
   "cell_type": "markdown",
   "id": "dadf6573-3a19-45bc-bd1f-857f4feb7f96",
   "metadata": {},
   "source": [
    "### search_top_k_similar_nodes\n",
    "Single Node Type Example:"
   ]
  },
  {
   "cell_type": "code",
   "execution_count": 106,
   "id": "c39794f8-65c2-43d2-9154-14ae579a5d51",
   "metadata": {},
   "outputs": [
    {
     "data": {
      "text/plain": [
       "3"
      ]
     },
     "execution_count": 106,
     "metadata": {},
     "output_type": "execute_result"
    }
   ],
   "source": [
    ">>> G = Graph.from_db(\"SocialWithVector\")\n",
    ">>> # Upsert a node with vector data\n",
    ">>> G.upsert(\n",
    "...     data=[\n",
    "...         {\"name\": \"Alice\", \"age\": 30, \"gender\": \"Female\", \"emb_1\": [0.1, 0.2, 0.3]},\n",
    "...         {\"name\": \"Bob\", \"age\": 32, \"gender\": \"Male\", \"emb_1\": [0.1, 0.2, 0.4]},\n",
    "...         {\"name\": \"Eve\", \"age\": 29, \"gender\": \"Female\", \"emb_1\": [0.5, 0.6, 0.7]},\n",
    "...     ]\n",
    "... )"
   ]
  },
  {
   "cell_type": "code",
   "execution_count": 125,
   "id": "72574e21-fa85-4462-9c17-35be9d8a016c",
   "metadata": {},
   "outputs": [
    {
     "name": "stdout",
     "output_type": "stream",
     "text": [
      "{'id': 'Bob', 'distance': 0.008539915, 'name': 'Bob', 'age': 32, 'gender': 'Male'}\n"
     ]
    }
   ],
   "source": [
    ">>> # Retrieve the top-5 nodes similar to \"Alice\" based on the emb_1 vector\n",
    ">>> similar_nodes = G.search_top_k_similar_nodes(\n",
    "...     node_id=\"Alice\",\n",
    "...     vector_attribute_name=\"emb_1\",\n",
    "...     limit=1,\n",
    "...     return_attributes=[\"name\", \"age\", \"gender\"]\n",
    "... )\n",
    ">>> for node in similar_nodes:\n",
    "...     print(node)"
   ]
  },
  {
   "cell_type": "code",
   "execution_count": 126,
   "id": "6a18042d-a30d-413b-ad88-e08a5a25f6bc",
   "metadata": {},
   "outputs": [
    {
     "data": {
      "text/plain": [
       "True"
      ]
     },
     "execution_count": 126,
     "metadata": {},
     "output_type": "execute_result"
    }
   ],
   "source": [
    ">>> G.clear()"
   ]
  },
  {
   "cell_type": "markdown",
   "id": "6e0c9806-ebfd-4b4b-9c13-bad5a213d01d",
   "metadata": {},
   "source": [
    "Multiple Node Types Example:"
   ]
  },
  {
   "cell_type": "code",
   "execution_count": 175,
   "id": "df6ec190-cfe0-4256-8637-fb676babe548",
   "metadata": {},
   "outputs": [
    {
     "data": {
      "text/plain": [
       "2"
      ]
     },
     "execution_count": 175,
     "metadata": {},
     "output_type": "execute_result"
    }
   ],
   "source": [
    ">>> G = Graph.from_db(\"SocialWithVector\")\n",
    ">>> # Upsert nodes with vector data\n",
    ">>> G.upsert(\n",
    "...     data=[\n",
    "...         {\"name\": \"Alice\", \"age\": 30, \"gender\": \"Female\", \"emb_1\": [0.1, 0.2, 0.3]},\n",
    "...         {\"name\": \"Bob\", \"age\": 32, \"gender\": \"Male\", \"emb_1\": [0.1, 0.2, 0.4]},\n",
    "...         {\"name\": \"Eve\", \"age\": 29, \"gender\": \"Female\", \"emb_1\": [0.5, 0.6, 0.7]},\n",
    "...     ],\n",
    "...     node_type=\"Person\"\n",
    "... )"
   ]
  },
  {
   "cell_type": "code",
   "execution_count": 177,
   "id": "56d37ce3-0c21-4fbc-80d3-9b623f3288cf",
   "metadata": {},
   "outputs": [
    {
     "name": "stdout",
     "output_type": "stream",
     "text": [
      "{'id': 'Bob', 'distance': 0.008539915, 'name': 'Bob', 'age': 32, 'gender': 'Male'}\n",
      "{'id': 'Eve', 'distance': 0.03167039, 'name': 'Eve', 'age': 29, 'gender': 'Female'}\n"
     ]
    }
   ],
   "source": [
    ">>> # Retrieve the top-5 nodes similar to \"Alice\" based on the emb_1 vector\n",
    ">>> similar_nodes = G.search_top_k_similar_nodes(\n",
    "...     node_id=\"Alice\",\n",
    "...     vector_attribute_name=\"emb_1\",\n",
    "...     node_type=\"Person\",\n",
    "...     limit=5,\n",
    "...     return_attributes=[\"name\", \"age\", \"gender\"]\n",
    "... )\n",
    ">>> for node in similar_nodes:\n",
    "...     print(node)"
   ]
  },
  {
   "cell_type": "code",
   "execution_count": 178,
   "id": "5277d9f5-f017-4cd5-bd39-3e1269e80874",
   "metadata": {},
   "outputs": [
    {
     "data": {
      "text/plain": [
       "True"
      ]
     },
     "execution_count": 178,
     "metadata": {},
     "output_type": "execute_result"
    }
   ],
   "source": [
    ">>> G.clear()"
   ]
  },
  {
   "cell_type": "markdown",
   "id": "870c6a53-b2cd-4606-81e1-b6aca69cd8aa",
   "metadata": {},
   "source": [
    "---\n"
   ]
  }
 ],
 "metadata": {
  "kernelspec": {
   "display_name": "Python 3 (ipykernel)",
   "language": "python",
   "name": "python3"
  },
  "language_info": {
   "codemirror_mode": {
    "name": "ipython",
    "version": 3
   },
   "file_extension": ".py",
   "mimetype": "text/x-python",
   "name": "python",
   "nbconvert_exporter": "python",
   "pygments_lexer": "ipython3",
   "version": "3.12.6"
  }
 },
 "nbformat": 4,
 "nbformat_minor": 5
}
