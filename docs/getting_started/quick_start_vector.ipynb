{
 "cells": [
  {
   "cell_type": "markdown",
   "id": "71966721-ce57-4fbe-a996-bc12558a23ca",
   "metadata": {},
   "source": [
    "# TigerGraphX Quick Start: Using TigerGraph as Vector Database\n",
    "\n",
    "TigerGraph has supported vector storage since version 4.2. In this guide, we will demonstrate how to use TigerGraph as a pure vector database, without storing edges. This setup can be useful when you want to leverage TigerGraph solely as a vector database. However, to fully unlock the potential of TigerGraph, you can also use it as both a graph and vector storage solution. For more details, refer to the [next guide](../quick_start_both).\n",
    "\n",
    "This guide assumes that you have already installed TigerGraphX and its dependencies, as outlined in the [Installation Guide](../installation).\n",
    "\n",
    "To run this Jupyter Notebook, download the original `.ipynb` file from [quick_start_vector.ipynb](https://github.com/xuanleilin/tigergraphx/tree/main/docs/getting_started/quick_start_vector.ipynb).\n",
    "\n",
    "---\n",
    "\n",
    "## Create a Graph\n",
    "### Define a Graph Schema\n",
    "\n",
    "TigerGraph is a schema-based database, which requires defining a schema to structure your graph. A typical schema includes the graph name, nodes (vertices), edges (relationships), and their respective attributes. However, when using TigerGraph as a pure vector database, you only need to define the graph name, the node (vertex) type, and its attributes, including vector attributes.\n",
    "\n",
    "In this example, we create a graph called \"FinancialGraph\" with one node type: \"Account.\" This node type has a primary key `name`, attributes `name` (string) and `isBlocked` (boolean), and a vector attribute `emb1` (3-dimensional)."
   ]
  },
  {
   "cell_type": "code",
   "execution_count": 1,
   "id": "4ad8d1cc-a7a1-4c8d-9359-be1acbe7033c",
   "metadata": {},
   "outputs": [],
   "source": [
    "graph_schema = {\n",
    "    \"graph_name\": \"FinancialGraph\",\n",
    "    \"nodes\": {\n",
    "        \"Account\": {\n",
    "            \"primary_key\": \"name\",\n",
    "            \"attributes\": {\n",
    "                \"name\": \"STRING\",\n",
    "                \"isBlocked\": \"BOOL\",\n",
    "            },\n",
    "            \"vector_attributes\": {\"emb1\": 3},\n",
    "        },\n",
    "    },\n",
    "    \"edges\": {}\n",
    "}"
   ]
  },
  {
   "cell_type": "markdown",
   "id": "b2af8159-8abd-4e03-b8f6-66c794f03ca9",
   "metadata": {},
   "source": [
    "### Define the TigerGraph Connection Configuration\n",
    "In addition to defining the schema, a connection configuration is necessary to establish communication with the TigerGraph server."
   ]
  },
  {
   "cell_type": "code",
   "execution_count": 2,
   "id": "958406ca-e515-42bc-8437-8e401fbc3b81",
   "metadata": {},
   "outputs": [],
   "source": [
    "connection = {\n",
    "    \"host\": \"http://127.0.0.1\",\n",
    "    \"username\": \"tigergraph\",\n",
    "    \"password\": \"tigergraph\",\n",
    "}"
   ]
  },
  {
   "cell_type": "markdown",
   "id": "8fcac59d-7cbc-446a-9c55-43357d64382c",
   "metadata": {},
   "source": [
    "### Create a Graph\n",
    "Running the following command will create a graph using the user-defined schema if it does not already exist. If the graph exists, the command will return the existing graph. To overwrite the existing graph, set the drop_existing_graph parameter to True. Note that creating the graph may take several seconds."
   ]
  },
  {
   "cell_type": "code",
   "execution_count": 3,
   "id": "b813f7cd-bef6-4179-ad6b-ffd6f66f9513",
   "metadata": {},
   "outputs": [
    {
     "name": "stdout",
     "output_type": "stream",
     "text": [
      "2025-01-16 15:28:10,677 - tigergraphx.core.managers.schema_manager - INFO - Graph existence check for FinancialGraph: does not exist\n",
      "2025-01-16 15:28:10,678 - tigergraphx.core.managers.schema_manager - INFO - Creating schema for graph: FinancialGraph...\n",
      "2025-01-16 15:28:14,138 - tigergraphx.core.managers.schema_manager - INFO - Graph schema created successfully.\n",
      "2025-01-16 15:28:14,139 - tigergraphx.core.managers.schema_manager - INFO - Adding vector attribute(s) for graph: FinancialGraph...\n",
      "2025-01-16 15:28:52,692 - tigergraphx.core.managers.schema_manager - INFO - Vector attribute(s) added successfully.\n"
     ]
    }
   ],
   "source": [
    "from tigergraphx import Graph\n",
    "G = Graph(graph_schema, connection)"
   ]
  },
  {
   "cell_type": "markdown",
   "id": "ef8d6f31-94d7-4335-8169-e72c496bcd6d",
   "metadata": {},
   "source": [
    "## Add Nodes\n",
    "In this example, we add multiple nodes representing accounts to the graph. Each node is uniquely identified by a name and comes with two attributes:\n",
    "- **isBlocked:** A Boolean indicating whether the account is blocked.\n",
    "- **emb1:** A three-dimensional embedding vector."
   ]
  },
  {
   "cell_type": "code",
   "execution_count": 4,
   "id": "45c87626-3d93-4319-93b1-f816c211b36e",
   "metadata": {},
   "outputs": [
    {
     "name": "stdout",
     "output_type": "stream",
     "text": [
      "Number of Account Nodes Inserted: 5\n"
     ]
    }
   ],
   "source": [
    "nodes_for_adding = [\n",
    "    (\"Scott\", {\"isBlocked\": False, \"emb1\": [-0.017733968794345856, -0.01019224338233471, -0.016571875661611557]}),\n",
    "    (\"Jenny\", {\"isBlocked\": False, \"emb1\": [-0.019265105947852135, 0.0004929182468913496, 0.006711316294968128]}),\n",
    "    (\"Steven\", {\"isBlocked\": True, \"emb1\": [-0.01505514420568943, -0.016819344833493233, -0.0221870020031929]}),\n",
    "    (\"Paul\", {\"isBlocked\": False, \"emb1\": [0.0011193430982530117, -0.001038988004438579, -0.017158523201942444]}),\n",
    "    (\"Ed\", {\"isBlocked\": False, \"emb1\": [-0.003692442551255226, 0.010494389571249485, -0.004631792660802603]}),\n",
    "]\n",
    "print(\"Number of Account Nodes Inserted:\", G.add_nodes_from(nodes_for_adding, node_type=\"Account\"))"
   ]
  },
  {
   "cell_type": "markdown",
   "id": "e1a17452-d352-4ad2-b359-6ca13fc9dc3b",
   "metadata": {},
   "source": [
    "## Display the Number of Nodes\n",
    "Next, let's verify that the data has been inserted into the graph by using the following command. As expected, the number of nodes is 5."
   ]
  },
  {
   "cell_type": "code",
   "execution_count": 5,
   "id": "ea8fe5cc-4f43-4359-81f1-a492243c2984",
   "metadata": {},
   "outputs": [
    {
     "name": "stdout",
     "output_type": "stream",
     "text": [
      "5\n"
     ]
    }
   ],
   "source": [
    "print(G.number_of_nodes())"
   ]
  },
  {
   "cell_type": "markdown",
   "id": "7ee3d652-ce78-4940-b4ba-c9459b3a1838",
   "metadata": {},
   "source": [
    "## Perform Vector Search\n",
    "To find the top 2 most similar accounts to \"Scott\" based on the embedding, we use the following code. As expected, \"Scott\" will appear in the list with a distance of 0."
   ]
  },
  {
   "cell_type": "code",
   "execution_count": 6,
   "id": "f9e47b19-7909-4911-b3a4-623f34fcbc30",
   "metadata": {},
   "outputs": [
    {
     "name": "stdout",
     "output_type": "stream",
     "text": [
      "{'id': 'Paul', 'distance': 0.393388, 'name': 'Paul', 'isBlocked': False}\n",
      "{'id': 'Ed', 'distance': 0.8887959, 'name': 'Ed', 'isBlocked': False}\n"
     ]
    }
   ],
   "source": [
    "results = G.search(\n",
    "    data=[-0.017733968794345856, -0.01019224338233471, -0.016571875661611557],\n",
    "    vector_attribute_name=\"emb1\",\n",
    "    node_type=\"Account\",\n",
    "    limit=2\n",
    ")\n",
    "for result in results:\n",
    "    print(result)"
   ]
  },
  {
   "cell_type": "markdown",
   "id": "44dd72a4-bf09-4752-9b60-aeed492e0915",
   "metadata": {},
   "source": [
    "## Clear and Drop a Graph\n",
    "\n",
    "### Clear the Graph\n",
    "To clear the data in the graph without dropping it, use the following code:"
   ]
  },
  {
   "cell_type": "code",
   "execution_count": 7,
   "id": "456edd2b-811f-4092-9d71-207446de030d",
   "metadata": {},
   "outputs": [
    {
     "name": "stdout",
     "output_type": "stream",
     "text": [
      "True\n"
     ]
    }
   ],
   "source": [
    "print(G.clear())"
   ]
  },
  {
   "cell_type": "markdown",
   "id": "7405beae-2423-4737-a08f-9ac7a58d652d",
   "metadata": {},
   "source": [
    "Afterwards, you can confirm that there are no nodes in the graph by checking:"
   ]
  },
  {
   "cell_type": "code",
   "execution_count": 8,
   "id": "2712fae5-bdb0-4911-93b3-934f4d25995d",
   "metadata": {},
   "outputs": [
    {
     "name": "stdout",
     "output_type": "stream",
     "text": [
      "0\n"
     ]
    }
   ],
   "source": [
    "print(G.number_of_nodes())"
   ]
  },
  {
   "cell_type": "markdown",
   "id": "a0f0b601-b258-4938-8214-550cb8d8c6fa",
   "metadata": {},
   "source": [
    "### Drop the Graph\n",
    "To clear the data and completely remove the graph—including schema, loading jobs, and queries—use the following code:"
   ]
  },
  {
   "cell_type": "code",
   "execution_count": 9,
   "id": "36504b02-1b86-4782-a4cc-f9a4789d5750",
   "metadata": {},
   "outputs": [
    {
     "name": "stdout",
     "output_type": "stream",
     "text": [
      "2025-01-16 15:29:12,764 - tigergraphx.core.managers.schema_manager - INFO - Dropping graph: FinancialGraph...\n",
      "2025-01-16 15:29:16,179 - tigergraphx.core.managers.schema_manager - INFO - Graph dropped successfully.\n"
     ]
    }
   ],
   "source": [
    "G.drop_graph()"
   ]
  },
  {
   "cell_type": "markdown",
   "id": "822f1d02-ec2a-4436-b53e-71750e4322d9",
   "metadata": {},
   "source": [
    "---\n",
    "\n",
    "## What’s Next?\n",
    "\n",
    "Now that you've learned how to use TigerGraph for storing both graph data and vectors, you can dive into more advanced features of TigerGraphX:\n",
    "- [GraphRAG Overview](../../graphrag/graphrag_overview): Learn about integrating graphs with LLMs.\n",
    "- [API Reference](../../reference/features_overview): Dive deeper into TigerGraphX APIs.\n",
    "\n",
    "---\n",
    "\n",
    "Start unlocking the power of graphs with **TigerGraphX** today!"
   ]
  }
 ],
 "metadata": {
  "kernelspec": {
   "display_name": "Python 3 (ipykernel)",
   "language": "python",
   "name": "python3"
  },
  "language_info": {
   "codemirror_mode": {
    "name": "ipython",
    "version": 3
   },
   "file_extension": ".py",
   "mimetype": "text/x-python",
   "name": "python",
   "nbconvert_exporter": "python",
   "pygments_lexer": "ipython3",
   "version": "3.12.6"
  }
 },
 "nbformat": 4,
 "nbformat_minor": 5
}
