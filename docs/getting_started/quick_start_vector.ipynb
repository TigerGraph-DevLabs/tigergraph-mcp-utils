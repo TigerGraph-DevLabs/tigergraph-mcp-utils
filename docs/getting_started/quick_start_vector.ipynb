{
 "cells": [
  {
   "cell_type": "markdown",
   "id": "71966721-ce57-4fbe-a996-bc12558a23ca",
   "metadata": {},
   "source": [
    "# TigerGraphX Quick Start: Using TigerGraph as Vector Database\n",
    "\n",
    "TigerGraph has supported vector storage since version 4.2. In this guide, we will demonstrate how to use TigerGraph as a pure vector database, without storing edges. This setup can be useful when you want to leverage TigerGraph solely as a vector database. However, to fully unlock the potential of TigerGraph, you can also use it as both a graph and vector storage solution. For more details, refer to the [next guide](quick_start_both.md).\n",
    "\n",
    "This guide assumes that you have already installed TigerGraphX and its dependencies, as outlined in the [Installation Guide](installation.md).\n",
    "\n",
    "To run this Jupyter Notebook, download the original `.ipynb` file from [quick_start_vector.ipynb](https://github.com/tigergraph/tigergraphx/tree/main/docs/getting_started/quick_start_vector.ipynb).\n",
    "\n",
    "---\n",
    "\n",
    "## Create a Graph\n",
    "### Define the TigerGraph Connection Configuration\n",
    "Since our data is stored in a TigerGraph instance—whether on-premise or in the cloud—we need to configure the connection settings. The recommended approach is to use environment variables, such as setting them with the `export` command in the shell. Here, to illustrate the demo, we configure them within Python using the `os.environ` method. You can find more methods for configuring connection settings in [Graph.\\_\\_init\\_\\_](../reference/01_core/graph.md#tigergraphx.core.graph.Graph.__init__)."
   ]
  },
  {
   "cell_type": "code",
   "execution_count": 1,
   "id": "4ad8d1cc-a7a1-4c8d-9359-be1acbe7033c",
   "metadata": {},
   "outputs": [],
   "source": [
    ">>> import os\n",
    ">>> os.environ[\"TG_HOST\"] = \"http://127.0.0.1\"\n",
    ">>> os.environ[\"TG_USERNAME\"] = \"tigergraph\"\n",
    ">>> os.environ[\"TG_PASSWORD\"] = \"tigergraph\""
   ]
  },
  {
   "cell_type": "markdown",
   "id": "b2af8159-8abd-4e03-b8f6-66c794f03ca9",
   "metadata": {},
   "source": [
    "### Define a Graph Schema\n",
    "\n",
    "TigerGraph is a schema-based database, which requires defining a schema to structure your graph. A typical schema includes the graph name, nodes (vertices), edges (relationships), and their respective attributes. However, when using TigerGraph as a pure vector database, you only need to define the graph name, the node (vertex) type, and its attributes, including vector attributes.\n",
    "\n",
    "In this example, we create a graph called \"FinancialGraph\" with one node type: \"Account.\" This node type has a primary key `name`, attributes `name` (string) and `isBlocked` (boolean), and a vector attribute `emb1` (3-dimensional)."
   ]
  },
  {
   "cell_type": "code",
   "execution_count": 2,
   "id": "958406ca-e515-42bc-8437-8e401fbc3b81",
   "metadata": {},
   "outputs": [],
   "source": [
    ">>> graph_schema = {\n",
    "...     \"graph_name\": \"FinancialGraph\",\n",
    "...     \"nodes\": {\n",
    "...         \"Account\": {\n",
    "...             \"primary_key\": \"name\",\n",
    "...             \"attributes\": {\n",
    "...                 \"name\": \"STRING\",\n",
    "...                 \"isBlocked\": \"BOOL\",\n",
    "...             },\n",
    "...             \"vector_attributes\": {\"emb1\": 3},\n",
    "...         },\n",
    "...     },\n",
    "...     \"edges\": {}\n",
    "... }"
   ]
  },
  {
   "cell_type": "markdown",
   "id": "4e45c61e-83a0-4ce8-9146-14125b75d9a7",
   "metadata": {},
   "source": [
    "TigerGraphX offers several methods to define the schema, including a Python dictionary, YAML file, or JSON file. Above is an example using a Python dictionary. For other methods, please refer to [Graph.\\_\\_init\\_\\_](../reference/01_core/graph.md#tigergraphx.core.graph.Graph.__init__) for more details."
   ]
  },
  {
   "cell_type": "markdown",
   "id": "8fcac59d-7cbc-446a-9c55-43357d64382c",
   "metadata": {},
   "source": [
    "### Create a Graph\n",
    "Running the following command will create a graph using the user-defined schema if it does not already exist. If the graph exists, the command will return the existing graph. To overwrite the existing graph, set the drop_existing_graph parameter to True. Note that creating the graph may take several seconds."
   ]
  },
  {
   "cell_type": "code",
   "execution_count": 3,
   "id": "b813f7cd-bef6-4179-ad6b-ffd6f66f9513",
   "metadata": {},
   "outputs": [
    {
     "name": "stdout",
     "output_type": "stream",
     "text": [
      "2025-02-27 17:35:49,124 - tigergraphx.core.managers.schema_manager - INFO - Creating schema for graph: FinancialGraph...\n",
      "2025-02-27 17:35:52,641 - tigergraphx.core.managers.schema_manager - INFO - Graph schema created successfully.\n",
      "2025-02-27 17:35:52,642 - tigergraphx.core.managers.schema_manager - INFO - Adding vector attribute(s) for graph: FinancialGraph...\n",
      "2025-02-27 17:36:52,825 - tigergraphx.core.managers.schema_manager - INFO - Vector attribute(s) added successfully.\n"
     ]
    }
   ],
   "source": [
    ">>> from tigergraphx import Graph\n",
    ">>> G = Graph(graph_schema)"
   ]
  },
  {
   "cell_type": "markdown",
   "id": "773221cc-5b6e-4cba-8462-ffb40cc0db7e",
   "metadata": {},
   "source": [
    "### Retrieve a Graph and Print Its Schema\n",
    "Once a graph has been created in TigerGraph, you can retrieve it without manually defining the schema using the `Graph.from_db` method, which requires only the graph name:"
   ]
  },
  {
   "cell_type": "code",
   "execution_count": 4,
   "id": "e8c4e59e-a950-4cdf-b978-5c4026339135",
   "metadata": {},
   "outputs": [],
   "source": [
    ">>> G = Graph.from_db(\"FinancialGraph\")"
   ]
  },
  {
   "cell_type": "markdown",
   "id": "9b85b98f-df65-458b-88de-335af0fc65f4",
   "metadata": {},
   "source": [
    "Now, let's print the schema of the graph in a well-formatted manner:"
   ]
  },
  {
   "cell_type": "code",
   "execution_count": 5,
   "id": "f2996c52-d7a4-4e33-858b-1da5143d6946",
   "metadata": {},
   "outputs": [
    {
     "name": "stdout",
     "output_type": "stream",
     "text": [
      "{\n",
      "    \"graph_name\": \"FinancialGraph\",\n",
      "    \"nodes\": {\n",
      "        \"Account\": {\n",
      "            \"primary_key\": \"name\",\n",
      "            \"attributes\": {\n",
      "                \"name\": {\n",
      "                    \"data_type\": \"DataType.STRING\",\n",
      "                    \"default_value\": null\n",
      "                },\n",
      "                \"isBlocked\": {\n",
      "                    \"data_type\": \"DataType.BOOL\",\n",
      "                    \"default_value\": null\n",
      "                }\n",
      "            },\n",
      "            \"vector_attributes\": {\n",
      "                \"emb1\": {\n",
      "                    \"dimension\": 3,\n",
      "                    \"index_type\": \"HNSW\",\n",
      "                    \"data_type\": \"FLOAT\",\n",
      "                    \"metric\": \"COSINE\"\n",
      "                }\n",
      "            }\n",
      "        }\n",
      "    },\n",
      "    \"edges\": {}\n",
      "}\n"
     ]
    }
   ],
   "source": [
    ">>> import json\n",
    ">>> schema = G.get_schema()\n",
    ">>> print(json.dumps(schema, indent=4, default=str))"
   ]
  },
  {
   "cell_type": "markdown",
   "id": "ef8d6f31-94d7-4335-8169-e72c496bcd6d",
   "metadata": {},
   "source": [
    "## Add Nodes\n",
    "In this example, we add multiple nodes representing accounts to the graph. Each node is uniquely identified by a name and comes with two attributes:\n",
    "\n",
    "- **isBlocked:** A Boolean indicating whether the account is blocked.\n",
    "- **emb1:** A three-dimensional embedding vector."
   ]
  },
  {
   "cell_type": "code",
   "execution_count": 6,
   "id": "45c87626-3d93-4319-93b1-f816c211b36e",
   "metadata": {},
   "outputs": [
    {
     "name": "stdout",
     "output_type": "stream",
     "text": [
      "Number of Account Nodes Inserted: 5\n"
     ]
    }
   ],
   "source": [
    ">>> nodes_for_adding = [\n",
    "...     (\"Scott\", {\"isBlocked\": False, \"emb1\": [-0.017733968794345856, -0.01019224338233471, -0.016571875661611557]}),\n",
    "...     (\"Jenny\", {\"isBlocked\": False, \"emb1\": [-0.019265105947852135, 0.0004929182468913496, 0.006711316294968128]}),\n",
    "...     (\"Steven\", {\"isBlocked\": True, \"emb1\": [-0.01505514420568943, -0.016819344833493233, -0.0221870020031929]}),\n",
    "...     (\"Paul\", {\"isBlocked\": False, \"emb1\": [0.0011193430982530117, -0.001038988004438579, -0.017158523201942444]}),\n",
    "...     (\"Ed\", {\"isBlocked\": False, \"emb1\": [-0.003692442551255226, 0.010494389571249485, -0.004631792660802603]}),\n",
    "... ]\n",
    ">>> print(\"Number of Account Nodes Inserted:\", G.add_nodes_from(nodes_for_adding, node_type=\"Account\"))"
   ]
  },
  {
   "cell_type": "markdown",
   "id": "7a39e1f1-d4fd-4736-8167-6ac0ea2d3a09",
   "metadata": {},
   "source": [
    "For larger datasets, consider using [load_data](../reference/01_core/graph.md#tigergraphx.core.Graph.load_data) for efficient handling of large-scale data."
   ]
  },
  {
   "cell_type": "markdown",
   "id": "e1a17452-d352-4ad2-b359-6ca13fc9dc3b",
   "metadata": {},
   "source": [
    "## Exploring Nodes in the Graph\n",
    "### Display the Number of Nodes\n",
    "Next, let's verify that the data has been inserted into the graph by using the following command. As expected, the number of nodes is 5."
   ]
  },
  {
   "cell_type": "code",
   "execution_count": 7,
   "id": "ea8fe5cc-4f43-4359-81f1-a492243c2984",
   "metadata": {},
   "outputs": [
    {
     "name": "stdout",
     "output_type": "stream",
     "text": [
      "5\n"
     ]
    }
   ],
   "source": [
    ">>> print(G.number_of_nodes())"
   ]
  },
  {
   "cell_type": "markdown",
   "id": "bd10c3a3-f658-456b-8770-13886467d56a",
   "metadata": {},
   "source": [
    "### Check if Nodes Exist\n",
    "Use the following commands to check whether specific nodes are present in the graph:"
   ]
  },
  {
   "cell_type": "code",
   "execution_count": 8,
   "id": "2e186992-e8b5-4e8c-affe-125cc7f4a9c0",
   "metadata": {},
   "outputs": [
    {
     "name": "stdout",
     "output_type": "stream",
     "text": [
      "True\n"
     ]
    }
   ],
   "source": [
    ">>> print(G.has_node(\"Scott\"))"
   ]
  },
  {
   "cell_type": "code",
   "execution_count": 9,
   "id": "0902dd28-b531-474f-ac21-12476c2ee7ce",
   "metadata": {},
   "outputs": [
    {
     "name": "stdout",
     "output_type": "stream",
     "text": [
      "True\n"
     ]
    }
   ],
   "source": [
    ">>> print(G.has_node(\"Jenny\"))"
   ]
  },
  {
   "cell_type": "markdown",
   "id": "a1c16169-ba84-49a7-a73c-7a394ea8ca27",
   "metadata": {},
   "source": [
    "### Display Node Attributes\n",
    "To display all attributes of a given node, use the following command:"
   ]
  },
  {
   "cell_type": "code",
   "execution_count": 10,
   "id": "077b6b6a-fcca-40ec-b92e-5bd8010e6f82",
   "metadata": {},
   "outputs": [
    {
     "name": "stdout",
     "output_type": "stream",
     "text": [
      "{'name': 'Scott', 'isBlocked': False}\n"
     ]
    }
   ],
   "source": [
    ">>> print(G.nodes[\"Scott\"])"
   ]
  },
  {
   "cell_type": "markdown",
   "id": "bc465203-1fed-4239-8722-75c360294a8d",
   "metadata": {},
   "source": [
    "To display a specific attribute, use the command below:"
   ]
  },
  {
   "cell_type": "code",
   "execution_count": 11,
   "id": "da7f2327-d27c-4635-b11a-049b449af3e5",
   "metadata": {},
   "outputs": [
    {
     "name": "stdout",
     "output_type": "stream",
     "text": [
      "False\n"
     ]
    }
   ],
   "source": [
    ">>> print(G.nodes[\"Scott\"][\"isBlocked\"])"
   ]
  },
  {
   "cell_type": "markdown",
   "id": "72b111a5-90a7-4b69-88e5-00f913d5d3cb",
   "metadata": {},
   "source": [
    "### Filter the Nodes\n",
    "Retrieve \"Account\" nodes that match a specific filter expression, request only selected attributes, and limit the results:"
   ]
  },
  {
   "cell_type": "code",
   "execution_count": 12,
   "id": "e493d731-704b-4ba0-ba93-c57e7c35ba28",
   "metadata": {},
   "outputs": [
    {
     "name": "stdout",
     "output_type": "stream",
     "text": [
      "    name  isBlocked\n",
      "0   Paul      False\n",
      "1  Scott      False\n"
     ]
    }
   ],
   "source": [
    ">>> df = G.get_nodes(\n",
    "...     node_type=\"Account\",\n",
    "...     node_alias=\"s\", # \"s\" is the default value, so you can remove this line\n",
    "...     filter_expression=\"s.isBlocked == False\",\n",
    "...     return_attributes=[\"name\", \"isBlocked\"],\n",
    "...     limit=2\n",
    "... )\n",
    ">>> print(df)"
   ]
  },
  {
   "cell_type": "markdown",
   "id": "6ef13890-37d0-4b23-9027-390275f27d26",
   "metadata": {},
   "source": [
    "### Display Node's Vector Attributes\n",
    "Retrieve the vector attribute of a specific node:"
   ]
  },
  {
   "cell_type": "code",
   "execution_count": 13,
   "id": "03370c3d-500c-4980-bfe6-22ef9c6470fe",
   "metadata": {},
   "outputs": [
    {
     "name": "stdout",
     "output_type": "stream",
     "text": [
      "[-0.01773397, -0.01019224, -0.01657188]\n"
     ]
    }
   ],
   "source": [
    ">>> vector = G.fetch_node(\n",
    "...     node_id=\"Scott\",\n",
    "...     vector_attribute_name=\"emb1\",\n",
    "... )\n",
    ">>> print(vector)"
   ]
  },
  {
   "cell_type": "markdown",
   "id": "346ff1a3-fdd5-4c37-bd9b-0850b1e7144d",
   "metadata": {},
   "source": [
    "Retrieve vector attributes for multiple nodes:"
   ]
  },
  {
   "cell_type": "code",
   "execution_count": 14,
   "id": "74ab40b2-b1a5-4501-b5c1-9ca5ad17b36c",
   "metadata": {},
   "outputs": [
    {
     "name": "stdout",
     "output_type": "stream",
     "text": [
      "('Scott', [-0.01773397, -0.01019224, -0.01657188])\n",
      "('Jenny', [-0.01926511, 0.0004929182, 0.006711317])\n"
     ]
    }
   ],
   "source": [
    ">>> vectors = G.fetch_nodes(\n",
    "...     node_ids=[\"Scott\", \"Jenny\"],\n",
    "...     vector_attribute_name=\"emb1\",\n",
    "... )\n",
    ">>> for vector in vectors.items():\n",
    "...     print(vector)"
   ]
  },
  {
   "cell_type": "markdown",
   "id": "7ee3d652-ce78-4940-b4ba-c9459b3a1838",
   "metadata": {},
   "source": [
    "## Perform Vector Search\n",
    "### Top-k Vector Search on a Given Vertex Type's Vector Attribute\n",
    "To find the top 2 most similar accounts to \"Scott\" based on the embedding, we use the following code. As expected, \"Scott\" will appear in the list with a distance of 0."
   ]
  },
  {
   "cell_type": "code",
   "execution_count": 15,
   "id": "f9e47b19-7909-4911-b3a4-623f34fcbc30",
   "metadata": {},
   "outputs": [
    {
     "name": "stdout",
     "output_type": "stream",
     "text": [
      "{'id': 'Scott', 'distance': 0, 'name': 'Scott', 'isBlocked': False}\n",
      "{'id': 'Steven', 'distance': 0.0325563, 'name': 'Steven', 'isBlocked': True}\n"
     ]
    }
   ],
   "source": [
    ">>> results = G.search(\n",
    "...    data=[-0.017733968794345856, -0.01019224338233471, -0.016571875661611557],\n",
    "...    vector_attribute_name=\"emb1\",\n",
    "...    node_type=\"Account\",\n",
    "...    limit=2\n",
    "... )\n",
    ">>> for result in results:\n",
    "...     print(result)"
   ]
  },
  {
   "cell_type": "markdown",
   "id": "1452b1e1-981f-4de7-a2d4-a7a4e5fac27e",
   "metadata": {},
   "source": [
    "### Top-k Vector Search Using a Vertex Embedding as the Query Vector\n",
    "This code performs a top-k vector search for similar nodes to a specified node \"Scott\". It searches within the \"Account\" node type using the \"emb1\" embedding attribute and retrieves the top 2 similar node."
   ]
  },
  {
   "cell_type": "code",
   "execution_count": 16,
   "id": "a5aba6c7-6e4f-4235-b0ff-0fd65ca42c3a",
   "metadata": {},
   "outputs": [
    {
     "name": "stdout",
     "output_type": "stream",
     "text": [
      "{'id': 'Paul', 'distance': 0.3933879, 'name': 'Paul', 'isBlocked': False}\n",
      "{'id': 'Steven', 'distance': 0.0325563, 'name': 'Steven', 'isBlocked': True}\n"
     ]
    }
   ],
   "source": [
    ">>> results = G.search_top_k_similar_nodes(\n",
    "...     node_id=\"Scott\",\n",
    "...     vector_attribute_name=\"emb1\",\n",
    "...     node_type=\"Account\",\n",
    "...     limit=2\n",
    "... )\n",
    ">>> for result in results:\n",
    "...     print(result)"
   ]
  },
  {
   "cell_type": "markdown",
   "id": "3aabf528-a482-4280-a084-9e0ec4024655",
   "metadata": {},
   "source": [
    "### Top-k Vector Search with Specified Candidates\n",
    "This code performs a top-2 vector search on the \"Account\" node type using the \"emb1\" embedding attribute. It limits the search to the specified candidate nodes: \"Jenny\", \"Steven\", and \"Ed\"."
   ]
  },
  {
   "cell_type": "code",
   "execution_count": 17,
   "id": "834a8869-93da-42b8-bf1e-69b9ba75881d",
   "metadata": {},
   "outputs": [
    {
     "name": "stdout",
     "output_type": "stream",
     "text": [
      "{'id': 'Steven', 'distance': 0.0325563, 'name': 'Steven', 'isBlocked': True}\n",
      "{'id': 'Jenny', 'distance': 0.5804119, 'name': 'Jenny', 'isBlocked': False}\n"
     ]
    }
   ],
   "source": [
    ">>> results = G.search(\n",
    "...     data=[-0.017733968794345856, -0.01019224338233471, -0.016571875661611557],\n",
    "...     vector_attribute_name=\"emb1\",\n",
    "...     node_type=\"Account\",\n",
    "...     limit=2,\n",
    "...     candidate_ids=[\"Jenny\", \"Steven\", \"Ed\"]\n",
    "... )\n",
    ">>> for result in results:\n",
    "...     print(result)"
   ]
  },
  {
   "cell_type": "markdown",
   "id": "6f7e6925-6a9a-479f-8fba-9d40682b58bd",
   "metadata": {},
   "source": [
    "## Filtered Vector Search\n",
    "Let's first retrieves all \"Account\" nodes where the isBlocked attribute is False and returns their name attributes in a Pandas DataFrame."
   ]
  },
  {
   "cell_type": "code",
   "execution_count": 18,
   "id": "c2ea10b8-3cb7-4a72-97de-3cd11fc3beba",
   "metadata": {},
   "outputs": [
    {
     "name": "stdout",
     "output_type": "stream",
     "text": [
      "    name\n",
      "0   Paul\n",
      "1  Scott\n",
      "2  Jenny\n"
     ]
    }
   ],
   "source": [
    ">>> nodes_df = G.get_nodes(\n",
    "...     node_type=\"Account\",\n",
    "...     node_alias=\"s\", # The alias \"s\" is used in filter_expression. You can remove this line since the default node alias is \"s\"\n",
    "...     filter_expression='s.isBlocked == False AND s.name != \"Ed\"',\n",
    "...     return_attributes=[\"name\"],\n",
    "... )\n",
    ">>> print(nodes_df)"
   ]
  },
  {
   "cell_type": "markdown",
   "id": "e6f7c3fe-9dd4-43b1-a385-4a9863df1c16",
   "metadata": {},
   "source": [
    "Then convert the name column of the retrieved DataFrame into a set of candidate IDs and performs a top-2 vector search on the \"Account\" node type using the \"emb1\" embedding attribute, restricted to the specified candidate IDs."
   ]
  },
  {
   "cell_type": "code",
   "execution_count": 19,
   "id": "041e9ff5-f26a-445f-b9e2-b8546c8be3de",
   "metadata": {},
   "outputs": [
    {
     "name": "stdout",
     "output_type": "stream",
     "text": [
      "{'id': 'Paul', 'distance': 0.393388, 'name': 'Paul', 'isBlocked': False}\n",
      "{'id': 'Scott', 'distance': 0, 'name': 'Scott', 'isBlocked': False}\n"
     ]
    }
   ],
   "source": [
    ">>> candidate_ids = set(nodes_df['name'])\n",
    "... results = G.search(\n",
    "...     data=[-0.017733968794345856, -0.01019224338233471, -0.016571875661611557],\n",
    "...     vector_attribute_name=\"emb1\",\n",
    "...     node_type=\"Account\",\n",
    "...     limit=2,\n",
    "...     candidate_ids=candidate_ids\n",
    "... )\n",
    ">>> for result in results:\n",
    "...     print(result)"
   ]
  },
  {
   "cell_type": "markdown",
   "id": "44dd72a4-bf09-4752-9b60-aeed492e0915",
   "metadata": {},
   "source": [
    "## Clear and Drop a Graph\n",
    "\n",
    "### Clear the Graph\n",
    "To clear the data in the graph without dropping it, use the following code:"
   ]
  },
  {
   "cell_type": "code",
   "execution_count": 20,
   "id": "456edd2b-811f-4092-9d71-207446de030d",
   "metadata": {},
   "outputs": [
    {
     "name": "stdout",
     "output_type": "stream",
     "text": [
      "True\n"
     ]
    }
   ],
   "source": [
    ">>> print(G.clear())"
   ]
  },
  {
   "cell_type": "markdown",
   "id": "7405beae-2423-4737-a08f-9ac7a58d652d",
   "metadata": {},
   "source": [
    "Afterwards, you can confirm that there are no nodes in the graph by checking:"
   ]
  },
  {
   "cell_type": "code",
   "execution_count": 21,
   "id": "2712fae5-bdb0-4911-93b3-934f4d25995d",
   "metadata": {},
   "outputs": [
    {
     "name": "stdout",
     "output_type": "stream",
     "text": [
      "0\n"
     ]
    }
   ],
   "source": [
    ">>> print(G.number_of_nodes())"
   ]
  },
  {
   "cell_type": "markdown",
   "id": "a0f0b601-b258-4938-8214-550cb8d8c6fa",
   "metadata": {},
   "source": [
    "### Drop the Graph\n",
    "To clear the data and completely remove the graph—including schema, loading jobs, and queries—use the following code:"
   ]
  },
  {
   "cell_type": "code",
   "execution_count": 22,
   "id": "36504b02-1b86-4782-a4cc-f9a4789d5750",
   "metadata": {},
   "outputs": [
    {
     "name": "stdout",
     "output_type": "stream",
     "text": [
      "2025-02-27 17:38:44,545 - tigergraphx.core.managers.schema_manager - INFO - Dropping graph: FinancialGraph...\n",
      "2025-02-27 17:38:47,882 - tigergraphx.core.managers.schema_manager - INFO - Graph dropped successfully.\n"
     ]
    }
   ],
   "source": [
    ">>> G.drop_graph()"
   ]
  },
  {
   "cell_type": "markdown",
   "id": "822f1d02-ec2a-4436-b53e-71750e4322d9",
   "metadata": {},
   "source": [
    "---\n",
    "\n",
    "## What’s Next?\n",
    "\n",
    "Now that you've learned how to use TigerGraph for storing both graph data and vectors, you can dive into more advanced features of TigerGraphX:\n",
    "\n",
    "- [GraphRAG Overview](../graphrag/graphrag_overview.md): Learn about integrating graphs with LLMs.\n",
    "- [API Reference](../reference/introduction.md): Dive deeper into TigerGraphX APIs.\n",
    "\n",
    "---\n",
    "\n",
    "Start unlocking the power of graphs with **TigerGraphX** today!"
   ]
  }
 ],
 "metadata": {
  "kernelspec": {
   "display_name": "Python 3 (ipykernel)",
   "language": "python",
   "name": "python3"
  },
  "language_info": {
   "codemirror_mode": {
    "name": "ipython",
    "version": 3
   },
   "file_extension": ".py",
   "mimetype": "text/x-python",
   "name": "python",
   "nbconvert_exporter": "python",
   "pygments_lexer": "ipython3",
   "version": "3.12.6"
  }
 },
 "nbformat": 4,
 "nbformat_minor": 5
}
