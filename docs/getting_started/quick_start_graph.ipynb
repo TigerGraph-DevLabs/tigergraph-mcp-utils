{
 "cells": [
  {
   "cell_type": "markdown",
   "id": "e8f4ca83-4f36-4fc1-947f-b23bfb672f90",
   "metadata": {},
   "source": [
    "# TigerGraphX Quick Start: Using TigerGraph as Graph Database\n",
    "Follow this guide to quickly set up **TigerGraphX** and build your first graph. This guide assumes that you have already installed TigerGraphX and its dependencies as described in the [Installation Guide](../installation).\n",
    "\n",
    "To run this Jupyter Notebook, you can download the original `.ipynb` file from [quick_start_graph.ipynb](https://github.com/xuanleilin/tigergraphx/tree/main/docs/getting_started/quick_start_graph.ipynb).\n",
    "\n",
    "---\n",
    "\n",
    "## Create a Graph\n",
    "### Define a Graph Schema\n",
    "TigerGraph is a schema-based database, which requires defining a schema to structure your graph. This schema specifies the graph name, nodes (vertices), edges (relationships), and their respective attributes.\n",
    "\n",
    "In this example, we will create a graph named \"Social\" that includes one node type, \"Person,\" and one directed edge type, \"Friendship.\" Note that you must define the primary key for each node type, indicate whether an edge type is directed or undirected, and specify the source and target node types for each edge type."
   ]
  },
  {
   "cell_type": "code",
   "execution_count": 1,
   "id": "12de7dbd-56fb-4f04-8315-4e5fe046a11e",
   "metadata": {},
   "outputs": [],
   "source": [
    "from tigergraphx import Graph\n",
    "graph_schema = {\n",
    "    \"graph_name\": \"Social\",\n",
    "    \"nodes\": {\n",
    "        \"Person\": {\n",
    "            \"primary_key\": \"name\",\n",
    "            \"attributes\": {\n",
    "                \"name\": \"STRING\",\n",
    "                \"age\": \"UINT\",\n",
    "            },\n",
    "        },\n",
    "    },\n",
    "    \"edges\": {\n",
    "        \"Friendship\": {\n",
    "            \"is_directed_edge\": False,\n",
    "            \"from_node_type\": \"Person\",\n",
    "            \"to_node_type\": \"Person\",\n",
    "            \"attributes\": {\n",
    "                \"closeness\": \"DOUBLE\",\n",
    "            },\n",
    "        },\n",
    "    },\n",
    "}"
   ]
  },
  {
   "cell_type": "markdown",
   "id": "411e4515-8477-4e91-841f-b7a3712855a7",
   "metadata": {},
   "source": [
    "### Define the TigerGraph Connection Configuration\n",
    "In addition to defining the schema, a connection configuration is necessary to establish communication with the TigerGraph server."
   ]
  },
  {
   "cell_type": "code",
   "execution_count": 2,
   "id": "3399c1cf-90a7-46ee-b4a5-01ad5783f4d4",
   "metadata": {},
   "outputs": [],
   "source": [
    "connection = {\n",
    "    \"host\": \"http://127.0.0.1\",\n",
    "    \"username\": \"tigergraph\",\n",
    "    \"password\": \"tigergraph\",\n",
    "}"
   ]
  },
  {
   "cell_type": "markdown",
   "id": "0b24e194-c2db-4122-90c6-6c33f91828a1",
   "metadata": {},
   "source": [
    "### Create a Graph\n",
    "Running the following command will create a graph using the user-defined schema if it does not already exist. If the graph exists, the command will return the existing graph. To overwrite the existing graph, set the drop_existing_graph parameter to True. Note that creating the graph may take several seconds."
   ]
  },
  {
   "cell_type": "code",
   "execution_count": 3,
   "id": "7fa9c4a4-3683-46fd-bd6a-10633cc45cff",
   "metadata": {},
   "outputs": [
    {
     "name": "stdout",
     "output_type": "stream",
     "text": [
      "2025-01-16 15:34:24,053 - tigergraphx.core.managers.schema_manager - INFO - Graph existence check for Social: does not exist\n",
      "2025-01-16 15:34:24,053 - tigergraphx.core.managers.schema_manager - INFO - Creating schema for graph: Social...\n",
      "2025-01-16 15:34:27,229 - tigergraphx.core.managers.schema_manager - INFO - Graph schema created successfully.\n"
     ]
    }
   ],
   "source": [
    "G = Graph(graph_schema, connection)"
   ]
  },
  {
   "cell_type": "markdown",
   "id": "4d6b2401-a248-4ca4-a524-405b7502e838",
   "metadata": {},
   "source": [
    "## Nodes and Edges\n",
    "### Add Nodes and Edges\n",
    "*Note*: This example demonstrates how to easily add nodes and edges using the API. However, adding nodes and edges individually may not be efficient for large-scale operations. For better performance when loading data into TigerGraph, it is recommended to use a loading job. Nonetheless, these examples are ideal for quickly getting started."
   ]
  },
  {
   "cell_type": "code",
   "execution_count": 4,
   "id": "15114ec6-2408-4e86-9605-98eed061c173",
   "metadata": {},
   "outputs": [],
   "source": [
    "G.add_node(\"Alice\", \"Person\", age=25)\n",
    "G.add_node(\"Michael\", \"Person\", age=28)\n",
    "G.add_edge(\"Alice\", \"Michael\", closeness=0.98)"
   ]
  },
  {
   "cell_type": "markdown",
   "id": "dd593497-a646-4ac2-8a0e-7de3bef2f00c",
   "metadata": {},
   "source": [
    "### Check if Nodes and Edges Exist"
   ]
  },
  {
   "cell_type": "code",
   "execution_count": 5,
   "id": "fcd0dc90-9abc-4d13-ae3a-6f46cd012cc4",
   "metadata": {},
   "outputs": [
    {
     "name": "stdout",
     "output_type": "stream",
     "text": [
      "True\n"
     ]
    }
   ],
   "source": [
    "print(G.has_node(\"Alice\"))"
   ]
  },
  {
   "cell_type": "code",
   "execution_count": 6,
   "id": "65d282f9-bc84-40b1-a812-b0f7fb19bbf0",
   "metadata": {},
   "outputs": [
    {
     "name": "stdout",
     "output_type": "stream",
     "text": [
      "True\n"
     ]
    }
   ],
   "source": [
    "print(G.has_node(\"Michael\"))"
   ]
  },
  {
   "cell_type": "markdown",
   "id": "153202f9-9acf-437d-8279-ebb9325851d3",
   "metadata": {},
   "source": [
    "Since the 'Friendship' edge is undirected, both 'Alice -> Michael' and 'Michael -> Alice' are valid and accessible."
   ]
  },
  {
   "cell_type": "code",
   "execution_count": 7,
   "id": "e0d524bd-67b3-4158-9d67-ccc4467313a3",
   "metadata": {},
   "outputs": [
    {
     "name": "stdout",
     "output_type": "stream",
     "text": [
      "True\n"
     ]
    }
   ],
   "source": [
    "print(G.has_edge(\"Alice\", \"Michael\"))"
   ]
  },
  {
   "cell_type": "code",
   "execution_count": 8,
   "id": "a60e6538-db62-430b-a2b8-5b24d178f207",
   "metadata": {},
   "outputs": [
    {
     "name": "stdout",
     "output_type": "stream",
     "text": [
      "True\n"
     ]
    }
   ],
   "source": [
    "print(G.has_edge(\"Michael\", \"Alice\"))"
   ]
  },
  {
   "cell_type": "markdown",
   "id": "3563159b-e75a-474f-8a66-b3d621b14522",
   "metadata": {},
   "source": [
    "### Display Node and Edge Attributes\n",
    "#### Using `get_node_data` and `get_edge_data` Functions"
   ]
  },
  {
   "cell_type": "code",
   "execution_count": 9,
   "id": "d7a54559-1569-49c1-8a67-f520cd48cfe9",
   "metadata": {},
   "outputs": [
    {
     "name": "stdout",
     "output_type": "stream",
     "text": [
      "{'name': 'Alice', 'age': 25}\n"
     ]
    }
   ],
   "source": [
    "print(G.get_node_data(\"Alice\"))"
   ]
  },
  {
   "cell_type": "code",
   "execution_count": 10,
   "id": "f3ab62bc-6d29-4bdc-9e7f-9910c33b90fd",
   "metadata": {},
   "outputs": [
    {
     "name": "stdout",
     "output_type": "stream",
     "text": [
      "{'closeness': 0.98}\n"
     ]
    }
   ],
   "source": [
    "print(G.get_edge_data(\"Alice\", \"Michael\"))"
   ]
  },
  {
   "cell_type": "markdown",
   "id": "21b8fe78-1bc5-4878-af6f-347ca8355cff",
   "metadata": {},
   "source": [
    "#### Using Node View"
   ]
  },
  {
   "cell_type": "code",
   "execution_count": 11,
   "id": "29ec87e0-ca10-4cf7-acbe-29373d69b766",
   "metadata": {},
   "outputs": [
    {
     "name": "stdout",
     "output_type": "stream",
     "text": [
      "{'name': 'Alice', 'age': 25}\n"
     ]
    }
   ],
   "source": [
    "print(G.nodes[\"Alice\"])"
   ]
  },
  {
   "cell_type": "code",
   "execution_count": 12,
   "id": "cf86bc7a-f470-461f-b7ab-c18fdf376cf1",
   "metadata": {},
   "outputs": [
    {
     "name": "stdout",
     "output_type": "stream",
     "text": [
      "28\n"
     ]
    }
   ],
   "source": [
    "print(G.nodes[\"Michael\"][\"age\"])"
   ]
  },
  {
   "cell_type": "markdown",
   "id": "2fcfe2d1-72f5-4cc3-be95-73d4d67d5503",
   "metadata": {},
   "source": [
    "*Note:* The Edge View feature is planned for future releases."
   ]
  },
  {
   "cell_type": "markdown",
   "id": "39353f35-8be2-48e6-a203-b75bb0bf216d",
   "metadata": {},
   "source": [
    "### Display the Degree of Nodes"
   ]
  },
  {
   "cell_type": "code",
   "execution_count": 13,
   "id": "1926e3a7-904c-4fb7-91a4-6d1d3ef4272e",
   "metadata": {},
   "outputs": [
    {
     "name": "stdout",
     "output_type": "stream",
     "text": [
      "1\n"
     ]
    }
   ],
   "source": [
    "print(G.degree(\"Alice\"))"
   ]
  },
  {
   "cell_type": "markdown",
   "id": "b1e34e94-fc6e-43dc-a1d2-22099863ed66",
   "metadata": {},
   "source": [
    "### Retrieve the Neighbors of a Node"
   ]
  },
  {
   "cell_type": "code",
   "execution_count": 14,
   "id": "6fb5234f-51de-483f-9c67-2306fb158b38",
   "metadata": {},
   "outputs": [
    {
     "name": "stdout",
     "output_type": "stream",
     "text": [
      "      name  age\n",
      "0  Michael   28\n"
     ]
    }
   ],
   "source": [
    "neighbors = G.get_neighbors(\"Alice\")\n",
    "print(neighbors)"
   ]
  },
  {
   "cell_type": "code",
   "execution_count": 15,
   "id": "b5c0e107-3ea3-4481-888f-fa2281216c1f",
   "metadata": {},
   "outputs": [
    {
     "name": "stdout",
     "output_type": "stream",
     "text": [
      "<class 'pandas.core.frame.DataFrame'>\n"
     ]
    }
   ],
   "source": [
    "print(type(neighbors))"
   ]
  },
  {
   "cell_type": "markdown",
   "id": "a4c651eb-3f57-41cc-a162-e2b9ac5bcb45",
   "metadata": {},
   "source": [
    "## Graph Statistics\n",
    "### Display the Number of Nodes"
   ]
  },
  {
   "cell_type": "code",
   "execution_count": 16,
   "id": "11bd2b67-55d8-4fd8-8e4f-9a3b67399497",
   "metadata": {},
   "outputs": [
    {
     "name": "stdout",
     "output_type": "stream",
     "text": [
      "2\n"
     ]
    }
   ],
   "source": [
    "print(G.number_of_nodes())"
   ]
  },
  {
   "cell_type": "markdown",
   "id": "82940d62-4d69-4a12-9fc0-b70dac6c1184",
   "metadata": {},
   "source": [
    "### Display the Number of Edges"
   ]
  },
  {
   "cell_type": "code",
   "execution_count": 17,
   "id": "76479ca8-b772-4ecd-bcb1-7df33e634361",
   "metadata": {},
   "outputs": [
    {
     "name": "stdout",
     "output_type": "stream",
     "text": [
      "2\n"
     ]
    }
   ],
   "source": [
    "print(G.number_of_edges())"
   ]
  },
  {
   "cell_type": "markdown",
   "id": "fe6d0366-cb7e-4289-b253-a9e39029e6d2",
   "metadata": {},
   "source": [
    "## Clear and Drop a Graph\n",
    "\n",
    "### Clear the Graph\n",
    "To clear the data in the graph without dropping it, use the following code:"
   ]
  },
  {
   "cell_type": "code",
   "execution_count": 18,
   "id": "194e3b38-d67a-47fe-9fb6-e545de9af388",
   "metadata": {},
   "outputs": [
    {
     "name": "stdout",
     "output_type": "stream",
     "text": [
      "True\n"
     ]
    }
   ],
   "source": [
    "print(G.clear())"
   ]
  },
  {
   "cell_type": "markdown",
   "id": "c68cdc61-41da-4923-9bcc-bfd3362b6f59",
   "metadata": {},
   "source": [
    "Afterwards, you can confirm that there are no nodes in the graph by checking:"
   ]
  },
  {
   "cell_type": "code",
   "execution_count": 19,
   "id": "03c18790-63fe-4330-b2fb-3173f73eb70a",
   "metadata": {},
   "outputs": [
    {
     "name": "stdout",
     "output_type": "stream",
     "text": [
      "0\n"
     ]
    }
   ],
   "source": [
    "print(G.number_of_nodes())"
   ]
  },
  {
   "cell_type": "markdown",
   "id": "5c190374-0434-436f-841b-30c53ba63273",
   "metadata": {},
   "source": [
    "### Drop the Graph\n",
    "To clear the data and completely remove the graph—including schema, loading jobs, and queries—use the following code:"
   ]
  },
  {
   "cell_type": "code",
   "execution_count": 20,
   "id": "442428db-8f75-48e7-adfd-86d0ac16fe6c",
   "metadata": {},
   "outputs": [
    {
     "name": "stdout",
     "output_type": "stream",
     "text": [
      "2025-01-16 15:34:48,988 - tigergraphx.core.managers.schema_manager - INFO - Dropping graph: Social...\n",
      "2025-01-16 15:34:51,566 - tigergraphx.core.managers.schema_manager - INFO - Graph dropped successfully.\n"
     ]
    }
   ],
   "source": [
    "G.drop_graph()"
   ]
  },
  {
   "cell_type": "markdown",
   "id": "a922d3d6-6dcd-40f8-87b5-eb8a2c65eef3",
   "metadata": {},
   "source": [
    "---\n",
    "\n",
    "## What’s Next?\n",
    "\n",
    "Now that you've set up your graph storage and performed basic operations, you can explore more advanced features of TigerGraphX:\n",
    "\n",
    "- [TigerGraph Quick Start Guide for Vector Storage](../quick_start_vector): Quickly get started with TigerGraph for storing vector data.\n",
    "- [API Reference](../../reference/features_overview): Dive deeper into TigerGraphX APIs to understand its full capabilities.\n",
    "\n",
    "---\n",
    "\n",
    "Start unlocking the power of graphs with **TigerGraphX** today!"
   ]
  }
 ],
 "metadata": {
  "kernelspec": {
   "display_name": "Python 3 (ipykernel)",
   "language": "python",
   "name": "python3"
  },
  "language_info": {
   "codemirror_mode": {
    "name": "ipython",
    "version": 3
   },
   "file_extension": ".py",
   "mimetype": "text/x-python",
   "name": "python",
   "nbconvert_exporter": "python",
   "pygments_lexer": "ipython3",
   "version": "3.12.6"
  }
 },
 "nbformat": 4,
 "nbformat_minor": 5
}
