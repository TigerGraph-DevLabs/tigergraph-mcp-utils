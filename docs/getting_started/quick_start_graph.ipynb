{
 "cells": [
  {
   "cell_type": "markdown",
   "id": "e8f4ca83-4f36-4fc1-947f-b23bfb672f90",
   "metadata": {},
   "source": [
    "# TigerGraphX Quick Start: Using TigerGraph as Graph Database\n",
    "Follow this guide to quickly set up **TigerGraphX** and build your first graph. This guide assumes that you have already installed TigerGraphX and its dependencies as described in the [Installation Guide](../installation).\n",
    "\n",
    "To run this Jupyter Notebook, you can download the original `.ipynb` file from [quick_start_graph.ipynb](https://github.com/tigergraph/tigergraphx/tree/main/docs/getting_started/quick_start_graph.ipynb).\n",
    "\n",
    "---\n",
    "\n",
    "## Create a Graph\n",
    "### Define the TigerGraph Connection Configuration\n",
    "Since our data is stored in a TigerGraph instance—whether on-premise or in the cloud—we need to configure the connection settings. The recommended approach is to use environment variables, such as setting them with the `export` command in the shell. Here, to illustrate the demo, we configure them within Python using the `os.environ` method. You can find more methods for configuring connection settings in [Graph.\\_\\_init\\_\\_](../../reference/01_core/graph/#tigergraphx.core.graph.Graph.__init__)."
   ]
  },
  {
   "cell_type": "code",
   "execution_count": 1,
   "id": "12de7dbd-56fb-4f04-8315-4e5fe046a11e",
   "metadata": {},
   "outputs": [],
   "source": [
    ">>> import os\n",
    ">>> os.environ[\"TG_HOST\"] = \"http://127.0.0.1\"\n",
    ">>> os.environ[\"TG_USERNAME\"] = \"tigergraph\"\n",
    ">>> os.environ[\"TG_PASSWORD\"] = \"tigergraph\""
   ]
  },
  {
   "cell_type": "markdown",
   "id": "411e4515-8477-4e91-841f-b7a3712855a7",
   "metadata": {},
   "source": [
    "### Define a Graph Schema\n",
    "TigerGraph is a schema-based database, which requires defining a schema to structure your graph. This schema specifies the graph name, nodes (vertices), edges (relationships), and their respective attributes.\n",
    "\n",
    "In this example, we will create a graph named \"Social\" that includes one node type, \"Person,\" and one directed edge type, \"Friendship.\" Note that you must define the primary key for each node type, indicate whether an edge type is directed or undirected, and specify the source and target node types for each edge type."
   ]
  },
  {
   "cell_type": "code",
   "execution_count": 2,
   "id": "3399c1cf-90a7-46ee-b4a5-01ad5783f4d4",
   "metadata": {},
   "outputs": [],
   "source": [
    ">>> graph_schema = {\n",
    "...     \"graph_name\": \"Social\",\n",
    "...     \"nodes\": {\n",
    "...         \"Person\": {\n",
    "...             \"primary_key\": \"name\",\n",
    "...             \"attributes\": {\n",
    "...                 \"name\": \"STRING\",\n",
    "...                 \"age\": \"UINT\",\n",
    "...                 \"gender\": \"STRING\",\n",
    "...             },\n",
    "...         },\n",
    "...     },\n",
    "...     \"edges\": {\n",
    "...         \"Friendship\": {\n",
    "...             \"is_directed_edge\": False,\n",
    "...             \"from_node_type\": \"Person\",\n",
    "...             \"to_node_type\": \"Person\",\n",
    "...             \"attributes\": {\n",
    "...                 \"closeness\": \"DOUBLE\",\n",
    "...             },\n",
    "...         },\n",
    "...     },\n",
    "... }"
   ]
  },
  {
   "cell_type": "markdown",
   "id": "d2fcd820-756e-4c3e-9c73-282a5c11e6cc",
   "metadata": {},
   "source": [
    "TigerGraphX offers several methods to define the schema, including a Python dictionary, YAML file, or JSON file. Above is an example using a Python dictionary. For other methods, please refer to [Graph.\\_\\_init\\_\\_](../../reference/01_core/graph/#tigergraphx.core.graph.Graph.__init__) for more details."
   ]
  },
  {
   "cell_type": "markdown",
   "id": "0b24e194-c2db-4122-90c6-6c33f91828a1",
   "metadata": {},
   "source": [
    "### Create a Graph\n",
    "Running the following command will create a graph using the user-defined schema if it does not already exist. If the graph exists, the command will return the existing graph. To overwrite the existing graph, set the drop_existing_graph parameter to True. Note that creating the graph may take several seconds."
   ]
  },
  {
   "cell_type": "code",
   "execution_count": 3,
   "id": "7fa9c4a4-3683-46fd-bd6a-10633cc45cff",
   "metadata": {},
   "outputs": [
    {
     "name": "stdout",
     "output_type": "stream",
     "text": [
      "2025-02-25 22:06:45,313 - tigergraphx.core.managers.schema_manager - INFO - Graph existence check for Social: does not exist\n",
      "2025-02-25 22:06:45,313 - tigergraphx.core.managers.schema_manager - INFO - Creating schema for graph: Social...\n",
      "2025-02-25 22:06:48,364 - tigergraphx.core.managers.schema_manager - INFO - Graph schema created successfully.\n"
     ]
    }
   ],
   "source": [
    ">>> from tigergraphx import Graph\n",
    ">>> G = Graph(graph_schema)"
   ]
  },
  {
   "cell_type": "markdown",
   "id": "3a804020-34e7-4b3f-87a9-14a7af7c9ac4",
   "metadata": {},
   "source": [
    "### Retrieve a Graph and Print Its Schema\n",
    "Once a graph has been created in TigerGraph, you can retrieve it without manually defining the schema using the `Graph.from_db` method, which requires only the graph name:"
   ]
  },
  {
   "cell_type": "code",
   "execution_count": 4,
   "id": "8063f623-c3d9-4c06-9206-8541001406f3",
   "metadata": {},
   "outputs": [],
   "source": [
    ">>> G = Graph.from_db(\"Social\")"
   ]
  },
  {
   "cell_type": "markdown",
   "id": "b36ebc61-70ab-4748-a730-647f9c6b5210",
   "metadata": {},
   "source": [
    "Now, let's print the schema of the graph in a well-formatted manner:"
   ]
  },
  {
   "cell_type": "code",
   "execution_count": 5,
   "id": "ef224325-a489-48df-b587-e44682d9e23b",
   "metadata": {},
   "outputs": [
    {
     "name": "stdout",
     "output_type": "stream",
     "text": [
      "{\n",
      "    \"graph_name\": \"Social\",\n",
      "    \"nodes\": {\n",
      "        \"Person\": {\n",
      "            \"primary_key\": \"name\",\n",
      "            \"attributes\": {\n",
      "                \"name\": {\n",
      "                    \"data_type\": \"DataType.STRING\",\n",
      "                    \"default_value\": null\n",
      "                },\n",
      "                \"age\": {\n",
      "                    \"data_type\": \"DataType.UINT\",\n",
      "                    \"default_value\": null\n",
      "                },\n",
      "                \"gender\": {\n",
      "                    \"data_type\": \"DataType.STRING\",\n",
      "                    \"default_value\": null\n",
      "                }\n",
      "            },\n",
      "            \"vector_attributes\": {}\n",
      "        }\n",
      "    },\n",
      "    \"edges\": {\n",
      "        \"Friendship\": {\n",
      "            \"is_directed_edge\": false,\n",
      "            \"from_node_type\": \"Person\",\n",
      "            \"to_node_type\": \"Person\",\n",
      "            \"discriminator\": \"set()\",\n",
      "            \"attributes\": {\n",
      "                \"closeness\": {\n",
      "                    \"data_type\": \"DataType.DOUBLE\",\n",
      "                    \"default_value\": null\n",
      "                }\n",
      "            }\n",
      "        }\n",
      "    }\n",
      "}\n"
     ]
    }
   ],
   "source": [
    ">>> import json\n",
    ">>> schema = G.get_schema()\n",
    ">>> print(json.dumps(schema, indent=4, default=str))"
   ]
  },
  {
   "cell_type": "markdown",
   "id": "4d6b2401-a248-4ca4-a524-405b7502e838",
   "metadata": {},
   "source": [
    "## Nodes and Edges\n",
    "### Adding Nodes and Edges\n",
    "\n",
    "TigerGraphX provides NetworkX-like methods for node operations, edge operations, and statistical analysis. You can find the full API reference in the [Graph class reference](../../reference/01_core/graph).\n",
    "\n",
    "To add nodes or edges individually, use the following code:"
   ]
  },
  {
   "cell_type": "code",
   "execution_count": 6,
   "id": "15114ec6-2408-4e86-9605-98eed061c173",
   "metadata": {},
   "outputs": [],
   "source": [
    ">>> G.add_node(\"Emily\", age=25)\n",
    ">>> G.add_node(\"John\", age=28)\n",
    ">>> G.add_edge(\"Emily\", \"John\", closeness=0.98)"
   ]
  },
  {
   "cell_type": "markdown",
   "id": "1461d9b2-8523-484c-a673-c2b20b1995f3",
   "metadata": {},
   "source": [
    "While this method is simple, it adds nodes and edges one by one. Alternatively, you can use `add_nodes_from` and `add_edges_from` to add them in small batches. The following example demonstrates how to add multiple nodes at once:"
   ]
  },
  {
   "cell_type": "code",
   "execution_count": 7,
   "id": "c0452eac-1c69-4c0d-bb70-d80c98f1c917",
   "metadata": {},
   "outputs": [
    {
     "data": {
      "text/plain": [
       "2"
      ]
     },
     "execution_count": 7,
     "metadata": {},
     "output_type": "execute_result"
    }
   ],
   "source": [
    ">>> nodes_for_adding = [\n",
    "...    (\"Alice\", {\"age\": 30, \"gender\": \"Female\"}),\n",
    "...    (\"Michael\", {\"age\": 29}),\n",
    "... ]\n",
    ">>> G.add_nodes_from(nodes_for_adding)"
   ]
  },
  {
   "cell_type": "markdown",
   "id": "97fc8dfd-626e-46a9-9fc8-5021024255c3",
   "metadata": {},
   "source": [
    "Next, let's add edges with individual attributes using tuples in the format `(source ID, target ID, attribute_dict)`."
   ]
  },
  {
   "cell_type": "code",
   "execution_count": 8,
   "id": "1221fb56-9ee8-4247-ac55-c1f326dbb087",
   "metadata": {},
   "outputs": [
    {
     "data": {
      "text/plain": [
       "3"
      ]
     },
     "execution_count": 8,
     "metadata": {},
     "output_type": "execute_result"
    }
   ],
   "source": [
    ">>> ebunch_to_add = [\n",
    "...    (\"Alice\", \"Michael\"),\n",
    "...    (\"Alice\", \"John\", {\"closeness\": 2.5}),\n",
    "...    (\"Emily\", \"John\", {\"closeness\": 1.5}),\n",
    "... ]\n",
    ">>> G.add_edges_from(ebunch_to_add)"
   ]
  },
  {
   "cell_type": "markdown",
   "id": "5953f744-42ce-46da-b90e-f2c1eb988fc8",
   "metadata": {},
   "source": [
    "For larger datasets, consider using [load_data](../../reference/01_core/graph/#tigergraphx.core.Graph.load_data) for efficient handling of large-scale data."
   ]
  },
  {
   "cell_type": "markdown",
   "id": "dd593497-a646-4ac2-8a0e-7de3bef2f00c",
   "metadata": {},
   "source": [
    "### Check if Nodes and Edges Exist"
   ]
  },
  {
   "cell_type": "code",
   "execution_count": 9,
   "id": "fcd0dc90-9abc-4d13-ae3a-6f46cd012cc4",
   "metadata": {},
   "outputs": [
    {
     "name": "stdout",
     "output_type": "stream",
     "text": [
      "True\n"
     ]
    }
   ],
   "source": [
    ">>> print(G.has_node(\"Alice\"))"
   ]
  },
  {
   "cell_type": "code",
   "execution_count": 10,
   "id": "65d282f9-bc84-40b1-a812-b0f7fb19bbf0",
   "metadata": {},
   "outputs": [
    {
     "name": "stdout",
     "output_type": "stream",
     "text": [
      "True\n"
     ]
    }
   ],
   "source": [
    ">>> print(G.has_node(\"Michael\"))"
   ]
  },
  {
   "cell_type": "markdown",
   "id": "153202f9-9acf-437d-8279-ebb9325851d3",
   "metadata": {},
   "source": [
    "Since the 'Friendship' edge is undirected, both 'Alice -> Michael' and 'Michael -> Alice' are valid and accessible."
   ]
  },
  {
   "cell_type": "code",
   "execution_count": 11,
   "id": "e0d524bd-67b3-4158-9d67-ccc4467313a3",
   "metadata": {},
   "outputs": [
    {
     "name": "stdout",
     "output_type": "stream",
     "text": [
      "True\n"
     ]
    }
   ],
   "source": [
    ">>> print(G.has_edge(\"Alice\", \"Michael\"))"
   ]
  },
  {
   "cell_type": "code",
   "execution_count": 12,
   "id": "a60e6538-db62-430b-a2b8-5b24d178f207",
   "metadata": {},
   "outputs": [
    {
     "name": "stdout",
     "output_type": "stream",
     "text": [
      "True\n"
     ]
    }
   ],
   "source": [
    ">>> print(G.has_edge(\"Michael\", \"Alice\"))"
   ]
  },
  {
   "cell_type": "markdown",
   "id": "3563159b-e75a-474f-8a66-b3d621b14522",
   "metadata": {},
   "source": [
    "### Display Node and Edge Attributes"
   ]
  },
  {
   "cell_type": "markdown",
   "id": "21b8fe78-1bc5-4878-af6f-347ca8355cff",
   "metadata": {},
   "source": [
    "#### Display Node Attributes\n",
    "To display all attributes of a given node, use the following command:"
   ]
  },
  {
   "cell_type": "code",
   "execution_count": 13,
   "id": "29ec87e0-ca10-4cf7-acbe-29373d69b766",
   "metadata": {},
   "outputs": [
    {
     "name": "stdout",
     "output_type": "stream",
     "text": [
      "{'name': 'Alice', 'age': 30, 'gender': 'Female'}\n"
     ]
    }
   ],
   "source": [
    ">>> print(G.nodes[\"Alice\"])"
   ]
  },
  {
   "cell_type": "markdown",
   "id": "a2b82115-2c6d-49f3-a97b-1ba6695de579",
   "metadata": {},
   "source": [
    "To display a specific attribute, use the command below:"
   ]
  },
  {
   "cell_type": "code",
   "execution_count": 14,
   "id": "cf86bc7a-f470-461f-b7ab-c18fdf376cf1",
   "metadata": {},
   "outputs": [
    {
     "name": "stdout",
     "output_type": "stream",
     "text": [
      "29\n"
     ]
    }
   ],
   "source": [
    ">>> print(G.nodes[\"Michael\"][\"age\"])"
   ]
  },
  {
   "cell_type": "markdown",
   "id": "28d50f60-7b93-494d-8653-14877176f5c1",
   "metadata": {},
   "source": [
    "#### Display Edge Attributes"
   ]
  },
  {
   "cell_type": "code",
   "execution_count": 15,
   "id": "ac3cccf4-5cd1-40a4-b162-81b0f6005783",
   "metadata": {},
   "outputs": [
    {
     "name": "stdout",
     "output_type": "stream",
     "text": [
      "{'closeness': 0}\n"
     ]
    }
   ],
   "source": [
    ">>> print(G.get_edge_data(\"Alice\", \"Michael\"))"
   ]
  },
  {
   "cell_type": "markdown",
   "id": "39353f35-8be2-48e6-a203-b75bb0bf216d",
   "metadata": {},
   "source": [
    "### Display the Degree of Nodes\n",
    "To display the degree of a given node, use the following command:"
   ]
  },
  {
   "cell_type": "code",
   "execution_count": 16,
   "id": "1926e3a7-904c-4fb7-91a4-6d1d3ef4272e",
   "metadata": {},
   "outputs": [
    {
     "name": "stdout",
     "output_type": "stream",
     "text": [
      "2\n"
     ]
    }
   ],
   "source": [
    ">>> print(G.degree(\"Alice\"))"
   ]
  },
  {
   "cell_type": "markdown",
   "id": "b1e34e94-fc6e-43dc-a1d2-22099863ed66",
   "metadata": {},
   "source": [
    "## Query Operations\n",
    "### Retrieve Nodes\n",
    "Retrieve \"Person\" nodes that match a specific filter expression, use a custom alias, request only selected attributes, and limit the results:"
   ]
  },
  {
   "cell_type": "code",
   "execution_count": 17,
   "id": "790c1bd6-2eb7-4260-8743-93144670b123",
   "metadata": {},
   "outputs": [
    {
     "name": "stdout",
     "output_type": "stream",
     "text": [
      "      name  age\n",
      "0  Michael   29\n"
     ]
    }
   ],
   "source": [
    ">>> df = G.get_nodes(\n",
    "...     node_type=\"Person\",\n",
    "...     node_alias=\"s\", # \"s\" is the default value, so you can remove this line\n",
    "...     filter_expression=\"s.age >= 29\",\n",
    "...     return_attributes=[\"name\", \"age\"],\n",
    "...     limit=1\n",
    "... )\n",
    ">>> print(df)"
   ]
  },
  {
   "cell_type": "markdown",
   "id": "50d28c36-b798-4d8d-b060-08b1efec7bc8",
   "metadata": {},
   "source": [
    "### Retrieve a Node's Neighbors\n",
    "Retrieve the first \"Person\" node that is a friend of Alice, filtering edges where closeness > 1 and returning the target node's \"name\" and \"gender\" attributes:"
   ]
  },
  {
   "cell_type": "code",
   "execution_count": 18,
   "id": "6fb5234f-51de-483f-9c67-2306fb158b38",
   "metadata": {},
   "outputs": [
    {
     "name": "stdout",
     "output_type": "stream",
     "text": [
      "   name gender\n",
      "0  John       \n"
     ]
    }
   ],
   "source": [
    ">>> df = G.get_neighbors(\n",
    "...     start_nodes=\"Alice\",\n",
    "...     start_node_type=\"Person\",\n",
    "...     edge_types=\"Friendship\",\n",
    "...     target_node_types=\"Person\",\n",
    "...     filter_expression=\"e.closeness > 1\",\n",
    "...     return_attributes=[\"name\", \"gender\"],\n",
    "...     limit=1,\n",
    "... )\n",
    ">>> print(df)"
   ]
  },
  {
   "cell_type": "markdown",
   "id": "1d3ad78c-69f6-4236-9aa8-14739ce9284f",
   "metadata": {},
   "source": [
    "Note that the result of `get_neighbors` is a Pandas DataFrame."
   ]
  },
  {
   "cell_type": "code",
   "execution_count": 19,
   "id": "b5c0e107-3ea3-4481-888f-fa2281216c1f",
   "metadata": {},
   "outputs": [
    {
     "name": "stdout",
     "output_type": "stream",
     "text": [
      "<class 'pandas.core.frame.DataFrame'>\n"
     ]
    }
   ],
   "source": [
    ">>> print(type(df))"
   ]
  },
  {
   "cell_type": "markdown",
   "id": "90fb436c-eddf-4752-81f8-918b0692876a",
   "metadata": {},
   "source": [
    "### Breadth First Search\n",
    "Below is an example of multi-hop neighbor traversal:"
   ]
  },
  {
   "cell_type": "code",
   "execution_count": 20,
   "id": "75273ac7-a83e-4438-9627-fbe6a8f70025",
   "metadata": {},
   "outputs": [
    {
     "name": "stdout",
     "output_type": "stream",
     "text": [
      "{'Michael', 'John'}\n"
     ]
    }
   ],
   "source": [
    ">>> # First hop: Retrieve neighbors of \"Alice\" of type \"Person\"\n",
    ">>> df = G.get_neighbors(start_nodes=\"Alice\", start_node_type=\"Person\")\n",
    ">>> primary_ids = set(df['name'])\n",
    ">>> print(primary_ids)"
   ]
  },
  {
   "cell_type": "code",
   "execution_count": 21,
   "id": "0d706d53-dc5b-4f2f-a4e0-49b509db791a",
   "metadata": {},
   "outputs": [
    {
     "name": "stdout",
     "output_type": "stream",
     "text": [
      "{'Emily', 'Alice'}\n"
     ]
    }
   ],
   "source": [
    ">>> # Second hop: Retrieve neighbors of the nodes identified in the first hop\n",
    ">>> df = G.get_neighbors(start_nodes=primary_ids, start_node_type=\"Person\")\n",
    ">>> primary_ids = set(df['name'])\n",
    ">>> print(primary_ids)"
   ]
  },
  {
   "cell_type": "code",
   "execution_count": 22,
   "id": "e0d967e0-e583-45ae-bbee-d429a1e830bf",
   "metadata": {},
   "outputs": [
    {
     "name": "stdout",
     "output_type": "stream",
     "text": [
      "  gender     name  age\n",
      "0            John   28\n",
      "1         Michael   29\n"
     ]
    }
   ],
   "source": [
    ">>> # Third hop: Retrieve neighbors of the nodes identified in the second hop\n",
    ">>> df = G.get_neighbors(start_nodes=primary_ids, start_node_type=\"Person\")\n",
    ">>> print(df)"
   ]
  },
  {
   "cell_type": "markdown",
   "id": "a4c651eb-3f57-41cc-a162-e2b9ac5bcb45",
   "metadata": {},
   "source": [
    "## Graph Statistics\n",
    "### Display the Number of Nodes"
   ]
  },
  {
   "cell_type": "code",
   "execution_count": 23,
   "id": "11bd2b67-55d8-4fd8-8e4f-9a3b67399497",
   "metadata": {},
   "outputs": [
    {
     "name": "stdout",
     "output_type": "stream",
     "text": [
      "4\n"
     ]
    }
   ],
   "source": [
    ">>> print(G.number_of_nodes())"
   ]
  },
  {
   "cell_type": "markdown",
   "id": "82940d62-4d69-4a12-9fc0-b70dac6c1184",
   "metadata": {},
   "source": [
    "### Display the Number of Edges"
   ]
  },
  {
   "cell_type": "code",
   "execution_count": 24,
   "id": "76479ca8-b772-4ecd-bcb1-7df33e634361",
   "metadata": {},
   "outputs": [
    {
     "name": "stdout",
     "output_type": "stream",
     "text": [
      "3\n"
     ]
    }
   ],
   "source": [
    ">>> print(G.number_of_edges())"
   ]
  },
  {
   "cell_type": "markdown",
   "id": "fe6d0366-cb7e-4289-b253-a9e39029e6d2",
   "metadata": {},
   "source": [
    "## Clear and Drop a Graph\n",
    "\n",
    "### Clear the Graph\n",
    "To clear the data in the graph without dropping it, use the following code:"
   ]
  },
  {
   "cell_type": "code",
   "execution_count": 25,
   "id": "194e3b38-d67a-47fe-9fb6-e545de9af388",
   "metadata": {},
   "outputs": [
    {
     "name": "stdout",
     "output_type": "stream",
     "text": [
      "True\n"
     ]
    }
   ],
   "source": [
    ">>> print(G.clear())"
   ]
  },
  {
   "cell_type": "markdown",
   "id": "c68cdc61-41da-4923-9bcc-bfd3362b6f59",
   "metadata": {},
   "source": [
    "Afterwards, you can confirm that there are no nodes in the graph by checking:"
   ]
  },
  {
   "cell_type": "code",
   "execution_count": 26,
   "id": "03c18790-63fe-4330-b2fb-3173f73eb70a",
   "metadata": {},
   "outputs": [
    {
     "name": "stdout",
     "output_type": "stream",
     "text": [
      "0\n"
     ]
    }
   ],
   "source": [
    ">>> print(G.number_of_nodes())"
   ]
  },
  {
   "cell_type": "markdown",
   "id": "5c190374-0434-436f-841b-30c53ba63273",
   "metadata": {},
   "source": [
    "### Drop the Graph\n",
    "To clear the data and completely remove the graph—including schema, loading jobs, and queries—use the following code:"
   ]
  },
  {
   "cell_type": "code",
   "execution_count": 27,
   "id": "442428db-8f75-48e7-adfd-86d0ac16fe6c",
   "metadata": {},
   "outputs": [
    {
     "name": "stdout",
     "output_type": "stream",
     "text": [
      "2025-02-25 22:08:00,495 - tigergraphx.core.managers.schema_manager - INFO - Dropping graph: Social...\n",
      "2025-02-25 22:08:03,255 - tigergraphx.core.managers.schema_manager - INFO - Graph dropped successfully.\n"
     ]
    }
   ],
   "source": [
    ">>> G.drop_graph()"
   ]
  },
  {
   "cell_type": "markdown",
   "id": "a922d3d6-6dcd-40f8-87b5-eb8a2c65eef3",
   "metadata": {},
   "source": [
    "---\n",
    "\n",
    "## What’s Next?\n",
    "\n",
    "Now that you've set up your graph storage and performed basic operations, you can explore more advanced features of TigerGraphX:\n",
    "\n",
    "- [TigerGraph Quick Start Guide for Vector Storage](../quick_start_vector): Quickly get started with TigerGraph for storing vector data.\n",
    "- [API Reference](../../reference/features_overview): Dive deeper into TigerGraphX APIs to understand its full capabilities.\n",
    "\n",
    "---\n",
    "\n",
    "Start unlocking the power of graphs with **TigerGraphX** today!"
   ]
  }
 ],
 "metadata": {
  "kernelspec": {
   "display_name": "Python 3 (ipykernel)",
   "language": "python",
   "name": "python3"
  },
  "language_info": {
   "codemirror_mode": {
    "name": "ipython",
    "version": 3
   },
   "file_extension": ".py",
   "mimetype": "text/x-python",
   "name": "python",
   "nbconvert_exporter": "python",
   "pygments_lexer": "ipython3",
   "version": "3.12.6"
  }
 },
 "nbformat": 4,
 "nbformat_minor": 5
}
