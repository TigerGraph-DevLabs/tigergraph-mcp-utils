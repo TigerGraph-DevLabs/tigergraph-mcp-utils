{
 "cells": [
  {
   "cell_type": "markdown",
   "id": "71966721-ce57-4fbe-a996-bc12558a23ca",
   "metadata": {},
   "source": [
    "# TigerGraphX Quick Start: Using TigerGraph for Graph and Vector Database\n",
    "\n",
    "Follow this guide to quickly get started with TigerGraph for storing both graph data and vectors. This guide assumes that you have already installed TigerGraphX and its dependencies, as outlined in the [Installation Guide](../installation).\n",
    "\n",
    "To run this Jupyter Notebook, download the original `.ipynb` file from [quick_start_both.ipynb](https://github.com/tigergraph/tigergraphx/tree/main/docs/getting_started/quick_start_both.ipynb).\n",
    "\n",
    "---\n",
    "\n",
    "In this quick start guide, we will work with the following graph:\n",
    "\n",
    "![Financial Graph](https://raw.githubusercontent.com/tigergraph/ecosys/master/demos/guru_scripts/docker/tutorial/4.x/FinancialGraph.jpg)\n",
    "\n",
    "## Create a Graph\n",
    "### Define a Graph Schema\n",
    "TigerGraph is a schema-based database, which requires defining a schema to structure your graph. This schema specifies the graph name, nodes (vertices), edges (relationships), and their respective attributes.\n",
    "\n",
    "In this example, we create a graph called \"FinancialGraph\" with three node types: \"Account,\" \"City,\" and \"Phone,\" and three edge types: \"transfer,\" \"hasPhone,\" and \"isLocatedIn.\"\n",
    "\n",
    "- **Nodes:**\n",
    "  - **Account**: Primary key `name`, attributes `name` (string) and `isBlocked` (boolean), vector attribute `emb1` (3).\n",
    "  - **City**: Primary key `name`, attribute `name` (string).\n",
    "  - **Phone**: Primary key `number`, attributes `number` (string) and `isBlocked` (boolean), vector attribute `emb1` (3).\n",
    "\n",
    "- **Edges:**\n",
    "  - **transfer**: Directed multi-edge between \"Account\" nodes, identified by `date` (datetime) as the unique identifier for each edge between a pair of source and target nodes. The edge has an attribute `amount` (integer).\n",
    "  - **hasPhone**: Undirected edge between \"Account\" and \"Phone\" nodes.\n",
    "  - **isLocatedIn**: Directed edge between \"Account\" and \"City\" nodes.\n",
    "\n",
    "This schema defines the structure of the \"FinancialGraph\" with nodes and edges and their respective attributes."
   ]
  },
  {
   "cell_type": "code",
   "execution_count": 1,
   "id": "4ad8d1cc-a7a1-4c8d-9359-be1acbe7033c",
   "metadata": {},
   "outputs": [],
   "source": [
    "graph_schema = {\n",
    "    \"graph_name\": \"FinancialGraph\",\n",
    "    \"nodes\": {\n",
    "        \"Account\": {\n",
    "            \"primary_key\": \"name\",\n",
    "            \"attributes\": {\n",
    "                \"name\": \"STRING\",\n",
    "                \"isBlocked\": \"BOOL\",\n",
    "            },\n",
    "            \"vector_attributes\": {\"emb1\": 3},\n",
    "        },\n",
    "        \"City\": {\n",
    "            \"primary_key\": \"name\",\n",
    "            \"attributes\": {\n",
    "                \"name\": \"STRING\",\n",
    "            },\n",
    "        },\n",
    "        \"Phone\": {\n",
    "            \"primary_key\": \"number\",\n",
    "            \"attributes\": {\n",
    "                \"number\": \"STRING\",\n",
    "                \"isBlocked\": \"BOOL\",\n",
    "            },\n",
    "            \"vector_attributes\": {\"emb1\": 3},\n",
    "        },\n",
    "    },\n",
    "    \"edges\": {\n",
    "        \"transfer\": {\n",
    "            \"is_directed_edge\": True,\n",
    "            \"from_node_type\": \"Account\",\n",
    "            \"to_node_type\": \"Account\",\n",
    "            \"discriminator\": \"date\",\n",
    "            \"attributes\": {\n",
    "                \"date\": \"DATETIME\",\n",
    "                \"amount\": \"INT\",\n",
    "            },\n",
    "        },\n",
    "        \"hasPhone\": {\n",
    "            \"is_directed_edge\": False,\n",
    "            \"from_node_type\": \"Account\",\n",
    "            \"to_node_type\": \"Phone\",\n",
    "        },\n",
    "        \"isLocatedIn\": {\n",
    "            \"is_directed_edge\": True,\n",
    "            \"from_node_type\": \"Account\",\n",
    "            \"to_node_type\": \"City\",\n",
    "        },\n",
    "    },\n",
    "}"
   ]
  },
  {
   "cell_type": "markdown",
   "id": "b2af8159-8abd-4e03-b8f6-66c794f03ca9",
   "metadata": {},
   "source": [
    "### Define the TigerGraph Connection Configuration\n",
    "In addition to defining the schema, a connection configuration is necessary to establish communication with the TigerGraph server."
   ]
  },
  {
   "cell_type": "code",
   "execution_count": 2,
   "id": "958406ca-e515-42bc-8437-8e401fbc3b81",
   "metadata": {},
   "outputs": [],
   "source": [
    "connection = {\n",
    "    \"host\": \"http://127.0.0.1\",\n",
    "    \"username\": \"tigergraph\",\n",
    "    \"password\": \"tigergraph\",\n",
    "}"
   ]
  },
  {
   "cell_type": "markdown",
   "id": "8fcac59d-7cbc-446a-9c55-43357d64382c",
   "metadata": {},
   "source": [
    "### Create a Graph\n",
    "Running the following command will create a graph using the user-defined schema if it does not already exist. If the graph exists, the command will return the existing graph. To overwrite the existing graph, set the drop_existing_graph parameter to True. Note that creating the graph may take several seconds."
   ]
  },
  {
   "cell_type": "code",
   "execution_count": 3,
   "id": "b813f7cd-bef6-4179-ad6b-ffd6f66f9513",
   "metadata": {},
   "outputs": [
    {
     "name": "stdout",
     "output_type": "stream",
     "text": [
      "2025-01-17 19:36:15,282 - tigergraphx.core.managers.schema_manager - INFO - Graph existence check for FinancialGraph: does not exist\n",
      "2025-01-17 19:36:15,282 - tigergraphx.core.managers.schema_manager - INFO - Creating schema for graph: FinancialGraph...\n",
      "2025-01-17 19:36:18,610 - tigergraphx.core.managers.schema_manager - INFO - Graph schema created successfully.\n",
      "2025-01-17 19:36:18,611 - tigergraphx.core.managers.schema_manager - INFO - Adding vector attribute(s) for graph: FinancialGraph...\n",
      "2025-01-17 19:37:25,155 - tigergraphx.core.managers.schema_manager - INFO - Vector attribute(s) added successfully.\n"
     ]
    }
   ],
   "source": [
    "from tigergraphx import Graph\n",
    "G = Graph(graph_schema, connection)"
   ]
  },
  {
   "cell_type": "markdown",
   "id": "ef8d6f31-94d7-4335-8169-e72c496bcd6d",
   "metadata": {},
   "source": [
    "## Add Nodes and Edges\n",
    "*Note*: This example demonstrates how to easily add nodes and edges using the API. However, adding nodes and edges individually may not be efficient for large-scale operations. For better performance when loading data into TigerGraph, it is recommended to use a loading job. Nonetheless, these examples are ideal for quickly getting started.\n",
    "\n",
    "### Add Nodes\n",
    "This code adds three types of nodes to the graph:\n",
    "\n",
    "- **Account Nodes:**  \n",
    "  Each account node is identified by a name and includes two attributes:  \n",
    "  - `isBlocked`: A boolean indicating if the account is blocked.  \n",
    "  - `emb1`: A three-dimensional embedding vector.\n",
    "\n",
    "- **Phone Nodes:**  \n",
    "  Each phone node is identified by a phone number and has the same attributes as account nodes (`isBlocked` and `emb1`).\n",
    "\n",
    "- **City Nodes:**  \n",
    "  City nodes are added using just their name.\n",
    "\n",
    "For each node type, the code prints the number of nodes inserted."
   ]
  },
  {
   "cell_type": "code",
   "execution_count": 4,
   "id": "45c87626-3d93-4319-93b1-f816c211b36e",
   "metadata": {},
   "outputs": [
    {
     "name": "stdout",
     "output_type": "stream",
     "text": [
      "Number of Account Nodes Inserted: 5\n",
      "Number of Phone Nodes Inserted: 3\n",
      "Number of City Nodes Inserted: 3\n"
     ]
    }
   ],
   "source": [
    "nodes_for_adding = [\n",
    "    (\"Scott\", {\"isBlocked\": False, \"emb1\": [-0.017733968794345856, -0.01019224338233471, -0.016571875661611557]}),\n",
    "    (\"Jenny\", {\"isBlocked\": False, \"emb1\": [-0.019265105947852135, 0.0004929182468913496, 0.006711316294968128]}),\n",
    "    (\"Steven\", {\"isBlocked\": True, \"emb1\": [-0.01505514420568943, -0.016819344833493233, -0.0221870020031929]}),\n",
    "    (\"Paul\", {\"isBlocked\": False, \"emb1\": [0.0011193430982530117, -0.001038988004438579, -0.017158523201942444]}),\n",
    "    (\"Ed\", {\"isBlocked\": False, \"emb1\": [-0.003692442551255226, 0.010494389571249485, -0.004631792660802603]}),\n",
    "]\n",
    "print(\"Number of Account Nodes Inserted:\", G.add_nodes_from(nodes_for_adding, node_type=\"Account\"))\n",
    "\n",
    "nodes_for_adding = [\n",
    "    (\"718-245-5888\", {\"isBlocked\": False, \"emb1\": [0.0023173028603196144, 0.018836047500371933, 0.03107452765107155]}),\n",
    "    (\"650-658-9867\", {\"isBlocked\": True, \"emb1\": [0.01969221793115139, 0.018642477691173553, 0.05322211980819702]}),\n",
    "    (\"352-871-8978\", {\"isBlocked\": False, \"emb1\": [-0.003442931454628706, 0.016562696546316147, 0.012876809574663639]}),\n",
    "]\n",
    "print(\"Number of Phone Nodes Inserted:\", G.add_nodes_from(nodes_for_adding, node_type=\"Phone\"))\n",
    "\n",
    "nodes_for_adding = [\"New York\", \"Gainesville\", \"San Francisco\"]\n",
    "print(\"Number of City Nodes Inserted:\", G.add_nodes_from(nodes_for_adding, node_type=\"City\"))"
   ]
  },
  {
   "cell_type": "markdown",
   "id": "32cbd655-c0ba-4e08-9b0e-846445273647",
   "metadata": {},
   "source": [
    "### Add Edges\n",
    "This section adds edges between nodes for different relationships:\n",
    "\n",
    "- **hasPhone Edges:**  \n",
    "  Connects account nodes to phone nodes. Each tuple represents an edge from an account to a phone number.\n",
    "\n",
    "- **isLocatedIn Edges:**  \n",
    "  Connects account nodes to city nodes. Each tuple represents an edge from an account to its city.\n",
    "\n",
    "- **transfer Edges:**  \n",
    "  Connects account nodes to account nodes to represent a transfer relationship.  \n",
    "  Each tuple includes additional attributes:  \n",
    "  - `date`: The date of the transfer.  \n",
    "  - `amount`: The transfer amount.\n",
    "\n",
    "For each relationship type, the code prints the number of edges inserted."
   ]
  },
  {
   "cell_type": "code",
   "execution_count": 5,
   "id": "e2060070-868d-45b4-be79-b21028a745fc",
   "metadata": {},
   "outputs": [
    {
     "name": "stdout",
     "output_type": "stream",
     "text": [
      "Number of hasPhone Edges Inserted: 5\n",
      "Number of isLocatedIn Edges Inserted: 5\n",
      "Number of transfer Edges Inserted: 8\n"
     ]
    }
   ],
   "source": [
    "ebunch_to_add = [\n",
    "    (\"Scott\", \"718-245-5888\"),\n",
    "    (\"Jenny\", \"718-245-5888\"),\n",
    "    (\"Jenny\", \"650-658-9867\"),\n",
    "    (\"Paul\", \"650-658-9867\"),\n",
    "    (\"Ed\", \"352-871-8978\"),\n",
    "]\n",
    "print(\"Number of hasPhone Edges Inserted:\", G.add_edges_from(ebunch_to_add, \"Account\", \"hasPhone\", \"Phone\"))\n",
    "\n",
    "ebunch_to_add = [\n",
    "    (\"Scott\", \"New York\"),\n",
    "    (\"Jenny\", \"San Francisco\"),\n",
    "    (\"Steven\", \"San Francisco\"),\n",
    "    (\"Paul\", \"Gainesville\"),\n",
    "    (\"Ed\", \"Gainesville\"),\n",
    "]\n",
    "print(\"Number of isLocatedIn Edges Inserted:\", G.add_edges_from(ebunch_to_add, \"Account\", \"isLocatedIn\", \"City\"))\n",
    "\n",
    "ebunch_to_add = [\n",
    "    (\"Scott\", \"Ed\", {\"date\": \"2024-01-04\", \"amount\": 20000}),\n",
    "    (\"Scott\", \"Ed\", {\"date\": \"2024-02-01\", \"amount\": 800}),\n",
    "    (\"Scott\", \"Ed\", {\"date\": \"2024-02-14\", \"amount\": 500}),\n",
    "    (\"Jenny\", \"Scott\", {\"date\": \"2024-04-04\", \"amount\": 1000}),\n",
    "    (\"Paul\", \"Jenny\", {\"date\": \"2024-02-01\", \"amount\": 653}),\n",
    "    (\"Steven\", \"Jenny\", {\"date\": \"2024-05-01\", \"amount\": 8560}),\n",
    "    (\"Ed\", \"Paul\", {\"date\": \"2024-01-04\", \"amount\": 1500}),\n",
    "    (\"Paul\", \"Steven\", {\"date\": \"2023-05-09\", \"amount\": 20000}),\n",
    "]\n",
    "print(\"Number of transfer Edges Inserted:\", G.add_edges_from(ebunch_to_add, \"Account\", \"transfer\", \"Account\"))"
   ]
  },
  {
   "cell_type": "markdown",
   "id": "8ff37fd8-0a13-4fe9-89e1-5a78065611f3",
   "metadata": {},
   "source": [
    "### Display the Number of Nodes\n",
    "Next, let's verify that the data has been inserted into the graph by using the following command. As expected, the number of nodes is 11."
   ]
  },
  {
   "cell_type": "code",
   "execution_count": 6,
   "id": "be635f54-e14b-4232-9022-fbe92b10453f",
   "metadata": {},
   "outputs": [
    {
     "name": "stdout",
     "output_type": "stream",
     "text": [
      "11\n"
     ]
    }
   ],
   "source": [
    "print(G.number_of_nodes())"
   ]
  },
  {
   "cell_type": "markdown",
   "id": "7ee3d652-ce78-4940-b4ba-c9459b3a1838",
   "metadata": {},
   "source": [
    "## Perform Vector Search\n",
    "\n",
    "### Top-k Vector Search on a Given Vertex Type's Vector Attribute\n",
    "To find the top 3 most similar accounts to \"Scott\" based on the embedding, we use the following code. As expected, \"Scott\" will appear in the list with a distance of 0."
   ]
  },
  {
   "cell_type": "code",
   "execution_count": 7,
   "id": "f9e47b19-7909-4911-b3a4-623f34fcbc30",
   "metadata": {},
   "outputs": [
    {
     "name": "stdout",
     "output_type": "stream",
     "text": [
      "{'id': 'Paul', 'distance': 0.393388, 'name': 'Paul', 'isBlocked': False}\n",
      "{'id': 'Scott', 'distance': 0, 'name': 'Scott', 'isBlocked': False}\n",
      "{'id': 'Steven', 'distance': 0.0325563, 'name': 'Steven', 'isBlocked': True}\n"
     ]
    }
   ],
   "source": [
    "results = G.search(\n",
    "    data=[-0.017733968794345856, -0.01019224338233471, -0.016571875661611557],\n",
    "    vector_attribute_name=\"emb1\",\n",
    "    node_type=\"Account\",\n",
    "    limit=3\n",
    ")\n",
    "for result in results:\n",
    "    print(result)"
   ]
  },
  {
   "cell_type": "markdown",
   "id": "df211d92-cfc9-4063-80ec-99a64f5af551",
   "metadata": {},
   "source": [
    "After performing the vector search, the following code retrieves the detailed embeddings of the top-k nodes identified in the search. This is achieved by using their IDs and the specified vector attribute. The results are then printed for each node."
   ]
  },
  {
   "cell_type": "code",
   "execution_count": 8,
   "id": "0dd14c72-9b4f-41b7-8990-4449d613fba6",
   "metadata": {},
   "outputs": [
    {
     "name": "stdout",
     "output_type": "stream",
     "text": [
      "('Paul', [0.001119343, -0.001038988, -0.01715852])\n",
      "('Scott', [-0.01773397, -0.01019224, -0.01657188])\n",
      "('Steven', [-0.01505514, -0.01681934, -0.022187])\n"
     ]
    }
   ],
   "source": [
    "node_ids = {item['id'] for item in results}\n",
    "nodes = G.fetch_nodes(node_ids, vector_attribute_name=\"emb1\", node_type=\"Account\")\n",
    "for node in nodes.items():\n",
    "    print(node)"
   ]
  },
  {
   "cell_type": "markdown",
   "id": "e98c3738-38ea-472d-a7d4-ab58ca56b32c",
   "metadata": {},
   "source": [
    "### Top-k Vector Search on a Set of Vertex Types' Vector Attributes\n",
    "The code below performs a multi-vector attribute search on \"Account\" and \"Phone\" node types using two vector attributes (emb1). It retrieves the top 5 similar nodes and fetches the isBlocked attribute for each result."
   ]
  },
  {
   "cell_type": "code",
   "execution_count": 9,
   "id": "a42bd9ba-c9dc-44f8-8f34-4836f9be2437",
   "metadata": {},
   "outputs": [
    {
     "name": "stdout",
     "output_type": "stream",
     "text": [
      "{'id': '352-871-8978', 'distance': 1.788139e-07, 'isBlocked': False}\n",
      "{'id': '718-245-5888', 'distance': 0.09038806, 'isBlocked': False}\n",
      "{'id': '650-658-9867', 'distance': 0.2705743, 'isBlocked': True}\n",
      "{'id': 'Ed', 'distance': 0.5047379, 'isBlocked': False}\n",
      "{'id': 'Jenny', 'distance': 0.6291004, 'isBlocked': False}\n"
     ]
    }
   ],
   "source": [
    "results = G.search_multi_vector_attributes(\n",
    "    data=[-0.003442931454628706, 0.016562696546316147, 0.012876809574663639],\n",
    "    vector_attribute_names=[\"emb1\", \"emb1\"],\n",
    "    node_types=[\"Account\", \"Phone\"],\n",
    "    limit=5,\n",
    "    return_attributes_list=[[\"isBlocked\"], [\"isBlocked\"]]\n",
    ")\n",
    "for result in results:\n",
    "    print(result)"
   ]
  },
  {
   "cell_type": "markdown",
   "id": "9426ce57-d952-44a3-b753-c7bbc4160066",
   "metadata": {},
   "source": [
    "### Top-k Vector Search Using a Vertex Embedding as the Query Vector\n",
    "This code performs a top-k vector search for similar nodes to a specified node \"Scott\". It searches within the \"Account\" node type using the \"emb1\" embedding attribute and retrieves the top 2 similar node."
   ]
  },
  {
   "cell_type": "code",
   "execution_count": 10,
   "id": "8ba620b0-fa68-4053-b7c9-14ea4cf0b614",
   "metadata": {},
   "outputs": [
    {
     "data": {
      "text/plain": [
       "[{'id': 'Paul', 'distance': 0.3933879, 'name': 'Paul', 'isBlocked': False},\n",
       " {'id': 'Steven', 'distance': 0.0325563, 'name': 'Steven', 'isBlocked': True}]"
      ]
     },
     "execution_count": 10,
     "metadata": {},
     "output_type": "execute_result"
    }
   ],
   "source": [
    "G.search_top_k_similar_nodes(\n",
    "    node_id=\"Scott\",\n",
    "    vector_attribute_name=\"emb1\",\n",
    "    node_type=\"Account\",\n",
    "    limit=2\n",
    ")"
   ]
  },
  {
   "cell_type": "markdown",
   "id": "0d51871e-28dc-4cc0-9be7-5619c1ec182e",
   "metadata": {},
   "source": [
    "### Top-k Vector Search with Specified Candidates\n",
    "This code performs a top-2 vector search on the \"Account\" node type using the \"emb1\" embedding attribute. It limits the search to the specified candidate nodes: \"Jenny\", \"Steven\", and \"Ed\"."
   ]
  },
  {
   "cell_type": "code",
   "execution_count": 11,
   "id": "6e041050-450e-4b67-abdf-f83b113dca7a",
   "metadata": {},
   "outputs": [
    {
     "name": "stdout",
     "output_type": "stream",
     "text": [
      "{'id': 'Steven', 'distance': 0.0325563, 'name': 'Steven', 'isBlocked': True}\n",
      "{'id': 'Jenny', 'distance': 0.5804119, 'name': 'Jenny', 'isBlocked': False}\n"
     ]
    }
   ],
   "source": [
    "results = G.search(\n",
    "    data=[-0.017733968794345856, -0.01019224338233471, -0.016571875661611557],\n",
    "    vector_attribute_name=\"emb1\",\n",
    "    node_type=\"Account\",\n",
    "    limit=2,\n",
    "    candidate_ids=[\"Jenny\", \"Steven\", \"Ed\"]\n",
    ")\n",
    "for result in results:\n",
    "    print(result)"
   ]
  },
  {
   "cell_type": "markdown",
   "id": "577450a5-f96d-4dd9-8093-92d76339214c",
   "metadata": {},
   "source": [
    "## Filtered Vector Search\n",
    "Let's first retrieves all \"Account\" nodes where the isBlocked attribute is False and returns their name attributes in a Pandas DataFrame."
   ]
  },
  {
   "cell_type": "code",
   "execution_count": 12,
   "id": "0de60e36-2b7a-411c-83ee-a608af14a19b",
   "metadata": {},
   "outputs": [
    {
     "name": "stdout",
     "output_type": "stream",
     "text": [
      "    name\n",
      "0   Paul\n",
      "1  Scott\n",
      "2  Jenny\n"
     ]
    }
   ],
   "source": [
    "nodes_df = G.get_nodes(\n",
    "    node_type=\"Account\",\n",
    "    node_alias=\"s\", # The alias \"s\" is used in filter_expression. You can remove this line since the default node alias is \"s\"\n",
    "    filter_expression='s.isBlocked == False AND s.name != \"Ed\"',\n",
    "    return_attributes=[\"name\"],\n",
    ")\n",
    "print(nodes_df)"
   ]
  },
  {
   "cell_type": "markdown",
   "id": "fa13a1ca-a105-43bd-97b1-90a0ce905fe4",
   "metadata": {},
   "source": [
    "Then convert the name column of the retrieved DataFrame into a set of candidate IDs and performs a top-2 vector search on the \"Account\" node type using the \"emb1\" embedding attribute, restricted to the specified candidate IDs."
   ]
  },
  {
   "cell_type": "code",
   "execution_count": 13,
   "id": "62b3f587-4ccc-43be-993d-cad5f1c30ea2",
   "metadata": {},
   "outputs": [
    {
     "name": "stdout",
     "output_type": "stream",
     "text": [
      "{'id': 'Paul', 'distance': 0.393388, 'name': 'Paul', 'isBlocked': False}\n",
      "{'id': 'Scott', 'distance': 0, 'name': 'Scott', 'isBlocked': False}\n"
     ]
    }
   ],
   "source": [
    "candidate_ids = set(nodes_df['name'])\n",
    "results = G.search(\n",
    "    data=[-0.017733968794345856, -0.01019224338233471, -0.016571875661611557],\n",
    "    vector_attribute_name=\"emb1\",\n",
    "    node_type=\"Account\",\n",
    "    limit=2,\n",
    "    candidate_ids=candidate_ids\n",
    ")\n",
    "for result in results:\n",
    "    print(result)"
   ]
  },
  {
   "cell_type": "markdown",
   "id": "44dd72a4-bf09-4752-9b60-aeed492e0915",
   "metadata": {},
   "source": [
    "## Clear and Drop a Graph\n",
    "\n",
    "### Clear the Graph\n",
    "To clear the data in the graph without dropping it, use the following code:"
   ]
  },
  {
   "cell_type": "code",
   "execution_count": 14,
   "id": "456edd2b-811f-4092-9d71-207446de030d",
   "metadata": {},
   "outputs": [
    {
     "name": "stdout",
     "output_type": "stream",
     "text": [
      "True\n"
     ]
    }
   ],
   "source": [
    "print(G.clear())"
   ]
  },
  {
   "cell_type": "markdown",
   "id": "7405beae-2423-4737-a08f-9ac7a58d652d",
   "metadata": {},
   "source": [
    "Afterwards, you can confirm that there are no nodes in the graph by checking:"
   ]
  },
  {
   "cell_type": "code",
   "execution_count": 15,
   "id": "2712fae5-bdb0-4911-93b3-934f4d25995d",
   "metadata": {},
   "outputs": [
    {
     "name": "stdout",
     "output_type": "stream",
     "text": [
      "0\n"
     ]
    }
   ],
   "source": [
    "print(G.number_of_nodes())"
   ]
  },
  {
   "cell_type": "markdown",
   "id": "a0f0b601-b258-4938-8214-550cb8d8c6fa",
   "metadata": {},
   "source": [
    "### Drop the Graph\n",
    "To clear the data and completely remove the graph—including schema, loading jobs, and queries—use the following code:"
   ]
  },
  {
   "cell_type": "code",
   "execution_count": 16,
   "id": "36504b02-1b86-4782-a4cc-f9a4789d5750",
   "metadata": {},
   "outputs": [
    {
     "name": "stdout",
     "output_type": "stream",
     "text": [
      "2025-01-17 20:54:25,574 - tigergraphx.core.managers.schema_manager - INFO - Dropping graph: FinancialGraph...\n",
      "2025-01-17 20:54:29,485 - tigergraphx.core.managers.schema_manager - INFO - Graph dropped successfully.\n"
     ]
    }
   ],
   "source": [
    "G.drop_graph()"
   ]
  },
  {
   "cell_type": "markdown",
   "id": "822f1d02-ec2a-4436-b53e-71750e4322d9",
   "metadata": {},
   "source": [
    "---\n",
    "\n",
    "## What’s Next?\n",
    "\n",
    "Now that you've learned how to use TigerGraph for storing both graph data and vectors, you can dive into more advanced features of TigerGraphX:\n",
    "- [GraphRAG Overview](../../graphrag/graphrag_overview): Learn about integrating graphs with LLMs.\n",
    "- [API Reference](../../reference/features_overview): Dive deeper into TigerGraphX APIs.\n",
    "\n",
    "---\n",
    "\n",
    "Start unlocking the power of graphs with **TigerGraphX** today!"
   ]
  }
 ],
 "metadata": {
  "kernelspec": {
   "display_name": "Python 3 (ipykernel)",
   "language": "python",
   "name": "python3"
  },
  "language_info": {
   "codemirror_mode": {
    "name": "ipython",
    "version": 3
   },
   "file_extension": ".py",
   "mimetype": "text/x-python",
   "name": "python",
   "nbconvert_exporter": "python",
   "pygments_lexer": "ipython3",
   "version": "3.12.6"
  }
 },
 "nbformat": 4,
 "nbformat_minor": 5
}
