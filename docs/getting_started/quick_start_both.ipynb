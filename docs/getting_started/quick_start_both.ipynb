{
 "cells": [
  {
   "cell_type": "markdown",
   "id": "71966721-ce57-4fbe-a996-bc12558a23ca",
   "metadata": {},
   "source": [
    "# TigerGraphX Quick Start: Using TigerGraph for Graph and Vector Database\n",
    "\n",
    "Follow this guide to quickly get started with TigerGraph for storing both graph data and vectors. This guide assumes that you have already installed TigerGraphX and its dependencies, as outlined in the [Installation Guide](installation.md).\n",
    "\n",
    "To run this Jupyter Notebook, download the original `.ipynb` file from [quick_start_both.ipynb](https://github.com/tigergraph/tigergraphx/tree/main/docs/getting_started/quick_start_both.ipynb).\n",
    "\n",
    "---\n",
    "\n",
    "In this quick start guide, we will work with the following graph:\n",
    "\n",
    "![Financial Graph](https://github.com/tigergraph/ecosys/blob/master/demos/guru_scripts/docker/tutorial/4.x/pictures/FinancialGraph.jpg?raw=true)\n",
    "\n",
    "## Create a Graph\n",
    "### Define the TigerGraph Connection Configuration\n",
    "Since our data is stored in a TigerGraph instance—whether on-premise or in the cloud—we need to configure the connection settings. The recommended approach is to use environment variables, such as setting them with the `export` command in the shell. Here, to illustrate the demo, we configure them within Python using the `os.environ` method. You can find more methods for configuring connection settings in [Graph.\\_\\_init\\_\\_](../reference/01_core/graph.md#tigergraphx.core.graph.Graph.__init__)."
   ]
  },
  {
   "cell_type": "code",
   "execution_count": 1,
   "id": "11c789f8-a2b4-436d-9640-ab7a831a7491",
   "metadata": {},
   "outputs": [],
   "source": [
    ">>> import os\n",
    ">>> os.environ[\"TG_HOST\"] = \"http://127.0.0.1\"\n",
    ">>> os.environ[\"TG_USERNAME\"] = \"tigergraph\"\n",
    ">>> os.environ[\"TG_PASSWORD\"] = \"tigergraph\""
   ]
  },
  {
   "cell_type": "markdown",
   "id": "0958888f-b942-446a-87b1-5a3fbce37ac6",
   "metadata": {},
   "source": [
    "### Define a Graph Schema\n",
    "TigerGraph is a schema-based database, which requires defining a schema to structure your graph. This schema specifies the graph name, nodes (vertices), edges (relationships), and their respective attributes.\n",
    "\n",
    "In this example, we create a graph called \"FinancialGraph\" with three node types: \"Account,\" \"City,\" and \"Phone,\" and three edge types: \"transfer,\" \"hasPhone,\" and \"isLocatedIn.\"\n",
    "\n",
    "- **Nodes:**\n",
    "  - **Account**: Primary key `name`, attributes `name` (string) and `isBlocked` (boolean), vector attribute `emb1` (3).\n",
    "  - **City**: Primary key `name`, attribute `name` (string).\n",
    "  - **Phone**: Primary key `number`, attributes `number` (string) and `isBlocked` (boolean), vector attribute `emb1` (3).\n",
    "\n",
    "- **Edges:**\n",
    "  - **transfer**: Directed multi-edge between \"Account\" nodes, identified by `date` (datetime) as the unique identifier for each edge between a pair of source and target nodes. The edge has an attribute `amount` (integer).\n",
    "  - **hasPhone**: Undirected edge between \"Account\" and \"Phone\" nodes.\n",
    "  - **isLocatedIn**: Directed edge between \"Account\" and \"City\" nodes.\n",
    "\n",
    "This schema defines the structure of the \"FinancialGraph\" with nodes and edges and their respective attributes."
   ]
  },
  {
   "cell_type": "code",
   "execution_count": 2,
   "id": "4ad8d1cc-a7a1-4c8d-9359-be1acbe7033c",
   "metadata": {},
   "outputs": [],
   "source": [
    ">>> graph_schema = {\n",
    "...     \"graph_name\": \"FinancialGraph\",\n",
    "...     \"nodes\": {\n",
    "...         \"Account\": {\n",
    "...             \"primary_key\": \"name\",\n",
    "...             \"attributes\": {\n",
    "...                 \"name\": \"STRING\",\n",
    "...                 \"isBlocked\": \"BOOL\",\n",
    "...             },\n",
    "...             \"vector_attributes\": {\"emb1\": 3},\n",
    "...         },\n",
    "...         \"City\": {\n",
    "...             \"primary_key\": \"name\",\n",
    "...             \"attributes\": {\n",
    "...                 \"name\": \"STRING\",\n",
    "...             },\n",
    "...         },\n",
    "...         \"Phone\": {\n",
    "...             \"primary_key\": \"number\",\n",
    "...             \"attributes\": {\n",
    "...                 \"number\": \"STRING\",\n",
    "...                 \"isBlocked\": \"BOOL\",\n",
    "...             },\n",
    "...             \"vector_attributes\": {\"emb1\": 3},\n",
    "...         },\n",
    "...     },\n",
    "...     \"edges\": {\n",
    "...         \"transfer\": {\n",
    "...             \"is_directed_edge\": True,\n",
    "...             \"from_node_type\": \"Account\",\n",
    "...             \"to_node_type\": \"Account\",\n",
    "...             \"discriminator\": \"date\",\n",
    "...             \"attributes\": {\n",
    "...                 \"date\": \"DATETIME\",\n",
    "...                 \"amount\": \"INT\",\n",
    "...             },\n",
    "...         },\n",
    "...         \"hasPhone\": {\n",
    "...             \"is_directed_edge\": False,\n",
    "...             \"from_node_type\": \"Account\",\n",
    "...             \"to_node_type\": \"Phone\",\n",
    "...         },\n",
    "...         \"isLocatedIn\": {\n",
    "...             \"is_directed_edge\": True,\n",
    "...             \"from_node_type\": \"Account\",\n",
    "...             \"to_node_type\": \"City\",\n",
    "...         },\n",
    "...     },\n",
    "... }"
   ]
  },
  {
   "cell_type": "markdown",
   "id": "e6604bd0-ea91-45c6-a612-0620bedaa5c2",
   "metadata": {},
   "source": [
    "TigerGraphX offers several methods to define the schema, including a Python dictionary, YAML file, or JSON file. Above is an example using a Python dictionary. For other methods, please refer to [Graph.\\_\\_init\\_\\_](../reference/01_core/graph.md/#tigergraphx.core.graph.Graph.__init__) for more details."
   ]
  },
  {
   "cell_type": "markdown",
   "id": "8fcac59d-7cbc-446a-9c55-43357d64382c",
   "metadata": {},
   "source": [
    "### Create a Graph\n",
    "Running the following command will create a graph using the user-defined schema if it does not already exist. If the graph exists, the command will return the existing graph. To overwrite the existing graph, set the drop_existing_graph parameter to True. Note that creating the graph may take several seconds."
   ]
  },
  {
   "cell_type": "code",
   "execution_count": 3,
   "id": "b813f7cd-bef6-4179-ad6b-ffd6f66f9513",
   "metadata": {},
   "outputs": [
    {
     "name": "stdout",
     "output_type": "stream",
     "text": [
      "2025-02-28 14:17:12,187 - tigergraphx.core.managers.schema_manager - INFO - Creating schema for graph: FinancialGraph...\n",
      "2025-02-28 14:17:15,857 - tigergraphx.core.managers.schema_manager - INFO - Graph schema created successfully.\n",
      "2025-02-28 14:17:15,857 - tigergraphx.core.managers.schema_manager - INFO - Adding vector attribute(s) for graph: FinancialGraph...\n",
      "2025-02-28 14:18:31,787 - tigergraphx.core.managers.schema_manager - INFO - Vector attribute(s) added successfully.\n"
     ]
    }
   ],
   "source": [
    ">>> from tigergraphx import Graph\n",
    ">>> G = Graph(graph_schema)"
   ]
  },
  {
   "cell_type": "markdown",
   "id": "b600089e-2ef5-4518-8aed-61fbbb674d4b",
   "metadata": {},
   "source": [
    "### Retrieve a Graph and Print Its Schema\n",
    "Once a graph has been created in TigerGraph, you can retrieve it without manually defining the schema using the `Graph.from_db` method, which requires only the graph name:"
   ]
  },
  {
   "cell_type": "code",
   "execution_count": 4,
   "id": "45017d8b-6232-40bd-8a09-e828b0548d9d",
   "metadata": {},
   "outputs": [],
   "source": [
    ">>> G = Graph.from_db(\"FinancialGraph\")"
   ]
  },
  {
   "cell_type": "markdown",
   "id": "0d4032e4-45f1-4836-bb9c-ecaa942c98da",
   "metadata": {},
   "source": [
    "Now, let's print the schema of the graph in a well-formatted manner:"
   ]
  },
  {
   "cell_type": "code",
   "execution_count": 5,
   "id": "9f9420bd-c99c-4922-9027-c0ca82c239dd",
   "metadata": {},
   "outputs": [
    {
     "name": "stdout",
     "output_type": "stream",
     "text": [
      "{\n",
      "    \"graph_name\": \"FinancialGraph\",\n",
      "    \"nodes\": {\n",
      "        \"Account\": {\n",
      "            \"primary_key\": \"name\",\n",
      "            \"attributes\": {\n",
      "                \"name\": {\n",
      "                    \"data_type\": \"DataType.STRING\",\n",
      "                    \"default_value\": null\n",
      "                },\n",
      "                \"isBlocked\": {\n",
      "                    \"data_type\": \"DataType.BOOL\",\n",
      "                    \"default_value\": null\n",
      "                }\n",
      "            },\n",
      "            \"vector_attributes\": {\n",
      "                \"emb1\": {\n",
      "                    \"dimension\": 3,\n",
      "                    \"index_type\": \"HNSW\",\n",
      "                    \"data_type\": \"FLOAT\",\n",
      "                    \"metric\": \"COSINE\"\n",
      "                }\n",
      "            }\n",
      "        },\n",
      "        \"City\": {\n",
      "            \"primary_key\": \"name\",\n",
      "            \"attributes\": {\n",
      "                \"name\": {\n",
      "                    \"data_type\": \"DataType.STRING\",\n",
      "                    \"default_value\": null\n",
      "                }\n",
      "            },\n",
      "            \"vector_attributes\": {}\n",
      "        },\n",
      "        \"Phone\": {\n",
      "            \"primary_key\": \"number\",\n",
      "            \"attributes\": {\n",
      "                \"number\": {\n",
      "                    \"data_type\": \"DataType.STRING\",\n",
      "                    \"default_value\": null\n",
      "                },\n",
      "                \"isBlocked\": {\n",
      "                    \"data_type\": \"DataType.BOOL\",\n",
      "                    \"default_value\": null\n",
      "                }\n",
      "            },\n",
      "            \"vector_attributes\": {\n",
      "                \"emb1\": {\n",
      "                    \"dimension\": 3,\n",
      "                    \"index_type\": \"HNSW\",\n",
      "                    \"data_type\": \"FLOAT\",\n",
      "                    \"metric\": \"COSINE\"\n",
      "                }\n",
      "            }\n",
      "        }\n",
      "    },\n",
      "    \"edges\": {\n",
      "        \"transfer\": {\n",
      "            \"is_directed_edge\": true,\n",
      "            \"from_node_type\": \"Account\",\n",
      "            \"to_node_type\": \"Account\",\n",
      "            \"discriminator\": \"{'date'}\",\n",
      "            \"attributes\": {\n",
      "                \"date\": {\n",
      "                    \"data_type\": \"DataType.DATETIME\",\n",
      "                    \"default_value\": null\n",
      "                },\n",
      "                \"amount\": {\n",
      "                    \"data_type\": \"DataType.INT\",\n",
      "                    \"default_value\": null\n",
      "                }\n",
      "            }\n",
      "        },\n",
      "        \"hasPhone\": {\n",
      "            \"is_directed_edge\": false,\n",
      "            \"from_node_type\": \"Account\",\n",
      "            \"to_node_type\": \"Phone\",\n",
      "            \"discriminator\": \"set()\",\n",
      "            \"attributes\": {}\n",
      "        },\n",
      "        \"isLocatedIn\": {\n",
      "            \"is_directed_edge\": true,\n",
      "            \"from_node_type\": \"Account\",\n",
      "            \"to_node_type\": \"City\",\n",
      "            \"discriminator\": \"set()\",\n",
      "            \"attributes\": {}\n",
      "        }\n",
      "    }\n",
      "}\n"
     ]
    }
   ],
   "source": [
    ">>> import json\n",
    ">>> schema = G.get_schema()\n",
    ">>> print(json.dumps(schema, indent=4, default=str))"
   ]
  },
  {
   "cell_type": "markdown",
   "id": "ef8d6f31-94d7-4335-8169-e72c496bcd6d",
   "metadata": {},
   "source": [
    "## Add Nodes and Edges\n",
    "### Add Nodes\n",
    "The following code adds three types of nodes to the graph:\n",
    "\n",
    "- **Account Nodes:**  \n",
    "  Each account node is identified by a name and includes two attributes:  \n",
    "  - `isBlocked`: A boolean indicating if the account is blocked.  \n",
    "  - `emb1`: A three-dimensional embedding vector.\n",
    "\n",
    "- **Phone Nodes:**  \n",
    "  Each phone node is identified by a phone number and has the same attributes as account nodes (`isBlocked` and `emb1`).\n",
    "\n",
    "- **City Nodes:**  \n",
    "  Each city node is identified by its name. No additional attributes are required.\n",
    "\n",
    "For each node type, the code prints the number of nodes inserted."
   ]
  },
  {
   "cell_type": "code",
   "execution_count": 6,
   "id": "45c87626-3d93-4319-93b1-f816c211b36e",
   "metadata": {},
   "outputs": [
    {
     "name": "stdout",
     "output_type": "stream",
     "text": [
      "Number of Account Nodes Inserted: 5\n",
      "Number of Phone Nodes Inserted: 3\n",
      "Number of City Nodes Inserted: 3\n"
     ]
    }
   ],
   "source": [
    ">>> nodes_for_adding = [\n",
    "...     (\"Scott\", {\"isBlocked\": False, \"emb1\": [-0.017733968794345856, -0.01019224338233471, -0.016571875661611557]}),\n",
    "...     (\"Jenny\", {\"isBlocked\": False, \"emb1\": [-0.019265105947852135, 0.0004929182468913496, 0.006711316294968128]}),\n",
    "...     (\"Steven\", {\"isBlocked\": True, \"emb1\": [-0.01505514420568943, -0.016819344833493233, -0.0221870020031929]}),\n",
    "...     (\"Paul\", {\"isBlocked\": False, \"emb1\": [0.0011193430982530117, -0.001038988004438579, -0.017158523201942444]}),\n",
    "...     (\"Ed\", {\"isBlocked\": False, \"emb1\": [-0.003692442551255226, 0.010494389571249485, -0.004631792660802603]}),\n",
    "... ]\n",
    ">>> print(\"Number of Account Nodes Inserted:\", G.add_nodes_from(nodes_for_adding, node_type=\"Account\"))\n",
    "\n",
    ">>> nodes_for_adding = [\n",
    "...     (\"718-245-5888\", {\"isBlocked\": False, \"emb1\": [0.0023173028603196144, 0.018836047500371933, 0.03107452765107155]}),\n",
    "...     (\"650-658-9867\", {\"isBlocked\": True, \"emb1\": [0.01969221793115139, 0.018642477691173553, 0.05322211980819702]}),\n",
    "...     (\"352-871-8978\", {\"isBlocked\": False, \"emb1\": [-0.003442931454628706, 0.016562696546316147, 0.012876809574663639]}),\n",
    "... ]\n",
    ">>> print(\"Number of Phone Nodes Inserted:\", G.add_nodes_from(nodes_for_adding, node_type=\"Phone\"))\n",
    "\n",
    ">>> nodes_for_adding = [\"New York\", \"Gainesville\", \"San Francisco\"]\n",
    ">>> print(\"Number of City Nodes Inserted:\", G.add_nodes_from(nodes_for_adding, node_type=\"City\"))"
   ]
  },
  {
   "cell_type": "markdown",
   "id": "32cbd655-c0ba-4e08-9b0e-846445273647",
   "metadata": {},
   "source": [
    "### Add Edges\n",
    "Next, we add relationships between nodes by creating edges:\n",
    "\n",
    "- **hasPhone Edges:**  \n",
    "  These edges connect account nodes to phone nodes. Each tuple specifies an edge from an account to a phone number.\n",
    "\n",
    "- **isLocatedIn Edges:**  \n",
    "  These edges connect account nodes to city nodes. Each tuple specifies an edge from an account to a city.\n",
    "\n",
    "- **transfer Edges:**  \n",
    "  These edges connect one account node to another, representing a transfer relationship. Each edge tuple includes additional attributes:  \n",
    "  - `date`: The date of the transfer.  \n",
    "  - `amount`: The amount transferred.\n",
    "\n",
    "For each relationship type, the code prints the number of edges inserted."
   ]
  },
  {
   "cell_type": "code",
   "execution_count": 7,
   "id": "e2060070-868d-45b4-be79-b21028a745fc",
   "metadata": {},
   "outputs": [
    {
     "name": "stdout",
     "output_type": "stream",
     "text": [
      "Number of hasPhone Edges Inserted: 5\n",
      "Number of isLocatedIn Edges Inserted: 5\n",
      "Number of transfer Edges Inserted: 8\n"
     ]
    }
   ],
   "source": [
    ">>> ebunch_to_add = [\n",
    "...     (\"Scott\", \"718-245-5888\"),\n",
    "...     (\"Jenny\", \"718-245-5888\"),\n",
    "...     (\"Jenny\", \"650-658-9867\"),\n",
    "...     (\"Paul\", \"650-658-9867\"),\n",
    "...     (\"Ed\", \"352-871-8978\"),\n",
    "... ]\n",
    ">>> print(\"Number of hasPhone Edges Inserted:\", G.add_edges_from(ebunch_to_add, \"Account\", \"hasPhone\", \"Phone\"))\n",
    "\n",
    ">>> ebunch_to_add = [\n",
    "...     (\"Scott\", \"New York\"),\n",
    "...     (\"Jenny\", \"San Francisco\"),\n",
    "...     (\"Steven\", \"San Francisco\"),\n",
    "...     (\"Paul\", \"Gainesville\"),\n",
    "...     (\"Ed\", \"Gainesville\"),\n",
    "... ]\n",
    ">>> print(\"Number of isLocatedIn Edges Inserted:\", G.add_edges_from(ebunch_to_add, \"Account\", \"isLocatedIn\", \"City\"))\n",
    "\n",
    ">>> ebunch_to_add = [\n",
    "...     (\"Scott\", \"Ed\", {\"date\": \"2024-01-04\", \"amount\": 20000}),\n",
    "...     (\"Scott\", \"Ed\", {\"date\": \"2024-02-01\", \"amount\": 800}),\n",
    "...     (\"Scott\", \"Ed\", {\"date\": \"2024-02-14\", \"amount\": 500}),\n",
    "...     (\"Jenny\", \"Scott\", {\"date\": \"2024-04-04\", \"amount\": 1000}),\n",
    "...     (\"Paul\", \"Jenny\", {\"date\": \"2024-02-01\", \"amount\": 653}),\n",
    "...     (\"Steven\", \"Jenny\", {\"date\": \"2024-05-01\", \"amount\": 8560}),\n",
    "...     (\"Ed\", \"Paul\", {\"date\": \"2024-01-04\", \"amount\": 1500}),\n",
    "...     (\"Paul\", \"Steven\", {\"date\": \"2023-05-09\", \"amount\": 20000}),\n",
    "... ]\n",
    ">>> print(\"Number of transfer Edges Inserted:\", G.add_edges_from(ebunch_to_add, \"Account\", \"transfer\", \"Account\"))"
   ]
  },
  {
   "cell_type": "markdown",
   "id": "9ba07f43-fff6-4d83-a584-a935e0522603",
   "metadata": {},
   "source": [
    "For larger datasets, consider using [load_data](../reference/01_core/graph.md#tigergraphx.core.Graph.load_data) for more efficient handling of large-scale data."
   ]
  },
  {
   "cell_type": "markdown",
   "id": "8ff37fd8-0a13-4fe9-89e1-5a78065611f3",
   "metadata": {},
   "source": [
    "## Exploring Nodes and Edges in the Graph\n",
    "### Display the Number of Nodes and Edges\n",
    "You can verify that the data has been inserted into the graph by running the following commands. For this example, the graph contains 11 nodes and 18 edges."
   ]
  },
  {
   "cell_type": "code",
   "execution_count": 8,
   "id": "be635f54-e14b-4232-9022-fbe92b10453f",
   "metadata": {},
   "outputs": [
    {
     "name": "stdout",
     "output_type": "stream",
     "text": [
      "11\n"
     ]
    }
   ],
   "source": [
    ">>> print(G.number_of_nodes())"
   ]
  },
  {
   "cell_type": "code",
   "execution_count": 9,
   "id": "ab09d35e-4aa9-4d7d-b57e-8051fb4600a7",
   "metadata": {},
   "outputs": [
    {
     "name": "stdout",
     "output_type": "stream",
     "text": [
      "18\n"
     ]
    }
   ],
   "source": [
    ">>> print(G.number_of_edges())"
   ]
  },
  {
   "cell_type": "markdown",
   "id": "307a62c8-4530-4937-9ae2-b6c3d2c646e0",
   "metadata": {},
   "source": [
    "### Check if Nodes and Edges Exist\n",
    "To confirm the presence of specific nodes and edges, you can use the following checks:"
   ]
  },
  {
   "cell_type": "code",
   "execution_count": 10,
   "id": "1a40fa9b-1deb-4fbc-a01a-4f14e0f5a459",
   "metadata": {},
   "outputs": [
    {
     "name": "stdout",
     "output_type": "stream",
     "text": [
      "True\n"
     ]
    }
   ],
   "source": [
    ">>> print(G.has_node(\"Scott\", \"Account\"))"
   ]
  },
  {
   "cell_type": "code",
   "execution_count": 11,
   "id": "bc301c6d-a1a1-4708-941a-79ce2cbc82b6",
   "metadata": {},
   "outputs": [
    {
     "name": "stdout",
     "output_type": "stream",
     "text": [
      "True\n"
     ]
    }
   ],
   "source": [
    ">>> print(G.has_node(\"Ed\", \"Account\"))"
   ]
  },
  {
   "cell_type": "code",
   "execution_count": 12,
   "id": "1260587f-9fe0-4d83-afc3-285b13e0e367",
   "metadata": {},
   "outputs": [
    {
     "name": "stdout",
     "output_type": "stream",
     "text": [
      "True\n"
     ]
    }
   ],
   "source": [
    ">>> print(G.has_edge(\"Scott\", \"Ed\", src_node_type=\"Account\", edge_type=\"transfer\", tgt_node_type=\"Account\"))"
   ]
  },
  {
   "cell_type": "markdown",
   "id": "e9987973-db95-44e6-a8c2-98a5145af012",
   "metadata": {},
   "source": [
    "### Display Node and Edge Attributes\n",
    "#### Node Attributes\n",
    "To view all attributes of a specific node, you can use:"
   ]
  },
  {
   "cell_type": "code",
   "execution_count": 13,
   "id": "d731005e-8068-447f-b47e-cb7bef285c64",
   "metadata": {},
   "outputs": [
    {
     "name": "stdout",
     "output_type": "stream",
     "text": [
      "{'name': 'Scott', 'isBlocked': False}\n"
     ]
    }
   ],
   "source": [
    ">>> print(G.nodes[(\"Account\", \"Scott\")])"
   ]
  },
  {
   "cell_type": "markdown",
   "id": "af93ef55-3fa9-4889-b19f-48191a3e6d69",
   "metadata": {},
   "source": [
    "To retrieve a particular attribute, you can run:"
   ]
  },
  {
   "cell_type": "code",
   "execution_count": 14,
   "id": "3016079a-674a-4fa1-9ddb-b71bd5de0a11",
   "metadata": {},
   "outputs": [
    {
     "name": "stdout",
     "output_type": "stream",
     "text": [
      "False\n"
     ]
    }
   ],
   "source": [
    ">>> print(G.nodes[(\"Account\", \"Scott\")][\"isBlocked\"])"
   ]
  },
  {
   "cell_type": "markdown",
   "id": "c185af6b-7f5f-44e7-a225-71f43e896095",
   "metadata": {},
   "source": [
    "#### Edge Attributes\n",
    "You can fetch and display all attributes associated with the source-to-target relationship for a specific edge type. If multiple edges exist between the start node and the target node, the result will be a dictionary where each key represents the edge's discriminator, and each value is a dictionary of attribute name-value pairs. If there is only one edge, the result will be a single dictionary of attribute name-value pairs."
   ]
  },
  {
   "cell_type": "code",
   "execution_count": 15,
   "id": "8c5720d5-d07a-49ab-b3ca-1ef5d2de6b90",
   "metadata": {},
   "outputs": [
    {
     "name": "stdout",
     "output_type": "stream",
     "text": [
      "2024-02-14 00:00:00 {'date': '2024-02-14 00:00:00', 'amount': 500}\n",
      "2024-01-04 00:00:00 {'date': '2024-01-04 00:00:00', 'amount': 20000}\n",
      "2024-02-01 00:00:00 {'date': '2024-02-01 00:00:00', 'amount': 800}\n"
     ]
    }
   ],
   "source": [
    ">>> edges = G.get_edge_data(\"Scott\", \"Ed\", src_node_type=\"Account\", edge_type=\"transfer\", tgt_node_type=\"Account\")\n",
    ">>> for key, value in edges.items():\n",
    "...     print(key, value)"
   ]
  },
  {
   "cell_type": "markdown",
   "id": "a893ffd0-93e2-4204-afd7-f3d0e29be500",
   "metadata": {},
   "source": [
    "### Display Node's Vector Attributes\n",
    "To retrieve a vector attribute for a single node:"
   ]
  },
  {
   "cell_type": "code",
   "execution_count": 16,
   "id": "15cb1bd1-1513-426d-924b-e5f0980ccf92",
   "metadata": {},
   "outputs": [
    {
     "name": "stdout",
     "output_type": "stream",
     "text": [
      "[-0.01773397, -0.01019224, -0.01657188]\n"
     ]
    }
   ],
   "source": [
    ">>> vector = G.fetch_node(\n",
    "...     node_id=\"Scott\",\n",
    "...     node_type=\"Account\",\n",
    "...     vector_attribute_name=\"emb1\",\n",
    "... )\n",
    ">>> print(vector)"
   ]
  },
  {
   "cell_type": "markdown",
   "id": "d2f8914e-246b-44e9-993a-fe2ca546c76a",
   "metadata": {},
   "source": [
    "For multiple nodes:"
   ]
  },
  {
   "cell_type": "code",
   "execution_count": 17,
   "id": "f4e5c7c8-0b0b-4e9f-a7eb-8fd29a90d1f4",
   "metadata": {},
   "outputs": [
    {
     "name": "stdout",
     "output_type": "stream",
     "text": [
      "('Scott', [-0.01773397, -0.01019224, -0.01657188])\n",
      "('Jenny', [-0.01926511, 0.0004929182, 0.006711317])\n"
     ]
    }
   ],
   "source": [
    ">>> vectors = G.fetch_nodes(\n",
    "...     node_ids=[\"Scott\", \"Jenny\"],\n",
    "...     node_type=\"Account\",\n",
    "...     vector_attribute_name=\"emb1\",\n",
    "... )\n",
    ">>> for vector in vectors.items():\n",
    "...     print(vector)"
   ]
  },
  {
   "cell_type": "markdown",
   "id": "525000ef-03bc-4c02-acf6-677d8a42c2b0",
   "metadata": {},
   "source": [
    "### Filter the Nodes\n",
    "To retrieve nodes that match a specific condition, return only selected attributes, and limit the results:"
   ]
  },
  {
   "cell_type": "code",
   "execution_count": 18,
   "id": "609bec6e-64fa-4af3-8bb9-25b0231f1685",
   "metadata": {},
   "outputs": [
    {
     "name": "stdout",
     "output_type": "stream",
     "text": [
      "    name  isBlocked\n",
      "0   Paul      False\n",
      "1  Scott      False\n"
     ]
    }
   ],
   "source": [
    ">>> df = G.get_nodes(\n",
    "...     node_type=\"Account\",\n",
    "...     node_alias=\"s\", # \"s\" is the default value, so you can remove this line\n",
    "...     filter_expression=\"s.isBlocked == False\",\n",
    "...     return_attributes=[\"name\", \"isBlocked\"],\n",
    "...     limit=2\n",
    "... )\n",
    ">>> print(df)"
   ]
  },
  {
   "cell_type": "markdown",
   "id": "5c3f68b3-023e-4fca-a89f-f25620ae7ca0",
   "metadata": {},
   "source": [
    "### Display the Degree of Nodes\n",
    "To check the degree (number of connections) of a specific node:"
   ]
  },
  {
   "cell_type": "code",
   "execution_count": 19,
   "id": "5f353c91-3b5d-4be1-888c-faac6848f462",
   "metadata": {},
   "outputs": [
    {
     "name": "stdout",
     "output_type": "stream",
     "text": [
      "6\n"
     ]
    }
   ],
   "source": [
    ">>> print(G.degree(\"Ed\", \"Account\"))"
   ]
  },
  {
   "cell_type": "markdown",
   "id": "873b8d4f-4f03-4f0b-8f08-609d5d5c486d",
   "metadata": {},
   "source": [
    "To filter by edge type:"
   ]
  },
  {
   "cell_type": "code",
   "execution_count": 20,
   "id": "def65b0c-c503-4d00-b236-821e7ffdcd18",
   "metadata": {},
   "outputs": [
    {
     "name": "stdout",
     "output_type": "stream",
     "text": [
      "1\n"
     ]
    }
   ],
   "source": [
    ">>> print(G.degree(\"Ed\", \"Account\", edge_types=\"transfer\"))"
   ]
  },
  {
   "cell_type": "code",
   "execution_count": 21,
   "id": "9517976b-df4a-418c-a941-a0da39e1d756",
   "metadata": {},
   "outputs": [
    {
     "name": "stdout",
     "output_type": "stream",
     "text": [
      "3\n"
     ]
    }
   ],
   "source": [
    ">>> print(G.degree(\"Ed\", \"Account\", edge_types=\"reverse_transfer\"))"
   ]
  },
  {
   "cell_type": "code",
   "execution_count": 22,
   "id": "34925784-e2cc-4a6e-a36c-3d5f5971e78a",
   "metadata": {},
   "outputs": [
    {
     "name": "stdout",
     "output_type": "stream",
     "text": [
      "1\n"
     ]
    }
   ],
   "source": [
    ">>> print(G.degree(\"Ed\", \"Account\", edge_types=\"hasPhone\"))"
   ]
  },
  {
   "cell_type": "code",
   "execution_count": 23,
   "id": "8f23780c-d1e7-4610-9932-d18c46f0e065",
   "metadata": {},
   "outputs": [
    {
     "name": "stdout",
     "output_type": "stream",
     "text": [
      "1\n"
     ]
    }
   ],
   "source": [
    ">>> print(G.degree(\"Ed\", \"Account\", edge_types=\"isLocatedIn\"))"
   ]
  },
  {
   "cell_type": "markdown",
   "id": "45d64769-cf89-484b-94bd-780a2449d6a4",
   "metadata": {},
   "source": [
    "## Graph Traversal\n",
    "### Retrieve a Node’s Neighbors\n",
    "Retrieve the first two “Account” nodes that Paul has transferred to, applying a filter to edges where the `amount` is greater than 653. Return the target node’s “name” and “isBlocked” attributes:"
   ]
  },
  {
   "cell_type": "code",
   "execution_count": 24,
   "id": "e390f875-59eb-45eb-bf9d-ce3db0e53af4",
   "metadata": {},
   "outputs": [
    {
     "name": "stdout",
     "output_type": "stream",
     "text": [
      "     name  isBlocked\n",
      "0  Steven       True\n"
     ]
    }
   ],
   "source": [
    ">>> df = G.get_neighbors(\n",
    "...     start_nodes=\"Paul\",\n",
    "...     start_node_type=\"Account\",\n",
    "...     start_node_alias=\"s\", # \"s\" is the default value, so you can remove this line\n",
    "...     edge_types=\"transfer\",\n",
    "...     edge_alias=\"e\", # \"e\" is the default value, so you can remove this line\n",
    "...     target_node_types=\"Account\",\n",
    "...     target_node_alias=\"t\", # \"t\" is the default value, so you can remove this line\n",
    "...     filter_expression=\"e.amount > 653\",\n",
    "...     return_attributes=[\"name\", \"isBlocked\"],\n",
    "...     limit=2,\n",
    "... )\n",
    ">>> print(df)"
   ]
  },
  {
   "cell_type": "markdown",
   "id": "bfad87ac-7464-4a05-bc0c-0282788ceeab",
   "metadata": {},
   "source": [
    "### Breadth-First Search\n",
    "Below is an example of multi-hop neighbor traversal:"
   ]
  },
  {
   "cell_type": "code",
   "execution_count": 25,
   "id": "e9e71197-a7e2-4ccd-9bb4-6765fc6a4666",
   "metadata": {},
   "outputs": [
    {
     "name": "stdout",
     "output_type": "stream",
     "text": [
      "    name  isBlocked\n",
      "1  Scott      False\n"
     ]
    }
   ],
   "source": [
    ">>> df = G.bfs(\n",
    "...     start_nodes=[\"Paul\"], \n",
    "...     node_type=\"Account\", \n",
    "...     edge_types=[\"transfer\", \"reverse_transfer\"], \n",
    "...     max_hops=2\n",
    "... )\n",
    ">>> print(df)"
   ]
  },
  {
   "cell_type": "markdown",
   "id": "7ee3d652-ce78-4940-b4ba-c9459b3a1838",
   "metadata": {},
   "source": [
    "## Perform Vector Search\n",
    "\n",
    "### Top-k Vector Search on a Given Vertex Type's Vector Attribute\n",
    "To find the top 3 most similar accounts to \"Scott\" based on the embedding, we use the following code. As expected, \"Scott\" will appear in the list with a distance of 0."
   ]
  },
  {
   "cell_type": "code",
   "execution_count": 26,
   "id": "f9e47b19-7909-4911-b3a4-623f34fcbc30",
   "metadata": {},
   "outputs": [
    {
     "name": "stdout",
     "output_type": "stream",
     "text": [
      "{'id': 'Scott', 'distance': 0, 'name': 'Scott', 'isBlocked': False}\n",
      "{'id': 'Steven', 'distance': 0.0325563, 'name': 'Steven', 'isBlocked': True}\n"
     ]
    }
   ],
   "source": [
    ">>> results = G.search(\n",
    "...     data=[-0.017733968794345856, -0.01019224338233471, -0.016571875661611557],\n",
    "...     vector_attribute_name=\"emb1\",\n",
    "...     node_type=\"Account\",\n",
    "...     limit=2\n",
    "... )\n",
    ">>> for result in results:\n",
    "...     print(result)"
   ]
  },
  {
   "cell_type": "markdown",
   "id": "e98c3738-38ea-472d-a7d4-ab58ca56b32c",
   "metadata": {},
   "source": [
    "### Top-k Vector Search on a Set of Vertex Types' Vector Attributes\n",
    "The code below performs a multi-vector attribute search on \"Account\" and \"Phone\" node types using two vector attributes (emb1). It retrieves the top 5 similar nodes and fetches the isBlocked attribute for each result."
   ]
  },
  {
   "cell_type": "code",
   "execution_count": 27,
   "id": "a42bd9ba-c9dc-44f8-8f34-4836f9be2437",
   "metadata": {},
   "outputs": [
    {
     "name": "stdout",
     "output_type": "stream",
     "text": [
      "{'id': '352-871-8978', 'distance': 1.788139e-07, 'isBlocked': False}\n",
      "{'id': '718-245-5888', 'distance': 0.09038806, 'isBlocked': False}\n",
      "{'id': '650-658-9867', 'distance': 0.2705743, 'isBlocked': True}\n",
      "{'id': 'Ed', 'distance': 0.5047379, 'isBlocked': False}\n",
      "{'id': 'Jenny', 'distance': 0.6291004, 'isBlocked': False}\n"
     ]
    }
   ],
   "source": [
    ">>> results = G.search_multi_vector_attributes(\n",
    "...     data=[-0.003442931454628706, 0.016562696546316147, 0.012876809574663639],\n",
    "...     vector_attribute_names=[\"emb1\", \"emb1\"],\n",
    "...     node_types=[\"Account\", \"Phone\"],\n",
    "...     limit=5,\n",
    "...     return_attributes_list=[[\"isBlocked\"], [\"isBlocked\"]]\n",
    "... )\n",
    ">>> for result in results:\n",
    "...     print(result)"
   ]
  },
  {
   "cell_type": "markdown",
   "id": "9426ce57-d952-44a3-b753-c7bbc4160066",
   "metadata": {},
   "source": [
    "### Top-k Vector Search Using a Vertex Embedding as the Query Vector\n",
    "This code performs a top-k vector search for similar nodes to a specified node \"Scott\". It searches within the \"Account\" node type using the \"emb1\" embedding attribute and retrieves the top 2 similar node."
   ]
  },
  {
   "cell_type": "code",
   "execution_count": 28,
   "id": "8ba620b0-fa68-4053-b7c9-14ea4cf0b614",
   "metadata": {},
   "outputs": [
    {
     "data": {
      "text/plain": [
       "[{'id': 'Paul', 'distance': 0.3933879, 'name': 'Paul', 'isBlocked': False},\n",
       " {'id': 'Steven', 'distance': 0.0325563, 'name': 'Steven', 'isBlocked': True}]"
      ]
     },
     "execution_count": 28,
     "metadata": {},
     "output_type": "execute_result"
    }
   ],
   "source": [
    ">>> G.search_top_k_similar_nodes(\n",
    "...     node_id=\"Scott\",\n",
    "...     vector_attribute_name=\"emb1\",\n",
    "...     node_type=\"Account\",\n",
    "...     limit=2\n",
    "... )"
   ]
  },
  {
   "cell_type": "markdown",
   "id": "0d51871e-28dc-4cc0-9be7-5619c1ec182e",
   "metadata": {},
   "source": [
    "### Top-k Vector Search with Specified Candidates\n",
    "This code performs a top-2 vector search on the \"Account\" node type using the \"emb1\" embedding attribute. It limits the search to the specified candidate nodes: \"Jenny\", \"Steven\", and \"Ed\"."
   ]
  },
  {
   "cell_type": "code",
   "execution_count": 29,
   "id": "6e041050-450e-4b67-abdf-f83b113dca7a",
   "metadata": {},
   "outputs": [
    {
     "name": "stdout",
     "output_type": "stream",
     "text": [
      "{'id': 'Steven', 'distance': 0.0325563, 'name': 'Steven', 'isBlocked': True}\n",
      "{'id': 'Jenny', 'distance': 0.5804119, 'name': 'Jenny', 'isBlocked': False}\n"
     ]
    }
   ],
   "source": [
    ">>> results = G.search(\n",
    "...     data=[-0.017733968794345856, -0.01019224338233471, -0.016571875661611557],\n",
    "...     vector_attribute_name=\"emb1\",\n",
    "...     node_type=\"Account\",\n",
    "...     limit=2,\n",
    "...     candidate_ids=[\"Jenny\", \"Steven\", \"Ed\"]\n",
    "... )\n",
    ">>> for result in results:\n",
    "...     print(result)"
   ]
  },
  {
   "cell_type": "markdown",
   "id": "577450a5-f96d-4dd9-8093-92d76339214c",
   "metadata": {},
   "source": [
    "## Filtered Vector Search\n",
    "Let's first retrieves all \"Account\" nodes where the isBlocked attribute is False and returns their name attributes in a Pandas DataFrame."
   ]
  },
  {
   "cell_type": "code",
   "execution_count": 30,
   "id": "0de60e36-2b7a-411c-83ee-a608af14a19b",
   "metadata": {},
   "outputs": [
    {
     "name": "stdout",
     "output_type": "stream",
     "text": [
      "    name\n",
      "0  Scott\n",
      "1   Paul\n",
      "2  Jenny\n"
     ]
    }
   ],
   "source": [
    ">>> nodes_df = G.get_nodes(\n",
    "...     node_type=\"Account\",\n",
    "...     node_alias=\"s\", # The alias \"s\" is used in filter_expression. You can remove this line since the default node alias is \"s\"\n",
    "...     filter_expression='s.isBlocked == False AND s.name != \"Ed\"',\n",
    "...     return_attributes=[\"name\"],\n",
    "... )\n",
    ">>> print(nodes_df)"
   ]
  },
  {
   "cell_type": "markdown",
   "id": "fa13a1ca-a105-43bd-97b1-90a0ce905fe4",
   "metadata": {},
   "source": [
    "Then convert the name column of the retrieved DataFrame into a set of candidate IDs and performs a top-2 vector search on the \"Account\" node type using the \"emb1\" embedding attribute, restricted to the specified candidate IDs."
   ]
  },
  {
   "cell_type": "code",
   "execution_count": 31,
   "id": "62b3f587-4ccc-43be-993d-cad5f1c30ea2",
   "metadata": {},
   "outputs": [
    {
     "name": "stdout",
     "output_type": "stream",
     "text": [
      "{'id': 'Paul', 'distance': 0.393388, 'name': 'Paul', 'isBlocked': False}\n",
      "{'id': 'Scott', 'distance': 0, 'name': 'Scott', 'isBlocked': False}\n"
     ]
    }
   ],
   "source": [
    ">>> candidate_ids = set(nodes_df['name'])\n",
    "... results = G.search(\n",
    "...     data=[-0.017733968794345856, -0.01019224338233471, -0.016571875661611557],\n",
    "...     vector_attribute_name=\"emb1\",\n",
    "...     node_type=\"Account\",\n",
    "...     limit=2,\n",
    "...     candidate_ids=candidate_ids\n",
    "... )\n",
    ">>> for result in results:\n",
    "...     print(result)"
   ]
  },
  {
   "cell_type": "markdown",
   "id": "44dd72a4-bf09-4752-9b60-aeed492e0915",
   "metadata": {},
   "source": [
    "## Clear and Drop a Graph\n",
    "\n",
    "### Clear the Graph\n",
    "To clear the data in the graph without dropping it, use the following code:"
   ]
  },
  {
   "cell_type": "code",
   "execution_count": 32,
   "id": "456edd2b-811f-4092-9d71-207446de030d",
   "metadata": {},
   "outputs": [
    {
     "name": "stdout",
     "output_type": "stream",
     "text": [
      "True\n"
     ]
    }
   ],
   "source": [
    ">>> print(G.clear())"
   ]
  },
  {
   "cell_type": "markdown",
   "id": "7405beae-2423-4737-a08f-9ac7a58d652d",
   "metadata": {},
   "source": [
    "Afterwards, you can confirm that there are no nodes in the graph by checking:"
   ]
  },
  {
   "cell_type": "code",
   "execution_count": 33,
   "id": "2712fae5-bdb0-4911-93b3-934f4d25995d",
   "metadata": {},
   "outputs": [
    {
     "name": "stdout",
     "output_type": "stream",
     "text": [
      "0\n"
     ]
    }
   ],
   "source": [
    ">>> print(G.number_of_nodes())"
   ]
  },
  {
   "cell_type": "markdown",
   "id": "a0f0b601-b258-4938-8214-550cb8d8c6fa",
   "metadata": {},
   "source": [
    "### Drop the Graph\n",
    "To clear the data and completely remove the graph—including schema, loading jobs, and queries—use the following code:"
   ]
  },
  {
   "cell_type": "code",
   "execution_count": 34,
   "id": "36504b02-1b86-4782-a4cc-f9a4789d5750",
   "metadata": {},
   "outputs": [
    {
     "name": "stdout",
     "output_type": "stream",
     "text": [
      "2025-02-28 14:22:33,656 - tigergraphx.core.managers.schema_manager - INFO - Dropping graph: FinancialGraph...\n",
      "2025-02-28 14:22:36,658 - tigergraphx.core.managers.schema_manager - INFO - Graph dropped successfully.\n"
     ]
    }
   ],
   "source": [
    ">>> G.drop_graph()"
   ]
  },
  {
   "cell_type": "markdown",
   "id": "822f1d02-ec2a-4436-b53e-71750e4322d9",
   "metadata": {},
   "source": [
    "---\n",
    "\n",
    "## What’s Next?\n",
    "\n",
    "Now that you've learned how to use TigerGraph for storing both graph data and vectors, you can dive into more advanced features of TigerGraphX:\n",
    "\n",
    "- [GraphRAG Overview](../graphrag/graphrag_overview.md): Learn about integrating graphs with LLMs.\n",
    "- [API Reference](../reference/introduction.md): Dive deeper into TigerGraphX APIs.\n",
    "\n",
    "---\n",
    "\n",
    "Start unlocking the power of graphs with **TigerGraphX** today!"
   ]
  }
 ],
 "metadata": {
  "kernelspec": {
   "display_name": "Python 3 (ipykernel)",
   "language": "python",
   "name": "python3"
  },
  "language_info": {
   "codemirror_mode": {
    "name": "ipython",
    "version": 3
   },
   "file_extension": ".py",
   "mimetype": "text/x-python",
   "name": "python",
   "nbconvert_exporter": "python",
   "pygments_lexer": "ipython3",
   "version": "3.12.6"
  }
 },
 "nbformat": 4,
 "nbformat_minor": 5
}
