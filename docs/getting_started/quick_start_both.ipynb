{
 "cells": [
  {
   "cell_type": "markdown",
   "id": "71966721-ce57-4fbe-a996-bc12558a23ca",
   "metadata": {},
   "source": [
    "# TigerGraphX Quick Start: Using TigerGraph for Graph and Vector Database\n",
    "\n",
    "Follow this guide to quickly get started with TigerGraph for storing both graph data and vectors. This guide assumes that you have already installed TigerGraphX and its dependencies, as outlined in the [Installation Guide](../installation).\n",
    "\n",
    "To run this Jupyter Notebook, download the original `.ipynb` file from [quick_start_both.ipynb](https://github.com/xuanleilin/tigergraphx/tree/main/docs/getting_started/quick_start_both.ipynb).\n",
    "\n",
    "---\n",
    "\n",
    "In this quick start guide, we will work with the following graph:\n",
    "\n",
    "![Financial Graph](https://raw.githubusercontent.com/tigergraph/ecosys/master/demos/guru_scripts/docker/tutorial/4.x/FinancialGraph.jpg)\n",
    "\n",
    "## Create a Graph\n",
    "### Define a Graph Schema\n",
    "TigerGraph is a schema-based database, which requires defining a schema to structure your graph. This schema specifies the graph name, nodes (vertices), edges (relationships), and their respective attributes.\n",
    "\n",
    "In this example, we create a graph called \"FinancialGraph\" with three node types: \"Account,\" \"City,\" and \"Phone,\" and three edge types: \"transfer,\" \"hasPhone,\" and \"isLocatedIn.\"\n",
    "\n",
    "- **Nodes:**\n",
    "  - **Account**: Primary key `name`, attributes `name` (string) and `isBlocked` (boolean), vector attribute `emb1` (3).\n",
    "  - **City**: Primary key `name`, attribute `name` (string).\n",
    "  - **Phone**: Primary key `number`, attributes `number` (string) and `isBlocked` (boolean), vector attribute `emb1` (3).\n",
    "\n",
    "- **Edges:**\n",
    "  - **transfer**: Directed multi-edge between \"Account\" nodes, identified by `date` (datetime) as the unique identifier for each edge between a pair of source and target nodes. The edge has an attribute `amount` (integer).\n",
    "  - **hasPhone**: Undirected edge between \"Account\" and \"Phone\" nodes.\n",
    "  - **isLocatedIn**: Directed edge between \"Account\" and \"City\" nodes.\n",
    "\n",
    "This schema defines the structure of the \"FinancialGraph\" with nodes and edges and their respective attributes."
   ]
  },
  {
   "cell_type": "code",
   "execution_count": 1,
   "id": "4ad8d1cc-a7a1-4c8d-9359-be1acbe7033c",
   "metadata": {},
   "outputs": [],
   "source": [
    "graph_schema = {\n",
    "    \"graph_name\": \"FinancialGraph\",\n",
    "    \"nodes\": {\n",
    "        \"Account\": {\n",
    "            \"primary_key\": \"name\",\n",
    "            \"attributes\": {\n",
    "                \"name\": \"STRING\",\n",
    "                \"isBlocked\": \"BOOL\",\n",
    "            },\n",
    "            \"vector_attributes\": {\"emb1\": 3},\n",
    "        },\n",
    "        \"City\": {\n",
    "            \"primary_key\": \"name\",\n",
    "            \"attributes\": {\n",
    "                \"name\": \"STRING\",\n",
    "            },\n",
    "        },\n",
    "        \"Phone\": {\n",
    "            \"primary_key\": \"number\",\n",
    "            \"attributes\": {\n",
    "                \"number\": \"STRING\",\n",
    "                \"isBlocked\": \"BOOL\",\n",
    "            },\n",
    "            \"vector_attributes\": {\"emb1\": 3},\n",
    "        },\n",
    "    },\n",
    "    \"edges\": {\n",
    "        \"transfer\": {\n",
    "            \"is_directed_edge\": True,\n",
    "            \"from_node_type\": \"Account\",\n",
    "            \"to_node_type\": \"Account\",\n",
    "            \"discriminator\": \"date\",\n",
    "            \"attributes\": {\n",
    "                \"date\": \"DATETIME\",\n",
    "                \"amount\": \"INT\",\n",
    "            },\n",
    "        },\n",
    "        \"hasPhone\": {\n",
    "            \"is_directed_edge\": False,\n",
    "            \"from_node_type\": \"Account\",\n",
    "            \"to_node_type\": \"Phone\",\n",
    "        },\n",
    "        \"isLocatedIn\": {\n",
    "            \"is_directed_edge\": True,\n",
    "            \"from_node_type\": \"Account\",\n",
    "            \"to_node_type\": \"City\",\n",
    "        },\n",
    "    },\n",
    "}"
   ]
  },
  {
   "cell_type": "markdown",
   "id": "b2af8159-8abd-4e03-b8f6-66c794f03ca9",
   "metadata": {},
   "source": [
    "### Define the TigerGraph Connection Configuration\n",
    "In addition to defining the schema, a connection configuration is necessary to establish communication with the TigerGraph server."
   ]
  },
  {
   "cell_type": "code",
   "execution_count": 2,
   "id": "958406ca-e515-42bc-8437-8e401fbc3b81",
   "metadata": {},
   "outputs": [],
   "source": [
    "connection = {\n",
    "    \"host\": \"http://127.0.0.1\",\n",
    "    \"username\": \"tigergraph\",\n",
    "    \"password\": \"tigergraph\",\n",
    "}"
   ]
  },
  {
   "cell_type": "markdown",
   "id": "8fcac59d-7cbc-446a-9c55-43357d64382c",
   "metadata": {},
   "source": [
    "### Create a Graph\n",
    "Running the following command will create a graph using the user-defined schema if it does not already exist. If the graph exists, the command will return the existing graph. To overwrite the existing graph, set the drop_existing_graph parameter to True. Note that creating the graph may take several seconds."
   ]
  },
  {
   "cell_type": "code",
   "execution_count": 3,
   "id": "b813f7cd-bef6-4179-ad6b-ffd6f66f9513",
   "metadata": {},
   "outputs": [
    {
     "name": "stdout",
     "output_type": "stream",
     "text": [
      "2025-01-06 21:53:00,459 - tigergraphx.core.graph.base_graph - INFO - Creating schema for graph FinancialGraph...\n",
      "2025-01-06 21:54:03,285 - tigergraphx.core.graph.base_graph - INFO - Schema created successfully.\n"
     ]
    }
   ],
   "source": [
    "from tigergraphx import Graph\n",
    "G = Graph(graph_schema, connection)"
   ]
  },
  {
   "cell_type": "markdown",
   "id": "ef8d6f31-94d7-4335-8169-e72c496bcd6d",
   "metadata": {},
   "source": [
    "## Add Add Nodes and Edges\n",
    "*Note*: This example demonstrates how to easily add nodes and edges using the API. However, adding nodes and edges individually may not be efficient for large-scale operations. For better performance when loading data into TigerGraph, it is recommended to use a loading job. Nonetheless, these examples are ideal for quickly getting started.\n",
    "### Add Nodes"
   ]
  },
  {
   "cell_type": "code",
   "execution_count": 4,
   "id": "45c87626-3d93-4319-93b1-f816c211b36e",
   "metadata": {},
   "outputs": [
    {
     "name": "stdout",
     "output_type": "stream",
     "text": [
      "5\n",
      "3\n",
      "3\n"
     ]
    }
   ],
   "source": [
    "nodes_for_adding = [\n",
    "    (\"Scott\", {\"isBlocked\": False}),\n",
    "    (\"Jenny\", {\"isBlocked\": False}),\n",
    "    (\"Steven\", {\"isBlocked\": True}),\n",
    "    (\"Paul\", {\"isBlocked\": False}),\n",
    "    (\"Ed\", {\"isBlocked\": False}),\n",
    "]\n",
    "print(G.add_nodes_from(nodes_for_adding, node_type=\"Account\"))\n",
    "nodes_for_adding = [\n",
    "    (\"718-245-5888\", {\"isBlocked\": False}),\n",
    "    (\"650-658-9867\", {\"isBlocked\": True}),\n",
    "    (\"352-871-8978\", {\"isBlocked\": False}),\n",
    "]\n",
    "print(G.add_nodes_from(nodes_for_adding, node_type=\"Phone\"))\n",
    "nodes_for_adding = [\"New York\", \"Gainesville\", \"San Francisco\"]\n",
    "print(G.add_nodes_from(nodes_for_adding, node_type=\"City\"))"
   ]
  },
  {
   "cell_type": "markdown",
   "id": "32cbd655-c0ba-4e08-9b0e-846445273647",
   "metadata": {},
   "source": [
    "### Add Edges"
   ]
  },
  {
   "cell_type": "code",
   "execution_count": 5,
   "id": "e2060070-868d-45b4-be79-b21028a745fc",
   "metadata": {},
   "outputs": [
    {
     "name": "stdout",
     "output_type": "stream",
     "text": [
      "5\n",
      "5\n",
      "8\n"
     ]
    }
   ],
   "source": [
    "ebunch_to_add = [\n",
    "    (\"Scott\", \"718-245-5888\"),\n",
    "    (\"Jenny\", \"718-245-5888\"),\n",
    "    (\"Jenny\", \"650-658-9867\"),\n",
    "    (\"Paul\", \"650-658-9867\"),\n",
    "    (\"Ed\", \"352-871-8978\"),\n",
    "]\n",
    "print(G.add_edges_from(ebunch_to_add, \"Account\", \"hasPhone\", \"Phone\"))\n",
    "ebunch_to_add = [\n",
    "    (\"Scott\", \"New York\"),\n",
    "    (\"Jenny\", \"San Francisco\"),\n",
    "    (\"Steven\", \"San Francisco\"),\n",
    "    (\"Paul\", \"Gainesville\"),\n",
    "    (\"Ed\", \"Gainesville\"),\n",
    "]\n",
    "print(G.add_edges_from(ebunch_to_add, \"Account\", \"isLocatedIn\", \"City\"))\n",
    "ebunch_to_add = [\n",
    "    (\"Scott\", \"Ed\", {\"date\": \"2024-01-04\", \"amount\": 20000}),\n",
    "    (\"Scott\", \"Ed\", {\"date\": \"2024-02-01\", \"amount\": 800}),\n",
    "    (\"Scott\", \"Ed\", {\"date\": \"2024-02-14\", \"amount\": 500}),\n",
    "    (\"Jenny\", \"Scott\", {\"date\": \"2024-04-04\", \"amount\": 1000}),\n",
    "    (\"Paul\", \"Jenny\", {\"date\": \"2024-02-01\", \"amount\": 653}),\n",
    "    (\"Steven\", \"Jenny\", {\"date\": \"2024-05-01\", \"amount\": 8560}),\n",
    "    (\"Ed\", \"Paul\", {\"date\": \"2024-01-04\", \"amount\": 1500}),\n",
    "    (\"Paul\", \"Steven\", {\"date\": \"2023-05-09\", \"amount\": 20000}),\n",
    "]\n",
    "print(G.add_edges_from(ebunch_to_add, \"Account\", \"transfer\", \"Account\"))"
   ]
  },
  {
   "cell_type": "markdown",
   "id": "88bf30e3-962d-41e0-bc45-1bf256c7ca24",
   "metadata": {},
   "source": [
    "### Inserting Embeddings into Nodes\n",
    "To insert embeddings into the nodes, you can use the following data format:"
   ]
  },
  {
   "cell_type": "code",
   "execution_count": 6,
   "id": "a9878313-994c-42f9-89af-b7d1bedd503d",
   "metadata": {},
   "outputs": [
    {
     "name": "stdout",
     "output_type": "stream",
     "text": [
      "0\n"
     ]
    }
   ],
   "source": [
    "data = [\n",
    "    {\n",
    "        \"name\": \"Scott\",\n",
    "        \"emb1\": [-0.017733968794345856, -0.01019224338233471, -0.016571875661611557],\n",
    "    },\n",
    "    {\n",
    "        \"name\": \"Jenny\",\n",
    "        \"emb1\": [-0.019265105947852135, 0.0004929182468913496, 0.006711316294968128],\n",
    "    },\n",
    "    {\n",
    "        \"name\": \"Steven\",\n",
    "        \"emb1\": [-0.01505514420568943, -0.016819344833493233, -0.0221870020031929],\n",
    "    },\n",
    "    {\n",
    "        \"name\": \"Paul\",\n",
    "        \"emb1\": [0.0011193430982530117, -0.001038988004438579, -0.017158523201942444],\n",
    "    },\n",
    "    {\n",
    "        \"name\": \"Ed\",\n",
    "        \"emb1\": [-0.003692442551255226, 0.010494389571249485, -0.004631792660802603],\n",
    "    },\n",
    "]\n",
    "print(G.upsert(data, \"Account\"))"
   ]
  },
  {
   "cell_type": "markdown",
   "id": "d9a5e564-df5f-4f3f-9235-2a16556ede8f",
   "metadata": {},
   "source": [
    "Note: A result of 0 simply indicates that no new nodes were added, as the nodes were already inserted into TigerGraph. This does not mean the update failed."
   ]
  },
  {
   "cell_type": "markdown",
   "id": "8ff37fd8-0a13-4fe9-89e1-5a78065611f3",
   "metadata": {},
   "source": [
    "### Display the Number of Nodes\n",
    "Next, let's verify that the data has been inserted into the graph by using the following command. As expected, the number of nodes is 5."
   ]
  },
  {
   "cell_type": "code",
   "execution_count": 7,
   "id": "be635f54-e14b-4232-9022-fbe92b10453f",
   "metadata": {},
   "outputs": [
    {
     "name": "stdout",
     "output_type": "stream",
     "text": [
      "11\n"
     ]
    }
   ],
   "source": [
    "print(G.number_of_nodes())"
   ]
  },
  {
   "cell_type": "markdown",
   "id": "7ee3d652-ce78-4940-b4ba-c9459b3a1838",
   "metadata": {},
   "source": [
    "## Perform Vector Search\n",
    "To find the top 2 most similar accounts to \"Scott\" based on the embedding, we use the following code. As expected, \"Scott\" will appear in the list with a distance of 0."
   ]
  },
  {
   "cell_type": "code",
   "execution_count": 8,
   "id": "f9e47b19-7909-4911-b3a4-623f34fcbc30",
   "metadata": {},
   "outputs": [
    {
     "name": "stdout",
     "output_type": "stream",
     "text": [
      "[{'id': 'Paul', 'distance': 0.393388, 'name': 'Paul', 'isBlocked': False}, {'id': 'Steven', 'distance': 0.0325563, 'name': 'Steven', 'isBlocked': True}]\n"
     ]
    }
   ],
   "source": [
    "data = [-0.017733968794345856, -0.01019224338233471, -0.016571875661611557]\n",
    "print(G.search(data, vector_attribute_name=\"emb1\", node_type=\"Account\", limit=2))"
   ]
  },
  {
   "cell_type": "markdown",
   "id": "44dd72a4-bf09-4752-9b60-aeed492e0915",
   "metadata": {},
   "source": [
    "## Clear and Drop a Graph\n",
    "\n",
    "### Clear the Graph\n",
    "To clear the data in the graph without dropping it, use the following code:"
   ]
  },
  {
   "cell_type": "code",
   "execution_count": 9,
   "id": "456edd2b-811f-4092-9d71-207446de030d",
   "metadata": {},
   "outputs": [
    {
     "name": "stdout",
     "output_type": "stream",
     "text": [
      "True\n"
     ]
    }
   ],
   "source": [
    "print(G.clear())"
   ]
  },
  {
   "cell_type": "markdown",
   "id": "7405beae-2423-4737-a08f-9ac7a58d652d",
   "metadata": {},
   "source": [
    "Afterwards, you can confirm that there are no nodes in the graph by checking:"
   ]
  },
  {
   "cell_type": "code",
   "execution_count": 10,
   "id": "2712fae5-bdb0-4911-93b3-934f4d25995d",
   "metadata": {},
   "outputs": [
    {
     "name": "stdout",
     "output_type": "stream",
     "text": [
      "0\n"
     ]
    }
   ],
   "source": [
    "print(G.number_of_nodes())"
   ]
  },
  {
   "cell_type": "markdown",
   "id": "a0f0b601-b258-4938-8214-550cb8d8c6fa",
   "metadata": {},
   "source": [
    "### Drop the Graph\n",
    "To clear the data and completely remove the graph—including schema, loading jobs, and queries—use the following code:"
   ]
  },
  {
   "cell_type": "code",
   "execution_count": 11,
   "id": "36504b02-1b86-4782-a4cc-f9a4789d5750",
   "metadata": {},
   "outputs": [],
   "source": [
    "G.drop_graph()"
   ]
  },
  {
   "cell_type": "markdown",
   "id": "822f1d02-ec2a-4436-b53e-71750e4322d9",
   "metadata": {},
   "source": [
    "---\n",
    "\n",
    "## What’s Next?\n",
    "\n",
    "Now that you've learned how to use TigerGraph for storing both graph data and vectors, you can dive into more advanced features of TigerGraphX:\n",
    "- [GraphRAG Overview](../../graphrag/graphrag_overview): Learn about integrating graphs with LLMs.\n",
    "- [API Reference](../../reference/features_overview): Dive deeper into TigerGraphX APIs.\n",
    "\n",
    "---\n",
    "\n",
    "Start unlocking the power of graphs with **TigerGraphX** today!"
   ]
  }
 ],
 "metadata": {
  "kernelspec": {
   "display_name": "Python 3 (ipykernel)",
   "language": "python",
   "name": "python3"
  },
  "language_info": {
   "codemirror_mode": {
    "name": "ipython",
    "version": 3
   },
   "file_extension": ".py",
   "mimetype": "text/x-python",
   "name": "python",
   "nbconvert_exporter": "python",
   "pygments_lexer": "ipython3",
   "version": "3.12.6"
  }
 },
 "nbformat": 4,
 "nbformat_minor": 5
}
