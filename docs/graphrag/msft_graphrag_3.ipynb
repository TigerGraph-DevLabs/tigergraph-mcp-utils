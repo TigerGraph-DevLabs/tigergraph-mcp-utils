{
 "cells": [
  {
   "cell_type": "markdown",
   "id": "e8f4ca83-4f36-4fc1-947f-b23bfb672f90",
   "metadata": {},
   "source": [
    "# Supporting Microsoft’s GraphRAG: Part 3 - Graph Analysis\n",
    "\n",
    "In the [previous section](../msft_graphrag_2), we have created a graph in TigerGraph, and loaded the CSV data into it.\n",
    "\n",
    "Now, let’s use Jupyter Notebook to explore the graph data and perform graph analysis.\n",
    "\n",
    "To run this Jupyter Notebook, you can download the original `.ipynb` file from [msft_graphrag_3.ipynb](https://github.com/tigergraph/tigergraphx/tree/main/docs/graphrag/msft_graphrag_3.ipynb).\n",
    "\n",
    "---\n",
    "\n",
    "## Retrieving the Graph from TigerGraph\n",
    "Since the graph has already been created in TigerGraph, redefining its schema is unnecessary. Instead, you can provide the graph name to retrieve it. TigerGraphX will verify if the graph exists in TigerGraph and, if it does, will return the corresponding graph.\n",
    "\n",
    "### Define the TigerGraph Connection Configuration\n",
    "Before retrieving the graph schema, you need to configure the **TigerGraph connection settings**.  \n",
    "\n",
    "The recommended approach is to use environment variables, such as setting them with the `export` command in the shell. Here, to illustrate the demo, we configure them within Python using the `os.environ` method. You can find more methods for configuring connection settings in [Graph.\\_\\_init\\_\\_](../../reference/01_core/graph/#tigergraphx.core.graph.Graph.__init__)."
   ]
  },
  {
   "cell_type": "code",
   "execution_count": 1,
   "id": "5c1b3ea6-ea9e-4bfc-80d3-22a94700cc40",
   "metadata": {},
   "outputs": [],
   "source": [
    ">>> import os\n",
    ">>> os.environ[\"TG_HOST\"] = \"http://127.0.0.1\"\n",
    ">>> os.environ[\"TG_USERNAME\"] = \"tigergraph\"\n",
    ">>> os.environ[\"TG_PASSWORD\"] = \"tigergraph\""
   ]
  },
  {
   "cell_type": "markdown",
   "id": "2a679ca9-aec7-423f-93f7-5aac03e5b3f2",
   "metadata": {},
   "source": [
    "### Retrieve a Graph and Print Its Schema\n",
    "Once the graph has been created in TigerGraph, you can retrieve it without manually defining the schema using the `Graph.from_db` method, which requires only the graph name:"
   ]
  },
  {
   "cell_type": "code",
   "execution_count": 2,
   "id": "ff16e1ca-52e2-478a-844f-d478b5cc7659",
   "metadata": {},
   "outputs": [],
   "source": [
    ">>> from tigergraphx import Graph\n",
    ">>> G = Graph.from_db(\"GraphRAG\")"
   ]
  },
  {
   "cell_type": "markdown",
   "id": "fad55198-4e39-4646-b0c9-417ac12d1eb2",
   "metadata": {},
   "source": [
    "## Display the Graph Schema\n",
    "Now, let's print the schema of the graph in a well-formatted manner:"
   ]
  },
  {
   "cell_type": "code",
   "execution_count": 3,
   "id": "e134cc6a-19f6-4151-9d1f-537458acc0e9",
   "metadata": {},
   "outputs": [
    {
     "name": "stdout",
     "output_type": "stream",
     "text": [
      "{\n",
      "    \"graph_name\": \"GraphRAG\",\n",
      "    \"nodes\": {\n",
      "        \"Document\": {\n",
      "            \"primary_key\": \"id\",\n",
      "            \"attributes\": {\n",
      "                \"id\": {\n",
      "                    \"data_type\": \"DataType.STRING\",\n",
      "                    \"default_value\": null\n",
      "                },\n",
      "                \"title\": {\n",
      "                    \"data_type\": \"DataType.STRING\",\n",
      "                    \"default_value\": null\n",
      "                }\n",
      "            },\n",
      "            \"vector_attributes\": {}\n",
      "        },\n",
      "        \"TextUnit\": {\n",
      "            \"primary_key\": \"id\",\n",
      "            \"attributes\": {\n",
      "                \"id\": {\n",
      "                    \"data_type\": \"DataType.STRING\",\n",
      "                    \"default_value\": null\n",
      "                },\n",
      "                \"text\": {\n",
      "                    \"data_type\": \"DataType.STRING\",\n",
      "                    \"default_value\": null\n",
      "                },\n",
      "                \"n_tokens\": {\n",
      "                    \"data_type\": \"DataType.UINT\",\n",
      "                    \"default_value\": null\n",
      "                }\n",
      "            },\n",
      "            \"vector_attributes\": {}\n",
      "        },\n",
      "        \"Entity\": {\n",
      "            \"primary_key\": \"id\",\n",
      "            \"attributes\": {\n",
      "                \"id\": {\n",
      "                    \"data_type\": \"DataType.STRING\",\n",
      "                    \"default_value\": null\n",
      "                },\n",
      "                \"human_readable_id\": {\n",
      "                    \"data_type\": \"DataType.UINT\",\n",
      "                    \"default_value\": null\n",
      "                },\n",
      "                \"name\": {\n",
      "                    \"data_type\": \"DataType.STRING\",\n",
      "                    \"default_value\": null\n",
      "                },\n",
      "                \"entity_type\": {\n",
      "                    \"data_type\": \"DataType.STRING\",\n",
      "                    \"default_value\": null\n",
      "                },\n",
      "                \"description\": {\n",
      "                    \"data_type\": \"DataType.STRING\",\n",
      "                    \"default_value\": null\n",
      "                }\n",
      "            },\n",
      "            \"vector_attributes\": {\n",
      "                \"emb_description\": {\n",
      "                    \"dimension\": 1536,\n",
      "                    \"index_type\": \"HNSW\",\n",
      "                    \"data_type\": \"FLOAT\",\n",
      "                    \"metric\": \"COSINE\"\n",
      "                }\n",
      "            }\n",
      "        },\n",
      "        \"Relationship\": {\n",
      "            \"primary_key\": \"id\",\n",
      "            \"attributes\": {\n",
      "                \"id\": {\n",
      "                    \"data_type\": \"DataType.STRING\",\n",
      "                    \"default_value\": null\n",
      "                },\n",
      "                \"human_readable_id\": {\n",
      "                    \"data_type\": \"DataType.UINT\",\n",
      "                    \"default_value\": null\n",
      "                },\n",
      "                \"rank\": {\n",
      "                    \"data_type\": \"DataType.UINT\",\n",
      "                    \"default_value\": null\n",
      "                },\n",
      "                \"weight\": {\n",
      "                    \"data_type\": \"DataType.DOUBLE\",\n",
      "                    \"default_value\": null\n",
      "                },\n",
      "                \"description\": {\n",
      "                    \"data_type\": \"DataType.STRING\",\n",
      "                    \"default_value\": null\n",
      "                }\n",
      "            },\n",
      "            \"vector_attributes\": {}\n",
      "        },\n",
      "        \"Community\": {\n",
      "            \"primary_key\": \"id\",\n",
      "            \"attributes\": {\n",
      "                \"id\": {\n",
      "                    \"data_type\": \"DataType.STRING\",\n",
      "                    \"default_value\": null\n",
      "                },\n",
      "                \"level\": {\n",
      "                    \"data_type\": \"DataType.UINT\",\n",
      "                    \"default_value\": null\n",
      "                },\n",
      "                \"rank\": {\n",
      "                    \"data_type\": \"DataType.DOUBLE\",\n",
      "                    \"default_value\": null\n",
      "                },\n",
      "                \"rank_explanation\": {\n",
      "                    \"data_type\": \"DataType.STRING\",\n",
      "                    \"default_value\": null\n",
      "                },\n",
      "                \"title\": {\n",
      "                    \"data_type\": \"DataType.STRING\",\n",
      "                    \"default_value\": null\n",
      "                },\n",
      "                \"full_content\": {\n",
      "                    \"data_type\": \"DataType.STRING\",\n",
      "                    \"default_value\": null\n",
      "                },\n",
      "                \"summary\": {\n",
      "                    \"data_type\": \"DataType.STRING\",\n",
      "                    \"default_value\": null\n",
      "                }\n",
      "            },\n",
      "            \"vector_attributes\": {}\n",
      "        }\n",
      "    },\n",
      "    \"edges\": {\n",
      "        \"document_contains_text_unit\": {\n",
      "            \"is_directed_edge\": false,\n",
      "            \"from_node_type\": \"Document\",\n",
      "            \"to_node_type\": \"TextUnit\",\n",
      "            \"discriminator\": \"set()\",\n",
      "            \"attributes\": {}\n",
      "        },\n",
      "        \"text_unit_contains_entity\": {\n",
      "            \"is_directed_edge\": false,\n",
      "            \"from_node_type\": \"TextUnit\",\n",
      "            \"to_node_type\": \"Entity\",\n",
      "            \"discriminator\": \"set()\",\n",
      "            \"attributes\": {}\n",
      "        },\n",
      "        \"text_unit_contains_relationship\": {\n",
      "            \"is_directed_edge\": false,\n",
      "            \"from_node_type\": \"TextUnit\",\n",
      "            \"to_node_type\": \"Relationship\",\n",
      "            \"discriminator\": \"set()\",\n",
      "            \"attributes\": {}\n",
      "        },\n",
      "        \"relationship_source\": {\n",
      "            \"is_directed_edge\": false,\n",
      "            \"from_node_type\": \"Relationship\",\n",
      "            \"to_node_type\": \"Entity\",\n",
      "            \"discriminator\": \"set()\",\n",
      "            \"attributes\": {}\n",
      "        },\n",
      "        \"relationship_target\": {\n",
      "            \"is_directed_edge\": false,\n",
      "            \"from_node_type\": \"Relationship\",\n",
      "            \"to_node_type\": \"Entity\",\n",
      "            \"discriminator\": \"set()\",\n",
      "            \"attributes\": {}\n",
      "        },\n",
      "        \"community_contains_entity\": {\n",
      "            \"is_directed_edge\": false,\n",
      "            \"from_node_type\": \"Community\",\n",
      "            \"to_node_type\": \"Entity\",\n",
      "            \"discriminator\": \"set()\",\n",
      "            \"attributes\": {}\n",
      "        },\n",
      "        \"community_contains_relationship\": {\n",
      "            \"is_directed_edge\": false,\n",
      "            \"from_node_type\": \"Community\",\n",
      "            \"to_node_type\": \"Relationship\",\n",
      "            \"discriminator\": \"set()\",\n",
      "            \"attributes\": {}\n",
      "        }\n",
      "    }\n",
      "}\n"
     ]
    }
   ],
   "source": [
    ">>> import json\n",
    ">>> schema = G.get_schema()\n",
    ">>> print(json.dumps(schema, indent=4, default=str))"
   ]
  },
  {
   "cell_type": "markdown",
   "id": "4a4ce0b7-0027-4f84-9edf-9a97dee98c43",
   "metadata": {},
   "source": [
    "## Display Node and Edge Counts\n",
    "\n",
    "Gain deeper insights into the graph by exploring details such as the total number of nodes and the count of nodes for each node type.\n",
    "\n",
    "### Display the Total Number of Nodes"
   ]
  },
  {
   "cell_type": "code",
   "execution_count": 4,
   "id": "a8e8ebb9-421f-4f3b-adbb-28747837618d",
   "metadata": {},
   "outputs": [
    {
     "data": {
      "text/plain": [
       "2883"
      ]
     },
     "execution_count": 4,
     "metadata": {},
     "output_type": "execute_result"
    }
   ],
   "source": [
    ">>> G.number_of_nodes()"
   ]
  },
  {
   "cell_type": "markdown",
   "id": "f4b2ba43-89e8-4666-80dc-0282f280782f",
   "metadata": {},
   "source": [
    "### Display the Count of Nodes for Each Node Type"
   ]
  },
  {
   "cell_type": "code",
   "execution_count": 5,
   "id": "f8d7fa70-072a-406b-856b-1cf7868002de",
   "metadata": {},
   "outputs": [
    {
     "name": "stdout",
     "output_type": "stream",
     "text": [
      "Document: 1\n",
      "TextUnit: 104\n",
      "Entity: 1577\n",
      "Relationship: 1092\n",
      "Community: 109\n"
     ]
    }
   ],
   "source": [
    ">>> for node_type in schema[\"nodes\"]:\n",
    "...     print(f\"{node_type}: {G.number_of_nodes(node_type)}\")"
   ]
  },
  {
   "cell_type": "markdown",
   "id": "1bea78ec-dd4b-4ad8-ad89-54b5bc505b20",
   "metadata": {},
   "source": [
    "### Display the Total Number of Edges"
   ]
  },
  {
   "cell_type": "code",
   "execution_count": 6,
   "id": "1c8b0bca-f6c8-43f0-af64-c396e643cc0c",
   "metadata": {},
   "outputs": [
    {
     "data": {
      "text/plain": [
       "10313"
      ]
     },
     "execution_count": 6,
     "metadata": {},
     "output_type": "execute_result"
    }
   ],
   "source": [
    ">>> G.number_of_edges()"
   ]
  },
  {
   "cell_type": "markdown",
   "id": "b536312c-2c00-4d94-a12f-bb74f90e970b",
   "metadata": {},
   "source": [
    "### Display the Count of Edges for Each Edge Type"
   ]
  },
  {
   "cell_type": "code",
   "execution_count": 7,
   "id": "24086acd-96a1-43c5-8481-3bcee0444478",
   "metadata": {},
   "outputs": [
    {
     "name": "stdout",
     "output_type": "stream",
     "text": [
      "document_contains_text_unit: 104\n",
      "text_unit_contains_entity: 2095\n",
      "text_unit_contains_relationship: 1282\n",
      "relationship_source: 1092\n",
      "relationship_target: 1092\n",
      "community_contains_entity: 1956\n",
      "community_contains_relationship: 2692\n"
     ]
    }
   ],
   "source": [
    ">>> for edge_type in schema[\"edges\"]:\n",
    "...     print(f\"{edge_type}: {G.number_of_edges(edge_type)}\")"
   ]
  },
  {
   "cell_type": "markdown",
   "id": "32439254-c5ae-428b-bae9-da07a89840e2",
   "metadata": {},
   "source": [
    "## Retrieving Sample Nodes\n",
    "Retrieve Sample `Entity` Nodes."
   ]
  },
  {
   "cell_type": "code",
   "execution_count": 8,
   "id": "39c30ff5-41e5-4860-82e5-3924fc8b5203",
   "metadata": {},
   "outputs": [
    {
     "name": "stdout",
     "output_type": "stream",
     "text": [
      "                               v_id  v_type  human_readable_id entity_type  \\\n",
      "0  c0803923646246c5a203810faa4e4464  Entity                825         GEO   \n",
      "1  6069e8895f924b659534f74d6736e69d  Entity                830         GEO   \n",
      "\n",
      "            name                                        description  \\\n",
      "0  VALLEY STREAM  Valley Stream is a location in New York where ...   \n",
      "1          CHINA  China is a country in East Asia where Walmart ...   \n",
      "\n",
      "                                 id  \n",
      "0  c0803923646246c5a203810faa4e4464  \n",
      "1  6069e8895f924b659534f74d6736e69d  \n"
     ]
    }
   ],
   "source": [
    ">>> print(G.get_nodes(node_type=\"Entity\", limit=2))"
   ]
  },
  {
   "cell_type": "markdown",
   "id": "d5b74277-252a-4a74-9fa6-3722ca50185e",
   "metadata": {},
   "source": [
    "Retrieve Sample `Relationship` Nodes"
   ]
  },
  {
   "cell_type": "code",
   "execution_count": 9,
   "id": "8e4ce5d9-9878-480b-862a-955e52e1c5c1",
   "metadata": {},
   "outputs": [
    {
     "name": "stdout",
     "output_type": "stream",
     "text": [
      "                               v_id        v_type  human_readable_id  rank  \\\n",
      "0  5e7864d8153f4aa8936b253792f0b636  Relationship               1066    32   \n",
      "1  1db19aed7ed54b44b4e8f71b7588e0dd  Relationship               1058    16   \n",
      "\n",
      "   weight                                        description  \\\n",
      "0       8  Animax is a channel owned by Sony Pictures Tel...   \n",
      "1       7  Guerrilla Cambridge developed games for the Pl...   \n",
      "\n",
      "                                 id  \n",
      "0  5e7864d8153f4aa8936b253792f0b636  \n",
      "1  1db19aed7ed54b44b4e8f71b7588e0dd  \n"
     ]
    }
   ],
   "source": [
    ">>> print(G.get_nodes(node_type=\"Relationship\", limit=2))"
   ]
  },
  {
   "cell_type": "markdown",
   "id": "ac7d87fb-3d58-4445-9bef-055314b85fbb",
   "metadata": {},
   "source": [
    "Retrieve Sample `Community` Nodes"
   ]
  },
  {
   "cell_type": "code",
   "execution_count": 10,
   "id": "bf531b24-a1c8-4b4e-be02-a94f823b827c",
   "metadata": {},
   "outputs": [
    {
     "name": "stdout",
     "output_type": "stream",
     "text": [
      "  v_id     v_type                                            summary  level  \\\n",
      "0   49  Community  This community encompasses various command-lin...      1   \n",
      "1   61  Community  The community centers around the Battles of Ma...      1   \n",
      "\n",
      "                                        full_content  rank  id  \\\n",
      "0  # DOS and Command-Line Operating Systems Commu...   7.5  49   \n",
      "1  # Battles of Manassas and Civil War Historians...   6.5  61   \n",
      "\n",
      "                                    rank_explanation         title  \n",
      "0  The impact severity rating is high due to the ...  Community 49  \n",
      "1  The impact severity rating is moderate to high...  Community 61  \n"
     ]
    }
   ],
   "source": [
    ">>> print(G.get_nodes(node_type=\"Community\", limit=2))"
   ]
  },
  {
   "cell_type": "markdown",
   "id": "a922d3d6-6dcd-40f8-87b5-eb8a2c65eef3",
   "metadata": {},
   "source": [
    "---\n",
    "\n",
    "## What’s Next?\n",
    "\n",
    "- [Supporting Microsoft’s GraphRAG: Part 4](../msft_graphrag_4): Perform queries using GSQL and Python-native TigerGraphX, with global and local context builders.\n",
    "\n",
    "---\n",
    "\n",
    "Start transforming your GraphRAG workflows with the power of **TigerGraphX** today!"
   ]
  }
 ],
 "metadata": {
  "kernelspec": {
   "display_name": "Python 3 (ipykernel)",
   "language": "python",
   "name": "python3"
  },
  "language_info": {
   "codemirror_mode": {
    "name": "ipython",
    "version": 3
   },
   "file_extension": ".py",
   "mimetype": "text/x-python",
   "name": "python",
   "nbconvert_exporter": "python",
   "pygments_lexer": "ipython3",
   "version": "3.12.6"
  }
 },
 "nbformat": 4,
 "nbformat_minor": 5
}
