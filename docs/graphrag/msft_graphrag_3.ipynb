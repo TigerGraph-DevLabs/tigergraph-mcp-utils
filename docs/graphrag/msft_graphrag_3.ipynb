{
 "cells": [
  {
   "cell_type": "markdown",
   "id": "e8f4ca83-4f36-4fc1-947f-b23bfb672f90",
   "metadata": {},
   "source": [
    "# Supporting Microsoft’s GraphRAG: Part 3\n",
    "\n",
    "To run this Jupyter Notebook, you can download the original `.ipynb` file from [msft_graphrag_3.ipynb](https://github.com/xuanleilin/tigergraphx/tree/main/docs/graphrag/msft_graphrag_3.ipynb).\n",
    "\n",
    "---\n",
    "\n",
    "## Retrieve the Graph"
   ]
  },
  {
   "cell_type": "code",
   "execution_count": 2,
   "id": "ff16e1ca-52e2-478a-844f-d478b5cc7659",
   "metadata": {},
   "outputs": [],
   "source": [
    "from tigergraphx import Graph, TigerGraphConnectionConfig\n",
    "connection = TigerGraphConnectionConfig.ensure_config({\n",
    "    \"host\": \"http://127.0.0.1\",\n",
    "    \"user_name\": \"tigergraph\",\n",
    "    \"password\": \"tigergraph\",\n",
    "})\n",
    "G = Graph.from_db(\"GraphRAG\", connection)"
   ]
  },
  {
   "cell_type": "markdown",
   "id": "a922d3d6-6dcd-40f8-87b5-eb8a2c65eef3",
   "metadata": {},
   "source": [
    "---\n",
    "\n",
    "## What’s Next?\n",
    "\n",
    "- [API Reference](../../reference/features_overview): Dive deeper into TigerGraphX APIs.\n",
    "\n",
    "---\n",
    "\n",
    "Start transforming your GraphRAG workflows with the power of **TigerGraphX** today!"
   ]
  }
 ],
 "metadata": {
  "kernelspec": {
   "display_name": "Python 3 (ipykernel)",
   "language": "python",
   "name": "python3"
  },
  "language_info": {
   "codemirror_mode": {
    "name": "ipython",
    "version": 3
   },
   "file_extension": ".py",
   "mimetype": "text/x-python",
   "name": "python",
   "nbconvert_exporter": "python",
   "pygments_lexer": "ipython3",
   "version": "3.12.6"
  }
 },
 "nbformat": 4,
 "nbformat_minor": 5
}
