{
 "cells": [
  {
   "cell_type": "markdown",
   "id": "00737306-6f81-4109-aec6-592fcfdaba93",
   "metadata": {},
   "source": [
    "## Create a Graph\n",
    "### Define a Graph Schema\n",
    "TigerGraph is a schema-based database, which requires defining a schema to structure your graph. This schema specifies the graph name, nodes (vertices), edges (relationships), and their respective attributes.\n",
    "\n",
    "In this example, we will initialize a graph using a schema defined in [a YAML file](https://github.com/xuanleilin/tigergraphx/blob/main/applications/msft_graphrag/query/resources/graph_schema.yaml).\n",
    "\n",
    "First, convert the YAML file into a graph schema using the `GraphSchema.ensure_config` method."
   ]
  },
  {
   "cell_type": "code",
   "execution_count": 2,
   "id": "07cdbdcd-8c6c-4bf7-b640-0514f38671fd",
   "metadata": {},
   "outputs": [],
   "source": [
    "from tigergraphx import Graph, GraphSchema, LoadingJobConfig, TigerGraphConnectionConfig\n",
    "resource_dir = \"../../applications/msft_graphrag/query/resources/\"\n",
    "schema_path = resource_dir + \"graph_schema.yaml\"\n",
    "graph_schema=GraphSchema.ensure_config(schema_path)"
   ]
  },
  {
   "cell_type": "markdown",
   "id": "fb2a7508-764b-4f81-915e-f9e0beb9bd41",
   "metadata": {},
   "source": [
    "### Define the TigerGraph Connection Configuration\n",
    "In addition to defining the schema, a connection configuration is necessary to establish communication with the TigerGraph server."
   ]
  },
  {
   "cell_type": "code",
   "execution_count": 3,
   "id": "1fa63c50-0040-47fe-a32e-8933059c693d",
   "metadata": {},
   "outputs": [],
   "source": [
    "connection = TigerGraphConnectionConfig.ensure_config({\n",
    "    \"host\": \"http://127.0.0.1\",\n",
    "    \"user_name\": \"tigergraph\",\n",
    "    \"password\": \"tigergraph\",\n",
    "})"
   ]
  },
  {
   "cell_type": "markdown",
   "id": "95c29cbf-c8e4-4eae-8c22-2577bb0486e1",
   "metadata": {},
   "source": [
    "### Create a Graph\n",
    "Running the following command will create a graph using the user-defined schema if it does not already exist. If the graph exists, the command will return the existing graph. To overwrite the existing graph, set the drop_existing_graph parameter to True. Note that creating the graph may take several seconds."
   ]
  },
  {
   "cell_type": "code",
   "execution_count": 4,
   "id": "6232c03a-1d35-433a-955f-e425cb06af32",
   "metadata": {},
   "outputs": [],
   "source": [
    "graph = Graph(\n",
    "    graph_schema=graph_schema,\n",
    "    tigergraph_connection_config=connection,\n",
    "    drop_existing_graph=False,\n",
    ")"
   ]
  },
  {
   "cell_type": "markdown",
   "id": "61beacf2-2eba-4c7e-9a23-843efeda6491",
   "metadata": {},
   "source": [
    "## Load Data\n",
    "First, let's check the total number of nodes in the graph. As anticipated, the graph is currently empty. "
   ]
  },
  {
   "cell_type": "code",
   "execution_count": 5,
   "id": "d76d2eba-66ea-4f88-bc39-e4d284f7aae6",
   "metadata": {},
   "outputs": [
    {
     "name": "stdout",
     "output_type": "stream",
     "text": [
      "0\n"
     ]
    }
   ],
   "source": [
    "print(graph.number_of_nodes())"
   ]
  },
  {
   "cell_type": "markdown",
   "id": "61074b2e-f9bf-49b9-99a9-d995852ffaa0",
   "metadata": {},
   "source": [
    "After that, we will load data into the graph using a pre-defined loading job configuration. The configuration is stored in [a YAML file](https://github.com/xuanleilin/tigergraphx/blob/main/applications/msft_graphrag/query/resources/loading_job_config.yaml)."
   ]
  },
  {
   "cell_type": "code",
   "execution_count": 6,
   "id": "04bed253-d554-4a0b-9e51-996028aeb33e",
   "metadata": {},
   "outputs": [],
   "source": [
    "loading_job_path = resource_dir + \"loading_job_config.yaml\"\n",
    "graph.load_data(loading_job_config=LoadingJobConfig.ensure_config(loading_job_path))"
   ]
  },
  {
   "cell_type": "markdown",
   "id": "94454f10-0107-47f5-93c8-ba659cde82ff",
   "metadata": {},
   "source": [
    "Now, let's check the total number of nodes in the graph again. We should observe that some nodes have been successfully loaded into the graph."
   ]
  },
  {
   "cell_type": "code",
   "execution_count": 7,
   "id": "26bfdfaa-031f-4425-9e66-f3c28530a1b6",
   "metadata": {},
   "outputs": [
    {
     "name": "stdout",
     "output_type": "stream",
     "text": [
      "808\n"
     ]
    }
   ],
   "source": [
    "print(graph.number_of_nodes())"
   ]
  }
 ],
 "metadata": {
  "kernelspec": {
   "display_name": "Python 3 (ipykernel)",
   "language": "python",
   "name": "python3"
  },
  "language_info": {
   "codemirror_mode": {
    "name": "ipython",
    "version": 3
   },
   "file_extension": ".py",
   "mimetype": "text/x-python",
   "name": "python",
   "nbconvert_exporter": "python",
   "pygments_lexer": "ipython3",
   "version": "3.12.6"
  }
 },
 "nbformat": 4,
 "nbformat_minor": 5
}
