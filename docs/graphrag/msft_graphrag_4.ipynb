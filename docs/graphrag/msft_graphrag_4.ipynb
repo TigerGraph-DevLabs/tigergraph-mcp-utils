{
 "cells": [
  {
   "cell_type": "markdown",
   "id": "e8f4ca83-4f36-4fc1-947f-b23bfb672f90",
   "metadata": {},
   "source": [
    "# Supporting Microsoft’s GraphRAG: Part 4 - Hybrid Retrieval and Integration with LLM\n",
    "\n",
    "To run this Jupyter Notebook, you can download the original `.ipynb` file from [msft_graphrag_4.ipynb](https://github.com/xuanleilin/tigergraphx/tree/main/docs/graphrag/msft_graphrag_4.ipynb).\n",
    "\n",
    "---\n",
    "\n",
    "## Get the Graph from TigerGraph"
   ]
  },
  {
   "cell_type": "code",
   "execution_count": 1,
   "id": "ff16e1ca-52e2-478a-844f-d478b5cc7659",
   "metadata": {},
   "outputs": [
    {
     "name": "stdout",
     "output_type": "stream",
     "text": [
      "2025-01-05 23:51:06,143 - tigergraphx.core.graph.base_graph - INFO - Creating schema for graph GraphRAG...\n",
      "2025-01-05 23:51:06,152 - tigergraphx.core.graph.base_graph - INFO - Schema created successfully.\n"
     ]
    }
   ],
   "source": [
    "from tigergraphx import Graph\n",
    "connection = {\n",
    "    \"host\": \"http://127.0.0.1\",\n",
    "    \"username\": \"tigergraph\",\n",
    "    \"password\": \"tigergraph\",\n",
    "}\n",
    "G = Graph.from_db(\"GraphRAG\", connection)"
   ]
  },
  {
   "cell_type": "markdown",
   "id": "e0ce47bc-919d-41d4-b802-1f71632878b5",
   "metadata": {},
   "source": [
    "---\n",
    "\n",
    "## Hybrid Retrieval\n",
    "TigerGraph offers two flexible ways to perform hybrid retrieval, allowing you to extract relevant graph and vector data efficiently for GraphRAG workflows.\n",
    "### Using TigerGraphX\n",
    "TigerGraphX offers an intuitive, Python-native interface for hybrid retrieval, ideal for developers seeking simplicity and ease of use. \n",
    "\n",
    "**Key Advantage**: Minimal learning curve with high-level Python APIs, seamlessly integrated with existing workflows.\n",
    "\n",
    "Below are some illustrative examples.\n",
    "\n",
    "#### Retrieve Nodes with Specific Attributes\n",
    "You can use the following code to fetch up to two nodes of type \"Entity\" and display their \"id,\" \"entity_type,\" and \"description\" attributes."
   ]
  },
  {
   "cell_type": "code",
   "execution_count": 2,
   "id": "f92fac82-28c9-438f-a418-4949ae5db203",
   "metadata": {
    "scrolled": true
   },
   "outputs": [
    {
     "data": {
      "text/html": [
       "<div>\n",
       "<style scoped>\n",
       "    .dataframe tbody tr th:only-of-type {\n",
       "        vertical-align: middle;\n",
       "    }\n",
       "\n",
       "    .dataframe tbody tr th {\n",
       "        vertical-align: top;\n",
       "    }\n",
       "\n",
       "    .dataframe thead th {\n",
       "        text-align: right;\n",
       "    }\n",
       "</style>\n",
       "<table border=\"1\" class=\"dataframe\">\n",
       "  <thead>\n",
       "    <tr style=\"text-align: right;\">\n",
       "      <th></th>\n",
       "      <th>id</th>\n",
       "      <th>name</th>\n",
       "      <th>entity_type</th>\n",
       "      <th>description</th>\n",
       "    </tr>\n",
       "  </thead>\n",
       "  <tbody>\n",
       "    <tr>\n",
       "      <th>0</th>\n",
       "      <td>473502492d0a419981fed4fbc1493832</td>\n",
       "      <td>THE THREE MISS FEZZIWIGS</td>\n",
       "      <td>PERSON</td>\n",
       "      <td>Daughters of Mr. and Mrs. Fezziwig, described ...</td>\n",
       "    </tr>\n",
       "    <tr>\n",
       "      <th>1</th>\n",
       "      <td>6fb90dc954fe40d5969f7532a66376e9</td>\n",
       "      <td>WANT</td>\n",
       "      <td>PERSON</td>\n",
       "      <td>Want is depicted as a girl, symbolizing povert...</td>\n",
       "    </tr>\n",
       "  </tbody>\n",
       "</table>\n",
       "</div>"
      ],
      "text/plain": [
       "                                 id                      name entity_type  \\\n",
       "0  473502492d0a419981fed4fbc1493832  THE THREE MISS FEZZIWIGS      PERSON   \n",
       "1  6fb90dc954fe40d5969f7532a66376e9                      WANT      PERSON   \n",
       "\n",
       "                                         description  \n",
       "0  Daughters of Mr. and Mrs. Fezziwig, described ...  \n",
       "1  Want is depicted as a girl, symbolizing povert...  "
      ]
     },
     "execution_count": 2,
     "metadata": {},
     "output_type": "execute_result"
    }
   ],
   "source": [
    "G.get_nodes(\n",
    "    node_type=\"Entity\",\n",
    "    return_attributes=[\"id\", \"name\", \"entity_type\", \"description\"],\n",
    "    limit=2,\n",
    ")"
   ]
  },
  {
   "cell_type": "markdown",
   "id": "9b3873dc-944b-481b-90db-fb81d8661dfd",
   "metadata": {},
   "source": [
    "#### Retrieve Neighbors with Specific Attributes\n",
    "\n",
    "The following code demonstrates how to fetch neighbors of specific nodes. In this example, the query retrieves neighbors connected to the given `start_nodes` of type `\"Entity\"` through the edge type `\"community_contains_entity\"`. The attributes `\"id\"`, `\"title\"`, and `\"full_content\"` of the neighbors are returned."
   ]
  },
  {
   "cell_type": "code",
   "execution_count": 3,
   "id": "9be22cc3-693e-463b-a61e-9d58019d9b8d",
   "metadata": {},
   "outputs": [
    {
     "data": {
      "text/html": [
       "<div>\n",
       "<style scoped>\n",
       "    .dataframe tbody tr th:only-of-type {\n",
       "        vertical-align: middle;\n",
       "    }\n",
       "\n",
       "    .dataframe tbody tr th {\n",
       "        vertical-align: top;\n",
       "    }\n",
       "\n",
       "    .dataframe thead th {\n",
       "        text-align: right;\n",
       "    }\n",
       "</style>\n",
       "<table border=\"1\" class=\"dataframe\">\n",
       "  <thead>\n",
       "    <tr style=\"text-align: right;\">\n",
       "      <th></th>\n",
       "      <th>id</th>\n",
       "      <th>title</th>\n",
       "      <th>full_content</th>\n",
       "    </tr>\n",
       "  </thead>\n",
       "  <tbody>\n",
       "    <tr>\n",
       "      <th>0</th>\n",
       "      <td>9</td>\n",
       "      <td>Community 9</td>\n",
       "      <td># The Transformation of Ebenezer Scrooge: A St...</td>\n",
       "    </tr>\n",
       "    <tr>\n",
       "      <th>1</th>\n",
       "      <td>0</td>\n",
       "      <td>Community 0</td>\n",
       "      <td># The Transformation Journey of Ebenezer Scroo...</td>\n",
       "    </tr>\n",
       "    <tr>\n",
       "      <th>2</th>\n",
       "      <td>19</td>\n",
       "      <td>Community 19</td>\n",
       "      <td># The Transformation of Ebenezer Scrooge: A Ch...</td>\n",
       "    </tr>\n",
       "    <tr>\n",
       "      <th>3</th>\n",
       "      <td>1</td>\n",
       "      <td>Community 1</td>\n",
       "      <td># Fezziwig's Christmas Celebration Community\\n...</td>\n",
       "    </tr>\n",
       "  </tbody>\n",
       "</table>\n",
       "</div>"
      ],
      "text/plain": [
       "   id         title                                       full_content\n",
       "0   9   Community 9  # The Transformation of Ebenezer Scrooge: A St...\n",
       "1   0   Community 0  # The Transformation Journey of Ebenezer Scroo...\n",
       "2  19  Community 19  # The Transformation of Ebenezer Scrooge: A Ch...\n",
       "3   1   Community 1  # Fezziwig's Christmas Celebration Community\\n..."
      ]
     },
     "execution_count": 3,
     "metadata": {},
     "output_type": "execute_result"
    }
   ],
   "source": [
    "start_nodes = [\"473502492d0a419981fed4fbc1493832\", \"6fb90dc954fe40d5969f7532a66376e9\"]\n",
    "G.get_neighbors(\n",
    "    start_nodes=start_nodes,\n",
    "    start_node_type=\"Entity\",\n",
    "    edge_types=\"community_contains_entity\",\n",
    "    return_attributes=[\"id\", \"title\", \"full_content\"],\n",
    ")"
   ]
  },
  {
   "cell_type": "markdown",
   "id": "c5303d1f-83c0-44f6-a297-b318899678af",
   "metadata": {},
   "source": [
    "#### Retrieve Top-K Using TigerVector's Vector Search Capability\n",
    "The following code generates a random query vector of 1536 float values and uses it to perform a vector search on a TigerGraph instance. The search finds the most similar \"Entity\" nodes based on the \"emb_description\" vector attribute and returns the top result."
   ]
  },
  {
   "cell_type": "code",
   "execution_count": 4,
   "id": "b0380b24-0f15-461c-8d2a-eadb969c2a14",
   "metadata": {},
   "outputs": [
    {
     "name": "stdout",
     "output_type": "stream",
     "text": [
      "[{'id': '9b24fbfeb0e94dd889c10700718b048f', 'distance': 0.9512004, 'human_readable_id': 83, 'name': 'GROCER', 'entity_type': '', 'description': ''}]\n"
     ]
    }
   ],
   "source": [
    "import random\n",
    "random_floats: list[float] = [random.random() for _ in range(1536)]\n",
    "results = G.search(\n",
    "    data=random_floats,\n",
    "    vector_attribute_name=\"emb_description\",\n",
    "    node_type=\"Entity\",\n",
    "    limit=1,\n",
    ")\n",
    "print(results)"
   ]
  },
  {
   "cell_type": "markdown",
   "id": "9b6be670-8a01-44aa-ad47-5353cf024530",
   "metadata": {},
   "source": [
    "---\n",
    "\n",
    "### Using GSQL\n",
    "For developers seeking fine-grained control or complex retrieval logic, GSQL offers unmatched flexibility. As TigerGraph's built-in query language, GSQL empowers you to perform advanced graph data analysis. For more details, see the [official documentation](https://docs.tigergraph.com/gsql-ref/4.1/intro).\n",
    "\n",
    "**Key Advantage:** Supports complex logic, customization, and direct interaction with TigerGraph’s powerful query engine.\n",
    "\n",
    "1. Use an LLM to convert the query into an embedding.  \n",
    "2. Write a GSQL query to retrieve the top-K similar objects and their neighbors, combining structured and vector-based retrieval:\n",
    "\n",
    "```SQL\n",
    "CREATE OR REPLACE QUERY my_query (\n",
    "    LIST<float> query_vector,\n",
    "    int k\n",
    ") SYNTAX v3 {\n",
    "  Nodes = vectorSearch({Entity.emb_description}, query_vector, k);\n",
    "  PRINT Nodes;\n",
    "\n",
    "  Neighbors =\n",
    "    SELECT t\n",
    "    FROM (s:Nodes)-[e:community_contains_entity]->(t:Community);\n",
    "\n",
    "  print Neighbors[Neighbors.id, Neighbors.title, Neighbors.full_content];\n",
    "}\n",
    "```"
   ]
  },
  {
   "cell_type": "markdown",
   "id": "9f6465ab-8b34-40b4-a87e-f85a9f0b2c17",
   "metadata": {},
   "source": [
    "---\n",
    "## Context Building: Writing Custom Context Builders\n",
    "\n",
    "Context builders play a vital role in graph-powered RAG workflows. They transform retrieved graph data into structured, meaningful contexts for tasks such as interactions with LLMs)\\.\n",
    "\n",
    "TigerGraphX simplifies this process by offering the flexible `BaseContextBuilder` class, which allows developers to define custom logic for context building.\n",
    "\n",
    "### Key Features of `BaseContextBuilder`\n",
    "\n",
    "The `BaseContextBuilder` class in TigerGraphX provides a strong foundation for creating custom context builders, offering:\n",
    "\n",
    "- **Core Abstraction**: A reusable framework for building context logic.\n",
    "- **Customizable Design**: Extensibility for implementing both global and query-specific context generation.\n",
    "\n",
    "---\n",
    "\n",
    "### Key Components\n",
    "\n",
    "1. **Abstract Method - `build_context`**:  \n",
    "   Subclasses must implement this method to define the logic for constructing context.\n",
    "\n",
    "   ```python\n",
    "   @abstractmethod\n",
    "   async def build_context(self, *args, **kwargs) -> str | List[str]:\n",
    "       \"\"\"Abstract method to build context.\"\"\"\n",
    "       pass\n",
    "   ```\n",
    "\n",
    "2. **Batching and Retrieval Methods**:\n",
    "   - **`batch_and_convert_to_text`**: Formats graph data into token-aware text.\n",
    "   - **`retrieve_top_k_objects`**: Efficiently retrieves top-K objects for query-based context.\n",
    "\n",
    "---\n",
    "\n",
    "### Example: Global Context Builder"
   ]
  },
  {
   "cell_type": "code",
   "execution_count": 5,
   "id": "113c01f3-1245-4ee8-b575-0c2977a0c64c",
   "metadata": {},
   "outputs": [],
   "source": [
    "import tiktoken\n",
    "from typing import Optional, List\n",
    "from tigergraphx.graphrag import BaseContextBuilder\n",
    "from tigergraphx.core import Graph\n",
    "class GlobalContextBuilder(BaseContextBuilder):\n",
    "    def __init__(\n",
    "        self,\n",
    "        graph: Graph,\n",
    "        token_encoder: Optional[tiktoken.Encoding] = None,\n",
    "    ):\n",
    "        \"\"\"Initialize LocalContextBuilder with graph config and token encoder.\"\"\"\n",
    "        super().__init__(\n",
    "            graph=graph,\n",
    "            single_batch=False,\n",
    "            token_encoder=token_encoder,\n",
    "        )\n",
    "    async def build_context(self) -> str | List[str]:\n",
    "        \"\"\"Build local context.\"\"\"\n",
    "        context: List[str] = []\n",
    "        config = {\n",
    "            \"max_tokens\": 12000,\n",
    "            \"section_name\": \"Communities\",\n",
    "            \"return_attributes\": [\"id\", \"rank\", \"title\", \"full_content\"],\n",
    "            \"limit\": 1000,\n",
    "        }\n",
    "        df = self.graph.get_nodes(\n",
    "            node_type=\"Community\",\n",
    "            return_attributes=config[\"return_attributes\"],\n",
    "            limit=config[\"limit\"],\n",
    "        )\n",
    "        if df is not None:\n",
    "            text_context = self.batch_and_convert_to_text(\n",
    "                graph_data=df,\n",
    "                max_tokens=config[\"max_tokens\"],\n",
    "                single_batch=self.single_batch,\n",
    "                section_name=config[\"section_name\"],\n",
    "            )\n",
    "            context.extend(\n",
    "                text_context if isinstance(text_context, list) else [text_context]\n",
    "            )\n",
    "        return context"
   ]
  },
  {
   "cell_type": "markdown",
   "id": "fcb0f346-6909-4865-aa52-9942e2d30dc2",
   "metadata": {},
   "source": [
    "Here’s how you can utilize the custom global context builder:"
   ]
  },
  {
   "cell_type": "code",
   "execution_count": 6,
   "id": "23e975ef-4ff0-446a-937a-4c40acf87395",
   "metadata": {},
   "outputs": [
    {
     "name": "stdout",
     "output_type": "stream",
     "text": [
      "-----Communities-----\n",
      "id|rank|title|full_content\n",
      "18|8.5|Community 18|# Project Gutenberg Ecosystem\\n\\nThe Project Gutenberg ecosystem is a collaborative network focused on the free distribution of electronic literature. Central to this community are the Project Gutenberg Literary Archive Foundation, Project Gutenberg™, and its electronic works, supported by a structure of copyright management, royalty fees, and the pioneering efforts of Michael S. Hart. This network facilitates the global dissemination of literature in digital formats, ensuring accessibility and promoting literary heritage.\\n\\n## The foundational role of the Project Gutenberg Literary Archive Foundation\\n\\nThe Project Gutenberg Literary Archive Foundation is pivotal in the Project Gutenberg ecosystem, managing copyrights and the Project Gutenberg trademark. It receives donations and royalties, supporting the mission to preserve and provide free access to electronic works. This foundation ensures the sustainability of P\n"
     ]
    }
   ],
   "source": [
    "global_context_builder = GlobalContextBuilder(G)\n",
    "context_list = await global_context_builder.build_context()\n",
    "# Print the first 1000 characters for easier visualization of long text\n",
    "print(context_list[0][:1000])"
   ]
  },
  {
   "cell_type": "markdown",
   "id": "c6da9c4a-7946-45c3-9858-076304d8d9d4",
   "metadata": {},
   "source": [
    "---\n",
    "\n",
    "### Example: Local Context Builder\n",
    "\n",
    "To understand the functionality of the `LocalContextBuilder` class, let's review the key code from its `build_context` method.\n",
    "\n",
    "![](https://github.com/xuanleilin/tigergraphx/blob/main/docs/images/graphrag/local_context_builder.png?raw=true)\n",
    "\n",
    "```\n",
    "# Retrieve top-k objects\n",
    "top_k_objects: List[str] = await self.retrieve_top_k_objects(query, k=k)\n",
    "...\n",
    "# Iterate over different neighbor types\n",
    "for neighbor in neighbor_types:\n",
    "    df = self.graph.get_neighbors(...)\n",
    "    if df is not None:\n",
    "        text_context = self.batch_and_convert_to_text(...)\n",
    "        context.extend(\n",
    "            text_context if isinstance(text_context, list) else [text_context]\n",
    "        )\n",
    "return \"\\n\\n\".join(context)\n",
    "```\n",
    "\n",
    "For full implementations of different context builders, refer to the following links:\n",
    "- [LocalContextBuilder Code](https://github.com/xuanleilin/tigergraphx/blob/main/applications/msft_graphrag/query/context_builder/local_context_builder.py)\n",
    "\n",
    "\n",
    "Here’s how you can utilize the custom local context builder:\n",
    "\n",
    "```python\n",
    "local_builder = LocalContextBuilder(graph=graph, search_engine=search_engine)\n",
    "local_context = await local_builder.build_context(query=\"What are the main topics discussed in the article?\")\n",
    "```"
   ]
  },
  {
   "cell_type": "markdown",
   "id": "6ba08b94-6a11-4a2f-b949-3f6a8154c329",
   "metadata": {},
   "source": [
    "---\n",
    "\n",
    "## Integrate with LLM\n",
    "\n",
    "After successfully building context from TigerGraph, the final step is integrating it with LLMs, including chat models and embedding models.\n",
    "\n",
    "We have provided an example implementation, which you can find here: [Example Code](https://github.com/xuanleilin/tigergraphx/blob/main/applications/msft_graphrag/query/graphrag.py).\n",
    "\n",
    "### Workflow Overview\n",
    "\n",
    "The integration process follows the workflow illustrated below:\n",
    "\n",
    "![](https://github.com/xuanleilin/tigergraphx/blob/main/docs/images/graphrag/querying.png?raw=true)"
   ]
  },
  {
   "cell_type": "markdown",
   "id": "a922d3d6-6dcd-40f8-87b5-eb8a2c65eef3",
   "metadata": {},
   "source": [
    "---\n",
    "\n",
    "## What’s Next?\n",
    "\n",
    "- [API Reference](../../reference/features_overview): Dive deeper into TigerGraphX APIs.\n",
    "\n",
    "---\n",
    "\n",
    "Start transforming your GraphRAG workflows with the power of **TigerGraphX** today!"
   ]
  }
 ],
 "metadata": {
  "kernelspec": {
   "display_name": "Python 3 (ipykernel)",
   "language": "python",
   "name": "python3"
  },
  "language_info": {
   "codemirror_mode": {
    "name": "ipython",
    "version": 3
   },
   "file_extension": ".py",
   "mimetype": "text/x-python",
   "name": "python",
   "nbconvert_exporter": "python",
   "pygments_lexer": "ipython3",
   "version": "3.12.6"
  }
 },
 "nbformat": 4,
 "nbformat_minor": 5
}
