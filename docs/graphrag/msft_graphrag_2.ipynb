{
 "cells": [
  {
   "cell_type": "markdown",
   "id": "e8f4ca83-4f36-4fc1-947f-b23bfb672f90",
   "metadata": {},
   "source": [
    "# Supporting Microsoft’s GraphRAG: Part 2\n",
    "\n",
    "In the [previous section](msft_graphrag_1.md), we utilized Microsoft's GraphRAG to transform unstructured documents into Parquet files. Using TigerGraphX, we then converted these files into CSV format, created a graph in TigerGraph, and loaded the CSV data into it.\n",
    "\n",
    "Now, let’s use Jupyter Notebook to explore the graph data and perform graph analysis.\n",
    "\n",
    "To run this Jupyter Notebook, you can download the original `.ipynb` file from [msft_graphrag_2.ipynb](https://github.com/xuanleilin/tigergraphx/tree/main/docs/graphrag/msft_graphrag_2.ipynb).\n",
    "\n",
    "---\n",
    "\n",
    "## Get the Graph from TigerGraph\n",
    "Since the graph has already been created in TigerGraph, redefining its schema is unnecessary. Instead, you can provide the graph name to retrieve it. TigerGraphX will verify if the graph exists in TigerGraph and, if it does, will return the corresponding graph."
   ]
  },
  {
   "cell_type": "code",
   "execution_count": 2,
   "id": "ff16e1ca-52e2-478a-844f-d478b5cc7659",
   "metadata": {},
   "outputs": [],
   "source": [
    "from tigergraphx import Graph, TigerGraphConnectionConfig\n",
    "connection = TigerGraphConnectionConfig.ensure_config({\n",
    "    \"host\": \"http://127.0.0.1\",\n",
    "    \"user_name\": \"tigergraph\",\n",
    "    \"password\": \"tigergraph\",\n",
    "})\n",
    "G = Graph.from_db(\"GraphRAG\", connection)"
   ]
  },
  {
   "cell_type": "markdown",
   "id": "fad55198-4e39-4646-b0c9-417ac12d1eb2",
   "metadata": {},
   "source": [
    "## Display the Graph Schema\n",
    "\n",
    "Let's retrieve the graph schema using the `get_schema` method. The output is a Python dictionary containing three keys: `\"graph_name\"`, `\"nodes\"`, and `\"edges\"`. We'll print each of them individually to explore the schema details.\n",
    "### Retrieve the Graph Schema and Display the Graph Name"
   ]
  },
  {
   "cell_type": "code",
   "execution_count": 3,
   "id": "e134cc6a-19f6-4151-9d1f-537458acc0e9",
   "metadata": {},
   "outputs": [
    {
     "data": {
      "text/plain": [
       "'GraphRAG'"
      ]
     },
     "execution_count": 3,
     "metadata": {},
     "output_type": "execute_result"
    }
   ],
   "source": [
    "schema = G.get_schema()\n",
    "schema[\"graph_name\"]"
   ]
  },
  {
   "cell_type": "markdown",
   "id": "6fa62c43-880f-4656-ac45-aeb0a4ddbba0",
   "metadata": {},
   "source": [
    "### Display the Node Tyeps"
   ]
  },
  {
   "cell_type": "code",
   "execution_count": 4,
   "id": "32cd9006-2540-47e0-b1e3-a4a98a17a180",
   "metadata": {},
   "outputs": [
    {
     "name": "stdout",
     "output_type": "stream",
     "text": [
      "('Document', {'primary_key': 'id', 'attributes': {'title': {'data_type': <DataType.STRING: 'STRING'>, 'default_value': None}, 'id': {'data_type': <DataType.STRING: 'STRING'>, 'default_value': None}}})\n",
      "('TextUnit', {'primary_key': 'id', 'attributes': {'text': {'data_type': <DataType.STRING: 'STRING'>, 'default_value': None}, 'n_tokens': {'data_type': <DataType.UINT: 'UINT'>, 'default_value': None}, 'id': {'data_type': <DataType.STRING: 'STRING'>, 'default_value': None}}})\n",
      "('Entity', {'primary_key': 'id', 'attributes': {'human_readable_id': {'data_type': <DataType.UINT: 'UINT'>, 'default_value': None}, 'name': {'data_type': <DataType.STRING: 'STRING'>, 'default_value': None}, 'entity_type': {'data_type': <DataType.STRING: 'STRING'>, 'default_value': None}, 'description': {'data_type': <DataType.STRING: 'STRING'>, 'default_value': None}, 'id': {'data_type': <DataType.STRING: 'STRING'>, 'default_value': None}}})\n",
      "('Relationship', {'primary_key': 'id', 'attributes': {'human_readable_id': {'data_type': <DataType.UINT: 'UINT'>, 'default_value': None}, 'rank': {'data_type': <DataType.UINT: 'UINT'>, 'default_value': None}, 'weight': {'data_type': <DataType.DOUBLE: 'DOUBLE'>, 'default_value': None}, 'description': {'data_type': <DataType.STRING: 'STRING'>, 'default_value': None}, 'id': {'data_type': <DataType.STRING: 'STRING'>, 'default_value': None}}})\n",
      "('Community', {'primary_key': 'id', 'attributes': {'level': {'data_type': <DataType.UINT: 'UINT'>, 'default_value': None}, 'rank': {'data_type': <DataType.DOUBLE: 'DOUBLE'>, 'default_value': None}, 'rank_explanation': {'data_type': <DataType.STRING: 'STRING'>, 'default_value': None}, 'title': {'data_type': <DataType.STRING: 'STRING'>, 'default_value': None}, 'full_content': {'data_type': <DataType.STRING: 'STRING'>, 'default_value': None}, 'summary': {'data_type': <DataType.STRING: 'STRING'>, 'default_value': None}, 'id': {'data_type': <DataType.STRING: 'STRING'>, 'default_value': None}}})\n"
     ]
    }
   ],
   "source": [
    "for node in schema[\"nodes\"].items():\n",
    "    print(node)"
   ]
  },
  {
   "cell_type": "markdown",
   "id": "a06276df-ba9a-457c-a9a8-d993957712c3",
   "metadata": {},
   "source": [
    "### Display the Edge Types"
   ]
  },
  {
   "cell_type": "code",
   "execution_count": 5,
   "id": "4c1325d4-fa50-4fc6-b9ae-0b47abcd1ec4",
   "metadata": {},
   "outputs": [
    {
     "name": "stdout",
     "output_type": "stream",
     "text": [
      "('document_contains_text_unit', {'is_directed_edge': False, 'from_node_type': 'Document', 'to_node_type': 'TextUnit', 'attributes': {}})\n",
      "('text_unit_contains_entity', {'is_directed_edge': False, 'from_node_type': 'TextUnit', 'to_node_type': 'Entity', 'attributes': {}})\n",
      "('text_unit_contains_relationship', {'is_directed_edge': False, 'from_node_type': 'TextUnit', 'to_node_type': 'Relationship', 'attributes': {}})\n",
      "('relationship_source', {'is_directed_edge': False, 'from_node_type': 'Relationship', 'to_node_type': 'Entity', 'attributes': {}})\n",
      "('relationship_target', {'is_directed_edge': False, 'from_node_type': 'Relationship', 'to_node_type': 'Entity', 'attributes': {}})\n",
      "('community_contains_entity', {'is_directed_edge': False, 'from_node_type': 'Community', 'to_node_type': 'Entity', 'attributes': {}})\n",
      "('community_contains_relationship', {'is_directed_edge': False, 'from_node_type': 'Community', 'to_node_type': 'Relationship', 'attributes': {}})\n"
     ]
    }
   ],
   "source": [
    "for edge in schema[\"edges\"].items():\n",
    "    print(edge)"
   ]
  },
  {
   "cell_type": "markdown",
   "id": "4a4ce0b7-0027-4f84-9edf-9a97dee98c43",
   "metadata": {},
   "source": [
    "## Display Node and Edge Counts\n",
    "\n",
    "Gain deeper insights into the graph by exploring details such as the total number of nodes and the count of nodes for each node type.\n",
    "\n",
    "### Display the Total Number of Nodes"
   ]
  },
  {
   "cell_type": "code",
   "execution_count": 6,
   "id": "a8e8ebb9-421f-4f3b-adbb-28747837618d",
   "metadata": {},
   "outputs": [
    {
     "data": {
      "text/plain": [
       "931"
      ]
     },
     "execution_count": 6,
     "metadata": {},
     "output_type": "execute_result"
    }
   ],
   "source": [
    "G.number_of_nodes()"
   ]
  },
  {
   "cell_type": "markdown",
   "id": "f4b2ba43-89e8-4666-80dc-0282f280782f",
   "metadata": {},
   "source": [
    "### Display the Count of Nodes for Each Node Type"
   ]
  },
  {
   "cell_type": "code",
   "execution_count": 7,
   "id": "f8d7fa70-072a-406b-856b-1cf7868002de",
   "metadata": {},
   "outputs": [
    {
     "name": "stdout",
     "output_type": "stream",
     "text": [
      "Document: 1\n",
      "TextUnit: 47\n",
      "Entity: 398\n",
      "Relationship: 426\n",
      "Community: 59\n"
     ]
    }
   ],
   "source": [
    "for node_type in schema[\"nodes\"]:\n",
    "    print(f\"{node_type}: {G.number_of_nodes(node_type)}\")"
   ]
  },
  {
   "cell_type": "markdown",
   "id": "1bea78ec-dd4b-4ad8-ad89-54b5bc505b20",
   "metadata": {},
   "source": [
    "### Display the Total Number of Edges"
   ]
  },
  {
   "cell_type": "code",
   "execution_count": 8,
   "id": "1c8b0bca-f6c8-43f0-af64-c396e643cc0c",
   "metadata": {},
   "outputs": [
    {
     "data": {
      "text/plain": [
       "3630"
      ]
     },
     "execution_count": 8,
     "metadata": {},
     "output_type": "execute_result"
    }
   ],
   "source": [
    "G.number_of_edges()"
   ]
  },
  {
   "cell_type": "markdown",
   "id": "b536312c-2c00-4d94-a12f-bb74f90e970b",
   "metadata": {},
   "source": [
    "### Display the Count of Edges for Each Edge Type"
   ]
  },
  {
   "cell_type": "code",
   "execution_count": 9,
   "id": "24086acd-96a1-43c5-8481-3bcee0444478",
   "metadata": {},
   "outputs": [
    {
     "name": "stdout",
     "output_type": "stream",
     "text": [
      "document_contains_text_unit: 47\n",
      "text_unit_contains_entity: 699\n",
      "text_unit_contains_relationship: 517\n",
      "relationship_source: 426\n",
      "relationship_target: 426\n",
      "community_contains_entity: 566\n",
      "community_contains_relationship: 949\n"
     ]
    }
   ],
   "source": [
    "for edge_type in schema[\"edges\"]:\n",
    "    print(f\"{edge_type}: {G.number_of_edges(edge_type)}\")"
   ]
  },
  {
   "cell_type": "markdown",
   "id": "32439254-c5ae-428b-bae9-da07a89840e2",
   "metadata": {},
   "source": [
    "## Retrieve Sample Nodes from the Graph"
   ]
  },
  {
   "cell_type": "code",
   "execution_count": 10,
   "id": "39c30ff5-41e5-4860-82e5-3924fc8b5203",
   "metadata": {},
   "outputs": [
    {
     "data": {
      "text/html": [
       "<div>\n",
       "<style scoped>\n",
       "    .dataframe tbody tr th:only-of-type {\n",
       "        vertical-align: middle;\n",
       "    }\n",
       "\n",
       "    .dataframe tbody tr th {\n",
       "        vertical-align: top;\n",
       "    }\n",
       "\n",
       "    .dataframe thead th {\n",
       "        text-align: right;\n",
       "    }\n",
       "</style>\n",
       "<table border=\"1\" class=\"dataframe\">\n",
       "  <thead>\n",
       "    <tr style=\"text-align: right;\">\n",
       "      <th></th>\n",
       "      <th>v_id</th>\n",
       "      <th>v_type</th>\n",
       "      <th>human_readable_id</th>\n",
       "      <th>entity_type</th>\n",
       "      <th>name</th>\n",
       "      <th>description</th>\n",
       "      <th>id</th>\n",
       "    </tr>\n",
       "  </thead>\n",
       "  <tbody>\n",
       "    <tr>\n",
       "      <th>0</th>\n",
       "      <td>7373c84a439841d580b4650dac71136f</td>\n",
       "      <td>Entity</td>\n",
       "      <td>328</td>\n",
       "      <td>ORGANIZATION</td>\n",
       "      <td>HEMERUS CORPORATION</td>\n",
       "      <td>Hemerus Corporation is mentioned as one of the...</td>\n",
       "      <td>7373c84a439841d580b4650dac71136f</td>\n",
       "    </tr>\n",
       "    <tr>\n",
       "      <th>1</th>\n",
       "      <td>4a5ddbde3f354a79bb5ae3436ab67d25</td>\n",
       "      <td>Entity</td>\n",
       "      <td>294</td>\n",
       "      <td>ORGANIZATION</td>\n",
       "      <td>RENALGUARD</td>\n",
       "      <td>RenalGuard, developed by RenalGuard Solutions,...</td>\n",
       "      <td>4a5ddbde3f354a79bb5ae3436ab67d25</td>\n",
       "    </tr>\n",
       "  </tbody>\n",
       "</table>\n",
       "</div>"
      ],
      "text/plain": [
       "                               v_id  v_type  human_readable_id   entity_type  \\\n",
       "0  7373c84a439841d580b4650dac71136f  Entity                328  ORGANIZATION   \n",
       "1  4a5ddbde3f354a79bb5ae3436ab67d25  Entity                294  ORGANIZATION   \n",
       "\n",
       "                  name                                        description  \\\n",
       "0  HEMERUS CORPORATION  Hemerus Corporation is mentioned as one of the...   \n",
       "1           RENALGUARD  RenalGuard, developed by RenalGuard Solutions,...   \n",
       "\n",
       "                                 id  \n",
       "0  7373c84a439841d580b4650dac71136f  \n",
       "1  4a5ddbde3f354a79bb5ae3436ab67d25  "
      ]
     },
     "execution_count": 10,
     "metadata": {},
     "output_type": "execute_result"
    }
   ],
   "source": [
    "G.get_nodes(node_type=\"Entity\", limit=2)"
   ]
  },
  {
   "cell_type": "code",
   "execution_count": 11,
   "id": "8e4ce5d9-9878-480b-862a-955e52e1c5c1",
   "metadata": {},
   "outputs": [
    {
     "data": {
      "text/html": [
       "<div>\n",
       "<style scoped>\n",
       "    .dataframe tbody tr th:only-of-type {\n",
       "        vertical-align: middle;\n",
       "    }\n",
       "\n",
       "    .dataframe tbody tr th {\n",
       "        vertical-align: top;\n",
       "    }\n",
       "\n",
       "    .dataframe thead th {\n",
       "        text-align: right;\n",
       "    }\n",
       "</style>\n",
       "<table border=\"1\" class=\"dataframe\">\n",
       "  <thead>\n",
       "    <tr style=\"text-align: right;\">\n",
       "      <th></th>\n",
       "      <th>v_id</th>\n",
       "      <th>v_type</th>\n",
       "      <th>human_readable_id</th>\n",
       "      <th>rank</th>\n",
       "      <th>weight</th>\n",
       "      <th>description</th>\n",
       "      <th>id</th>\n",
       "    </tr>\n",
       "  </thead>\n",
       "  <tbody>\n",
       "    <tr>\n",
       "      <th>0</th>\n",
       "      <td>f09d47220cf146a4bc9869976740f230</td>\n",
       "      <td>Relationship</td>\n",
       "      <td>111</td>\n",
       "      <td>122</td>\n",
       "      <td>1</td>\n",
       "      <td>CytoSorb received funding from JPEO-CBD for a ...</td>\n",
       "      <td>f09d47220cf146a4bc9869976740f230</td>\n",
       "    </tr>\n",
       "    <tr>\n",
       "      <th>1</th>\n",
       "      <td>89d0f67d14504ef19601f6ff0eb2b32c</td>\n",
       "      <td>Relationship</td>\n",
       "      <td>7</td>\n",
       "      <td>126</td>\n",
       "      <td>35</td>\n",
       "      <td>CytoSorb, a therapeutic device, has made signi...</td>\n",
       "      <td>89d0f67d14504ef19601f6ff0eb2b32c</td>\n",
       "    </tr>\n",
       "  </tbody>\n",
       "</table>\n",
       "</div>"
      ],
      "text/plain": [
       "                               v_id        v_type  human_readable_id  rank  \\\n",
       "0  f09d47220cf146a4bc9869976740f230  Relationship                111   122   \n",
       "1  89d0f67d14504ef19601f6ff0eb2b32c  Relationship                  7   126   \n",
       "\n",
       "   weight                                        description  \\\n",
       "0       1  CytoSorb received funding from JPEO-CBD for a ...   \n",
       "1      35  CytoSorb, a therapeutic device, has made signi...   \n",
       "\n",
       "                                 id  \n",
       "0  f09d47220cf146a4bc9869976740f230  \n",
       "1  89d0f67d14504ef19601f6ff0eb2b32c  "
      ]
     },
     "execution_count": 11,
     "metadata": {},
     "output_type": "execute_result"
    }
   ],
   "source": [
    "G.get_nodes(node_type=\"Relationship\", limit=2)"
   ]
  },
  {
   "cell_type": "code",
   "execution_count": 12,
   "id": "bf531b24-a1c8-4b4e-be02-a94f823b827c",
   "metadata": {},
   "outputs": [
    {
     "data": {
      "text/html": [
       "<div>\n",
       "<style scoped>\n",
       "    .dataframe tbody tr th:only-of-type {\n",
       "        vertical-align: middle;\n",
       "    }\n",
       "\n",
       "    .dataframe tbody tr th {\n",
       "        vertical-align: top;\n",
       "    }\n",
       "\n",
       "    .dataframe thead th {\n",
       "        text-align: right;\n",
       "    }\n",
       "</style>\n",
       "<table border=\"1\" class=\"dataframe\">\n",
       "  <thead>\n",
       "    <tr style=\"text-align: right;\">\n",
       "      <th></th>\n",
       "      <th>v_id</th>\n",
       "      <th>v_type</th>\n",
       "      <th>summary</th>\n",
       "      <th>level</th>\n",
       "      <th>full_content</th>\n",
       "      <th>rank</th>\n",
       "      <th>id</th>\n",
       "      <th>rank_explanation</th>\n",
       "      <th>title</th>\n",
       "    </tr>\n",
       "  </thead>\n",
       "  <tbody>\n",
       "    <tr>\n",
       "      <th>0</th>\n",
       "      <td>8</td>\n",
       "      <td>Community</td>\n",
       "      <td>This report focuses on Baxter and its signific...</td>\n",
       "      <td>0</td>\n",
       "      <td># Baxter's Innovations in Dialysis and Sepsis ...</td>\n",
       "      <td>8.5</td>\n",
       "      <td>8</td>\n",
       "      <td>The high impact severity rating reflects Baxte...</td>\n",
       "      <td>Community 8</td>\n",
       "    </tr>\n",
       "    <tr>\n",
       "      <th>1</th>\n",
       "      <td>16</td>\n",
       "      <td>Community</td>\n",
       "      <td>The REMOVE study, focusing on the use of CytoS...</td>\n",
       "      <td>0</td>\n",
       "      <td># REMOVE Study and Its Oversight Community\\n\\n...</td>\n",
       "      <td>7.5</td>\n",
       "      <td>16</td>\n",
       "      <td>The impact severity rating is high due to the ...</td>\n",
       "      <td>Community 16</td>\n",
       "    </tr>\n",
       "  </tbody>\n",
       "</table>\n",
       "</div>"
      ],
      "text/plain": [
       "  v_id     v_type                                            summary  level  \\\n",
       "0    8  Community  This report focuses on Baxter and its signific...      0   \n",
       "1   16  Community  The REMOVE study, focusing on the use of CytoS...      0   \n",
       "\n",
       "                                        full_content  rank  id  \\\n",
       "0  # Baxter's Innovations in Dialysis and Sepsis ...   8.5   8   \n",
       "1  # REMOVE Study and Its Oversight Community\\n\\n...   7.5  16   \n",
       "\n",
       "                                    rank_explanation         title  \n",
       "0  The high impact severity rating reflects Baxte...   Community 8  \n",
       "1  The impact severity rating is high due to the ...  Community 16  "
      ]
     },
     "execution_count": 12,
     "metadata": {},
     "output_type": "execute_result"
    }
   ],
   "source": [
    "G.get_nodes(node_type=\"Community\", limit=2)"
   ]
  },
  {
   "cell_type": "markdown",
   "id": "a922d3d6-6dcd-40f8-87b5-eb8a2c65eef3",
   "metadata": {},
   "source": [
    "---\n",
    "\n",
    "## What’s Next?\n",
    "\n",
    "- [Supporting Microsoft’s GraphRAG: Part 3](../msft_graphrag_3): Perform queries using GSQL and Python-native TigerGraphX, with global and local context builders.\n",
    "\n",
    "---\n",
    "\n",
    "Start transforming your GraphRAG workflows with the power of **TigerGraphX** today!"
   ]
  }
 ],
 "metadata": {
  "kernelspec": {
   "display_name": "Python 3 (ipykernel)",
   "language": "python",
   "name": "python3"
  },
  "language_info": {
   "codemirror_mode": {
    "name": "ipython",
    "version": 3
   },
   "file_extension": ".py",
   "mimetype": "text/x-python",
   "name": "python",
   "nbconvert_exporter": "python",
   "pygments_lexer": "ipython3",
   "version": "3.12.6"
  }
 },
 "nbformat": 4,
 "nbformat_minor": 5
}
