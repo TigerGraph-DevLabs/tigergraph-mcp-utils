{
 "cells": [
  {
   "cell_type": "markdown",
   "id": "e8f4ca83-4f36-4fc1-947f-b23bfb672f90",
   "metadata": {},
   "source": [
    "# Supporting Microsoft’s GraphRAG: Part 2\n",
    "\n",
    "In the [previous section](msft_graphrag_1.md), we used Microsoft's GraphRAG to transform unstructured documents into structured data and leveraged the provided demo code to import the structured data into TigerGraph and perform querying tasks.\n",
    "\n",
    "Now, let’s use Jupyter Notebook to explore the graph data and perform graph analysis.\n",
    "\n",
    "To run this Jupyter Notebook, you can download the original `.ipynb` file from [msft_graphrag_2.ipynb](https://github.com/xuanleilin/tigergraphx/tree/main/docs/graphrag/msft_graphrag_2.ipynb).\n",
    "\n",
    "---\n",
    "\n",
    "## Display the Graph Schema\n",
    "### Retrieve the Graph\n",
    "Since the graph has already been created in TigerGraph, redefining its schema is unnecessary. Instead, you can provide the graph name to retrieve it. TigerGraphX will verify if the graph exists in TigerGraph and, if it does, will return the corresponding graph."
   ]
  },
  {
   "cell_type": "code",
   "execution_count": 16,
   "id": "ff16e1ca-52e2-478a-844f-d478b5cc7659",
   "metadata": {},
   "outputs": [],
   "source": [
    "from tigergraphx import Graph\n",
    "G = Graph.from_db(\"GraphRAG\")"
   ]
  },
  {
   "cell_type": "markdown",
   "id": "fad55198-4e39-4646-b0c9-417ac12d1eb2",
   "metadata": {},
   "source": [
    "### Display the Graph Schema"
   ]
  },
  {
   "cell_type": "code",
   "execution_count": 15,
   "id": "e134cc6a-19f6-4151-9d1f-537458acc0e9",
   "metadata": {},
   "outputs": [
    {
     "name": "stdout",
     "output_type": "stream",
     "text": [
      "GraphRAG\n",
      "---------------------------------------\n",
      "('document_contains_text_unit', {'is_directed_edge': False, 'from_node_type': 'Document', 'to_node_type': 'TextUnit', 'attributes': {}})\n",
      "('text_unit_contains_entity', {'is_directed_edge': False, 'from_node_type': 'TextUnit', 'to_node_type': 'Entity', 'attributes': {}})\n",
      "('text_unit_contains_relationship', {'is_directed_edge': False, 'from_node_type': 'TextUnit', 'to_node_type': 'Relationship', 'attributes': {}})\n",
      "('relationship_source', {'is_directed_edge': False, 'from_node_type': 'Relationship', 'to_node_type': 'Entity', 'attributes': {}})\n",
      "('relationship_target', {'is_directed_edge': False, 'from_node_type': 'Relationship', 'to_node_type': 'Entity', 'attributes': {}})\n",
      "('community_contains_entity', {'is_directed_edge': False, 'from_node_type': 'Community', 'to_node_type': 'Entity', 'attributes': {}})\n",
      "('community_contains_relationship', {'is_directed_edge': False, 'from_node_type': 'Community', 'to_node_type': 'Relationship', 'attributes': {}})\n",
      "---------------------------------------\n",
      "('Document', {'primary_key': 'id', 'attributes': {'title': {'data_type': <DataType.STRING: 'STRING'>, 'default_value': None}, 'id': {'data_type': <DataType.STRING: 'STRING'>, 'default_value': None}}})\n",
      "('TextUnit', {'primary_key': 'id', 'attributes': {'text': {'data_type': <DataType.STRING: 'STRING'>, 'default_value': None}, 'n_tokens': {'data_type': <DataType.UINT: 'UINT'>, 'default_value': None}, 'id': {'data_type': <DataType.STRING: 'STRING'>, 'default_value': None}}})\n",
      "('Entity', {'primary_key': 'id', 'attributes': {'human_readable_id': {'data_type': <DataType.UINT: 'UINT'>, 'default_value': None}, 'name': {'data_type': <DataType.STRING: 'STRING'>, 'default_value': None}, 'entity_type': {'data_type': <DataType.STRING: 'STRING'>, 'default_value': None}, 'description': {'data_type': <DataType.STRING: 'STRING'>, 'default_value': None}, 'id': {'data_type': <DataType.STRING: 'STRING'>, 'default_value': None}}})\n",
      "('Relationship', {'primary_key': 'id', 'attributes': {'human_readable_id': {'data_type': <DataType.UINT: 'UINT'>, 'default_value': None}, 'rank': {'data_type': <DataType.UINT: 'UINT'>, 'default_value': None}, 'weight': {'data_type': <DataType.DOUBLE: 'DOUBLE'>, 'default_value': None}, 'description': {'data_type': <DataType.STRING: 'STRING'>, 'default_value': None}, 'id': {'data_type': <DataType.STRING: 'STRING'>, 'default_value': None}}})\n",
      "('Community', {'primary_key': 'id', 'attributes': {'level': {'data_type': <DataType.UINT: 'UINT'>, 'default_value': None}, 'rank': {'data_type': <DataType.DOUBLE: 'DOUBLE'>, 'default_value': None}, 'rank_explanation': {'data_type': <DataType.STRING: 'STRING'>, 'default_value': None}, 'title': {'data_type': <DataType.STRING: 'STRING'>, 'default_value': None}, 'full_content': {'data_type': <DataType.STRING: 'STRING'>, 'default_value': None}, 'summary': {'data_type': <DataType.STRING: 'STRING'>, 'default_value': None}, 'id': {'data_type': <DataType.STRING: 'STRING'>, 'default_value': None}}})\n"
     ]
    }
   ],
   "source": [
    "schema = G.get_schema()\n",
    "print(schema[\"graph_name\"])\n",
    "print(\"---------------------------------------\")\n",
    "for edge in schema[\"edges\"].items():\n",
    "    print(edge)\n",
    "print(\"---------------------------------------\")\n",
    "for node in schema[\"nodes\"].items():\n",
    "    print(node)"
   ]
  },
  {
   "cell_type": "markdown",
   "id": "a922d3d6-6dcd-40f8-87b5-eb8a2c65eef3",
   "metadata": {},
   "source": [
    "---\n",
    "\n",
    "## What’s Next?\n",
    "\n",
    "Now that you’ve set up your graph and performed basic operations, you can explore more advanced features of TigerGraphX:\n",
    "- [GraphRAG Overview](../../graphrag/overview): Learn about integrating graphs with LLMs.\n",
    "- [API Reference](../../reference/features_overview): Dive deeper into TigerGraphX APIs.\n",
    "\n",
    "---\n",
    "\n",
    "Start transforming your GraphRAG workflows with the power of **TigerGraphX** today!"
   ]
  }
 ],
 "metadata": {
  "kernelspec": {
   "display_name": "Python 3 (ipykernel)",
   "language": "python",
   "name": "python3"
  },
  "language_info": {
   "codemirror_mode": {
    "name": "ipython",
    "version": 3
   },
   "file_extension": ".py",
   "mimetype": "text/x-python",
   "name": "python",
   "nbconvert_exporter": "python",
   "pygments_lexer": "ipython3",
   "version": "3.12.6"
  }
 },
 "nbformat": 4,
 "nbformat_minor": 5
}
