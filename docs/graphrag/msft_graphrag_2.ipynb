{
 "cells": [
  {
   "cell_type": "markdown",
   "id": "00737306-6f81-4109-aec6-592fcfdaba93",
   "metadata": {},
   "source": [
    "# Supporting Microsoft’s GraphRAG: Part 2 - Graph Creation and Data Loading\n",
    "\n",
    "In the [previous section](msft_graphrag_1.md), we used Microsoft's GraphRAG to convert unstructured documents into Parquet files, and then used TigerGraphX to transform these files into CSV format.\n",
    "\n",
    "Now, let’s use Jupyter Notebook to create the schema and load the CSV files into TigerGraph.\n",
    "\n",
    "To run this Jupyter Notebook, you can download the original `.ipynb` file from [msft_graphrag_2.ipynb](https://github.com/tigergraph/tigergraphx/tree/main/docs/graphrag/msft_graphrag_2.ipynb).\n",
    "\n",
    "## Create a Graph\n",
    "### Define the TigerGraph Connection Configuration\n",
    "Since our data is stored in a TigerGraph instance—whether on-premise or in the cloud—we need to configure the connection settings. The recommended approach is to use environment variables, such as setting them with the `export` command in the shell. Here, to illustrate the demo, we configure them within Python using the `os.environ` method. You can find more methods for configuring connection settings in [Graph.\\_\\_init\\_\\_](../reference/01_core/graph.md#tigergraphx.core.graph.Graph.__init__)."
   ]
  },
  {
   "cell_type": "code",
   "execution_count": 1,
   "id": "4612ba1b-abe0-4ddc-a240-dcedd6eaa9f3",
   "metadata": {},
   "outputs": [],
   "source": [
    ">>> import os\n",
    ">>> os.environ[\"TG_HOST\"] = \"http://127.0.0.1\"\n",
    ">>> os.environ[\"TG_USERNAME\"] = \"tigergraph\"\n",
    ">>> os.environ[\"TG_PASSWORD\"] = \"tigergraph\""
   ]
  },
  {
   "cell_type": "markdown",
   "id": "d330e4e3-baa7-4755-b802-e89bea8f866a",
   "metadata": {},
   "source": [
    "### Define a Graph Schema\n",
    "TigerGraph is a schema-based database, which requires defining a schema to structure your graph. This schema specifies the graph name, nodes (vertices), edges (relationships), and their respective attributes.\n",
    "\n",
    "In this example, we will initialize a graph using a schema defined in [a YAML file](https://github.com/tigergraph/tigergraphx/blob/main/applications/msft_graphrag/query/resources/graph_schema.yaml). The schema structure is represented visually in the following image.\n",
    "\n",
    "![image](https://github.com/tigergraph/tigergraphx/blob/main/docs/images/graphrag/schema.png?raw=true)"
   ]
  },
  {
   "cell_type": "code",
   "execution_count": 2,
   "id": "07cdbdcd-8c6c-4bf7-b640-0514f38671fd",
   "metadata": {},
   "outputs": [],
   "source": [
    ">>> from tigergraphx import Graph\n",
    ">>> resource_dir = \"../../applications/msft_graphrag/query/resources/\"\n",
    ">>> graph_schema = resource_dir + \"graph_schema.yaml\""
   ]
  },
  {
   "cell_type": "markdown",
   "id": "813ef948-07df-4e1c-a834-30def00b6526",
   "metadata": {},
   "source": [
    "TigerGraphX offers several methods to define the schema, including a Python dictionary, YAML file, or JSON file. Above is an example using a YAML file. For other methods, please refer to [Graph.\\_\\_init\\_\\_](../reference/01_core/graph.md#tigergraphx.core.graph.Graph.__init__) for more details."
   ]
  },
  {
   "cell_type": "markdown",
   "id": "95c29cbf-c8e4-4eae-8c22-2577bb0486e1",
   "metadata": {},
   "source": [
    "### Create a Graph\n",
    "Running the following command will create a graph using the user-defined schema if it does not already exist. If the graph exists, the command will return the existing graph. To overwrite the existing graph, set the drop_existing_graph parameter to True. Note that creating the graph may take several seconds."
   ]
  },
  {
   "cell_type": "code",
   "execution_count": 3,
   "id": "6232c03a-1d35-433a-955f-e425cb06af32",
   "metadata": {
    "scrolled": true
   },
   "outputs": [
    {
     "name": "stdout",
     "output_type": "stream",
     "text": [
      "2025-02-28 21:48:49,181 - tigergraphx.core.managers.schema_manager - INFO - Creating schema for graph: GraphRAG...\n",
      "2025-02-28 21:48:52,805 - tigergraphx.core.managers.schema_manager - INFO - Graph schema created successfully.\n",
      "2025-02-28 21:48:52,806 - tigergraphx.core.managers.schema_manager - INFO - Adding vector attribute(s) for graph: GraphRAG...\n",
      "2025-02-28 21:49:58,529 - tigergraphx.core.managers.schema_manager - INFO - Vector attribute(s) added successfully.\n"
     ]
    }
   ],
   "source": [
    ">>> from tigergraphx import Graph\n",
    ">>> G = Graph(graph_schema)"
   ]
  },
  {
   "cell_type": "markdown",
   "id": "61beacf2-2eba-4c7e-9a23-843efeda6491",
   "metadata": {},
   "source": [
    "## Load Data\n",
    "First, let's check the total number of nodes in the graph. As anticipated, the graph is currently empty."
   ]
  },
  {
   "cell_type": "code",
   "execution_count": 4,
   "id": "d76d2eba-66ea-4f88-bc39-e4d284f7aae6",
   "metadata": {},
   "outputs": [
    {
     "name": "stdout",
     "output_type": "stream",
     "text": [
      "0\n"
     ]
    }
   ],
   "source": [
    "print(G.number_of_nodes())"
   ]
  },
  {
   "cell_type": "markdown",
   "id": "61074b2e-f9bf-49b9-99a9-d995852ffaa0",
   "metadata": {},
   "source": [
    "After that, we will load data into the graph using a pre-defined loading job configuration. The configuration is stored in [a YAML file](https://github.com/tigergraph/tigergraphx/blob/main/applications/msft_graphrag/query/resources/loading_job_config.yaml). Note that loading the data may take several seconds."
   ]
  },
  {
   "cell_type": "code",
   "execution_count": 5,
   "id": "04bed253-d554-4a0b-9e51-996028aeb33e",
   "metadata": {},
   "outputs": [
    {
     "name": "stdout",
     "output_type": "stream",
     "text": [
      "2025-02-28 21:52:18,639 - tigergraphx.core.managers.data_manager - INFO - Initiating data load for job: loading_job_GraphRAG...\n",
      "2025-02-28 21:52:26,261 - tigergraphx.core.managers.data_manager - INFO - Data load completed successfully.\n"
     ]
    }
   ],
   "source": [
    "loading_job_config = resource_dir + \"loading_job_config.yaml\"\n",
    "G.load_data(loading_job_config)"
   ]
  },
  {
   "cell_type": "markdown",
   "id": "94454f10-0107-47f5-93c8-ba659cde82ff",
   "metadata": {},
   "source": [
    "Now, let's check the total number of nodes in the graph again. We should observe that some nodes have been successfully loaded into the graph."
   ]
  },
  {
   "cell_type": "code",
   "execution_count": 6,
   "id": "26bfdfaa-031f-4425-9e66-f3c28530a1b6",
   "metadata": {},
   "outputs": [
    {
     "name": "stdout",
     "output_type": "stream",
     "text": [
      "2883\n"
     ]
    }
   ],
   "source": [
    "print(G.number_of_nodes())"
   ]
  },
  {
   "cell_type": "markdown",
   "id": "3c71f00b-d34c-4767-a449-5482a0abf8de",
   "metadata": {},
   "source": [
    "---\n",
    "\n",
    "## Next Steps\n",
    "\n",
    "- [Supporting Microsoft’s GraphRAG: Part 3](msft_graphrag_3.md): Use Jupyter Notebook to explore graph data and perform Graph Analysis.\n",
    "\n",
    "---\n",
    "\n",
    "Start transforming your GraphRAG workflows with the power of **TigerGraphX** today!"
   ]
  }
 ],
 "metadata": {
  "kernelspec": {
   "display_name": "Python 3 (ipykernel)",
   "language": "python",
   "name": "python3"
  },
  "language_info": {
   "codemirror_mode": {
    "name": "ipython",
    "version": 3
   },
   "file_extension": ".py",
   "mimetype": "text/x-python",
   "name": "python",
   "nbconvert_exporter": "python",
   "pygments_lexer": "ipython3",
   "version": "3.12.6"
  }
 },
 "nbformat": 4,
 "nbformat_minor": 5
}
