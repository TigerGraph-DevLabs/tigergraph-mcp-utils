{
 "cells": [
  {
   "cell_type": "markdown",
   "id": "aed168a0-f60a-4fad-af11-e13ccc6ec3b1",
   "metadata": {},
   "source": [
    "# TigerGraphDatabase\n",
    "\n",
    "---\n",
    "\n",
    "## Setting Up the Environment Variables\n",
    "You can either use the following code or set them directly using the `export` command in your shell."
   ]
  },
  {
   "cell_type": "code",
   "execution_count": 1,
   "id": "87fcbcf1-d81d-4ec3-8847-27a386015446",
   "metadata": {},
   "outputs": [],
   "source": [
    "import os\n",
    "os.environ[\"TG_HOST\"] = \"http://127.0.0.1\"\n",
    "os.environ[\"TG_USERNAME\"] = \"tigergraph\"\n",
    "os.environ[\"TG_PASSWORD\"] = \"tigergraph\""
   ]
  },
  {
   "cell_type": "markdown",
   "id": "1a904780-99a9-416c-bc7c-6516cdcbc8b0",
   "metadata": {},
   "source": [
    "## Admin Operations\n",
    "### Ping to the TigerGraph server"
   ]
  },
  {
   "cell_type": "code",
   "execution_count": 2,
   "id": "dc61e2a9-d468-45cb-ba13-1ee0c8c6d39b",
   "metadata": {},
   "outputs": [
    {
     "name": "stdout",
     "output_type": "stream",
     "text": [
      "pong\n"
     ]
    }
   ],
   "source": [
    ">>> from tigergraphx import TigerGraphDatabase\n",
    ">>> db = TigerGraphDatabase()\n",
    ">>> print(db.ping())"
   ]
  },
  {
   "cell_type": "markdown",
   "id": "b0a06037-2302-4978-b0a9-e02219d72ba0",
   "metadata": {},
   "source": [
    "## GSQL Operations\n",
    "### Run a GSQL command"
   ]
  },
  {
   "cell_type": "code",
   "execution_count": 3,
   "id": "359bc381-f012-4fd6-84a9-d995e880c6d5",
   "metadata": {},
   "outputs": [
    {
     "name": "stdout",
     "output_type": "stream",
     "text": [
      "---- Global vertices, edges, and all graphs\n",
      "Vertex Types: \n",
      "Edge Types: \n",
      "\n",
      "Graphs: \n",
      "Jobs: \n",
      "Packages: \n",
      "  - Package gds\n",
      "JSON API version: v2\n",
      "Syntax version: v2\n"
     ]
    }
   ],
   "source": [
    ">>> from tigergraphx import TigerGraphDatabase\n",
    ">>> db = TigerGraphDatabase()\n",
    ">>> print(db.gsql(\"LS\"))"
   ]
  },
  {
   "cell_type": "markdown",
   "id": "8208f7c1-01ea-43ea-bc1b-b579f44ddf9d",
   "metadata": {},
   "source": [
    "## Data Source Operations\n",
    "### Create, Update, Get and Drop a Data Source"
   ]
  },
  {
   "cell_type": "code",
   "execution_count": 4,
   "id": "b912cb41-5fb8-4756-b378-9766f62caa4c",
   "metadata": {},
   "outputs": [
    {
     "name": "stdout",
     "output_type": "stream",
     "text": [
      "Data source tmp_data_source is created\n"
     ]
    }
   ],
   "source": [
    ">>> from tigergraphx import TigerGraphDatabase\n",
    ">>> db = TigerGraphDatabase()\n",
    ">>> data_source_name = \"tmp_data_source\"\n",
    ">>> result = db.create_data_source(\n",
    "...     name=data_source_name,\n",
    "...     data_source_type=\"s3\",\n",
    "...     access_key=\"\",\n",
    "...     secret_key=\"\",\n",
    "...     extra_config={\n",
    "...         \"file.reader.settings.fs.s3a.aws.credentials.provider\": \"org.apache.hadoop.fs.s3a.AnonymousAWSCredentialsProvider\"\n",
    "...     },\n",
    "... )\n",
    ">>> print(result)"
   ]
  },
  {
   "cell_type": "code",
   "execution_count": 5,
   "id": "c1f543b6-a3d4-4cb0-b1ce-a19e84cfdf75",
   "metadata": {},
   "outputs": [
    {
     "name": "stdout",
     "output_type": "stream",
     "text": [
      "{'name': 'tmp_data_source', 'type': 'S3', 'content': {'file.reader.settings.fs.s3a.aws.credentials.provider': 'org.apache.hadoop.fs.s3a.AnonymousAWSCredentialsProvider', 'access.key': 'none', 'secret.key': 'none', 'type': 's3'}}\n"
     ]
    }
   ],
   "source": [
    ">>> result = db.get_data_source(data_source_name)\n",
    ">>> print(result)"
   ]
  },
  {
   "cell_type": "code",
   "execution_count": 6,
   "id": "7e799467-6185-41c3-8e68-ce86c46702ea",
   "metadata": {},
   "outputs": [
    {
     "name": "stdout",
     "output_type": "stream",
     "text": [
      "Data source tmp_data_source is created\n"
     ]
    }
   ],
   "source": [
    ">>> result = db.update_data_source(\n",
    "...     name=data_source_name,\n",
    "...     data_source_type=\"s3\",\n",
    "...     access_key=\"123\",\n",
    "...     secret_key=\"456\",\n",
    "...     extra_config={\n",
    "...         \"file.reader.settings.fs.s3a.aws.credentials.provider\": \"org.apache.hadoop.fs.s3a.AnonymousAWSCredentialsProvider\"\n",
    "...     },\n",
    "... )\n",
    ">>> print(result)"
   ]
  },
  {
   "cell_type": "code",
   "execution_count": 7,
   "id": "326737f2-64d2-48ad-9531-ddd827879d56",
   "metadata": {},
   "outputs": [
    {
     "name": "stdout",
     "output_type": "stream",
     "text": [
      "{'name': 'tmp_data_source', 'type': 'S3', 'content': {'file.reader.settings.fs.s3a.aws.credentials.provider': 'org.apache.hadoop.fs.s3a.AnonymousAWSCredentialsProvider', 'access.key': '123', 'secret.key': '456', 'type': 's3'}}\n"
     ]
    }
   ],
   "source": [
    ">>> result = db.get_data_source(data_source_name)\n",
    ">>> print(result)"
   ]
  },
  {
   "cell_type": "code",
   "execution_count": 8,
   "id": "cdd35318-8171-4136-896c-1a0f9f712198",
   "metadata": {},
   "outputs": [
    {
     "name": "stdout",
     "output_type": "stream",
     "text": [
      "Data source tmp_data_source is dropped.\n"
     ]
    }
   ],
   "source": [
    ">>> result = db.drop_data_source(data_source_name)\n",
    ">>> print(result)"
   ]
  },
  {
   "cell_type": "markdown",
   "id": "a893a193-35c2-4ebf-88d7-ee6ef50731a4",
   "metadata": {},
   "source": [
    "### Get and Drop all Data Sources"
   ]
  },
  {
   "cell_type": "code",
   "execution_count": 9,
   "id": "62eed379-2a9a-4238-b414-6ffaf8bb3cf5",
   "metadata": {},
   "outputs": [
    {
     "name": "stdout",
     "output_type": "stream",
     "text": [
      "Data source tmp_data_source_1 is created\n"
     ]
    }
   ],
   "source": [
    ">>> from tigergraphx import TigerGraphDatabase\n",
    ">>> db = TigerGraphDatabase()\n",
    ">>> data_source_name_1 = \"tmp_data_source_1\"\n",
    ">>> result = db.create_data_source(\n",
    "...     name=data_source_name_1,\n",
    "...     data_source_type=\"s3\",\n",
    "...     access_key=\"\",\n",
    "...     secret_key=\"\",\n",
    "...     extra_config={\n",
    "...         \"file.reader.settings.fs.s3a.aws.credentials.provider\": \"org.apache.hadoop.fs.s3a.AnonymousAWSCredentialsProvider\"\n",
    "...     },\n",
    "... )\n",
    ">>> print(result)"
   ]
  },
  {
   "cell_type": "code",
   "execution_count": 10,
   "id": "abf7d531-6cc6-4ca8-a92a-3fa33f3ddc3a",
   "metadata": {},
   "outputs": [
    {
     "name": "stdout",
     "output_type": "stream",
     "text": [
      "Data source tmp_data_source_2 is created\n"
     ]
    }
   ],
   "source": [
    ">>> data_source_name_2 = \"tmp_data_source_2\"\n",
    ">>> result = db.create_data_source(\n",
    "...     name=data_source_name_2,\n",
    "...     data_source_type=\"s3\",\n",
    "...     access_key=\"\",\n",
    "...     secret_key=\"\",\n",
    "...     extra_config={\n",
    "...         \"file.reader.settings.fs.s3a.aws.credentials.provider\": \"org.apache.hadoop.fs.s3a.AnonymousAWSCredentialsProvider\"\n",
    "...     },\n",
    "... )\n",
    ">>> print(result)"
   ]
  },
  {
   "cell_type": "code",
   "execution_count": 11,
   "id": "1a21bb5a-c893-4595-b5a7-d209eb8789ff",
   "metadata": {},
   "outputs": [
    {
     "name": "stdout",
     "output_type": "stream",
     "text": [
      "[{'name': 'tmp_data_source_1', 'type': 'S3', 'content': {'file.reader.settings.fs.s3a.aws.credentials.provider': 'org.apache.hadoop.fs.s3a.AnonymousAWSCredentialsProvider', 'access.key': 'none', 'secret.key': 'none', 'type': 's3'}, 'isLocal': False}, {'name': 'tmp_data_source_2', 'type': 'S3', 'content': {'file.reader.settings.fs.s3a.aws.credentials.provider': 'org.apache.hadoop.fs.s3a.AnonymousAWSCredentialsProvider', 'access.key': 'none', 'secret.key': 'none', 'type': 's3'}, 'isLocal': False}]\n"
     ]
    }
   ],
   "source": [
    ">>> result = db.get_all_data_sources()\n",
    ">>> print(result)"
   ]
  },
  {
   "cell_type": "code",
   "execution_count": 12,
   "id": "3e59f803-70b3-4dbd-8ddd-00454a6b9b50",
   "metadata": {},
   "outputs": [
    {
     "name": "stdout",
     "output_type": "stream",
     "text": [
      "All data sources is dropped successfully.\n"
     ]
    }
   ],
   "source": [
    ">>> result = db.drop_all_data_sources()\n",
    ">>> print(result)"
   ]
  },
  {
   "cell_type": "markdown",
   "id": "7390a10e-c11d-4975-b210-b4a9a1349299",
   "metadata": {},
   "source": [
    "### Preview the Sample Data"
   ]
  },
  {
   "cell_type": "code",
   "execution_count": 13,
   "id": "7c1115c2-9ea7-4997-9074-ca2b9dc8da09",
   "metadata": {},
   "outputs": [
    {
     "name": "stdout",
     "output_type": "stream",
     "text": [
      "Data source tmp_data_source is created\n"
     ]
    }
   ],
   "source": [
    ">>> from tigergraphx import TigerGraphDatabase\n",
    ">>> db = TigerGraphDatabase()\n",
    ">>> data_source_name = \"tmp_data_source\"\n",
    ">>> result = db.create_data_source(\n",
    "...     name=data_source_name,\n",
    "...     data_source_type=\"s3\",\n",
    "...     access_key=\"\",\n",
    "...     secret_key=\"\",\n",
    "...     extra_config={\n",
    "...         \"file.reader.settings.fs.s3a.aws.credentials.provider\": \"org.apache.hadoop.fs.s3a.AnonymousAWSCredentialsProvider\"\n",
    "...     },\n",
    "... )\n",
    ">>> print(result)"
   ]
  },
  {
   "cell_type": "code",
   "execution_count": 14,
   "id": "b7893acb-5d0a-4363-891f-f11f2f8d063a",
   "metadata": {},
   "outputs": [
    {
     "name": "stdout",
     "output_type": "stream",
     "text": [
      "{'data': [['e4ed66aa-ec20-4ca6-b964-691f1b6c7bff', 'fde8014f-2202-42ca-b794-3836f4860c34', 'Garry', 'Taylor', '580', '2024-07-13 06:29:07.093715', 'relations1886@example.com', '+15619188445', 'Ames', 'United Arab Emirates', '79704', 'Oregon'], ['48a4b7c2-69e9-4e20-a096-a37f6e4d90f6', '48f037a7-77ba-4a6b-a98c-df39a91639f0', 'Kendall', 'Casey', '781', '2020-07-22 12:15:58.407056', 'implies2087@yahoo.com', '+16072840615', 'Brook Park', 'Timor-Leste', '94529', 'Florida'], ['4b10dd60-a0b6-43d8-8e71-b60e37b50e79', '6d483a3c-1d8a-463c-a1cd-7f09d2437f19', 'Alysa', 'Gilbert', '790', '2021-08-06 18:29:50.040560', 'televisions1888@duck.com', '+12561765695', 'Middletown', 'Curaçao', '71820', 'Michigan'], ['181fc56c-00fc-4d0d-8da5-28a00024f177', '369b271c-9437-4412-90d0-c75d10bbde44', 'Coralie', 'Alexander', '654', '2021-10-09 22:19:26.213723', 'greek1962@protonmail.com', '+19389607235', 'Niles', 'Hong Kong SAR China', '61987', 'Utah'], ['d3cd6fb1-61b1-4072-b160-079be29e77c4', '3116e7bc-4551-4c10-909f-883c727e7d3f', 'Benjamin', 'Barry', '741', '2024-02-09 04:58:03.182795', 'add1998@example.com', '+14179227097', 'Andover', 'Botswana', '82441', 'Kentucky']], 'json': False, 'header': ['account_ids', 'individual', 'first_name', 'last_name', 'credit_score', 'added_on', 'email', 'phone', 'city', 'country', 'zip', 'state']}\n"
     ]
    }
   ],
   "source": [
    ">>> sample_path = \"s3a://<YOUR_FILE_PATH>\"\n",
    ">>> preview_result = db.preview_sample_data(\n",
    "...     path=sample_path,\n",
    "...     data_source_type=\"s3\",\n",
    "...     data_source=data_source_name,\n",
    "...     data_format=\"csv\",\n",
    "...     size=5,\n",
    "...     has_header=True,\n",
    "...     separator=\",\",\n",
    "...     eol=\"\\\\n\",\n",
    "...     quote='\"',\n",
    "... )\n",
    ">>> print(preview_result)"
   ]
  },
  {
   "cell_type": "code",
   "execution_count": 15,
   "id": "e8006942-c985-45b5-965d-e77df0cc2e44",
   "metadata": {},
   "outputs": [
    {
     "name": "stdout",
     "output_type": "stream",
     "text": [
      "Data source tmp_data_source is dropped.\n"
     ]
    }
   ],
   "source": [
    ">>> result = db.drop_data_source(data_source_name)\n",
    ">>> print(result)"
   ]
  },
  {
   "cell_type": "markdown",
   "id": "870c6a53-b2cd-4606-81e1-b6aca69cd8aa",
   "metadata": {},
   "source": [
    "---\n"
   ]
  }
 ],
 "metadata": {
  "kernelspec": {
   "display_name": "Python 3 (ipykernel)",
   "language": "python",
   "name": "python3"
  },
  "language_info": {
   "codemirror_mode": {
    "name": "ipython",
    "version": 3
   },
   "file_extension": ".py",
   "mimetype": "text/x-python",
   "name": "python",
   "nbconvert_exporter": "python",
   "pygments_lexer": "ipython3",
   "version": "3.12.6"
  }
 },
 "nbformat": 4,
 "nbformat_minor": 5
}
